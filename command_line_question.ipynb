{
 "cells": [
  {
   "cell_type": "markdown",
   "metadata": {},
   "source": [
    "## 6. Command Line Question\n",
    "\n",
    "As done in the previous assignment, we encourage using the command as a feature that Data Scientists must master.\n",
    "\n",
    "Note: To answer the question in this section, you must strictly use command line tools. We will reject any other method of response. The final script must be placed in CommandLine.sh.\n",
    "\n",
    "First, take the course_i.tsv files you created in point 1 and merge them using Linux commands (Hint: make sure that the first row containing the column names appears only once).\n",
    "\n",
    "Now that you have your merged file named merged_courses.tsv, use Linux commands to answer the following questions:\n",
    "- Which country offers the most Master's Degrees? Which city?\n",
    "- How many colleges offer Part-Time education?\n",
    "- Print the percentage of courses in Engineering (the word \"Engineer\" is contained in the course's name).\n",
    "\n",
    "__Important note:__ You may work on this question in any environment (AWS, your PC command line, Jupyter notebook, etc.), but the final script must be placed in CommandLine.sh, which must be executable. Please run the script and include a __screenshot__ of the <ins>output</ins> in the notebook for evaluation."
   ]
  },
  {
   "cell_type": "code",
   "execution_count": 30,
   "metadata": {
    "vscode": {
     "languageId": "shellscript"
    }
   },
   "outputs": [],
   "source": [
    "%%bash\n",
    "cat TSV/course_1.tsv > merged_courses.tsv\n",
    "for i in {2..6000}\n",
    "do\n",
    "   tail -n +2 TSV/course_${i}.tsv >> merged_courses.tsv\n",
    "done"
   ]
  },
  {
   "cell_type": "code",
   "execution_count": 31,
   "metadata": {
    "vscode": {
     "languageId": "shellscript"
    }
   },
   "outputs": [
    {
     "name": "stdout",
     "output_type": "stream",
     "text": [
      "Country: United Kingdom, number of occurrences: 4485\n"
     ]
    },
    {
     "name": "stdout",
     "output_type": "stream",
     "text": [
      "City: London, number of occurrences: 1085\n"
     ]
    }
   ],
   "source": [
    "%%bash  \n",
    "echo -n \"Country: \"\n",
    "cut -f11 merged_courses.tsv | sort | uniq -c | sort -nr | head -1 | awk '{count=$1; $1=\"\"; sub(/^ /,\"\"); print $0 \", number of occurrences: \" count}'\n",
    "echo -n \"City: \"\n",
    "cut -f10 merged_courses.tsv | sort | uniq -c | sort -nr | head -1 | awk '{count=$1; $1=\"\"; sub(/^ /,\"\"); print $0 \", number of occurrences: \" count}'\n"
   ]
  },
  {
   "cell_type": "code",
   "execution_count": 32,
   "metadata": {
    "vscode": {
     "languageId": "shellscript"
    }
   },
   "outputs": [
    {
     "name": "stdout",
     "output_type": "stream",
     "text": [
      "Number of universities that give part time: 153\n"
     ]
    }
   ],
   "source": [
    "%%bash\n",
    "part_time=$(awk -F'\\t' 'tolower($X) ~ /part[- ]time/ {print $2}' merged_courses.tsv | sort | uniq | wc -l)\n",
    "echo \"Number of universities that give part time: ${part_time}\" "
   ]
  },
  {
   "cell_type": "code",
   "execution_count": 33,
   "metadata": {
    "vscode": {
     "languageId": "shellscript"
    }
   },
   "outputs": [
    {
     "name": "stdout",
     "output_type": "stream",
     "text": [
      "Percentage of engineering courses: 10.28 %\n"
     ]
    }
   ],
   "source": [
    "%%bash\n",
    "total_courses=$(wc -l < merged_courses.tsv)\n",
    "engineering_courses=$(awk -F '\\t' 'tolower($1) ~ /engineer/' merged_courses.tsv | wc -l)\n",
    "echo \"Percentage of engineering courses: $(echo \"scale=2; $engineering_courses * 100 / $total_courses\" | bc) %\""
   ]
  }
 ],
 "metadata": {
  "kernelspec": {
   "display_name": "adm_hw3",
   "language": "python",
   "name": "python3"
  },
  "language_info": {
   "codemirror_mode": {
    "name": "ipython",
    "version": 3
   },
   "file_extension": ".py",
   "mimetype": "text/x-python",
   "name": "python",
   "nbconvert_exporter": "python",
   "pygments_lexer": "ipython3",
   "version": "3.11.5"
  }
 },
 "nbformat": 4,
 "nbformat_minor": 2
}
