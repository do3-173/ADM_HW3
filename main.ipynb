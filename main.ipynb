{
 "cells": [
  {
   "cell_type": "markdown",
   "metadata": {},
   "source": [
    "# Homework 3 - Master's Degrees from all over!"
   ]
  },
  {
   "cell_type": "markdown",
   "metadata": {},
   "source": [
    "Group 25:\n",
    "\n",
    "Petra Udovicic: <petra.udovicic1997@gmail.com>, [GitHub](https://github.com/petraudovicic)\n",
    "\n",
    "Dila Aslan: <dilaaslan0144@gmail.com>, [GitHub](https://github.com/dilaaslan3)\n",
    "\n",
    "Edo Fejzic: <edo.fejzic@hotmail.com>, [GitHub](https://github.com/do3-173)"
   ]
  },
  {
   "cell_type": "markdown",
   "metadata": {},
   "source": [
    "## 1. Data collection"
   ]
  },
  {
   "cell_type": "markdown",
   "metadata": {},
   "source": [
    "### 1.1. Get the list of master's degree courses"
   ]
  },
  {
   "cell_type": "markdown",
   "metadata": {},
   "source": [
    "Firstly, we need to create the `list_of_masters.py` module. "
   ]
  },
  {
   "cell_type": "code",
   "execution_count": null,
   "metadata": {},
   "outputs": [],
   "source": [
    "# Libraries\n",
    "import requests\n",
    "from bs4 import BeautifulSoup\n",
    "import time\n",
    "import os\n",
    "from concurrent.futures import ThreadPoolExecutor\n",
    "import pandas as pd"
   ]
  },
  {
   "cell_type": "code",
   "execution_count": null,
   "metadata": {},
   "outputs": [],
   "source": [
    "BASE_URL = \"https://www.findamasters.com/masters-degrees/msc-degrees/\"\n",
    "OUTPUT_FILE = \"masters_urls.txt\""
   ]
  },
  {
   "cell_type": "markdown",
   "metadata": {},
   "source": [
    "Checking out the URL and inspecting the website we find out the next piece of HTML code: `<a class=\"courseLink text-dark\" href=\"/masters-degrees/course/applied-economics-banking-and-financial-markets-online-msc/?i280d8352c56675\" title=\"Applied Economics (Banking and Financial Markets), online MSc at University of Bath Online, University of Bath\"><u>Applied Economics (Banking and Financial Markets), online MSc</u></a>`. The class `courseLink text-dark` will be helpful for us in getting all the course links. "
   ]
  },
  {
   "cell_type": "code",
   "execution_count": null,
   "metadata": {},
   "outputs": [],
   "source": [
    "def get_course_urls(page_url):\n",
    "    while True:\n",
    "        try:\n",
    "            response = requests.get(page_url, timeout=5)\n",
    "            response.raise_for_status()\n",
    "            break\n",
    "        except requests.RequestException as e:\n",
    "            # In case of failing request\n",
    "            print(f\"Request failed: {e}\")\n",
    "            time.sleep(1)\n",
    "    soup = BeautifulSoup(response.content, \"html.parser\")\n",
    "    course_links = soup.find_all(\"a\", class_=\"courseLink text-dark\")\n",
    "    urls = [\n",
    "        \"https://www.findamasters.com\" + link[\"href\"]\n",
    "        for link in course_links\n",
    "        if \"href\" in link.attrs\n",
    "    ]\n",
    "    return urls"
   ]
  },
  {
   "cell_type": "code",
   "execution_count": null,
   "metadata": {},
   "outputs": [],
   "source": [
    "for page in range(number_of_pages):\n",
    "    # Progress bar\n",
    "    if (page + 1) % 25 == 0 or page == 0:\n",
    "        print(f\"Scraping page {page + 1}\")\n",
    "\n",
    "    # String of page_url, in the first page only get the BASE_URL\n",
    "    if page == 0:\n",
    "        page_url = f\"{BASE_URL}\"\n",
    "    else:\n",
    "        page_url = f\"{BASE_URL}?PG={page + 1}\"\n",
    "    urls = get_course_urls(page_url)\n",
    "\n",
    "    if urls:\n",
    "        # Append to the file so it remembers the previous entries\n",
    "        with open(OUTPUT_FILE, \"a\") as file:\n",
    "            for url in urls:\n",
    "                file.write(f\"{url}\\n\")\n",
    "\n",
    "    # Sleeping to not have too many requests\n",
    "    time.sleep(1)"
   ]
  },
  {
   "cell_type": "markdown",
   "metadata": {},
   "source": [
    "After running the script, we need to check out the file, it should contain 6000 URLS."
   ]
  },
  {
   "cell_type": "code",
   "execution_count": null,
   "metadata": {},
   "outputs": [
    {
     "name": "stdout",
     "output_type": "stream",
     "text": [
      "Total Lines 6000\n"
     ]
    }
   ],
   "source": [
    "with open(OUTPUT_FILE, \"r\") as file:\n",
    "    for count, line in enumerate(file):\n",
    "        pass\n",
    "# This needs to be 6000\n",
    "print(\"Total Lines\", count + 1)"
   ]
  },
  {
   "cell_type": "markdown",
   "metadata": {},
   "source": [
    "### 1.2. Crawl master's degree pages"
   ]
  },
  {
   "cell_type": "markdown",
   "metadata": {},
   "source": [
    "For the second step, we need to download those HTML files and store them in the seperate folder. This will be done in the `crawler_master_html.py` module, below is the implementation."
   ]
  },
  {
   "cell_type": "code",
   "execution_count": null,
   "metadata": {},
   "outputs": [],
   "source": [
    "def download_html(url_and_folder):\n",
    "    url, folder = url_and_folder\n",
    "    while True:\n",
    "        response = requests.get(url, timeout=5)\n",
    "        # \"Just a moment...\" started showing up in some cases.\n",
    "        # Until we get the content we want continue trying the same URL\n",
    "        if \"Just a moment...\" in response.text:\n",
    "            time.sleep(1)\n",
    "        else:\n",
    "            filename = url.split(\"/\")[-2] + url.split(\"/\")[-1] + \".html\"\n",
    "            path = os.path.join(folder, filename)\n",
    "            with open(path, \"w\") as file:\n",
    "                file.write(response.text)\n",
    "            time.sleep(1)\n",
    "            break"
   ]
  },
  {
   "cell_type": "markdown",
   "metadata": {},
   "source": [
    "After writing the `download_html` function, now we need to use it on all of the URLS that are present in masters_urls.txt file."
   ]
  },
  {
   "cell_type": "code",
   "execution_count": null,
   "metadata": {},
   "outputs": [],
   "source": [
    "with open(\"masters_urls.txt\", \"r\") as file:\n",
    "    urls = [url.strip() for url in file.readlines()]\n",
    "\n",
    "url_and_folder_pairs = []\n",
    "for i, url in enumerate(urls):\n",
    "    page_number = i // 15 + 1\n",
    "    folder = f\"HTML/Page_{page_number}\"\n",
    "    os.makedirs(folder, exist_ok=True)\n",
    "    url_and_folder_pairs.append((url, folder))\n",
    "\n",
    "# Asynchronous execution of download_html at most 10 threads to save time\n",
    "with ThreadPoolExecutor(max_workers=10) as executor:\n",
    "    executor.map(download_html, url_and_folder_pairs)"
   ]
  },
  {
   "cell_type": "markdown",
   "metadata": {},
   "source": [
    "Each of these HTML's will be downloaded in their respectful folder from where they came from. Asynchronous parallelism is being used for the function `download_html` to speed up the proces of crawling all the HTML's. "
   ]
  },
  {
   "cell_type": "markdown",
   "metadata": {},
   "source": [
    "### 1.3 Parse downloaded pages"
   ]
  },
  {
   "cell_type": "markdown",
   "metadata": {},
   "source": [
    "For the final part, we need to parse downloaded HTML files. This will be done with the module `parser_html.py`. For all of the values of interest, we used Inspect Element in Firefox browser, to navigate to the correct HTML class that we need for data mining."
   ]
  },
  {
   "cell_type": "code",
   "execution_count": null,
   "metadata": {},
   "outputs": [],
   "source": [
    "def parse_html(html_content):\n",
    "    soup = BeautifulSoup(html_content, \"html.parser\")\n",
    "\n",
    "    course_name = (\n",
    "        soup.find(\"h1\", class_=\"course-header__course-title\").text.strip()\n",
    "        if soup.find(\"h1\", class_=\"course-header__course-title\")\n",
    "        else \"\"\n",
    "    )\n",
    "    university_name = (\n",
    "        soup.find(\"a\", class_=\"course-header__institution\").text.strip()\n",
    "        if soup.find(\"a\", class_=\"course-header__institution\")\n",
    "        else \"\"\n",
    "    )\n",
    "    faculty_name = (\n",
    "        soup.find(\"a\", class_=\"course-header__department\").text.strip()\n",
    "        if soup.find(\"a\", class_=\"course-header__department\")\n",
    "        else \"\"\n",
    "    )\n",
    "    is_full_time = (\n",
    "        soup.find(\"a\", title=\"View all Full time Masters courses\").text.strip()\n",
    "        if soup.find(\"a\", title=\"View all Full time Masters courses\")\n",
    "        else \"\"\n",
    "    )\n",
    "    description = (\n",
    "        soup.find(\"div\", id=\"Snippet\").text.strip()\n",
    "        if soup.find(\"div\", id=\"Snippet\")\n",
    "        else \"\"\n",
    "    )\n",
    "    start_date = (\n",
    "        soup.find(\"span\", class_=\"key-info__start-date\").text.strip()\n",
    "        if soup.find(\"span\", class_=\"key-info__start-date\")\n",
    "        else \"\"\n",
    "    )\n",
    "    fees = (\n",
    "        soup.find(\"div\", class_=\"course-sections__fees\")\n",
    "        .find(\"p\")\n",
    "        .get_text(separator=\" \")\n",
    "        .strip()\n",
    "        if soup.find(\"div\", class_=\"course-sections__fees\")\n",
    "        else \"\"\n",
    "    )\n",
    "    modality = (\n",
    "        soup.find(\"span\", class_=\"key-info__qualification\").text.strip()\n",
    "        if soup.find(\"span\", class_=\"key-info__qualification\")\n",
    "        else \"\"\n",
    "    )\n",
    "    duration = (\n",
    "        soup.find(\"span\", class_=\"key-info__duration\").text.strip()\n",
    "        if soup.find(\"span\", class_=\"key-info__duration\")\n",
    "        else \"\"\n",
    "    )\n",
    "    city = (\n",
    "        soup.find(\"a\", class_=\"course-data__city\").text.strip()\n",
    "        if soup.find(\"a\", class_=\"course-data__city\")\n",
    "        else \"\"\n",
    "    )\n",
    "    country = (\n",
    "        soup.find(\"a\", class_=\"course-data__country\").text.strip()\n",
    "        if soup.find(\"a\", class_=\"course-data__country\")\n",
    "        else \"\"\n",
    "    )\n",
    "    administration = (\n",
    "        soup.find(\"a\", class_=\"course-data__on-campus\").text.strip()\n",
    "        if soup.find(\"a\", class_=\"course-data__on-campus\")\n",
    "        else \"\"\n",
    "    )\n",
    "    url = (\n",
    "        soup.select_one('link[rel=\"canonical\"]')[\"href\"]\n",
    "        if soup.select_one('link[rel=\"canonical\"]')\n",
    "        else \"\"\n",
    "    )\n",
    "\n",
    "    course_info = {\n",
    "        \"courseName\": course_name,\n",
    "        \"universityName\": university_name,\n",
    "        \"facultyName\": faculty_name,\n",
    "        \"isItFullTime\": is_full_time,\n",
    "        \"description\": description,\n",
    "        \"startDate\": start_date,\n",
    "        \"fees\": fees,\n",
    "        \"modality\": modality,\n",
    "        \"duration\": duration,\n",
    "        \"city\": city,\n",
    "        \"country\": country,\n",
    "        \"administration\": administration,\n",
    "        \"url\": url,\n",
    "    }\n",
    "\n",
    "    return course_info"
   ]
  },
  {
   "cell_type": "code",
   "execution_count": null,
   "metadata": {},
   "outputs": [],
   "source": [
    "def write_to_tsv(course_info, filename):\n",
    "    with open(\"TSV/\" + filename, \"w\", encoding=\"utf-8\") as f:\n",
    "        # First row we write the column names\n",
    "        column_names = \"\\t\".join(course_info.keys())\n",
    "        f.write(column_names + \"\\n\")\n",
    "        # Second row we write the values of columns\n",
    "        column_values = \"\\t\".join(str(value) for value in course_info.values())\n",
    "        f.write(column_values + \"\\n\")"
   ]
  },
  {
   "cell_type": "markdown",
   "metadata": {},
   "source": [
    "After writing `parse_html` and `write_to_tsv`, now we need to write a script that will use it. We take all of the files inside `HTML` folder, parse them, and store them in seperate `.tsv` files that are named `course_{i}.tsv` where the `i` is the course number from 1 to 6000."
   ]
  },
  {
   "cell_type": "code",
   "execution_count": null,
   "metadata": {},
   "outputs": [],
   "source": [
    "root_path = \"HTML/\"\n",
    "\n",
    "course_counter = 1\n",
    "for root, dirs, files in os.walk(root_path):\n",
    "    for file in files:\n",
    "        if file.endswith(\".html\"):\n",
    "            file_path = os.path.join(root, file)\n",
    "            with open(file_path, \"r\", encoding=\"utf-8\") as f:\n",
    "                # Reading HTML\n",
    "                html_content = f.read()\n",
    "\n",
    "                # Parsing HTML\n",
    "                course_info = parse_html(html_content)\n",
    "\n",
    "                # \" was giving us troubles so we removed it\n",
    "                for key, value in course_info.items():\n",
    "                    course_info[key] = value.replace('\"', \"\")\n",
    "\n",
    "                # Writing to the .tsv file\n",
    "                tsv_filename = f\"course_{course_counter}.tsv\"\n",
    "                write_to_tsv(course_info, tsv_filename)\n",
    "\n",
    "                course_counter += 1"
   ]
  },
  {
   "cell_type": "markdown",
   "metadata": {},
   "source": [
    "Now we need to test the dataset, if we managed to complete the task successfully."
   ]
  },
  {
   "cell_type": "code",
   "execution_count": null,
   "metadata": {},
   "outputs": [
    {
     "data": {
      "text/html": [
       "<div>\n",
       "<style scoped>\n",
       "    .dataframe tbody tr th:only-of-type {\n",
       "        vertical-align: middle;\n",
       "    }\n",
       "\n",
       "    .dataframe tbody tr th {\n",
       "        vertical-align: top;\n",
       "    }\n",
       "\n",
       "    .dataframe thead th {\n",
       "        text-align: right;\n",
       "    }\n",
       "</style>\n",
       "<table border=\"1\" class=\"dataframe\">\n",
       "  <thead>\n",
       "    <tr style=\"text-align: right;\">\n",
       "      <th></th>\n",
       "      <th>courseName</th>\n",
       "      <th>universityName</th>\n",
       "      <th>facultyName</th>\n",
       "      <th>isItFullTime</th>\n",
       "      <th>description</th>\n",
       "      <th>startDate</th>\n",
       "      <th>fees</th>\n",
       "      <th>modality</th>\n",
       "      <th>duration</th>\n",
       "      <th>city</th>\n",
       "      <th>country</th>\n",
       "      <th>administration</th>\n",
       "      <th>url</th>\n",
       "    </tr>\n",
       "  </thead>\n",
       "  <tbody>\n",
       "    <tr>\n",
       "      <th>0</th>\n",
       "      <td>Computer Science - MSc</td>\n",
       "      <td>University of Hertfordshire</td>\n",
       "      <td>School of Physics, Engineering and Computer Sc...</td>\n",
       "      <td>Full time</td>\n",
       "      <td>Why choose Herts?Industry Accreditation: Accre...</td>\n",
       "      <td>See Course</td>\n",
       "      <td>UK Students  Full time: £9450 for the 2022/202...</td>\n",
       "      <td>MSc</td>\n",
       "      <td>1 year full-time, 15 months full-time, 3 years...</td>\n",
       "      <td>Hatfield</td>\n",
       "      <td>United Kingdom</td>\n",
       "      <td>On Campus</td>\n",
       "      <td>https://www.findamasters.com/masters-degrees/c...</td>\n",
       "    </tr>\n",
       "    <tr>\n",
       "      <th>1</th>\n",
       "      <td>Computer Science (Cyber Security) - MSc</td>\n",
       "      <td>Staffordshire University</td>\n",
       "      <td>School of Digital, Technologies and Arts</td>\n",
       "      <td>Full time</td>\n",
       "      <td>Join the fight against malicious programs and ...</td>\n",
       "      <td>September</td>\n",
       "      <td>Find the specific fees for your chosen program...</td>\n",
       "      <td>MSc</td>\n",
       "      <td>13 months - 25 months</td>\n",
       "      <td>Stoke on Trent</td>\n",
       "      <td>United Kingdom</td>\n",
       "      <td>On Campus</td>\n",
       "      <td>https://www.findamasters.com/masters-degrees/c...</td>\n",
       "    </tr>\n",
       "    <tr>\n",
       "      <th>2</th>\n",
       "      <td>Computer Science (Data Science) - MSc</td>\n",
       "      <td>Trinity College Dublin</td>\n",
       "      <td>School of Computer Science &amp; Statistics</td>\n",
       "      <td>Full time</td>\n",
       "      <td>The MSc in Computer Science is an exciting one...</td>\n",
       "      <td>September</td>\n",
       "      <td>Please see the university website for further ...</td>\n",
       "      <td>MSc</td>\n",
       "      <td>1 year full-time</td>\n",
       "      <td>Dublin</td>\n",
       "      <td>Ireland</td>\n",
       "      <td>On Campus</td>\n",
       "      <td>https://www.findamasters.com/masters-degrees/c...</td>\n",
       "    </tr>\n",
       "    <tr>\n",
       "      <th>3</th>\n",
       "      <td>Computer Science (by Research) - MSc</td>\n",
       "      <td>Lancaster University</td>\n",
       "      <td>School of Computing and Communications</td>\n",
       "      <td>Full time</td>\n",
       "      <td>The MSc by Research programme can be tailored ...</td>\n",
       "      <td>See Course</td>\n",
       "      <td>Please see the university website for further ...</td>\n",
       "      <td>MSc</td>\n",
       "      <td>12 months full-time, 24 months part time</td>\n",
       "      <td>Lancaster</td>\n",
       "      <td>United Kingdom</td>\n",
       "      <td>On Campus</td>\n",
       "      <td>https://www.findamasters.com/masters-degrees/c...</td>\n",
       "    </tr>\n",
       "    <tr>\n",
       "      <th>4</th>\n",
       "      <td>Computer Science (Computer Networks and Securi...</td>\n",
       "      <td>Staffordshire University</td>\n",
       "      <td>School of Digital, Technologies and Arts</td>\n",
       "      <td>Full time</td>\n",
       "      <td>Secure your future career with our Computer Sc...</td>\n",
       "      <td>September</td>\n",
       "      <td>Find the specific fees for your chosen program...</td>\n",
       "      <td>MSc</td>\n",
       "      <td>13 months - 25 months</td>\n",
       "      <td>Stoke on Trent</td>\n",
       "      <td>United Kingdom</td>\n",
       "      <td>On Campus</td>\n",
       "      <td>https://www.findamasters.com/masters-degrees/c...</td>\n",
       "    </tr>\n",
       "  </tbody>\n",
       "</table>\n",
       "</div>"
      ],
      "text/plain": [
       "                                          courseName  \\\n",
       "0                             Computer Science - MSc   \n",
       "1            Computer Science (Cyber Security) - MSc   \n",
       "2              Computer Science (Data Science) - MSc   \n",
       "3               Computer Science (by Research) - MSc   \n",
       "4  Computer Science (Computer Networks and Securi...   \n",
       "\n",
       "                universityName  \\\n",
       "0  University of Hertfordshire   \n",
       "1     Staffordshire University   \n",
       "2       Trinity College Dublin   \n",
       "3         Lancaster University   \n",
       "4     Staffordshire University   \n",
       "\n",
       "                                         facultyName isItFullTime  \\\n",
       "0  School of Physics, Engineering and Computer Sc...    Full time   \n",
       "1           School of Digital, Technologies and Arts    Full time   \n",
       "2            School of Computer Science & Statistics    Full time   \n",
       "3             School of Computing and Communications    Full time   \n",
       "4           School of Digital, Technologies and Arts    Full time   \n",
       "\n",
       "                                         description   startDate  \\\n",
       "0  Why choose Herts?Industry Accreditation: Accre...  See Course   \n",
       "1  Join the fight against malicious programs and ...   September   \n",
       "2  The MSc in Computer Science is an exciting one...   September   \n",
       "3  The MSc by Research programme can be tailored ...  See Course   \n",
       "4  Secure your future career with our Computer Sc...   September   \n",
       "\n",
       "                                                fees modality  \\\n",
       "0  UK Students  Full time: £9450 for the 2022/202...      MSc   \n",
       "1  Find the specific fees for your chosen program...      MSc   \n",
       "2  Please see the university website for further ...      MSc   \n",
       "3  Please see the university website for further ...      MSc   \n",
       "4  Find the specific fees for your chosen program...      MSc   \n",
       "\n",
       "                                            duration            city  \\\n",
       "0  1 year full-time, 15 months full-time, 3 years...        Hatfield   \n",
       "1                              13 months - 25 months  Stoke on Trent   \n",
       "2                                   1 year full-time          Dublin   \n",
       "3           12 months full-time, 24 months part time       Lancaster   \n",
       "4                              13 months - 25 months  Stoke on Trent   \n",
       "\n",
       "          country administration  \\\n",
       "0  United Kingdom      On Campus   \n",
       "1  United Kingdom      On Campus   \n",
       "2         Ireland      On Campus   \n",
       "3  United Kingdom      On Campus   \n",
       "4  United Kingdom      On Campus   \n",
       "\n",
       "                                                 url  \n",
       "0  https://www.findamasters.com/masters-degrees/c...  \n",
       "1  https://www.findamasters.com/masters-degrees/c...  \n",
       "2  https://www.findamasters.com/masters-degrees/c...  \n",
       "3  https://www.findamasters.com/masters-degrees/c...  \n",
       "4  https://www.findamasters.com/masters-degrees/c...  "
      ]
     },
     "metadata": {},
     "output_type": "display_data"
    }
   ],
   "source": [
    "# Read the TSV data\n",
    "df = pd.read_csv(\"TSV/course_1.tsv\", sep=\"\\t\", index_col=False)\n",
    "\n",
    "for i in range(2, 6001):\n",
    "    try:\n",
    "        df1 = pd.read_csv(\"TSV/course_\" + str(i) + \".tsv\", sep=\"\\t\", index_col=False)\n",
    "        df1.index += i - 1\n",
    "        df = pd.concat([df, df1])\n",
    "    except Exception as e:\n",
    "        print(i)\n",
    "        print(\"Error: \", e)\n",
    "\n",
    "df.head()"
   ]
  },
  {
   "cell_type": "code",
   "execution_count": null,
   "metadata": {},
   "outputs": [
    {
     "name": "stdout",
     "output_type": "stream",
     "text": [
      "<class 'pandas.core.frame.DataFrame'>\n",
      "RangeIndex: 6000 entries, 0 to 5999\n",
      "Data columns (total 13 columns):\n",
      " #   Column          Non-Null Count  Dtype \n",
      "---  ------          --------------  ----- \n",
      " 0   courseName      5975 non-null   object\n",
      " 1   universityName  5975 non-null   object\n",
      " 2   facultyName     5975 non-null   object\n",
      " 3   isItFullTime    5250 non-null   object\n",
      " 4   description     5975 non-null   object\n",
      " 5   startDate       5975 non-null   object\n",
      " 6   fees            5854 non-null   object\n",
      " 7   modality        5975 non-null   object\n",
      " 8   duration        5975 non-null   object\n",
      " 9   city            5975 non-null   object\n",
      " 10  country         5975 non-null   object\n",
      " 11  administration  5199 non-null   object\n",
      " 12  url             5979 non-null   object\n",
      "dtypes: object(13)\n",
      "memory usage: 609.5+ KB\n"
     ]
    }
   ],
   "source": [
    "df.info()"
   ]
  },
  {
   "cell_type": "code",
   "execution_count": null,
   "metadata": {},
   "outputs": [
    {
     "data": {
      "text/html": [
       "<div>\n",
       "<style scoped>\n",
       "    .dataframe tbody tr th:only-of-type {\n",
       "        vertical-align: middle;\n",
       "    }\n",
       "\n",
       "    .dataframe tbody tr th {\n",
       "        vertical-align: top;\n",
       "    }\n",
       "\n",
       "    .dataframe thead th {\n",
       "        text-align: right;\n",
       "    }\n",
       "</style>\n",
       "<table border=\"1\" class=\"dataframe\">\n",
       "  <thead>\n",
       "    <tr style=\"text-align: right;\">\n",
       "      <th></th>\n",
       "      <th>courseName</th>\n",
       "      <th>universityName</th>\n",
       "      <th>facultyName</th>\n",
       "      <th>isItFullTime</th>\n",
       "      <th>description</th>\n",
       "      <th>startDate</th>\n",
       "      <th>fees</th>\n",
       "      <th>modality</th>\n",
       "      <th>duration</th>\n",
       "      <th>city</th>\n",
       "      <th>country</th>\n",
       "      <th>administration</th>\n",
       "      <th>url</th>\n",
       "    </tr>\n",
       "  </thead>\n",
       "  <tbody>\n",
       "    <tr>\n",
       "      <th>1083</th>\n",
       "      <td>NaN</td>\n",
       "      <td>NaN</td>\n",
       "      <td>NaN</td>\n",
       "      <td>NaN</td>\n",
       "      <td>NaN</td>\n",
       "      <td>NaN</td>\n",
       "      <td>NaN</td>\n",
       "      <td>NaN</td>\n",
       "      <td>NaN</td>\n",
       "      <td>NaN</td>\n",
       "      <td>NaN</td>\n",
       "      <td>NaN</td>\n",
       "      <td>NaN</td>\n",
       "    </tr>\n",
       "    <tr>\n",
       "      <th>1087</th>\n",
       "      <td>NaN</td>\n",
       "      <td>NaN</td>\n",
       "      <td>NaN</td>\n",
       "      <td>NaN</td>\n",
       "      <td>NaN</td>\n",
       "      <td>NaN</td>\n",
       "      <td>NaN</td>\n",
       "      <td>NaN</td>\n",
       "      <td>NaN</td>\n",
       "      <td>NaN</td>\n",
       "      <td>NaN</td>\n",
       "      <td>NaN</td>\n",
       "      <td>NaN</td>\n",
       "    </tr>\n",
       "    <tr>\n",
       "      <th>1205</th>\n",
       "      <td>NaN</td>\n",
       "      <td>NaN</td>\n",
       "      <td>NaN</td>\n",
       "      <td>NaN</td>\n",
       "      <td>NaN</td>\n",
       "      <td>NaN</td>\n",
       "      <td>NaN</td>\n",
       "      <td>NaN</td>\n",
       "      <td>NaN</td>\n",
       "      <td>NaN</td>\n",
       "      <td>NaN</td>\n",
       "      <td>NaN</td>\n",
       "      <td>NaN</td>\n",
       "    </tr>\n",
       "    <tr>\n",
       "      <th>1291</th>\n",
       "      <td>NaN</td>\n",
       "      <td>NaN</td>\n",
       "      <td>NaN</td>\n",
       "      <td>NaN</td>\n",
       "      <td>NaN</td>\n",
       "      <td>NaN</td>\n",
       "      <td>NaN</td>\n",
       "      <td>NaN</td>\n",
       "      <td>NaN</td>\n",
       "      <td>NaN</td>\n",
       "      <td>NaN</td>\n",
       "      <td>NaN</td>\n",
       "      <td>NaN</td>\n",
       "    </tr>\n",
       "    <tr>\n",
       "      <th>1423</th>\n",
       "      <td>NaN</td>\n",
       "      <td>NaN</td>\n",
       "      <td>NaN</td>\n",
       "      <td>NaN</td>\n",
       "      <td>NaN</td>\n",
       "      <td>NaN</td>\n",
       "      <td>NaN</td>\n",
       "      <td>NaN</td>\n",
       "      <td>NaN</td>\n",
       "      <td>NaN</td>\n",
       "      <td>NaN</td>\n",
       "      <td>NaN</td>\n",
       "      <td>NaN</td>\n",
       "    </tr>\n",
       "    <tr>\n",
       "      <th>1856</th>\n",
       "      <td>NaN</td>\n",
       "      <td>NaN</td>\n",
       "      <td>NaN</td>\n",
       "      <td>NaN</td>\n",
       "      <td>NaN</td>\n",
       "      <td>NaN</td>\n",
       "      <td>NaN</td>\n",
       "      <td>NaN</td>\n",
       "      <td>NaN</td>\n",
       "      <td>NaN</td>\n",
       "      <td>NaN</td>\n",
       "      <td>NaN</td>\n",
       "      <td>NaN</td>\n",
       "    </tr>\n",
       "    <tr>\n",
       "      <th>2198</th>\n",
       "      <td>NaN</td>\n",
       "      <td>NaN</td>\n",
       "      <td>NaN</td>\n",
       "      <td>NaN</td>\n",
       "      <td>NaN</td>\n",
       "      <td>NaN</td>\n",
       "      <td>NaN</td>\n",
       "      <td>NaN</td>\n",
       "      <td>NaN</td>\n",
       "      <td>NaN</td>\n",
       "      <td>NaN</td>\n",
       "      <td>NaN</td>\n",
       "      <td>NaN</td>\n",
       "    </tr>\n",
       "    <tr>\n",
       "      <th>2459</th>\n",
       "      <td>NaN</td>\n",
       "      <td>NaN</td>\n",
       "      <td>NaN</td>\n",
       "      <td>NaN</td>\n",
       "      <td>NaN</td>\n",
       "      <td>NaN</td>\n",
       "      <td>NaN</td>\n",
       "      <td>NaN</td>\n",
       "      <td>NaN</td>\n",
       "      <td>NaN</td>\n",
       "      <td>NaN</td>\n",
       "      <td>NaN</td>\n",
       "      <td>NaN</td>\n",
       "    </tr>\n",
       "    <tr>\n",
       "      <th>2491</th>\n",
       "      <td>NaN</td>\n",
       "      <td>NaN</td>\n",
       "      <td>NaN</td>\n",
       "      <td>NaN</td>\n",
       "      <td>NaN</td>\n",
       "      <td>NaN</td>\n",
       "      <td>NaN</td>\n",
       "      <td>NaN</td>\n",
       "      <td>NaN</td>\n",
       "      <td>NaN</td>\n",
       "      <td>NaN</td>\n",
       "      <td>NaN</td>\n",
       "      <td>NaN</td>\n",
       "    </tr>\n",
       "    <tr>\n",
       "      <th>2501</th>\n",
       "      <td>NaN</td>\n",
       "      <td>NaN</td>\n",
       "      <td>NaN</td>\n",
       "      <td>NaN</td>\n",
       "      <td>NaN</td>\n",
       "      <td>NaN</td>\n",
       "      <td>NaN</td>\n",
       "      <td>NaN</td>\n",
       "      <td>NaN</td>\n",
       "      <td>NaN</td>\n",
       "      <td>NaN</td>\n",
       "      <td>NaN</td>\n",
       "      <td>NaN</td>\n",
       "    </tr>\n",
       "    <tr>\n",
       "      <th>2680</th>\n",
       "      <td>NaN</td>\n",
       "      <td>NaN</td>\n",
       "      <td>NaN</td>\n",
       "      <td>NaN</td>\n",
       "      <td>NaN</td>\n",
       "      <td>NaN</td>\n",
       "      <td>NaN</td>\n",
       "      <td>NaN</td>\n",
       "      <td>NaN</td>\n",
       "      <td>NaN</td>\n",
       "      <td>NaN</td>\n",
       "      <td>NaN</td>\n",
       "      <td>NaN</td>\n",
       "    </tr>\n",
       "    <tr>\n",
       "      <th>2828</th>\n",
       "      <td>NaN</td>\n",
       "      <td>NaN</td>\n",
       "      <td>NaN</td>\n",
       "      <td>NaN</td>\n",
       "      <td>NaN</td>\n",
       "      <td>NaN</td>\n",
       "      <td>NaN</td>\n",
       "      <td>NaN</td>\n",
       "      <td>NaN</td>\n",
       "      <td>NaN</td>\n",
       "      <td>NaN</td>\n",
       "      <td>NaN</td>\n",
       "      <td>NaN</td>\n",
       "    </tr>\n",
       "    <tr>\n",
       "      <th>3157</th>\n",
       "      <td>NaN</td>\n",
       "      <td>NaN</td>\n",
       "      <td>NaN</td>\n",
       "      <td>NaN</td>\n",
       "      <td>NaN</td>\n",
       "      <td>NaN</td>\n",
       "      <td>NaN</td>\n",
       "      <td>NaN</td>\n",
       "      <td>NaN</td>\n",
       "      <td>NaN</td>\n",
       "      <td>NaN</td>\n",
       "      <td>NaN</td>\n",
       "      <td>NaN</td>\n",
       "    </tr>\n",
       "    <tr>\n",
       "      <th>3218</th>\n",
       "      <td>NaN</td>\n",
       "      <td>NaN</td>\n",
       "      <td>NaN</td>\n",
       "      <td>NaN</td>\n",
       "      <td>NaN</td>\n",
       "      <td>NaN</td>\n",
       "      <td>NaN</td>\n",
       "      <td>NaN</td>\n",
       "      <td>NaN</td>\n",
       "      <td>NaN</td>\n",
       "      <td>NaN</td>\n",
       "      <td>NaN</td>\n",
       "      <td>https://www.findamasters.com/masters-degrees/</td>\n",
       "    </tr>\n",
       "    <tr>\n",
       "      <th>3219</th>\n",
       "      <td>NaN</td>\n",
       "      <td>NaN</td>\n",
       "      <td>NaN</td>\n",
       "      <td>NaN</td>\n",
       "      <td>NaN</td>\n",
       "      <td>NaN</td>\n",
       "      <td>NaN</td>\n",
       "      <td>NaN</td>\n",
       "      <td>NaN</td>\n",
       "      <td>NaN</td>\n",
       "      <td>NaN</td>\n",
       "      <td>NaN</td>\n",
       "      <td>https://www.findamasters.com/masters-degrees/</td>\n",
       "    </tr>\n",
       "    <tr>\n",
       "      <th>3235</th>\n",
       "      <td>NaN</td>\n",
       "      <td>NaN</td>\n",
       "      <td>NaN</td>\n",
       "      <td>NaN</td>\n",
       "      <td>NaN</td>\n",
       "      <td>NaN</td>\n",
       "      <td>NaN</td>\n",
       "      <td>NaN</td>\n",
       "      <td>NaN</td>\n",
       "      <td>NaN</td>\n",
       "      <td>NaN</td>\n",
       "      <td>NaN</td>\n",
       "      <td>NaN</td>\n",
       "    </tr>\n",
       "    <tr>\n",
       "      <th>3585</th>\n",
       "      <td>NaN</td>\n",
       "      <td>NaN</td>\n",
       "      <td>NaN</td>\n",
       "      <td>NaN</td>\n",
       "      <td>NaN</td>\n",
       "      <td>NaN</td>\n",
       "      <td>NaN</td>\n",
       "      <td>NaN</td>\n",
       "      <td>NaN</td>\n",
       "      <td>NaN</td>\n",
       "      <td>NaN</td>\n",
       "      <td>NaN</td>\n",
       "      <td>NaN</td>\n",
       "    </tr>\n",
       "    <tr>\n",
       "      <th>4282</th>\n",
       "      <td>NaN</td>\n",
       "      <td>NaN</td>\n",
       "      <td>NaN</td>\n",
       "      <td>NaN</td>\n",
       "      <td>NaN</td>\n",
       "      <td>NaN</td>\n",
       "      <td>NaN</td>\n",
       "      <td>NaN</td>\n",
       "      <td>NaN</td>\n",
       "      <td>NaN</td>\n",
       "      <td>NaN</td>\n",
       "      <td>NaN</td>\n",
       "      <td>NaN</td>\n",
       "    </tr>\n",
       "    <tr>\n",
       "      <th>4479</th>\n",
       "      <td>NaN</td>\n",
       "      <td>NaN</td>\n",
       "      <td>NaN</td>\n",
       "      <td>NaN</td>\n",
       "      <td>NaN</td>\n",
       "      <td>NaN</td>\n",
       "      <td>NaN</td>\n",
       "      <td>NaN</td>\n",
       "      <td>NaN</td>\n",
       "      <td>NaN</td>\n",
       "      <td>NaN</td>\n",
       "      <td>NaN</td>\n",
       "      <td>https://www.findamasters.com/masters-degrees/</td>\n",
       "    </tr>\n",
       "    <tr>\n",
       "      <th>4482</th>\n",
       "      <td>NaN</td>\n",
       "      <td>NaN</td>\n",
       "      <td>NaN</td>\n",
       "      <td>NaN</td>\n",
       "      <td>NaN</td>\n",
       "      <td>NaN</td>\n",
       "      <td>NaN</td>\n",
       "      <td>NaN</td>\n",
       "      <td>NaN</td>\n",
       "      <td>NaN</td>\n",
       "      <td>NaN</td>\n",
       "      <td>NaN</td>\n",
       "      <td>https://www.findamasters.com/masters-degrees/</td>\n",
       "    </tr>\n",
       "    <tr>\n",
       "      <th>4651</th>\n",
       "      <td>NaN</td>\n",
       "      <td>NaN</td>\n",
       "      <td>NaN</td>\n",
       "      <td>NaN</td>\n",
       "      <td>NaN</td>\n",
       "      <td>NaN</td>\n",
       "      <td>NaN</td>\n",
       "      <td>NaN</td>\n",
       "      <td>NaN</td>\n",
       "      <td>NaN</td>\n",
       "      <td>NaN</td>\n",
       "      <td>NaN</td>\n",
       "      <td>NaN</td>\n",
       "    </tr>\n",
       "    <tr>\n",
       "      <th>4678</th>\n",
       "      <td>NaN</td>\n",
       "      <td>NaN</td>\n",
       "      <td>NaN</td>\n",
       "      <td>NaN</td>\n",
       "      <td>NaN</td>\n",
       "      <td>NaN</td>\n",
       "      <td>NaN</td>\n",
       "      <td>NaN</td>\n",
       "      <td>NaN</td>\n",
       "      <td>NaN</td>\n",
       "      <td>NaN</td>\n",
       "      <td>NaN</td>\n",
       "      <td>NaN</td>\n",
       "    </tr>\n",
       "    <tr>\n",
       "      <th>4789</th>\n",
       "      <td>NaN</td>\n",
       "      <td>NaN</td>\n",
       "      <td>NaN</td>\n",
       "      <td>NaN</td>\n",
       "      <td>NaN</td>\n",
       "      <td>NaN</td>\n",
       "      <td>NaN</td>\n",
       "      <td>NaN</td>\n",
       "      <td>NaN</td>\n",
       "      <td>NaN</td>\n",
       "      <td>NaN</td>\n",
       "      <td>NaN</td>\n",
       "      <td>NaN</td>\n",
       "    </tr>\n",
       "    <tr>\n",
       "      <th>5406</th>\n",
       "      <td>NaN</td>\n",
       "      <td>NaN</td>\n",
       "      <td>NaN</td>\n",
       "      <td>NaN</td>\n",
       "      <td>NaN</td>\n",
       "      <td>NaN</td>\n",
       "      <td>NaN</td>\n",
       "      <td>NaN</td>\n",
       "      <td>NaN</td>\n",
       "      <td>NaN</td>\n",
       "      <td>NaN</td>\n",
       "      <td>NaN</td>\n",
       "      <td>NaN</td>\n",
       "    </tr>\n",
       "    <tr>\n",
       "      <th>5731</th>\n",
       "      <td>NaN</td>\n",
       "      <td>NaN</td>\n",
       "      <td>NaN</td>\n",
       "      <td>NaN</td>\n",
       "      <td>NaN</td>\n",
       "      <td>NaN</td>\n",
       "      <td>NaN</td>\n",
       "      <td>NaN</td>\n",
       "      <td>NaN</td>\n",
       "      <td>NaN</td>\n",
       "      <td>NaN</td>\n",
       "      <td>NaN</td>\n",
       "      <td>NaN</td>\n",
       "    </tr>\n",
       "  </tbody>\n",
       "</table>\n",
       "</div>"
      ],
      "text/plain": [
       "     courseName universityName facultyName isItFullTime description startDate  \\\n",
       "1083        NaN            NaN         NaN          NaN         NaN       NaN   \n",
       "1087        NaN            NaN         NaN          NaN         NaN       NaN   \n",
       "1205        NaN            NaN         NaN          NaN         NaN       NaN   \n",
       "1291        NaN            NaN         NaN          NaN         NaN       NaN   \n",
       "1423        NaN            NaN         NaN          NaN         NaN       NaN   \n",
       "1856        NaN            NaN         NaN          NaN         NaN       NaN   \n",
       "2198        NaN            NaN         NaN          NaN         NaN       NaN   \n",
       "2459        NaN            NaN         NaN          NaN         NaN       NaN   \n",
       "2491        NaN            NaN         NaN          NaN         NaN       NaN   \n",
       "2501        NaN            NaN         NaN          NaN         NaN       NaN   \n",
       "2680        NaN            NaN         NaN          NaN         NaN       NaN   \n",
       "2828        NaN            NaN         NaN          NaN         NaN       NaN   \n",
       "3157        NaN            NaN         NaN          NaN         NaN       NaN   \n",
       "3218        NaN            NaN         NaN          NaN         NaN       NaN   \n",
       "3219        NaN            NaN         NaN          NaN         NaN       NaN   \n",
       "3235        NaN            NaN         NaN          NaN         NaN       NaN   \n",
       "3585        NaN            NaN         NaN          NaN         NaN       NaN   \n",
       "4282        NaN            NaN         NaN          NaN         NaN       NaN   \n",
       "4479        NaN            NaN         NaN          NaN         NaN       NaN   \n",
       "4482        NaN            NaN         NaN          NaN         NaN       NaN   \n",
       "4651        NaN            NaN         NaN          NaN         NaN       NaN   \n",
       "4678        NaN            NaN         NaN          NaN         NaN       NaN   \n",
       "4789        NaN            NaN         NaN          NaN         NaN       NaN   \n",
       "5406        NaN            NaN         NaN          NaN         NaN       NaN   \n",
       "5731        NaN            NaN         NaN          NaN         NaN       NaN   \n",
       "\n",
       "     fees modality duration city country administration  \\\n",
       "1083  NaN      NaN      NaN  NaN     NaN            NaN   \n",
       "1087  NaN      NaN      NaN  NaN     NaN            NaN   \n",
       "1205  NaN      NaN      NaN  NaN     NaN            NaN   \n",
       "1291  NaN      NaN      NaN  NaN     NaN            NaN   \n",
       "1423  NaN      NaN      NaN  NaN     NaN            NaN   \n",
       "1856  NaN      NaN      NaN  NaN     NaN            NaN   \n",
       "2198  NaN      NaN      NaN  NaN     NaN            NaN   \n",
       "2459  NaN      NaN      NaN  NaN     NaN            NaN   \n",
       "2491  NaN      NaN      NaN  NaN     NaN            NaN   \n",
       "2501  NaN      NaN      NaN  NaN     NaN            NaN   \n",
       "2680  NaN      NaN      NaN  NaN     NaN            NaN   \n",
       "2828  NaN      NaN      NaN  NaN     NaN            NaN   \n",
       "3157  NaN      NaN      NaN  NaN     NaN            NaN   \n",
       "3218  NaN      NaN      NaN  NaN     NaN            NaN   \n",
       "3219  NaN      NaN      NaN  NaN     NaN            NaN   \n",
       "3235  NaN      NaN      NaN  NaN     NaN            NaN   \n",
       "3585  NaN      NaN      NaN  NaN     NaN            NaN   \n",
       "4282  NaN      NaN      NaN  NaN     NaN            NaN   \n",
       "4479  NaN      NaN      NaN  NaN     NaN            NaN   \n",
       "4482  NaN      NaN      NaN  NaN     NaN            NaN   \n",
       "4651  NaN      NaN      NaN  NaN     NaN            NaN   \n",
       "4678  NaN      NaN      NaN  NaN     NaN            NaN   \n",
       "4789  NaN      NaN      NaN  NaN     NaN            NaN   \n",
       "5406  NaN      NaN      NaN  NaN     NaN            NaN   \n",
       "5731  NaN      NaN      NaN  NaN     NaN            NaN   \n",
       "\n",
       "                                                url  \n",
       "1083                                            NaN  \n",
       "1087                                            NaN  \n",
       "1205                                            NaN  \n",
       "1291                                            NaN  \n",
       "1423                                            NaN  \n",
       "1856                                            NaN  \n",
       "2198                                            NaN  \n",
       "2459                                            NaN  \n",
       "2491                                            NaN  \n",
       "2501                                            NaN  \n",
       "2680                                            NaN  \n",
       "2828                                            NaN  \n",
       "3157                                            NaN  \n",
       "3218  https://www.findamasters.com/masters-degrees/  \n",
       "3219  https://www.findamasters.com/masters-degrees/  \n",
       "3235                                            NaN  \n",
       "3585                                            NaN  \n",
       "4282                                            NaN  \n",
       "4479  https://www.findamasters.com/masters-degrees/  \n",
       "4482  https://www.findamasters.com/masters-degrees/  \n",
       "4651                                            NaN  \n",
       "4678                                            NaN  \n",
       "4789                                            NaN  \n",
       "5406                                            NaN  \n",
       "5731                                            NaN  "
      ]
     },
     "metadata": {},
     "output_type": "display_data"
    }
   ],
   "source": [
    "df[df[\"courseName\"].isnull()]"
   ]
  },
  {
   "cell_type": "markdown",
   "metadata": {},
   "source": [
    "We can see that we have 25 bad entries in the dataset examining the NaN courseName entries. Examining the .tsv files with these index it appears that they are mostly empty. Furthermore, going into the HTML files we see that all 25 URL's are broken."
   ]
  },
  {
   "cell_type": "markdown",
   "metadata": {},
   "source": [
    "## 2. Search Engine"
   ]
  },
  {
   "cell_type": "markdown",
   "metadata": {},
   "source": [
    "### 0. Preprocessing"
   ]
  },
  {
   "cell_type": "code",
   "execution_count": 27,
   "metadata": {},
   "outputs": [
    {
     "name": "stderr",
     "output_type": "stream",
     "text": [
      "[nltk_data] Downloading package stopwords to /home/edo/nltk_data...\n",
      "[nltk_data]   Package stopwords is already up-to-date!\n",
      "[nltk_data] Downloading package punkt to /home/edo/nltk_data...\n",
      "[nltk_data]   Package punkt is already up-to-date!\n"
     ]
    },
    {
     "data": {
      "text/plain": [
       "True"
      ]
     },
     "execution_count": 27,
     "metadata": {},
     "output_type": "execute_result"
    }
   ],
   "source": [
    "# Libraries\n",
    "import pandas as pd\n",
    "import numpy as np\n",
    "import nltk\n",
    "from nltk.corpus import stopwords\n",
    "from nltk.tokenize import word_tokenize\n",
    "from nltk.stem import PorterStemmer\n",
    "import string\n",
    "import re\n",
    "from collections import Counter\n",
    "from functools import reduce\n",
    "import json\n",
    "from sklearn.feature_extraction.text import TfidfVectorizer\n",
    "from sklearn.metrics.pairwise import cosine_similarity\n",
    "import heapq\n",
    "\n",
    "\n",
    "# NLTK Download\n",
    "nltk.download(\"stopwords\")\n",
    "nltk.download(\"punkt\")"
   ]
  },
  {
   "cell_type": "code",
   "execution_count": 28,
   "metadata": {},
   "outputs": [
    {
     "data": {
      "text/html": [
       "<div>\n",
       "<style scoped>\n",
       "    .dataframe tbody tr th:only-of-type {\n",
       "        vertical-align: middle;\n",
       "    }\n",
       "\n",
       "    .dataframe tbody tr th {\n",
       "        vertical-align: top;\n",
       "    }\n",
       "\n",
       "    .dataframe thead th {\n",
       "        text-align: right;\n",
       "    }\n",
       "</style>\n",
       "<table border=\"1\" class=\"dataframe\">\n",
       "  <thead>\n",
       "    <tr style=\"text-align: right;\">\n",
       "      <th></th>\n",
       "      <th>courseName</th>\n",
       "      <th>universityName</th>\n",
       "      <th>facultyName</th>\n",
       "      <th>isItFullTime</th>\n",
       "      <th>description</th>\n",
       "      <th>startDate</th>\n",
       "      <th>fees</th>\n",
       "      <th>modality</th>\n",
       "      <th>duration</th>\n",
       "      <th>city</th>\n",
       "      <th>country</th>\n",
       "      <th>administration</th>\n",
       "      <th>url</th>\n",
       "    </tr>\n",
       "  </thead>\n",
       "  <tbody>\n",
       "    <tr>\n",
       "      <th>0</th>\n",
       "      <td>Computer Science - MSc</td>\n",
       "      <td>University of Hertfordshire</td>\n",
       "      <td>School of Physics, Engineering and Computer Sc...</td>\n",
       "      <td>Full time</td>\n",
       "      <td>Why choose Herts?Industry Accreditation: Accre...</td>\n",
       "      <td>See Course</td>\n",
       "      <td>UK Students  Full time: £9450 for the 2022/202...</td>\n",
       "      <td>MSc</td>\n",
       "      <td>1 year full-time, 15 months full-time, 3 years...</td>\n",
       "      <td>Hatfield</td>\n",
       "      <td>United Kingdom</td>\n",
       "      <td>On Campus</td>\n",
       "      <td>https://www.findamasters.com/masters-degrees/c...</td>\n",
       "    </tr>\n",
       "    <tr>\n",
       "      <th>1</th>\n",
       "      <td>Computer Science (Cyber Security) - MSc</td>\n",
       "      <td>Staffordshire University</td>\n",
       "      <td>School of Digital, Technologies and Arts</td>\n",
       "      <td>Full time</td>\n",
       "      <td>Join the fight against malicious programs and ...</td>\n",
       "      <td>September</td>\n",
       "      <td>Find the specific fees for your chosen program...</td>\n",
       "      <td>MSc</td>\n",
       "      <td>13 months - 25 months</td>\n",
       "      <td>Stoke on Trent</td>\n",
       "      <td>United Kingdom</td>\n",
       "      <td>On Campus</td>\n",
       "      <td>https://www.findamasters.com/masters-degrees/c...</td>\n",
       "    </tr>\n",
       "    <tr>\n",
       "      <th>2</th>\n",
       "      <td>Computer Science (Data Science) - MSc</td>\n",
       "      <td>Trinity College Dublin</td>\n",
       "      <td>School of Computer Science &amp; Statistics</td>\n",
       "      <td>Full time</td>\n",
       "      <td>The MSc in Computer Science is an exciting one...</td>\n",
       "      <td>September</td>\n",
       "      <td>Please see the university website for further ...</td>\n",
       "      <td>MSc</td>\n",
       "      <td>1 year full-time</td>\n",
       "      <td>Dublin</td>\n",
       "      <td>Ireland</td>\n",
       "      <td>On Campus</td>\n",
       "      <td>https://www.findamasters.com/masters-degrees/c...</td>\n",
       "    </tr>\n",
       "    <tr>\n",
       "      <th>3</th>\n",
       "      <td>Computer Science (by Research) - MSc</td>\n",
       "      <td>Lancaster University</td>\n",
       "      <td>School of Computing and Communications</td>\n",
       "      <td>Full time</td>\n",
       "      <td>The MSc by Research programme can be tailored ...</td>\n",
       "      <td>See Course</td>\n",
       "      <td>Please see the university website for further ...</td>\n",
       "      <td>MSc</td>\n",
       "      <td>12 months full-time, 24 months part time</td>\n",
       "      <td>Lancaster</td>\n",
       "      <td>United Kingdom</td>\n",
       "      <td>On Campus</td>\n",
       "      <td>https://www.findamasters.com/masters-degrees/c...</td>\n",
       "    </tr>\n",
       "    <tr>\n",
       "      <th>4</th>\n",
       "      <td>Computer Science (Computer Networks and Securi...</td>\n",
       "      <td>Staffordshire University</td>\n",
       "      <td>School of Digital, Technologies and Arts</td>\n",
       "      <td>Full time</td>\n",
       "      <td>Secure your future career with our Computer Sc...</td>\n",
       "      <td>September</td>\n",
       "      <td>Find the specific fees for your chosen program...</td>\n",
       "      <td>MSc</td>\n",
       "      <td>13 months - 25 months</td>\n",
       "      <td>Stoke on Trent</td>\n",
       "      <td>United Kingdom</td>\n",
       "      <td>On Campus</td>\n",
       "      <td>https://www.findamasters.com/masters-degrees/c...</td>\n",
       "    </tr>\n",
       "  </tbody>\n",
       "</table>\n",
       "</div>"
      ],
      "text/plain": [
       "                                          courseName  \\\n",
       "0                             Computer Science - MSc   \n",
       "1            Computer Science (Cyber Security) - MSc   \n",
       "2              Computer Science (Data Science) - MSc   \n",
       "3               Computer Science (by Research) - MSc   \n",
       "4  Computer Science (Computer Networks and Securi...   \n",
       "\n",
       "                universityName  \\\n",
       "0  University of Hertfordshire   \n",
       "1     Staffordshire University   \n",
       "2       Trinity College Dublin   \n",
       "3         Lancaster University   \n",
       "4     Staffordshire University   \n",
       "\n",
       "                                         facultyName isItFullTime  \\\n",
       "0  School of Physics, Engineering and Computer Sc...    Full time   \n",
       "1           School of Digital, Technologies and Arts    Full time   \n",
       "2            School of Computer Science & Statistics    Full time   \n",
       "3             School of Computing and Communications    Full time   \n",
       "4           School of Digital, Technologies and Arts    Full time   \n",
       "\n",
       "                                         description   startDate  \\\n",
       "0  Why choose Herts?Industry Accreditation: Accre...  See Course   \n",
       "1  Join the fight against malicious programs and ...   September   \n",
       "2  The MSc in Computer Science is an exciting one...   September   \n",
       "3  The MSc by Research programme can be tailored ...  See Course   \n",
       "4  Secure your future career with our Computer Sc...   September   \n",
       "\n",
       "                                                fees modality  \\\n",
       "0  UK Students  Full time: £9450 for the 2022/202...      MSc   \n",
       "1  Find the specific fees for your chosen program...      MSc   \n",
       "2  Please see the university website for further ...      MSc   \n",
       "3  Please see the university website for further ...      MSc   \n",
       "4  Find the specific fees for your chosen program...      MSc   \n",
       "\n",
       "                                            duration            city  \\\n",
       "0  1 year full-time, 15 months full-time, 3 years...        Hatfield   \n",
       "1                              13 months - 25 months  Stoke on Trent   \n",
       "2                                   1 year full-time          Dublin   \n",
       "3           12 months full-time, 24 months part time       Lancaster   \n",
       "4                              13 months - 25 months  Stoke on Trent   \n",
       "\n",
       "          country administration  \\\n",
       "0  United Kingdom      On Campus   \n",
       "1  United Kingdom      On Campus   \n",
       "2         Ireland      On Campus   \n",
       "3  United Kingdom      On Campus   \n",
       "4  United Kingdom      On Campus   \n",
       "\n",
       "                                                 url  \n",
       "0  https://www.findamasters.com/masters-degrees/c...  \n",
       "1  https://www.findamasters.com/masters-degrees/c...  \n",
       "2  https://www.findamasters.com/masters-degrees/c...  \n",
       "3  https://www.findamasters.com/masters-degrees/c...  \n",
       "4  https://www.findamasters.com/masters-degrees/c...  "
      ]
     },
     "execution_count": 28,
     "metadata": {},
     "output_type": "execute_result"
    }
   ],
   "source": [
    "# Read the TSV data\n",
    "df = pd.read_csv(\"TSV/course_1.tsv\", sep=\"\\t\", index_col=False)\n",
    "\n",
    "for i in range(2, 6001):\n",
    "    try:\n",
    "        df1 = pd.read_csv(\n",
    "            \"TSV/course_\" + str(i) + \".tsv\",\n",
    "            sep=\"\\t\",\n",
    "            index_col=False,\n",
    "        )\n",
    "        df1.index += i - 1\n",
    "        df = pd.concat([df, df1])\n",
    "    except Exception as e:\n",
    "        print(i)\n",
    "        print(\"Error: \", e)\n",
    "\n",
    "df.head()"
   ]
  },
  {
   "cell_type": "markdown",
   "metadata": {},
   "source": [
    "As we can see from examining the dataset in question 1, there seems to be some NaN rows that need to be dealt with. We will firstly drop them, and all NaN values that remain will be made into empty strings."
   ]
  },
  {
   "cell_type": "code",
   "execution_count": 29,
   "metadata": {},
   "outputs": [
    {
     "data": {
      "text/html": [
       "<div>\n",
       "<style scoped>\n",
       "    .dataframe tbody tr th:only-of-type {\n",
       "        vertical-align: middle;\n",
       "    }\n",
       "\n",
       "    .dataframe tbody tr th {\n",
       "        vertical-align: top;\n",
       "    }\n",
       "\n",
       "    .dataframe thead th {\n",
       "        text-align: right;\n",
       "    }\n",
       "</style>\n",
       "<table border=\"1\" class=\"dataframe\">\n",
       "  <thead>\n",
       "    <tr style=\"text-align: right;\">\n",
       "      <th></th>\n",
       "      <th>courseName</th>\n",
       "      <th>universityName</th>\n",
       "      <th>facultyName</th>\n",
       "      <th>isItFullTime</th>\n",
       "      <th>description</th>\n",
       "      <th>startDate</th>\n",
       "      <th>fees</th>\n",
       "      <th>modality</th>\n",
       "      <th>duration</th>\n",
       "      <th>city</th>\n",
       "      <th>country</th>\n",
       "      <th>administration</th>\n",
       "      <th>url</th>\n",
       "    </tr>\n",
       "  </thead>\n",
       "  <tbody>\n",
       "  </tbody>\n",
       "</table>\n",
       "</div>"
      ],
      "text/plain": [
       "Empty DataFrame\n",
       "Columns: [courseName, universityName, facultyName, isItFullTime, description, startDate, fees, modality, duration, city, country, administration, url]\n",
       "Index: []"
      ]
     },
     "execution_count": 29,
     "metadata": {},
     "output_type": "execute_result"
    }
   ],
   "source": [
    "df = df.dropna(subset=[\"courseName\"]).reset_index(drop=True)\n",
    "df = df.replace(np.nan, \"\")\n",
    "\n",
    "# This needs to be an empty dataframe\n",
    "df[df[\"courseName\"].isnull()]"
   ]
  },
  {
   "cell_type": "markdown",
   "metadata": {},
   "source": [
    "Now we need to preprocess dataset, it will be done in seperate dataframe to keep the original one for results. Firstly, we will remove stopwords:"
   ]
  },
  {
   "cell_type": "code",
   "execution_count": 30,
   "metadata": {},
   "outputs": [],
   "source": [
    "def stopless(text):\n",
    "    # Checking if the instance is string, there were some problems with int/float values\n",
    "    if isinstance(text, str):\n",
    "        words = word_tokenize(text)\n",
    "        stop_words = set(stopwords.words(\"english\"))\n",
    "        filtered_words = [word for word in words if word.lower() not in stop_words]\n",
    "        return \" \".join(filtered_words)\n",
    "    else:\n",
    "        return text"
   ]
  },
  {
   "cell_type": "code",
   "execution_count": 31,
   "metadata": {},
   "outputs": [
    {
     "data": {
      "text/html": [
       "<div>\n",
       "<style scoped>\n",
       "    .dataframe tbody tr th:only-of-type {\n",
       "        vertical-align: middle;\n",
       "    }\n",
       "\n",
       "    .dataframe tbody tr th {\n",
       "        vertical-align: top;\n",
       "    }\n",
       "\n",
       "    .dataframe thead th {\n",
       "        text-align: right;\n",
       "    }\n",
       "</style>\n",
       "<table border=\"1\" class=\"dataframe\">\n",
       "  <thead>\n",
       "    <tr style=\"text-align: right;\">\n",
       "      <th></th>\n",
       "      <th>courseName</th>\n",
       "      <th>universityName</th>\n",
       "      <th>facultyName</th>\n",
       "      <th>isItFullTime</th>\n",
       "      <th>description</th>\n",
       "      <th>startDate</th>\n",
       "      <th>fees</th>\n",
       "      <th>modality</th>\n",
       "      <th>duration</th>\n",
       "      <th>city</th>\n",
       "      <th>country</th>\n",
       "      <th>administration</th>\n",
       "      <th>url</th>\n",
       "    </tr>\n",
       "  </thead>\n",
       "  <tbody>\n",
       "    <tr>\n",
       "      <th>0</th>\n",
       "      <td>Computer Science - MSc</td>\n",
       "      <td>University Hertfordshire</td>\n",
       "      <td>School Physics , Engineering Computer Science</td>\n",
       "      <td>Full time</td>\n",
       "      <td>choose Herts ? Industry Accreditation : Accred...</td>\n",
       "      <td>See Course</td>\n",
       "      <td>UK Students Full time : £9450 2022/2023 academ...</td>\n",
       "      <td>MSc</td>\n",
       "      <td>1 year full-time , 15 months full-time , 3 yea...</td>\n",
       "      <td>Hatfield</td>\n",
       "      <td>United Kingdom</td>\n",
       "      <td>Campus</td>\n",
       "      <td>https : //www.findamasters.com/masters-degrees...</td>\n",
       "    </tr>\n",
       "    <tr>\n",
       "      <th>1</th>\n",
       "      <td>Computer Science ( Cyber Security ) - MSc</td>\n",
       "      <td>Staffordshire University</td>\n",
       "      <td>School Digital , Technologies Arts</td>\n",
       "      <td>Full time</td>\n",
       "      <td>Join fight malicious programs cybercrime Compu...</td>\n",
       "      <td>September</td>\n",
       "      <td>Find specific fees chosen programme website</td>\n",
       "      <td>MSc</td>\n",
       "      <td>13 months - 25 months</td>\n",
       "      <td>Stoke Trent</td>\n",
       "      <td>United Kingdom</td>\n",
       "      <td>Campus</td>\n",
       "      <td>https : //www.findamasters.com/masters-degrees...</td>\n",
       "    </tr>\n",
       "    <tr>\n",
       "      <th>2</th>\n",
       "      <td>Computer Science ( Data Science ) - MSc</td>\n",
       "      <td>Trinity College Dublin</td>\n",
       "      <td>School Computer Science &amp; Statistics</td>\n",
       "      <td>Full time</td>\n",
       "      <td>MSc Computer Science exciting one-calendar-yea...</td>\n",
       "      <td>September</td>\n",
       "      <td>Please see university website information fees...</td>\n",
       "      <td>MSc</td>\n",
       "      <td>1 year full-time</td>\n",
       "      <td>Dublin</td>\n",
       "      <td>Ireland</td>\n",
       "      <td>Campus</td>\n",
       "      <td>https : //www.findamasters.com/masters-degrees...</td>\n",
       "    </tr>\n",
       "    <tr>\n",
       "      <th>3</th>\n",
       "      <td>Computer Science ( Research ) - MSc</td>\n",
       "      <td>Lancaster University</td>\n",
       "      <td>School Computing Communications</td>\n",
       "      <td>Full time</td>\n",
       "      <td>MSc Research programme tailored individual res...</td>\n",
       "      <td>See Course</td>\n",
       "      <td>Please see university website information fees...</td>\n",
       "      <td>MSc</td>\n",
       "      <td>12 months full-time , 24 months part time</td>\n",
       "      <td>Lancaster</td>\n",
       "      <td>United Kingdom</td>\n",
       "      <td>Campus</td>\n",
       "      <td>https : //www.findamasters.com/masters-degrees...</td>\n",
       "    </tr>\n",
       "    <tr>\n",
       "      <th>4</th>\n",
       "      <td>Computer Science ( Computer Networks Security ...</td>\n",
       "      <td>Staffordshire University</td>\n",
       "      <td>School Digital , Technologies Arts</td>\n",
       "      <td>Full time</td>\n",
       "      <td>Secure future career Computer Science ( Comput...</td>\n",
       "      <td>September</td>\n",
       "      <td>Find specific fees chosen programme website</td>\n",
       "      <td>MSc</td>\n",
       "      <td>13 months - 25 months</td>\n",
       "      <td>Stoke Trent</td>\n",
       "      <td>United Kingdom</td>\n",
       "      <td>Campus</td>\n",
       "      <td>https : //www.findamasters.com/masters-degrees...</td>\n",
       "    </tr>\n",
       "  </tbody>\n",
       "</table>\n",
       "</div>"
      ],
      "text/plain": [
       "                                          courseName  \\\n",
       "0                             Computer Science - MSc   \n",
       "1          Computer Science ( Cyber Security ) - MSc   \n",
       "2            Computer Science ( Data Science ) - MSc   \n",
       "3                Computer Science ( Research ) - MSc   \n",
       "4  Computer Science ( Computer Networks Security ...   \n",
       "\n",
       "             universityName                                    facultyName  \\\n",
       "0  University Hertfordshire  School Physics , Engineering Computer Science   \n",
       "1  Staffordshire University             School Digital , Technologies Arts   \n",
       "2    Trinity College Dublin           School Computer Science & Statistics   \n",
       "3      Lancaster University                School Computing Communications   \n",
       "4  Staffordshire University             School Digital , Technologies Arts   \n",
       "\n",
       "  isItFullTime                                        description   startDate  \\\n",
       "0    Full time  choose Herts ? Industry Accreditation : Accred...  See Course   \n",
       "1    Full time  Join fight malicious programs cybercrime Compu...   September   \n",
       "2    Full time  MSc Computer Science exciting one-calendar-yea...   September   \n",
       "3    Full time  MSc Research programme tailored individual res...  See Course   \n",
       "4    Full time  Secure future career Computer Science ( Comput...   September   \n",
       "\n",
       "                                                fees modality  \\\n",
       "0  UK Students Full time : £9450 2022/2023 academ...      MSc   \n",
       "1        Find specific fees chosen programme website      MSc   \n",
       "2  Please see university website information fees...      MSc   \n",
       "3  Please see university website information fees...      MSc   \n",
       "4        Find specific fees chosen programme website      MSc   \n",
       "\n",
       "                                            duration         city  \\\n",
       "0  1 year full-time , 15 months full-time , 3 yea...     Hatfield   \n",
       "1                              13 months - 25 months  Stoke Trent   \n",
       "2                                   1 year full-time       Dublin   \n",
       "3          12 months full-time , 24 months part time    Lancaster   \n",
       "4                              13 months - 25 months  Stoke Trent   \n",
       "\n",
       "          country administration  \\\n",
       "0  United Kingdom         Campus   \n",
       "1  United Kingdom         Campus   \n",
       "2         Ireland         Campus   \n",
       "3  United Kingdom         Campus   \n",
       "4  United Kingdom         Campus   \n",
       "\n",
       "                                                 url  \n",
       "0  https : //www.findamasters.com/masters-degrees...  \n",
       "1  https : //www.findamasters.com/masters-degrees...  \n",
       "2  https : //www.findamasters.com/masters-degrees...  \n",
       "3  https : //www.findamasters.com/masters-degrees...  \n",
       "4  https : //www.findamasters.com/masters-degrees...  "
      ]
     },
     "execution_count": 31,
     "metadata": {},
     "output_type": "execute_result"
    }
   ],
   "source": [
    "df_preprocessed = df.applymap(stopless)\n",
    "df_preprocessed.head()"
   ]
  },
  {
   "cell_type": "markdown",
   "metadata": {},
   "source": [
    "Now, we need to remove punctuation:"
   ]
  },
  {
   "cell_type": "code",
   "execution_count": 32,
   "metadata": {},
   "outputs": [],
   "source": [
    "def punct(text):\n",
    "    # Checking if the instance is string, there were some problems with int/float values\n",
    "    if isinstance(text, str):\n",
    "        words = word_tokenize(text)\n",
    "        filtered_words = [\n",
    "            word for word in words if word.lower() not in string.punctuation\n",
    "        ]\n",
    "        return \" \".join(filtered_words)\n",
    "    else:\n",
    "        return text"
   ]
  },
  {
   "cell_type": "code",
   "execution_count": 33,
   "metadata": {},
   "outputs": [
    {
     "data": {
      "text/html": [
       "<div>\n",
       "<style scoped>\n",
       "    .dataframe tbody tr th:only-of-type {\n",
       "        vertical-align: middle;\n",
       "    }\n",
       "\n",
       "    .dataframe tbody tr th {\n",
       "        vertical-align: top;\n",
       "    }\n",
       "\n",
       "    .dataframe thead th {\n",
       "        text-align: right;\n",
       "    }\n",
       "</style>\n",
       "<table border=\"1\" class=\"dataframe\">\n",
       "  <thead>\n",
       "    <tr style=\"text-align: right;\">\n",
       "      <th></th>\n",
       "      <th>courseName</th>\n",
       "      <th>universityName</th>\n",
       "      <th>facultyName</th>\n",
       "      <th>isItFullTime</th>\n",
       "      <th>description</th>\n",
       "      <th>startDate</th>\n",
       "      <th>fees</th>\n",
       "      <th>modality</th>\n",
       "      <th>duration</th>\n",
       "      <th>city</th>\n",
       "      <th>country</th>\n",
       "      <th>administration</th>\n",
       "      <th>url</th>\n",
       "    </tr>\n",
       "  </thead>\n",
       "  <tbody>\n",
       "    <tr>\n",
       "      <th>0</th>\n",
       "      <td>Computer Science MSc</td>\n",
       "      <td>University Hertfordshire</td>\n",
       "      <td>School Physics Engineering Computer Science</td>\n",
       "      <td>Full time</td>\n",
       "      <td>choose Herts Industry Accreditation Accredited...</td>\n",
       "      <td>See Course</td>\n",
       "      <td>UK Students Full time £9450 2022/2023 academic...</td>\n",
       "      <td>MSc</td>\n",
       "      <td>1 year full-time 15 months full-time 3 years p...</td>\n",
       "      <td>Hatfield</td>\n",
       "      <td>United Kingdom</td>\n",
       "      <td>Campus</td>\n",
       "      <td>https //www.findamasters.com/masters-degrees/c...</td>\n",
       "    </tr>\n",
       "    <tr>\n",
       "      <th>1</th>\n",
       "      <td>Computer Science Cyber Security MSc</td>\n",
       "      <td>Staffordshire University</td>\n",
       "      <td>School Digital Technologies Arts</td>\n",
       "      <td>Full time</td>\n",
       "      <td>Join fight malicious programs cybercrime Compu...</td>\n",
       "      <td>September</td>\n",
       "      <td>Find specific fees chosen programme website</td>\n",
       "      <td>MSc</td>\n",
       "      <td>13 months 25 months</td>\n",
       "      <td>Stoke Trent</td>\n",
       "      <td>United Kingdom</td>\n",
       "      <td>Campus</td>\n",
       "      <td>https //www.findamasters.com/masters-degrees/c...</td>\n",
       "    </tr>\n",
       "    <tr>\n",
       "      <th>2</th>\n",
       "      <td>Computer Science Data Science MSc</td>\n",
       "      <td>Trinity College Dublin</td>\n",
       "      <td>School Computer Science Statistics</td>\n",
       "      <td>Full time</td>\n",
       "      <td>MSc Computer Science exciting one-calendar-yea...</td>\n",
       "      <td>September</td>\n",
       "      <td>Please see university website information fees...</td>\n",
       "      <td>MSc</td>\n",
       "      <td>1 year full-time</td>\n",
       "      <td>Dublin</td>\n",
       "      <td>Ireland</td>\n",
       "      <td>Campus</td>\n",
       "      <td>https //www.findamasters.com/masters-degrees/c...</td>\n",
       "    </tr>\n",
       "    <tr>\n",
       "      <th>3</th>\n",
       "      <td>Computer Science Research MSc</td>\n",
       "      <td>Lancaster University</td>\n",
       "      <td>School Computing Communications</td>\n",
       "      <td>Full time</td>\n",
       "      <td>MSc Research programme tailored individual res...</td>\n",
       "      <td>See Course</td>\n",
       "      <td>Please see university website information fees...</td>\n",
       "      <td>MSc</td>\n",
       "      <td>12 months full-time 24 months part time</td>\n",
       "      <td>Lancaster</td>\n",
       "      <td>United Kingdom</td>\n",
       "      <td>Campus</td>\n",
       "      <td>https //www.findamasters.com/masters-degrees/c...</td>\n",
       "    </tr>\n",
       "    <tr>\n",
       "      <th>4</th>\n",
       "      <td>Computer Science Computer Networks Security MSc</td>\n",
       "      <td>Staffordshire University</td>\n",
       "      <td>School Digital Technologies Arts</td>\n",
       "      <td>Full time</td>\n",
       "      <td>Secure future career Computer Science Computer...</td>\n",
       "      <td>September</td>\n",
       "      <td>Find specific fees chosen programme website</td>\n",
       "      <td>MSc</td>\n",
       "      <td>13 months 25 months</td>\n",
       "      <td>Stoke Trent</td>\n",
       "      <td>United Kingdom</td>\n",
       "      <td>Campus</td>\n",
       "      <td>https //www.findamasters.com/masters-degrees/c...</td>\n",
       "    </tr>\n",
       "  </tbody>\n",
       "</table>\n",
       "</div>"
      ],
      "text/plain": [
       "                                        courseName            universityName  \\\n",
       "0                             Computer Science MSc  University Hertfordshire   \n",
       "1              Computer Science Cyber Security MSc  Staffordshire University   \n",
       "2                Computer Science Data Science MSc    Trinity College Dublin   \n",
       "3                    Computer Science Research MSc      Lancaster University   \n",
       "4  Computer Science Computer Networks Security MSc  Staffordshire University   \n",
       "\n",
       "                                   facultyName isItFullTime  \\\n",
       "0  School Physics Engineering Computer Science    Full time   \n",
       "1             School Digital Technologies Arts    Full time   \n",
       "2           School Computer Science Statistics    Full time   \n",
       "3              School Computing Communications    Full time   \n",
       "4             School Digital Technologies Arts    Full time   \n",
       "\n",
       "                                         description   startDate  \\\n",
       "0  choose Herts Industry Accreditation Accredited...  See Course   \n",
       "1  Join fight malicious programs cybercrime Compu...   September   \n",
       "2  MSc Computer Science exciting one-calendar-yea...   September   \n",
       "3  MSc Research programme tailored individual res...  See Course   \n",
       "4  Secure future career Computer Science Computer...   September   \n",
       "\n",
       "                                                fees modality  \\\n",
       "0  UK Students Full time £9450 2022/2023 academic...      MSc   \n",
       "1        Find specific fees chosen programme website      MSc   \n",
       "2  Please see university website information fees...      MSc   \n",
       "3  Please see university website information fees...      MSc   \n",
       "4        Find specific fees chosen programme website      MSc   \n",
       "\n",
       "                                            duration         city  \\\n",
       "0  1 year full-time 15 months full-time 3 years p...     Hatfield   \n",
       "1                                13 months 25 months  Stoke Trent   \n",
       "2                                   1 year full-time       Dublin   \n",
       "3            12 months full-time 24 months part time    Lancaster   \n",
       "4                                13 months 25 months  Stoke Trent   \n",
       "\n",
       "          country administration  \\\n",
       "0  United Kingdom         Campus   \n",
       "1  United Kingdom         Campus   \n",
       "2         Ireland         Campus   \n",
       "3  United Kingdom         Campus   \n",
       "4  United Kingdom         Campus   \n",
       "\n",
       "                                                 url  \n",
       "0  https //www.findamasters.com/masters-degrees/c...  \n",
       "1  https //www.findamasters.com/masters-degrees/c...  \n",
       "2  https //www.findamasters.com/masters-degrees/c...  \n",
       "3  https //www.findamasters.com/masters-degrees/c...  \n",
       "4  https //www.findamasters.com/masters-degrees/c...  "
      ]
     },
     "execution_count": 33,
     "metadata": {},
     "output_type": "execute_result"
    }
   ],
   "source": [
    "df_preprocessed = df_preprocessed.applymap(punct)\n",
    "df_preprocessed.head()"
   ]
  },
  {
   "cell_type": "markdown",
   "metadata": {},
   "source": [
    "Finally, we need to apply stemming to the dataframe:"
   ]
  },
  {
   "cell_type": "code",
   "execution_count": 34,
   "metadata": {},
   "outputs": [],
   "source": [
    "def stem(text):\n",
    "    # Checking if the instance is string, there were some problems with int/float values\n",
    "    if isinstance(text, str):\n",
    "        ps = PorterStemmer()\n",
    "        words = word_tokenize(text)\n",
    "        stemmed_words = [ps.stem(word) for word in words]\n",
    "        return \" \".join(stemmed_words)\n",
    "    else:\n",
    "        return text"
   ]
  },
  {
   "cell_type": "code",
   "execution_count": 35,
   "metadata": {},
   "outputs": [
    {
     "data": {
      "text/html": [
       "<div>\n",
       "<style scoped>\n",
       "    .dataframe tbody tr th:only-of-type {\n",
       "        vertical-align: middle;\n",
       "    }\n",
       "\n",
       "    .dataframe tbody tr th {\n",
       "        vertical-align: top;\n",
       "    }\n",
       "\n",
       "    .dataframe thead th {\n",
       "        text-align: right;\n",
       "    }\n",
       "</style>\n",
       "<table border=\"1\" class=\"dataframe\">\n",
       "  <thead>\n",
       "    <tr style=\"text-align: right;\">\n",
       "      <th></th>\n",
       "      <th>courseName</th>\n",
       "      <th>universityName</th>\n",
       "      <th>facultyName</th>\n",
       "      <th>isItFullTime</th>\n",
       "      <th>description</th>\n",
       "      <th>startDate</th>\n",
       "      <th>fees</th>\n",
       "      <th>modality</th>\n",
       "      <th>duration</th>\n",
       "      <th>city</th>\n",
       "      <th>country</th>\n",
       "      <th>administration</th>\n",
       "      <th>url</th>\n",
       "    </tr>\n",
       "  </thead>\n",
       "  <tbody>\n",
       "    <tr>\n",
       "      <th>0</th>\n",
       "      <td>comput scienc msc</td>\n",
       "      <td>univers hertfordshir</td>\n",
       "      <td>school physic engin comput scienc</td>\n",
       "      <td>full time</td>\n",
       "      <td>choos hert industri accredit accredit british ...</td>\n",
       "      <td>see cours</td>\n",
       "      <td>uk student full time £9450 2022/2023 academ ye...</td>\n",
       "      <td>msc</td>\n",
       "      <td>1 year full-tim 15 month full-tim 3 year part-tim</td>\n",
       "      <td>hatfield</td>\n",
       "      <td>unit kingdom</td>\n",
       "      <td>campu</td>\n",
       "      <td>http //www.findamasters.com/masters-degrees/co...</td>\n",
       "    </tr>\n",
       "    <tr>\n",
       "      <th>1</th>\n",
       "      <td>comput scienc cyber secur msc</td>\n",
       "      <td>staffordshir univers</td>\n",
       "      <td>school digit technolog art</td>\n",
       "      <td>full time</td>\n",
       "      <td>join fight malici program cybercrim comput sci...</td>\n",
       "      <td>septemb</td>\n",
       "      <td>find specif fee chosen programm websit</td>\n",
       "      <td>msc</td>\n",
       "      <td>13 month 25 month</td>\n",
       "      <td>stoke trent</td>\n",
       "      <td>unit kingdom</td>\n",
       "      <td>campu</td>\n",
       "      <td>http //www.findamasters.com/masters-degrees/co...</td>\n",
       "    </tr>\n",
       "    <tr>\n",
       "      <th>2</th>\n",
       "      <td>comput scienc data scienc msc</td>\n",
       "      <td>triniti colleg dublin</td>\n",
       "      <td>school comput scienc statist</td>\n",
       "      <td>full time</td>\n",
       "      <td>msc comput scienc excit one-calendar-year prog...</td>\n",
       "      <td>septemb</td>\n",
       "      <td>pleas see univers websit inform fee cours</td>\n",
       "      <td>msc</td>\n",
       "      <td>1 year full-tim</td>\n",
       "      <td>dublin</td>\n",
       "      <td>ireland</td>\n",
       "      <td>campu</td>\n",
       "      <td>http //www.findamasters.com/masters-degrees/co...</td>\n",
       "    </tr>\n",
       "    <tr>\n",
       "      <th>3</th>\n",
       "      <td>comput scienc research msc</td>\n",
       "      <td>lancast univers</td>\n",
       "      <td>school comput commun</td>\n",
       "      <td>full time</td>\n",
       "      <td>msc research programm tailor individu research...</td>\n",
       "      <td>see cours</td>\n",
       "      <td>pleas see univers websit inform fee cours</td>\n",
       "      <td>msc</td>\n",
       "      <td>12 month full-tim 24 month part time</td>\n",
       "      <td>lancast</td>\n",
       "      <td>unit kingdom</td>\n",
       "      <td>campu</td>\n",
       "      <td>http //www.findamasters.com/masters-degrees/co...</td>\n",
       "    </tr>\n",
       "    <tr>\n",
       "      <th>4</th>\n",
       "      <td>comput scienc comput network secur msc</td>\n",
       "      <td>staffordshir univers</td>\n",
       "      <td>school digit technolog art</td>\n",
       "      <td>full time</td>\n",
       "      <td>secur futur career comput scienc comput networ...</td>\n",
       "      <td>septemb</td>\n",
       "      <td>find specif fee chosen programm websit</td>\n",
       "      <td>msc</td>\n",
       "      <td>13 month 25 month</td>\n",
       "      <td>stoke trent</td>\n",
       "      <td>unit kingdom</td>\n",
       "      <td>campu</td>\n",
       "      <td>http //www.findamasters.com/masters-degrees/co...</td>\n",
       "    </tr>\n",
       "  </tbody>\n",
       "</table>\n",
       "</div>"
      ],
      "text/plain": [
       "                               courseName         universityName  \\\n",
       "0                       comput scienc msc   univers hertfordshir   \n",
       "1           comput scienc cyber secur msc   staffordshir univers   \n",
       "2           comput scienc data scienc msc  triniti colleg dublin   \n",
       "3              comput scienc research msc        lancast univers   \n",
       "4  comput scienc comput network secur msc   staffordshir univers   \n",
       "\n",
       "                         facultyName isItFullTime  \\\n",
       "0  school physic engin comput scienc    full time   \n",
       "1         school digit technolog art    full time   \n",
       "2       school comput scienc statist    full time   \n",
       "3               school comput commun    full time   \n",
       "4         school digit technolog art    full time   \n",
       "\n",
       "                                         description  startDate  \\\n",
       "0  choos hert industri accredit accredit british ...  see cours   \n",
       "1  join fight malici program cybercrim comput sci...    septemb   \n",
       "2  msc comput scienc excit one-calendar-year prog...    septemb   \n",
       "3  msc research programm tailor individu research...  see cours   \n",
       "4  secur futur career comput scienc comput networ...    septemb   \n",
       "\n",
       "                                                fees modality  \\\n",
       "0  uk student full time £9450 2022/2023 academ ye...      msc   \n",
       "1             find specif fee chosen programm websit      msc   \n",
       "2          pleas see univers websit inform fee cours      msc   \n",
       "3          pleas see univers websit inform fee cours      msc   \n",
       "4             find specif fee chosen programm websit      msc   \n",
       "\n",
       "                                            duration         city  \\\n",
       "0  1 year full-tim 15 month full-tim 3 year part-tim     hatfield   \n",
       "1                                  13 month 25 month  stoke trent   \n",
       "2                                    1 year full-tim       dublin   \n",
       "3               12 month full-tim 24 month part time      lancast   \n",
       "4                                  13 month 25 month  stoke trent   \n",
       "\n",
       "        country administration  \\\n",
       "0  unit kingdom          campu   \n",
       "1  unit kingdom          campu   \n",
       "2       ireland          campu   \n",
       "3  unit kingdom          campu   \n",
       "4  unit kingdom          campu   \n",
       "\n",
       "                                                 url  \n",
       "0  http //www.findamasters.com/masters-degrees/co...  \n",
       "1  http //www.findamasters.com/masters-degrees/co...  \n",
       "2  http //www.findamasters.com/masters-degrees/co...  \n",
       "3  http //www.findamasters.com/masters-degrees/co...  \n",
       "4  http //www.findamasters.com/masters-degrees/co...  "
      ]
     },
     "execution_count": 35,
     "metadata": {},
     "output_type": "execute_result"
    }
   ],
   "source": [
    "df_preprocessed = df_preprocessed.applymap(stem)\n",
    "df_preprocessed.head()"
   ]
  },
  {
   "cell_type": "markdown",
   "metadata": {},
   "source": [
    "### 0.1. Preprocessing fees column"
   ]
  },
  {
   "cell_type": "markdown",
   "metadata": {},
   "source": [
    "Preprocessing fees will be done by taking currency from huge regex as a second value in array, and amount as the first value. Finally, it will all be converted to euro."
   ]
  },
  {
   "cell_type": "code",
   "execution_count": 36,
   "metadata": {},
   "outputs": [],
   "source": [
    "# Function that will take in a string fee and return just the numeric part of it as a float\n",
    "def convert_to_numeric(value):\n",
    "    # Removing currency symbols, commas, and spaces\n",
    "    value = re.sub(r\"eur|sek|chf|gbp|rmb|jpy|qr|[£€]|,|\\s\", \"\", value)\n",
    "    return float(value)\n",
    "\n",
    "\n",
    "def find_fees(text):\n",
    "    if isinstance(text, str):\n",
    "        # Removing patterns that contain years from the text ex. 2022/2023 so that our regex doesn't recognize it as a part of the fee\n",
    "        text = re.sub(r\"\\b\\d{4}/\\d{4}\\b|\\b\\d{4}/\\d{2}\\b\", \"\", text)\n",
    "\n",
    "        # Regular expression pattern for currency values to give us pattern\n",
    "        currency_pattern = r\"((eur|sek|chf|gbp|rmb|jpy|qr|[£€])\\s?\\d+(?:[.,\\s]\\d{3})*(?:[.,]\\d{2})?|\\d+(?:[.,\\s]\\d{3})*(?:[.,]\\d{2})?\\s?(eur|sek|chf|gbp|rmb|jpy|qr|[£€]))\"\n",
    "        matches = re.findall(currency_pattern, text)\n",
    "\n",
    "        # Exchange rates\n",
    "        exchange_rates = {\n",
    "            \"SEK\": 0.08588,\n",
    "            \"GBP\": 1.1443,\n",
    "            \"CHF\": 1.03708,\n",
    "            \"JPY\": 0.00618,\n",
    "            \"QR\": 0.25672,\n",
    "            \"RMB\": 0.12892,\n",
    "        }\n",
    "\n",
    "        # Converting to euros and calculating values\n",
    "        numeric_values = []\n",
    "        for value in matches:\n",
    "            value_numeric = convert_to_numeric(value[0])\n",
    "            currency = value[1].upper()\n",
    "            numeric_values.append(value_numeric * exchange_rates.get(currency, 1))\n",
    "\n",
    "        # Returning the maximum value or None if no values\n",
    "        return max(numeric_values) if numeric_values else None\n",
    "    else:\n",
    "        return text"
   ]
  },
  {
   "cell_type": "code",
   "execution_count": 37,
   "metadata": {},
   "outputs": [
    {
     "data": {
      "text/html": [
       "<div>\n",
       "<style scoped>\n",
       "    .dataframe tbody tr th:only-of-type {\n",
       "        vertical-align: middle;\n",
       "    }\n",
       "\n",
       "    .dataframe tbody tr th {\n",
       "        vertical-align: top;\n",
       "    }\n",
       "\n",
       "    .dataframe thead th {\n",
       "        text-align: right;\n",
       "    }\n",
       "</style>\n",
       "<table border=\"1\" class=\"dataframe\">\n",
       "  <thead>\n",
       "    <tr style=\"text-align: right;\">\n",
       "      <th></th>\n",
       "      <th>courseName</th>\n",
       "      <th>universityName</th>\n",
       "      <th>facultyName</th>\n",
       "      <th>isItFullTime</th>\n",
       "      <th>description</th>\n",
       "      <th>startDate</th>\n",
       "      <th>fees (euro)</th>\n",
       "      <th>modality</th>\n",
       "      <th>duration</th>\n",
       "      <th>city</th>\n",
       "      <th>country</th>\n",
       "      <th>administration</th>\n",
       "      <th>url</th>\n",
       "    </tr>\n",
       "  </thead>\n",
       "  <tbody>\n",
       "    <tr>\n",
       "      <th>0</th>\n",
       "      <td>comput scienc msc</td>\n",
       "      <td>univers hertfordshir</td>\n",
       "      <td>school physic engin comput scienc</td>\n",
       "      <td>full time</td>\n",
       "      <td>choos hert industri accredit accredit british ...</td>\n",
       "      <td>see cours</td>\n",
       "      <td>16500.0</td>\n",
       "      <td>msc</td>\n",
       "      <td>1 year full-tim 15 month full-tim 3 year part-tim</td>\n",
       "      <td>hatfield</td>\n",
       "      <td>unit kingdom</td>\n",
       "      <td>campu</td>\n",
       "      <td>http //www.findamasters.com/masters-degrees/co...</td>\n",
       "    </tr>\n",
       "    <tr>\n",
       "      <th>29</th>\n",
       "      <td>clinic cognit neurosci msc</td>\n",
       "      <td>sheffield hallam univers</td>\n",
       "      <td>postgradu cours</td>\n",
       "      <td>full time</td>\n",
       "      <td>develop broad rang practic skill essenti work ...</td>\n",
       "      <td>septemb</td>\n",
       "      <td>10310.0</td>\n",
       "      <td>msc</td>\n",
       "      <td>1 year full-tim 2 year part-tim</td>\n",
       "      <td>sheffield</td>\n",
       "      <td>unit kingdom</td>\n",
       "      <td>campu</td>\n",
       "      <td>http //www.findamasters.com/masters-degrees/co...</td>\n",
       "    </tr>\n",
       "    <tr>\n",
       "      <th>49</th>\n",
       "      <td>fashion forecast data analysi ma/msc</td>\n",
       "      <td>univers creativ art</td>\n",
       "      <td>busi school creativ industri</td>\n",
       "      <td>full time</td>\n",
       "      <td>uca 's new msc degre fashion forecast data ana...</td>\n",
       "      <td>septemb</td>\n",
       "      <td>10500.0</td>\n",
       "      <td>msc</td>\n",
       "      <td>1 year full time</td>\n",
       "      <td>farnham</td>\n",
       "      <td>unit kingdom</td>\n",
       "      <td>campu</td>\n",
       "      <td>http //www.findamasters.com/masters-degrees/co...</td>\n",
       "    </tr>\n",
       "    <tr>\n",
       "      <th>50</th>\n",
       "      <td>facad engin msc</td>\n",
       "      <td>univers west england bristol</td>\n",
       "      <td>depart architectur built environ</td>\n",
       "      <td>full time</td>\n",
       "      <td>façad engin disciplin right large-scal commerc...</td>\n",
       "      <td>septemb</td>\n",
       "      <td>11500.0</td>\n",
       "      <td>msc</td>\n",
       "      <td>1 year full time 2 year part time</td>\n",
       "      <td>bristol</td>\n",
       "      <td>unit kingdom</td>\n",
       "      <td>campu</td>\n",
       "      <td>http //www.findamasters.com/masters-degrees/co...</td>\n",
       "    </tr>\n",
       "    <tr>\n",
       "      <th>51</th>\n",
       "      <td>fashion tech special master</td>\n",
       "      <td>poli.design società consortil responsabilità l...</td>\n",
       "      <td>postgradu cours</td>\n",
       "      <td>full time</td>\n",
       "      <td>fashion tech design decis role fashion lifesty...</td>\n",
       "      <td>april</td>\n",
       "      <td>11000.0</td>\n",
       "      <td>msc</td>\n",
       "      <td>13 month</td>\n",
       "      <td>milan</td>\n",
       "      <td>itali</td>\n",
       "      <td>campu</td>\n",
       "      <td>http //www.findamasters.com/masters-degrees/co...</td>\n",
       "    </tr>\n",
       "  </tbody>\n",
       "</table>\n",
       "</div>"
      ],
      "text/plain": [
       "                              courseName  \\\n",
       "0                      comput scienc msc   \n",
       "29            clinic cognit neurosci msc   \n",
       "49  fashion forecast data analysi ma/msc   \n",
       "50                       facad engin msc   \n",
       "51           fashion tech special master   \n",
       "\n",
       "                                       universityName  \\\n",
       "0                                univers hertfordshir   \n",
       "29                           sheffield hallam univers   \n",
       "49                                univers creativ art   \n",
       "50                       univers west england bristol   \n",
       "51  poli.design società consortil responsabilità l...   \n",
       "\n",
       "                          facultyName isItFullTime  \\\n",
       "0   school physic engin comput scienc    full time   \n",
       "29                    postgradu cours    full time   \n",
       "49       busi school creativ industri    full time   \n",
       "50   depart architectur built environ    full time   \n",
       "51                    postgradu cours    full time   \n",
       "\n",
       "                                          description  startDate  fees (euro)  \\\n",
       "0   choos hert industri accredit accredit british ...  see cours      16500.0   \n",
       "29  develop broad rang practic skill essenti work ...    septemb      10310.0   \n",
       "49  uca 's new msc degre fashion forecast data ana...    septemb      10500.0   \n",
       "50  façad engin disciplin right large-scal commerc...    septemb      11500.0   \n",
       "51  fashion tech design decis role fashion lifesty...      april      11000.0   \n",
       "\n",
       "   modality                                           duration       city  \\\n",
       "0       msc  1 year full-tim 15 month full-tim 3 year part-tim   hatfield   \n",
       "29      msc                    1 year full-tim 2 year part-tim  sheffield   \n",
       "49      msc                                   1 year full time    farnham   \n",
       "50      msc                  1 year full time 2 year part time    bristol   \n",
       "51      msc                                           13 month      milan   \n",
       "\n",
       "         country administration  \\\n",
       "0   unit kingdom          campu   \n",
       "29  unit kingdom          campu   \n",
       "49  unit kingdom          campu   \n",
       "50  unit kingdom          campu   \n",
       "51         itali          campu   \n",
       "\n",
       "                                                  url  \n",
       "0   http //www.findamasters.com/masters-degrees/co...  \n",
       "29  http //www.findamasters.com/masters-degrees/co...  \n",
       "49  http //www.findamasters.com/masters-degrees/co...  \n",
       "50  http //www.findamasters.com/masters-degrees/co...  \n",
       "51  http //www.findamasters.com/masters-degrees/co...  "
      ]
     },
     "execution_count": 37,
     "metadata": {},
     "output_type": "execute_result"
    }
   ],
   "source": [
    "# Applying the function to the dataframe\n",
    "df_preprocessed[\"fees\"] = df_preprocessed[\"fees\"].apply(find_fees)\n",
    "df_preprocessed.rename(columns={\"fees\": \"fees (euro)\"}, inplace=True)\n",
    "df_preprocessed[df_preprocessed[\"fees (euro)\"].notna()].head()"
   ]
  },
  {
   "cell_type": "markdown",
   "metadata": {},
   "source": [
    "### 1.1. Create your index!"
   ]
  },
  {
   "cell_type": "markdown",
   "metadata": {},
   "source": [
    "#### **Vocabulary**"
   ]
  },
  {
   "cell_type": "markdown",
   "metadata": {},
   "source": [
    "Vocabulary will be made firstly by containing all the words in an array, then it will be stored in a Counter. Finally, the vocabulary dictionary will contain word as a key, and index as a value starting from 1 and going to the total number of unique words."
   ]
  },
  {
   "cell_type": "code",
   "execution_count": 38,
   "metadata": {},
   "outputs": [],
   "source": [
    "def vocabulary_df(df):\n",
    "    # Take only strings and put them into an array with all the words\n",
    "    all_words = [\n",
    "        word\n",
    "        for description in df[\"description\"]\n",
    "        if isinstance(description, str)\n",
    "        for word in description.split()\n",
    "    ]\n",
    "    # Counting the words, making it like a set with counter\n",
    "    word_counts = Counter(all_words)\n",
    "\n",
    "    # Assign a unique ID to each word\n",
    "    vocabulary = {\n",
    "        word: idx for idx, (word, count) in enumerate(word_counts.items(), start=1)\n",
    "    }\n",
    "    return vocabulary"
   ]
  },
  {
   "cell_type": "code",
   "execution_count": 39,
   "metadata": {},
   "outputs": [],
   "source": [
    "vocabulary = vocabulary_df(df_preprocessed)"
   ]
  },
  {
   "cell_type": "markdown",
   "metadata": {},
   "source": [
    "#### **Inverted index**"
   ]
  },
  {
   "cell_type": "markdown",
   "metadata": {},
   "source": [
    "The inverted index needs to be a dictionary in this format:\n",
    "\n",
    "```\n",
    "{\n",
    "term_id_1:[document_1, document_2, document_4],\n",
    "term_id_2:[document_1, document_3, document_5, document_6],\n",
    "...}\n",
    "```\n",
    "where _document\\_i_ is the *id* of a document that contains that specific word. We will create that by spliting each word in description and check it in vocabulary dictionary its id. Afterwards, for each word we will append that document."
   ]
  },
  {
   "cell_type": "code",
   "execution_count": 40,
   "metadata": {},
   "outputs": [],
   "source": [
    "def inverted_index_vocabulary(df, vocabulary):\n",
    "    inverted_index = {vocabulary[word]: [] for word in vocabulary}\n",
    "\n",
    "    # Populating the inverted index, processing only string descriptions\n",
    "    for doc_id, description in enumerate(df[\"description\"], start=1):\n",
    "        if isinstance(description, str):\n",
    "            words = set(description.split())  # to avoid duplicate entries\n",
    "            for word in words:\n",
    "                if word in vocabulary:\n",
    "                    inverted_index[vocabulary[word]].append(doc_id)\n",
    "\n",
    "    return inverted_index"
   ]
  },
  {
   "cell_type": "code",
   "execution_count": 41,
   "metadata": {},
   "outputs": [],
   "source": [
    "inverted_index = inverted_index_vocabulary(df_preprocessed, vocabulary)"
   ]
  },
  {
   "cell_type": "code",
   "execution_count": 42,
   "metadata": {},
   "outputs": [],
   "source": [
    "# Writing vocabulary and inverted_index into json for easier loading later on\n",
    "with open(\"vocabulary.json\", \"w\") as vocab_file:\n",
    "    json.dump(vocabulary, vocab_file)\n",
    "\n",
    "with open(\"inverted_index.json\", \"w\") as index_file:\n",
    "    json.dump(inverted_index, index_file)"
   ]
  },
  {
   "cell_type": "markdown",
   "metadata": {},
   "source": [
    "### 1.2. Execute the query"
   ]
  },
  {
   "cell_type": "code",
   "execution_count": 43,
   "metadata": {},
   "outputs": [],
   "source": [
    "# Loading files\n",
    "with open(\"vocabulary.json\", \"r\") as vocab_file:\n",
    "    vocabulary = json.load(vocab_file)\n",
    "\n",
    "with open(\"inverted_index.json\", \"r\") as index_file:\n",
    "    inverted_index = json.load(index_file)"
   ]
  },
  {
   "cell_type": "markdown",
   "metadata": {},
   "source": [
    "Extracting ids of the words in the query:"
   ]
  },
  {
   "cell_type": "code",
   "execution_count": 44,
   "metadata": {},
   "outputs": [],
   "source": [
    "def process_query(query):\n",
    "    query_terms = query.split()\n",
    "    query_term_ids = [\n",
    "        vocabulary.get(term) for term in query_terms if term in vocabulary\n",
    "    ]\n",
    "    return query_term_ids"
   ]
  },
  {
   "cell_type": "markdown",
   "metadata": {},
   "source": [
    "Using these ids to find all the documents containing all the words in the query:"
   ]
  },
  {
   "cell_type": "code",
   "execution_count": 45,
   "metadata": {},
   "outputs": [],
   "source": [
    "def search_documents(query_term_ids):\n",
    "    # Retrieve document lists for each term in the query\n",
    "    document_lists = [\n",
    "        inverted_index.get(str(term_id), []) for term_id in query_term_ids\n",
    "    ]\n",
    "\n",
    "    # Find the intersection of these lists\n",
    "    if document_lists:\n",
    "        common_documents = set(document_lists[0]).intersection(*document_lists[1:])\n",
    "        return sorted(common_documents)\n",
    "    else:\n",
    "        return []"
   ]
  },
  {
   "cell_type": "code",
   "execution_count": 46,
   "metadata": {},
   "outputs": [],
   "source": [
    "def query_execution(query):\n",
    "    # Query needs to be preprocessed to match the same wording as in datafrane\n",
    "    query_preprocess = stem(punct(stopless(query)))\n",
    "    # Processing the query\n",
    "    query_term_ids = process_query(query_preprocess)\n",
    "    # Searching for documents\n",
    "    matching_doc_ids = search_documents(query_term_ids)\n",
    "    # Retrieving and displaying information\n",
    "    if matching_doc_ids:\n",
    "        return df.loc[\n",
    "            list(matching_doc_ids),\n",
    "            [\"courseName\", \"universityName\", \"description\", \"url\"],\n",
    "        ]\n",
    "    else:\n",
    "        print(\"No matching documents found.\")\n",
    "        return None"
   ]
  },
  {
   "cell_type": "code",
   "execution_count": 47,
   "metadata": {},
   "outputs": [
    {
     "data": {
      "text/html": [
       "<div>\n",
       "<style scoped>\n",
       "    .dataframe tbody tr th:only-of-type {\n",
       "        vertical-align: middle;\n",
       "    }\n",
       "\n",
       "    .dataframe tbody tr th {\n",
       "        vertical-align: top;\n",
       "    }\n",
       "\n",
       "    .dataframe thead th {\n",
       "        text-align: right;\n",
       "    }\n",
       "</style>\n",
       "<table border=\"1\" class=\"dataframe\">\n",
       "  <thead>\n",
       "    <tr style=\"text-align: right;\">\n",
       "      <th></th>\n",
       "      <th>courseName</th>\n",
       "      <th>universityName</th>\n",
       "      <th>description</th>\n",
       "      <th>url</th>\n",
       "    </tr>\n",
       "  </thead>\n",
       "  <tbody>\n",
       "    <tr>\n",
       "      <th>2</th>\n",
       "      <td>Computer Science (Data Science) - MSc</td>\n",
       "      <td>Trinity College Dublin</td>\n",
       "      <td>The MSc in Computer Science is an exciting one...</td>\n",
       "      <td>https://www.findamasters.com/masters-degrees/c...</td>\n",
       "    </tr>\n",
       "    <tr>\n",
       "      <th>633</th>\n",
       "      <td>MSc in Healthcare Leadership</td>\n",
       "      <td>University of Hull</td>\n",
       "      <td>Start date: January 2024Study healthcare leade...</td>\n",
       "      <td>https://www.findamasters.com/masters-degrees/c...</td>\n",
       "    </tr>\n",
       "    <tr>\n",
       "      <th>714</th>\n",
       "      <td>Marketing - MSc</td>\n",
       "      <td>Cardiff University</td>\n",
       "      <td>Why study this courseBring your interests and ...</td>\n",
       "      <td>https://www.findamasters.com/masters-degrees/c...</td>\n",
       "    </tr>\n",
       "    <tr>\n",
       "      <th>723</th>\n",
       "      <td>Cybercrime, Terrorism and Security</td>\n",
       "      <td>University of Portsmouth</td>\n",
       "      <td>This course is still being set up. For more in...</td>\n",
       "      <td>https://www.findamasters.com/masters-degrees/c...</td>\n",
       "    </tr>\n",
       "    <tr>\n",
       "      <th>730</th>\n",
       "      <td>Cybercrime and Digital Investigation MSc</td>\n",
       "      <td>Middlesex University</td>\n",
       "      <td>As our lives become increasingly digitised the...</td>\n",
       "      <td>https://www.findamasters.com/masters-degrees/c...</td>\n",
       "    </tr>\n",
       "    <tr>\n",
       "      <th>732</th>\n",
       "      <td>Cyberphysical Systems 2 year MSc</td>\n",
       "      <td>University of Nottingham</td>\n",
       "      <td>Cyber physical systems integrate computation w...</td>\n",
       "      <td>https://www.findamasters.com/masters-degrees/c...</td>\n",
       "    </tr>\n",
       "    <tr>\n",
       "      <th>1056</th>\n",
       "      <td>Advanced Computer Science with Data Science</td>\n",
       "      <td>University of Strathclyde</td>\n",
       "      <td>Our MSc Advanced Computer Science with Data Sc...</td>\n",
       "      <td>https://www.findamasters.com/masters-degrees/c...</td>\n",
       "    </tr>\n",
       "    <tr>\n",
       "      <th>1058</th>\n",
       "      <td>Advanced Computing - MSc</td>\n",
       "      <td>Imperial College London</td>\n",
       "      <td>This course is aimed at students who have a su...</td>\n",
       "      <td>https://www.findamasters.com/masters-degrees/c...</td>\n",
       "    </tr>\n",
       "    <tr>\n",
       "      <th>1097</th>\n",
       "      <td>MSc Criminology and Criminal Psychology</td>\n",
       "      <td>University of Essex Online</td>\n",
       "      <td>Start Date: September, OctoberDevelop your ski...</td>\n",
       "      <td>https://www.findamasters.com/masters-degrees/c...</td>\n",
       "    </tr>\n",
       "    <tr>\n",
       "      <th>1102</th>\n",
       "      <td>MSc Data Science</td>\n",
       "      <td>University of Essex Online</td>\n",
       "      <td>Start Date: OctoberUse the power of data to ma...</td>\n",
       "      <td>https://www.findamasters.com/masters-degrees/c...</td>\n",
       "    </tr>\n",
       "  </tbody>\n",
       "</table>\n",
       "</div>"
      ],
      "text/plain": [
       "                                       courseName              universityName  \\\n",
       "2           Computer Science (Data Science) - MSc      Trinity College Dublin   \n",
       "633                  MSc in Healthcare Leadership          University of Hull   \n",
       "714                               Marketing - MSc          Cardiff University   \n",
       "723            Cybercrime, Terrorism and Security    University of Portsmouth   \n",
       "730      Cybercrime and Digital Investigation MSc        Middlesex University   \n",
       "732              Cyberphysical Systems 2 year MSc    University of Nottingham   \n",
       "1056  Advanced Computer Science with Data Science   University of Strathclyde   \n",
       "1058                     Advanced Computing - MSc     Imperial College London   \n",
       "1097      MSc Criminology and Criminal Psychology  University of Essex Online   \n",
       "1102                             MSc Data Science  University of Essex Online   \n",
       "\n",
       "                                            description  \\\n",
       "2     The MSc in Computer Science is an exciting one...   \n",
       "633   Start date: January 2024Study healthcare leade...   \n",
       "714   Why study this courseBring your interests and ...   \n",
       "723   This course is still being set up. For more in...   \n",
       "730   As our lives become increasingly digitised the...   \n",
       "732   Cyber physical systems integrate computation w...   \n",
       "1056  Our MSc Advanced Computer Science with Data Sc...   \n",
       "1058  This course is aimed at students who have a su...   \n",
       "1097  Start Date: September, OctoberDevelop your ski...   \n",
       "1102  Start Date: OctoberUse the power of data to ma...   \n",
       "\n",
       "                                                    url  \n",
       "2     https://www.findamasters.com/masters-degrees/c...  \n",
       "633   https://www.findamasters.com/masters-degrees/c...  \n",
       "714   https://www.findamasters.com/masters-degrees/c...  \n",
       "723   https://www.findamasters.com/masters-degrees/c...  \n",
       "730   https://www.findamasters.com/masters-degrees/c...  \n",
       "732   https://www.findamasters.com/masters-degrees/c...  \n",
       "1056  https://www.findamasters.com/masters-degrees/c...  \n",
       "1058  https://www.findamasters.com/masters-degrees/c...  \n",
       "1097  https://www.findamasters.com/masters-degrees/c...  \n",
       "1102  https://www.findamasters.com/masters-degrees/c...  "
      ]
     },
     "execution_count": 47,
     "metadata": {},
     "output_type": "execute_result"
    }
   ],
   "source": [
    "# Example query\n",
    "query = \"cyber security\"\n",
    "matching_doc_df = query_execution(query)\n",
    "matching_doc_df.head(10)"
   ]
  },
  {
   "cell_type": "markdown",
   "metadata": {},
   "source": [
    "Results are not the best regarding the `cyber security` query. We get results that contain that phrase, but are not relevant in cyber security area. Additional scoring should be made for better results."
   ]
  },
  {
   "cell_type": "markdown",
   "metadata": {},
   "source": [
    "### 2. Conjunctive query & Ranking score"
   ]
  },
  {
   "cell_type": "markdown",
   "metadata": {},
   "source": [
    "#### TF-IDF"
   ]
  },
  {
   "cell_type": "markdown",
   "metadata": {},
   "source": [
    "Now we need to to TF-IDF on the description column. The feature_index is also created using the vectorizer from TfidfVectorizer()"
   ]
  },
  {
   "cell_type": "code",
   "execution_count": 190,
   "metadata": {},
   "outputs": [],
   "source": [
    "vectorizer = TfidfVectorizer()\n",
    "tfidf_matrix = vectorizer.fit_transform(df_preprocessed[\"description\"])\n",
    "feature_index = vectorizer.vocabulary_"
   ]
  },
  {
   "cell_type": "code",
   "execution_count": 191,
   "metadata": {},
   "outputs": [
    {
     "name": "stdout",
     "output_type": "stream",
     "text": [
      "(5975, 10332)\n",
      "250334\n"
     ]
    }
   ],
   "source": [
    "print(tfidf_matrix.shape)  # This prints the dimensions of the matrix\n",
    "print(\n",
    "    tfidf_matrix.count_nonzero()\n",
    ")  # This prints the number of non-zero entries in the matrix"
   ]
  },
  {
   "cell_type": "code",
   "execution_count": 192,
   "metadata": {},
   "outputs": [],
   "source": [
    "def create_inverted_index_tfidf(df, vocabulary):\n",
    "    # Inverted index initialization\n",
    "    inverted_index = {vocabulary[word]: [] for word in vocabulary}\n",
    "    for doc_id, description in enumerate(df[\"description\"], start=1):\n",
    "        # Checking if it is a string\n",
    "        if isinstance(description, str):\n",
    "            words = set(description.split())\n",
    "            for word in words:\n",
    "                if word in vocabulary:\n",
    "                    term_id = vocabulary[word]\n",
    "                    idx = feature_index.get(word)\n",
    "                    # Appending the doc_id and tfidf score\n",
    "                    if idx is not None:\n",
    "                        score = tfidf_matrix[doc_id - 1, idx]\n",
    "                        inverted_index[term_id].append((doc_id, score))\n",
    "\n",
    "    return inverted_index\n",
    "\n",
    "\n",
    "inverted_index_tfidf = create_inverted_index_tfidf(df_preprocessed, vocabulary)"
   ]
  },
  {
   "cell_type": "markdown",
   "metadata": {},
   "source": [
    "For easier lookup from this point, tfidf inverted index is stored in a json file."
   ]
  },
  {
   "cell_type": "code",
   "execution_count": 193,
   "metadata": {},
   "outputs": [],
   "source": [
    "with open(\"tfidf_inverted_index.json\", \"w\") as index_file:\n",
    "    json.dump(inverted_index, index_file)"
   ]
  },
  {
   "cell_type": "markdown",
   "metadata": {},
   "source": [
    "#### Top-k Documents"
   ]
  },
  {
   "cell_type": "markdown",
   "metadata": {},
   "source": [
    "We now make a query, for our test case we will use `cyber security` to compare between first and second search engine."
   ]
  },
  {
   "cell_type": "code",
   "execution_count": 194,
   "metadata": {},
   "outputs": [],
   "source": [
    "query = \"cyber security\"\n",
    "# Same preprocessing tehniques done in the first part\n",
    "query = stem(punct(stopless(query)))\n",
    "query_tfidf = vectorizer.transform([query])"
   ]
  },
  {
   "cell_type": "code",
   "execution_count": 195,
   "metadata": {},
   "outputs": [],
   "source": [
    "def search_documents(query, inverted_index, vocabulary):\n",
    "    query_terms = query.split()\n",
    "    document_sets = [set() for _ in query_terms]\n",
    "\n",
    "    for i, term in enumerate(query_terms):\n",
    "        term_id = vocabulary.get(term)\n",
    "        if term_id in inverted_index:\n",
    "            document_sets[i] = {doc_id for doc_id, _ in inverted_index[term_id]}\n",
    "\n",
    "    # Find the intersection of documents that contain all query terms\n",
    "    common_documents = set.intersection(*document_sets)\n",
    "    return common_documents\n",
    "\n",
    "\n",
    "common_documents = search_documents(query, inverted_index_tfidf, vocabulary)"
   ]
  },
  {
   "cell_type": "code",
   "execution_count": 196,
   "metadata": {},
   "outputs": [
    {
     "data": {
      "text/plain": [
       "[(0.6819176336307734, 5733),\n",
       " (0.6805402250607042, 2136),\n",
       " (0.6027055254902225, 1652),\n",
       " (0.5051369557988403, 5731),\n",
       " (0.4824749224274846, 5723),\n",
       " (0.4626620685824835, 1654),\n",
       " (0.4622884214083627, 1655),\n",
       " (0.4606941772879776, 3834),\n",
       " (0.44619143708087056, 5734),\n",
       " (0.4454515896052471, 3832)]"
      ]
     },
     "execution_count": 196,
     "metadata": {},
     "output_type": "execute_result"
    }
   ],
   "source": [
    "def calculate_top_k_similarity(common_documents, query_tfidf, tfidf_matrix, k=10):\n",
    "    top_k_heap = []\n",
    "\n",
    "    for doc_id in common_documents:\n",
    "        doc_tfidf = tfidf_matrix[doc_id]\n",
    "        sim = cosine_similarity(doc_tfidf, query_tfidf)[0][0]\n",
    "        # Push if it is smaller than k, push the element and pop the smallest one in the other case so we have top k only\n",
    "        if len(top_k_heap) < k:\n",
    "            heapq.heappush(top_k_heap, (sim, doc_id))\n",
    "        else:\n",
    "            heapq.heappushpop(top_k_heap, (sim, doc_id))\n",
    "    # Sorting the top_k to have best score at the top\n",
    "    sorted_top_k = sorted(top_k_heap, key=lambda x: x[0], reverse=True)\n",
    "    return sorted_top_k\n",
    "\n",
    "\n",
    "k = 10\n",
    "top_k_documents = calculate_top_k_similarity(\n",
    "    common_documents, query_tfidf, tfidf_matrix, k\n",
    ")\n",
    "top_k_documents"
   ]
  },
  {
   "cell_type": "code",
   "execution_count": 197,
   "metadata": {},
   "outputs": [
    {
     "data": {
      "text/html": [
       "<div>\n",
       "<style scoped>\n",
       "    .dataframe tbody tr th:only-of-type {\n",
       "        vertical-align: middle;\n",
       "    }\n",
       "\n",
       "    .dataframe tbody tr th {\n",
       "        vertical-align: top;\n",
       "    }\n",
       "\n",
       "    .dataframe thead th {\n",
       "        text-align: right;\n",
       "    }\n",
       "</style>\n",
       "<table border=\"1\" class=\"dataframe\">\n",
       "  <thead>\n",
       "    <tr style=\"text-align: right;\">\n",
       "      <th></th>\n",
       "      <th>courseName</th>\n",
       "      <th>universityName</th>\n",
       "      <th>description</th>\n",
       "      <th>url</th>\n",
       "      <th>Similarity</th>\n",
       "    </tr>\n",
       "  </thead>\n",
       "  <tbody>\n",
       "    <tr>\n",
       "      <th>5733</th>\n",
       "      <td>Cyber Security MSc</td>\n",
       "      <td>City, University of London</td>\n",
       "      <td>Key informationWith the demand for graduates w...</td>\n",
       "      <td>https://www.findamasters.com/masters-degrees/c...</td>\n",
       "      <td>0.681918</td>\n",
       "    </tr>\n",
       "    <tr>\n",
       "      <th>2136</th>\n",
       "      <td>Applied Cyber Security - MSc</td>\n",
       "      <td>University of Suffolk</td>\n",
       "      <td>IntroductionA conversion course is a programme...</td>\n",
       "      <td>https://www.findamasters.com/masters-degrees/c...</td>\n",
       "      <td>0.680540</td>\n",
       "    </tr>\n",
       "    <tr>\n",
       "      <th>1652</th>\n",
       "      <td>Cyber Security (MSc)</td>\n",
       "      <td>University of Gloucestershire</td>\n",
       "      <td>This course is designed for those wishing to d...</td>\n",
       "      <td>https://www.findamasters.com/masters-degrees/c...</td>\n",
       "      <td>0.602706</td>\n",
       "    </tr>\n",
       "    <tr>\n",
       "      <th>5731</th>\n",
       "      <td>Cyber Security MSc</td>\n",
       "      <td>Buckinghamshire New University</td>\n",
       "      <td>Our MSc in Cyber Security will help you develo...</td>\n",
       "      <td>https://www.findamasters.com/masters-degrees/c...</td>\n",
       "      <td>0.505137</td>\n",
       "    </tr>\n",
       "    <tr>\n",
       "      <th>5723</th>\n",
       "      <td>Cyber Security MSc</td>\n",
       "      <td>King’s College London</td>\n",
       "      <td>The Cyber Security MSc course aims to provide ...</td>\n",
       "      <td>https://www.findamasters.com/masters-degrees/c...</td>\n",
       "      <td>0.482475</td>\n",
       "    </tr>\n",
       "    <tr>\n",
       "      <th>1654</th>\n",
       "      <td>Cyber Security and Data Analytics MSc</td>\n",
       "      <td>Loughborough University London</td>\n",
       "      <td>Our Cyber Security and Data Analytics MSc is a...</td>\n",
       "      <td>https://www.findamasters.com/masters-degrees/c...</td>\n",
       "      <td>0.462662</td>\n",
       "    </tr>\n",
       "    <tr>\n",
       "      <th>1655</th>\n",
       "      <td>Cyber Security (MSc)</td>\n",
       "      <td>Sheffield Hallam University</td>\n",
       "      <td>Develop your skills and academic knowledge in ...</td>\n",
       "      <td>https://www.findamasters.com/masters-degrees/c...</td>\n",
       "      <td>0.462288</td>\n",
       "    </tr>\n",
       "    <tr>\n",
       "      <th>3834</th>\n",
       "      <td>Cyber Security (Infrastructures Security) - MSc</td>\n",
       "      <td>University of Bristol</td>\n",
       "      <td>Digital technologies drive economic growth yet...</td>\n",
       "      <td>https://www.findamasters.com/masters-degrees/c...</td>\n",
       "      <td>0.460694</td>\n",
       "    </tr>\n",
       "    <tr>\n",
       "      <th>5734</th>\n",
       "      <td>Cyber Security MSc</td>\n",
       "      <td>Sabanci University</td>\n",
       "      <td>With a curriculum carefully designed to addres...</td>\n",
       "      <td>https://www.findamasters.com/masters-degrees/c...</td>\n",
       "      <td>0.446191</td>\n",
       "    </tr>\n",
       "    <tr>\n",
       "      <th>3832</th>\n",
       "      <td>Cyber Security (MSc)</td>\n",
       "      <td>University of Derby</td>\n",
       "      <td>Take our MSc Cyber Security and become part of...</td>\n",
       "      <td>https://www.findamasters.com/masters-degrees/c...</td>\n",
       "      <td>0.445452</td>\n",
       "    </tr>\n",
       "  </tbody>\n",
       "</table>\n",
       "</div>"
      ],
      "text/plain": [
       "                                           courseName  \\\n",
       "5733                               Cyber Security MSc   \n",
       "2136                     Applied Cyber Security - MSc   \n",
       "1652                             Cyber Security (MSc)   \n",
       "5731                               Cyber Security MSc   \n",
       "5723                               Cyber Security MSc   \n",
       "1654            Cyber Security and Data Analytics MSc   \n",
       "1655                             Cyber Security (MSc)   \n",
       "3834  Cyber Security (Infrastructures Security) - MSc   \n",
       "5734                               Cyber Security MSc   \n",
       "3832                             Cyber Security (MSc)   \n",
       "\n",
       "                      universityName  \\\n",
       "5733      City, University of London   \n",
       "2136           University of Suffolk   \n",
       "1652   University of Gloucestershire   \n",
       "5731  Buckinghamshire New University   \n",
       "5723           King’s College London   \n",
       "1654  Loughborough University London   \n",
       "1655     Sheffield Hallam University   \n",
       "3834           University of Bristol   \n",
       "5734              Sabanci University   \n",
       "3832             University of Derby   \n",
       "\n",
       "                                            description  \\\n",
       "5733  Key informationWith the demand for graduates w...   \n",
       "2136  IntroductionA conversion course is a programme...   \n",
       "1652  This course is designed for those wishing to d...   \n",
       "5731  Our MSc in Cyber Security will help you develo...   \n",
       "5723  The Cyber Security MSc course aims to provide ...   \n",
       "1654  Our Cyber Security and Data Analytics MSc is a...   \n",
       "1655  Develop your skills and academic knowledge in ...   \n",
       "3834  Digital technologies drive economic growth yet...   \n",
       "5734  With a curriculum carefully designed to addres...   \n",
       "3832  Take our MSc Cyber Security and become part of...   \n",
       "\n",
       "                                                    url  Similarity  \n",
       "5733  https://www.findamasters.com/masters-degrees/c...    0.681918  \n",
       "2136  https://www.findamasters.com/masters-degrees/c...    0.680540  \n",
       "1652  https://www.findamasters.com/masters-degrees/c...    0.602706  \n",
       "5731  https://www.findamasters.com/masters-degrees/c...    0.505137  \n",
       "5723  https://www.findamasters.com/masters-degrees/c...    0.482475  \n",
       "1654  https://www.findamasters.com/masters-degrees/c...    0.462662  \n",
       "1655  https://www.findamasters.com/masters-degrees/c...    0.462288  \n",
       "3834  https://www.findamasters.com/masters-degrees/c...    0.460694  \n",
       "5734  https://www.findamasters.com/masters-degrees/c...    0.446191  \n",
       "3832  https://www.findamasters.com/masters-degrees/c...    0.445452  "
      ]
     },
     "execution_count": 197,
     "metadata": {},
     "output_type": "execute_result"
    }
   ],
   "source": [
    "def get_document_details(top_k_documents, df):\n",
    "    doc_ids = [doc_id for _, doc_id in top_k_documents]\n",
    "\n",
    "    if doc_ids:\n",
    "        return df.loc[\n",
    "            doc_ids, [\"courseName\", \"universityName\", \"description\", \"url\"]\n",
    "        ].assign(Similarity=[sim for sim, _ in top_k_documents])\n",
    "    else:\n",
    "        print(\"No matching documents found.\")\n",
    "        return None\n",
    "\n",
    "\n",
    "final_results_df = get_document_details(top_k_documents, df)\n",
    "final_results_df"
   ]
  },
  {
   "cell_type": "markdown",
   "metadata": {},
   "source": [
    "As we can see, the results are much better where we get only the Cyber Security master courses. Cosine similarity is not the greatest value, with maximum being 0.7."
   ]
  },
  {
   "cell_type": "markdown",
   "metadata": {},
   "source": [
    "## 3. Define a new score!"
   ]
  },
  {
   "cell_type": "code",
   "execution_count": 198,
   "metadata": {},
   "outputs": [],
   "source": [
    "# Create a copy of the DataFrame\n",
    "df_tmp = df.copy()\n",
    "\n",
    "# Group the DataFrame by the 'city' column and count the occurrences of each city\n",
    "city_counts = df_tmp[\"city\"].value_counts()\n",
    "\n",
    "# Calculate the score for each city based on the proportion of rows, assigning 0 for NaN cities\n",
    "df_tmp[\"city_score\"] = df_tmp[\"city\"].apply(\n",
    "    lambda x: city_counts[x] / len(df_tmp) if pd.notnull(x) else 0\n",
    ")"
   ]
  },
  {
   "cell_type": "code",
   "execution_count": 199,
   "metadata": {},
   "outputs": [],
   "source": [
    "df_preprocessed_tmp = df_preprocessed.copy()\n",
    "\n",
    "# Apply the inverse normalization\n",
    "max_value = df_preprocessed_tmp[\"fees (euro)\"].max()\n",
    "\n",
    "# Normalize the values between 0 and 1\n",
    "df_preprocessed_tmp[\"fee_score\"] = (\n",
    "    max_value - df_preprocessed_tmp[\"fees (euro)\"]\n",
    ") / max_value\n",
    "\n",
    "df_preprocessed_tmp.fee_score.fillna(0, inplace=True)"
   ]
  },
  {
   "cell_type": "code",
   "execution_count": 200,
   "metadata": {},
   "outputs": [],
   "source": [
    "# merge df_tmp and df_preprocessed_tmp dataframes to get score columns\n",
    "df_new_score = pd.merge(\n",
    "    df_tmp, df_preprocessed_tmp[\"fee_score\"], left_index=True, right_index=True\n",
    ")"
   ]
  },
  {
   "cell_type": "markdown",
   "metadata": {},
   "source": [
    "Now we will use the same example as previous two to check it out."
   ]
  },
  {
   "cell_type": "code",
   "execution_count": 201,
   "metadata": {},
   "outputs": [],
   "source": [
    "query = \"cyber security\"\n",
    "# Same preprocessing tehniques done in the first part\n",
    "query = stem(punct(stopless(query)))\n",
    "query_tfidf = vectorizer.transform([query])"
   ]
  },
  {
   "cell_type": "code",
   "execution_count": 208,
   "metadata": {},
   "outputs": [
    {
     "data": {
      "text/plain": [
       "[(0.6805402250607042, 0.6005685833689814, 2136),\n",
       " (0.4622884214083627, 0.4746418027943241, 1655),\n",
       " (0.6819176336307734, 0.44546857181026317, 5733),\n",
       " (0.6027055254902225, 0.3623262441644264, 1652),\n",
       " (0.4824749224274846, 0.3258029450882899, 5723),\n",
       " (0.4626620685824835, 0.31391523278128924, 1654),\n",
       " (0.5051369557988403, 0.3036512111362079, 5731),\n",
       " (0.4606941772879776, 0.28053366118450207, 3834),\n",
       " (0.4454515896052471, 0.268676811503734, 3832),\n",
       " (0.44619143708087056, 0.2679491718719533, 5734)]"
      ]
     },
     "execution_count": 208,
     "metadata": {},
     "output_type": "execute_result"
    }
   ],
   "source": [
    "def calculate_top_k_similarity_new_score(\n",
    "    common_documents, query_tfidf, tfidf_matrix, df, k=10\n",
    "):\n",
    "    top_k_heap = []\n",
    "\n",
    "    for doc_id in common_documents:\n",
    "        doc_tfidf = tfidf_matrix[doc_id]\n",
    "        cos_sim = cosine_similarity(doc_tfidf, query_tfidf)[0][0]\n",
    "        city_score = df.loc[doc_id, \"city_score\"]\n",
    "        fee_score = df.loc[doc_id, \"fee_score\"]\n",
    "\n",
    "        # Calculate the new similarity score\n",
    "        score = cos_sim * 0.6 + city_score * 0.2 + fee_score * 0.2\n",
    "        if len(top_k_heap) < k:\n",
    "            heapq.heappush(top_k_heap, (cos_sim, score, doc_id))\n",
    "        else:\n",
    "            heapq.heappushpop(top_k_heap, (cos_sim, score, doc_id))\n",
    "\n",
    "    sorted_top_k = sorted(top_k_heap, key=lambda x: x[1], reverse=True)\n",
    "    return sorted_top_k\n",
    "\n",
    "\n",
    "k = 10\n",
    "top_k_documents = calculate_top_k_similarity_new_score(\n",
    "    common_documents, query_tfidf, tfidf_matrix, df_new_score, k\n",
    ")\n",
    "top_k_documents"
   ]
  },
  {
   "cell_type": "code",
   "execution_count": 215,
   "metadata": {},
   "outputs": [
    {
     "data": {
      "text/html": [
       "<div>\n",
       "<style scoped>\n",
       "    .dataframe tbody tr th:only-of-type {\n",
       "        vertical-align: middle;\n",
       "    }\n",
       "\n",
       "    .dataframe tbody tr th {\n",
       "        vertical-align: top;\n",
       "    }\n",
       "\n",
       "    .dataframe thead th {\n",
       "        text-align: right;\n",
       "    }\n",
       "</style>\n",
       "<table border=\"1\" class=\"dataframe\">\n",
       "  <thead>\n",
       "    <tr style=\"text-align: right;\">\n",
       "      <th></th>\n",
       "      <th>courseName</th>\n",
       "      <th>universityName</th>\n",
       "      <th>description</th>\n",
       "      <th>url</th>\n",
       "      <th>city_score</th>\n",
       "      <th>fee_score</th>\n",
       "      <th>cos_similarity</th>\n",
       "      <th>score</th>\n",
       "    </tr>\n",
       "  </thead>\n",
       "  <tbody>\n",
       "    <tr>\n",
       "      <th>2136</th>\n",
       "      <td>Applied Cyber Security - MSc</td>\n",
       "      <td>University of Suffolk</td>\n",
       "      <td>IntroductionA conversion course is a programme...</td>\n",
       "      <td>https://www.findamasters.com/masters-degrees/c...</td>\n",
       "      <td>0.001674</td>\n",
       "      <td>0.959549</td>\n",
       "      <td>0.680540</td>\n",
       "      <td>0.600569</td>\n",
       "    </tr>\n",
       "    <tr>\n",
       "      <th>1655</th>\n",
       "      <td>Cyber Security (MSc)</td>\n",
       "      <td>Sheffield Hallam University</td>\n",
       "      <td>Develop your skills and academic knowledge in ...</td>\n",
       "      <td>https://www.findamasters.com/masters-degrees/c...</td>\n",
       "      <td>0.014895</td>\n",
       "      <td>0.971448</td>\n",
       "      <td>0.462288</td>\n",
       "      <td>0.474642</td>\n",
       "    </tr>\n",
       "    <tr>\n",
       "      <th>5733</th>\n",
       "      <td>Cyber Security MSc</td>\n",
       "      <td>City, University of London</td>\n",
       "      <td>Key informationWith the demand for graduates w...</td>\n",
       "      <td>https://www.findamasters.com/masters-degrees/c...</td>\n",
       "      <td>0.181590</td>\n",
       "      <td>0.000000</td>\n",
       "      <td>0.681918</td>\n",
       "      <td>0.445469</td>\n",
       "    </tr>\n",
       "    <tr>\n",
       "      <th>1652</th>\n",
       "      <td>Cyber Security (MSc)</td>\n",
       "      <td>University of Gloucestershire</td>\n",
       "      <td>This course is designed for those wishing to d...</td>\n",
       "      <td>https://www.findamasters.com/masters-degrees/c...</td>\n",
       "      <td>0.003515</td>\n",
       "      <td>0.000000</td>\n",
       "      <td>0.602706</td>\n",
       "      <td>0.362326</td>\n",
       "    </tr>\n",
       "    <tr>\n",
       "      <th>5723</th>\n",
       "      <td>Cyber Security MSc</td>\n",
       "      <td>King’s College London</td>\n",
       "      <td>The Cyber Security MSc course aims to provide ...</td>\n",
       "      <td>https://www.findamasters.com/masters-degrees/c...</td>\n",
       "      <td>0.181590</td>\n",
       "      <td>0.000000</td>\n",
       "      <td>0.482475</td>\n",
       "      <td>0.325803</td>\n",
       "    </tr>\n",
       "    <tr>\n",
       "      <th>1654</th>\n",
       "      <td>Cyber Security and Data Analytics MSc</td>\n",
       "      <td>Loughborough University London</td>\n",
       "      <td>Our Cyber Security and Data Analytics MSc is a...</td>\n",
       "      <td>https://www.findamasters.com/masters-degrees/c...</td>\n",
       "      <td>0.181590</td>\n",
       "      <td>0.000000</td>\n",
       "      <td>0.462662</td>\n",
       "      <td>0.313915</td>\n",
       "    </tr>\n",
       "    <tr>\n",
       "      <th>5731</th>\n",
       "      <td>Cyber Security MSc</td>\n",
       "      <td>Buckinghamshire New University</td>\n",
       "      <td>Our MSc in Cyber Security will help you develo...</td>\n",
       "      <td>https://www.findamasters.com/masters-degrees/c...</td>\n",
       "      <td>0.002845</td>\n",
       "      <td>0.000000</td>\n",
       "      <td>0.505137</td>\n",
       "      <td>0.303651</td>\n",
       "    </tr>\n",
       "    <tr>\n",
       "      <th>3834</th>\n",
       "      <td>Cyber Security (Infrastructures Security) - MSc</td>\n",
       "      <td>University of Bristol</td>\n",
       "      <td>Digital technologies drive economic growth yet...</td>\n",
       "      <td>https://www.findamasters.com/masters-degrees/c...</td>\n",
       "      <td>0.020586</td>\n",
       "      <td>0.000000</td>\n",
       "      <td>0.460694</td>\n",
       "      <td>0.280534</td>\n",
       "    </tr>\n",
       "    <tr>\n",
       "      <th>3832</th>\n",
       "      <td>Cyber Security (MSc)</td>\n",
       "      <td>University of Derby</td>\n",
       "      <td>Take our MSc Cyber Security and become part of...</td>\n",
       "      <td>https://www.findamasters.com/masters-degrees/c...</td>\n",
       "      <td>0.007029</td>\n",
       "      <td>0.000000</td>\n",
       "      <td>0.445452</td>\n",
       "      <td>0.268677</td>\n",
       "    </tr>\n",
       "    <tr>\n",
       "      <th>5734</th>\n",
       "      <td>Cyber Security MSc</td>\n",
       "      <td>Sabanci University</td>\n",
       "      <td>With a curriculum carefully designed to addres...</td>\n",
       "      <td>https://www.findamasters.com/masters-degrees/c...</td>\n",
       "      <td>0.001172</td>\n",
       "      <td>0.000000</td>\n",
       "      <td>0.446191</td>\n",
       "      <td>0.267949</td>\n",
       "    </tr>\n",
       "  </tbody>\n",
       "</table>\n",
       "</div>"
      ],
      "text/plain": [
       "                                           courseName  \\\n",
       "2136                     Applied Cyber Security - MSc   \n",
       "1655                             Cyber Security (MSc)   \n",
       "5733                               Cyber Security MSc   \n",
       "1652                             Cyber Security (MSc)   \n",
       "5723                               Cyber Security MSc   \n",
       "1654            Cyber Security and Data Analytics MSc   \n",
       "5731                               Cyber Security MSc   \n",
       "3834  Cyber Security (Infrastructures Security) - MSc   \n",
       "3832                             Cyber Security (MSc)   \n",
       "5734                               Cyber Security MSc   \n",
       "\n",
       "                      universityName  \\\n",
       "2136           University of Suffolk   \n",
       "1655     Sheffield Hallam University   \n",
       "5733      City, University of London   \n",
       "1652   University of Gloucestershire   \n",
       "5723           King’s College London   \n",
       "1654  Loughborough University London   \n",
       "5731  Buckinghamshire New University   \n",
       "3834           University of Bristol   \n",
       "3832             University of Derby   \n",
       "5734              Sabanci University   \n",
       "\n",
       "                                            description  \\\n",
       "2136  IntroductionA conversion course is a programme...   \n",
       "1655  Develop your skills and academic knowledge in ...   \n",
       "5733  Key informationWith the demand for graduates w...   \n",
       "1652  This course is designed for those wishing to d...   \n",
       "5723  The Cyber Security MSc course aims to provide ...   \n",
       "1654  Our Cyber Security and Data Analytics MSc is a...   \n",
       "5731  Our MSc in Cyber Security will help you develo...   \n",
       "3834  Digital technologies drive economic growth yet...   \n",
       "3832  Take our MSc Cyber Security and become part of...   \n",
       "5734  With a curriculum carefully designed to addres...   \n",
       "\n",
       "                                                    url  city_score  \\\n",
       "2136  https://www.findamasters.com/masters-degrees/c...    0.001674   \n",
       "1655  https://www.findamasters.com/masters-degrees/c...    0.014895   \n",
       "5733  https://www.findamasters.com/masters-degrees/c...    0.181590   \n",
       "1652  https://www.findamasters.com/masters-degrees/c...    0.003515   \n",
       "5723  https://www.findamasters.com/masters-degrees/c...    0.181590   \n",
       "1654  https://www.findamasters.com/masters-degrees/c...    0.181590   \n",
       "5731  https://www.findamasters.com/masters-degrees/c...    0.002845   \n",
       "3834  https://www.findamasters.com/masters-degrees/c...    0.020586   \n",
       "3832  https://www.findamasters.com/masters-degrees/c...    0.007029   \n",
       "5734  https://www.findamasters.com/masters-degrees/c...    0.001172   \n",
       "\n",
       "      fee_score  cos_similarity     score  \n",
       "2136   0.959549        0.680540  0.600569  \n",
       "1655   0.971448        0.462288  0.474642  \n",
       "5733   0.000000        0.681918  0.445469  \n",
       "1652   0.000000        0.602706  0.362326  \n",
       "5723   0.000000        0.482475  0.325803  \n",
       "1654   0.000000        0.462662  0.313915  \n",
       "5731   0.000000        0.505137  0.303651  \n",
       "3834   0.000000        0.460694  0.280534  \n",
       "3832   0.000000        0.445452  0.268677  \n",
       "5734   0.000000        0.446191  0.267949  "
      ]
     },
     "execution_count": 215,
     "metadata": {},
     "output_type": "execute_result"
    }
   ],
   "source": [
    "def get_document_details_new_score(top_k_documents, df):\n",
    "    doc_ids = [doc_id for _, _, doc_id in top_k_documents]\n",
    "    cos_similarity_scores = [sim for sim, _, _ in top_k_documents]\n",
    "    score = [score for _, score, _ in top_k_documents]\n",
    "\n",
    "    if doc_ids:\n",
    "        df = df.loc[\n",
    "            doc_ids,\n",
    "            [\n",
    "                \"courseName\",\n",
    "                \"universityName\",\n",
    "                \"description\",\n",
    "                \"url\",\n",
    "                \"city_score\",\n",
    "                \"fee_score\",\n",
    "            ],\n",
    "        ].assign(cos_similarity=cos_similarity_scores, score=score)\n",
    "        return df\n",
    "    else:\n",
    "        print(\"No matching documents found.\")\n",
    "        return None\n",
    "\n",
    "\n",
    "final_results_df = get_document_details_new_score(top_k_documents, df_new_score)\n",
    "final_results_df"
   ]
  },
  {
   "cell_type": "markdown",
   "metadata": {},
   "source": [
    "## 4. Visualizing the most relevant MSc degrees"
   ]
  },
  {
   "cell_type": "code",
   "execution_count": 2,
   "metadata": {},
   "outputs": [],
   "source": [
    "# Libraries\n",
    "import pandas as pd\n",
    "import re\n",
    "from geopy.geocoders import Nominatim\n",
    "import ssl\n",
    "import certifi\n",
    "import geopy.geocoders\n",
    "from geopy.exc import GeocoderTimedOut\n",
    "\n",
    "import plotly.express as px\n",
    "import warnings\n",
    "warnings.filterwarnings('ignore')\n",
    "\n",
    "ctx = ssl.create_default_context(cafile=certifi.where())\n",
    "geopy.geocoders.options.default_ssl_context = ctx"
   ]
  },
  {
   "cell_type": "code",
   "execution_count": 3,
   "metadata": {},
   "outputs": [
    {
     "name": "stdout",
     "output_type": "stream",
     "text": [
      "(6000, 13)\n"
     ]
    },
    {
     "data": {
      "text/html": [
       "<div>\n",
       "<style scoped>\n",
       "    .dataframe tbody tr th:only-of-type {\n",
       "        vertical-align: middle;\n",
       "    }\n",
       "\n",
       "    .dataframe tbody tr th {\n",
       "        vertical-align: top;\n",
       "    }\n",
       "\n",
       "    .dataframe thead th {\n",
       "        text-align: right;\n",
       "    }\n",
       "</style>\n",
       "<table border=\"1\" class=\"dataframe\">\n",
       "  <thead>\n",
       "    <tr style=\"text-align: right;\">\n",
       "      <th></th>\n",
       "      <th>courseName</th>\n",
       "      <th>universityName</th>\n",
       "      <th>facultyName</th>\n",
       "      <th>isItFullTime</th>\n",
       "      <th>description</th>\n",
       "      <th>startDate</th>\n",
       "      <th>fees</th>\n",
       "      <th>modality</th>\n",
       "      <th>duration</th>\n",
       "      <th>city</th>\n",
       "      <th>country</th>\n",
       "      <th>administration</th>\n",
       "      <th>url</th>\n",
       "    </tr>\n",
       "  </thead>\n",
       "  <tbody>\n",
       "    <tr>\n",
       "      <th>0</th>\n",
       "      <td>Computer Science - MSc</td>\n",
       "      <td>University of Hertfordshire</td>\n",
       "      <td>School of Physics, Engineering and Computer Sc...</td>\n",
       "      <td>Full time</td>\n",
       "      <td>Why choose Herts?Industry Accreditation: Accre...</td>\n",
       "      <td>See Course</td>\n",
       "      <td>UK Students  Full time: £9450 for the 2022/202...</td>\n",
       "      <td>MSc</td>\n",
       "      <td>1 year full-time, 15 months full-time, 3 years...</td>\n",
       "      <td>Hatfield</td>\n",
       "      <td>United Kingdom</td>\n",
       "      <td>On Campus</td>\n",
       "      <td>https://www.findamasters.com/masters-degrees/c...</td>\n",
       "    </tr>\n",
       "    <tr>\n",
       "      <th>1</th>\n",
       "      <td>Computer Science (Cyber Security) - MSc</td>\n",
       "      <td>Staffordshire University</td>\n",
       "      <td>School of Digital, Technologies and Arts</td>\n",
       "      <td>Full time</td>\n",
       "      <td>Join the fight against malicious programs and ...</td>\n",
       "      <td>September</td>\n",
       "      <td>Find the specific fees for your chosen program...</td>\n",
       "      <td>MSc</td>\n",
       "      <td>13 months - 25 months</td>\n",
       "      <td>Stoke on Trent</td>\n",
       "      <td>United Kingdom</td>\n",
       "      <td>On Campus</td>\n",
       "      <td>https://www.findamasters.com/masters-degrees/c...</td>\n",
       "    </tr>\n",
       "    <tr>\n",
       "      <th>2</th>\n",
       "      <td>Computer Science (Data Science) - MSc</td>\n",
       "      <td>Trinity College Dublin</td>\n",
       "      <td>School of Computer Science &amp; Statistics</td>\n",
       "      <td>Full time</td>\n",
       "      <td>The MSc in Computer Science is an exciting one...</td>\n",
       "      <td>September</td>\n",
       "      <td>Please see the university website for further ...</td>\n",
       "      <td>MSc</td>\n",
       "      <td>1 year full-time</td>\n",
       "      <td>Dublin</td>\n",
       "      <td>Ireland</td>\n",
       "      <td>On Campus</td>\n",
       "      <td>https://www.findamasters.com/masters-degrees/c...</td>\n",
       "    </tr>\n",
       "    <tr>\n",
       "      <th>3</th>\n",
       "      <td>Computer Science (by Research) - MSc</td>\n",
       "      <td>Lancaster University</td>\n",
       "      <td>School of Computing and Communications</td>\n",
       "      <td>Full time</td>\n",
       "      <td>The MSc by Research programme can be tailored ...</td>\n",
       "      <td>See Course</td>\n",
       "      <td>Please see the university website for further ...</td>\n",
       "      <td>MSc</td>\n",
       "      <td>12 months full-time, 24 months part time</td>\n",
       "      <td>Lancaster</td>\n",
       "      <td>United Kingdom</td>\n",
       "      <td>On Campus</td>\n",
       "      <td>https://www.findamasters.com/masters-degrees/c...</td>\n",
       "    </tr>\n",
       "    <tr>\n",
       "      <th>4</th>\n",
       "      <td>Computer Science (Computer Networks and Securi...</td>\n",
       "      <td>Staffordshire University</td>\n",
       "      <td>School of Digital, Technologies and Arts</td>\n",
       "      <td>Full time</td>\n",
       "      <td>Secure your future career with our Computer Sc...</td>\n",
       "      <td>September</td>\n",
       "      <td>Find the specific fees for your chosen program...</td>\n",
       "      <td>MSc</td>\n",
       "      <td>13 months - 25 months</td>\n",
       "      <td>Stoke on Trent</td>\n",
       "      <td>United Kingdom</td>\n",
       "      <td>On Campus</td>\n",
       "      <td>https://www.findamasters.com/masters-degrees/c...</td>\n",
       "    </tr>\n",
       "  </tbody>\n",
       "</table>\n",
       "</div>"
      ],
      "text/plain": [
       "                                          courseName  \\\n",
       "0                             Computer Science - MSc   \n",
       "1            Computer Science (Cyber Security) - MSc   \n",
       "2              Computer Science (Data Science) - MSc   \n",
       "3               Computer Science (by Research) - MSc   \n",
       "4  Computer Science (Computer Networks and Securi...   \n",
       "\n",
       "                universityName  \\\n",
       "0  University of Hertfordshire   \n",
       "1     Staffordshire University   \n",
       "2       Trinity College Dublin   \n",
       "3         Lancaster University   \n",
       "4     Staffordshire University   \n",
       "\n",
       "                                         facultyName isItFullTime  \\\n",
       "0  School of Physics, Engineering and Computer Sc...    Full time   \n",
       "1           School of Digital, Technologies and Arts    Full time   \n",
       "2            School of Computer Science & Statistics    Full time   \n",
       "3             School of Computing and Communications    Full time   \n",
       "4           School of Digital, Technologies and Arts    Full time   \n",
       "\n",
       "                                         description   startDate  \\\n",
       "0  Why choose Herts?Industry Accreditation: Accre...  See Course   \n",
       "1  Join the fight against malicious programs and ...   September   \n",
       "2  The MSc in Computer Science is an exciting one...   September   \n",
       "3  The MSc by Research programme can be tailored ...  See Course   \n",
       "4  Secure your future career with our Computer Sc...   September   \n",
       "\n",
       "                                                fees modality  \\\n",
       "0  UK Students  Full time: £9450 for the 2022/202...      MSc   \n",
       "1  Find the specific fees for your chosen program...      MSc   \n",
       "2  Please see the university website for further ...      MSc   \n",
       "3  Please see the university website for further ...      MSc   \n",
       "4  Find the specific fees for your chosen program...      MSc   \n",
       "\n",
       "                                            duration            city  \\\n",
       "0  1 year full-time, 15 months full-time, 3 years...        Hatfield   \n",
       "1                              13 months - 25 months  Stoke on Trent   \n",
       "2                                   1 year full-time          Dublin   \n",
       "3           12 months full-time, 24 months part time       Lancaster   \n",
       "4                              13 months - 25 months  Stoke on Trent   \n",
       "\n",
       "          country administration  \\\n",
       "0  United Kingdom      On Campus   \n",
       "1  United Kingdom      On Campus   \n",
       "2         Ireland      On Campus   \n",
       "3  United Kingdom      On Campus   \n",
       "4  United Kingdom      On Campus   \n",
       "\n",
       "                                                 url  \n",
       "0  https://www.findamasters.com/masters-degrees/c...  \n",
       "1  https://www.findamasters.com/masters-degrees/c...  \n",
       "2  https://www.findamasters.com/masters-degrees/c...  \n",
       "3  https://www.findamasters.com/masters-degrees/c...  \n",
       "4  https://www.findamasters.com/masters-degrees/c...  "
      ]
     },
     "execution_count": 3,
     "metadata": {},
     "output_type": "execute_result"
    }
   ],
   "source": [
    "# Read the TSV data\n",
    "df = pd.read_csv(\"TSV/course_1.tsv\", sep=\"\\t\", index_col=False)\n",
    "\n",
    "for i in range(2, 6001):\n",
    "    try:\n",
    "        df1 = pd.read_csv(\n",
    "            \"TSV/course_\" + str(i) + \".tsv\",\n",
    "            sep=\"\\t\",\n",
    "            index_col=False,\n",
    "        )\n",
    "        df1.index += i - 1\n",
    "        df = pd.concat([df, df1])\n",
    "    except Exception as e:\n",
    "        print(i)\n",
    "        print(\"Error: \", e)\n",
    "\n",
    "print(df.shape)\n",
    "df.head()"
   ]
  },
  {
   "cell_type": "code",
   "execution_count": 7,
   "metadata": {},
   "outputs": [
    {
     "data": {
      "text/html": [
       "<div>\n",
       "<style scoped>\n",
       "    .dataframe tbody tr th:only-of-type {\n",
       "        vertical-align: middle;\n",
       "    }\n",
       "\n",
       "    .dataframe tbody tr th {\n",
       "        vertical-align: top;\n",
       "    }\n",
       "\n",
       "    .dataframe thead th {\n",
       "        text-align: right;\n",
       "    }\n",
       "</style>\n",
       "<table border=\"1\" class=\"dataframe\">\n",
       "  <thead>\n",
       "    <tr style=\"text-align: right;\">\n",
       "      <th></th>\n",
       "      <th>courseName</th>\n",
       "      <th>universityName</th>\n",
       "      <th>facultyName</th>\n",
       "      <th>isItFullTime</th>\n",
       "      <th>description</th>\n",
       "      <th>startDate</th>\n",
       "      <th>fees (euro)</th>\n",
       "      <th>modality</th>\n",
       "      <th>duration</th>\n",
       "      <th>city</th>\n",
       "      <th>country</th>\n",
       "      <th>administration</th>\n",
       "      <th>url</th>\n",
       "    </tr>\n",
       "  </thead>\n",
       "  <tbody>\n",
       "    <tr>\n",
       "      <th>0</th>\n",
       "      <td>Computer Science - MSc</td>\n",
       "      <td>University of Hertfordshire</td>\n",
       "      <td>School of Physics, Engineering and Computer Sc...</td>\n",
       "      <td>Full time</td>\n",
       "      <td>Why choose Herts?Industry Accreditation: Accre...</td>\n",
       "      <td>See Course</td>\n",
       "      <td>16500.0</td>\n",
       "      <td>MSc</td>\n",
       "      <td>1 year full-time, 15 months full-time, 3 years...</td>\n",
       "      <td>Hatfield</td>\n",
       "      <td>United Kingdom</td>\n",
       "      <td>On Campus</td>\n",
       "      <td>https://www.findamasters.com/masters-degrees/c...</td>\n",
       "    </tr>\n",
       "    <tr>\n",
       "      <th>29</th>\n",
       "      <td>Clinical Cognitive Neuroscience (MSc)</td>\n",
       "      <td>Sheffield Hallam University</td>\n",
       "      <td>Postgraduate Courses</td>\n",
       "      <td>Full time</td>\n",
       "      <td>Develop a broad range of practical skills esse...</td>\n",
       "      <td>September</td>\n",
       "      <td>10310.0</td>\n",
       "      <td>MSc</td>\n",
       "      <td>1 year full-time, 2 years part-time</td>\n",
       "      <td>Sheffield</td>\n",
       "      <td>United Kingdom</td>\n",
       "      <td>On Campus</td>\n",
       "      <td>https://www.findamasters.com/masters-degrees/c...</td>\n",
       "    </tr>\n",
       "    <tr>\n",
       "      <th>49</th>\n",
       "      <td>Fashion Forecasting &amp; Data Analysis - MA/MSc</td>\n",
       "      <td>University for the Creative Arts</td>\n",
       "      <td>Business School for the Creative Industries</td>\n",
       "      <td>Full time</td>\n",
       "      <td>UCA's new MSc degree in Fashion Forecasting an...</td>\n",
       "      <td>September</td>\n",
       "      <td>10500.0</td>\n",
       "      <td>MA, MSc</td>\n",
       "      <td>1 year full time</td>\n",
       "      <td>Farnham</td>\n",
       "      <td>United Kingdom</td>\n",
       "      <td>On Campus</td>\n",
       "      <td>https://www.findamasters.com/masters-degrees/c...</td>\n",
       "    </tr>\n",
       "    <tr>\n",
       "      <th>50</th>\n",
       "      <td>Facade Engineering - MSc</td>\n",
       "      <td>University of the West of England, Bristol</td>\n",
       "      <td>Department of Architecture and the Built Envir...</td>\n",
       "      <td>Full time</td>\n",
       "      <td>Façade engineering is a discipline in its own ...</td>\n",
       "      <td>September</td>\n",
       "      <td>11500.0</td>\n",
       "      <td>MSc</td>\n",
       "      <td>1 year full time, 2 years part time</td>\n",
       "      <td>Bristol</td>\n",
       "      <td>United Kingdom</td>\n",
       "      <td>On Campus</td>\n",
       "      <td>https://www.findamasters.com/masters-degrees/c...</td>\n",
       "    </tr>\n",
       "    <tr>\n",
       "      <th>51</th>\n",
       "      <td>Fashion Tech (Specializing Master)</td>\n",
       "      <td>POLI.design, Società consortile a responsabili...</td>\n",
       "      <td>Postgraduate Courses</td>\n",
       "      <td>Full time</td>\n",
       "      <td>The Fashion Tech designer has a decisive role ...</td>\n",
       "      <td>April</td>\n",
       "      <td>11000.0</td>\n",
       "      <td>MSc, MA</td>\n",
       "      <td>13 months</td>\n",
       "      <td>Milan</td>\n",
       "      <td>Italy</td>\n",
       "      <td>On Campus</td>\n",
       "      <td>https://www.findamasters.com/masters-degrees/c...</td>\n",
       "    </tr>\n",
       "  </tbody>\n",
       "</table>\n",
       "</div>"
      ],
      "text/plain": [
       "                                      courseName  \\\n",
       "0                         Computer Science - MSc   \n",
       "29         Clinical Cognitive Neuroscience (MSc)   \n",
       "49  Fashion Forecasting & Data Analysis - MA/MSc   \n",
       "50                      Facade Engineering - MSc   \n",
       "51            Fashion Tech (Specializing Master)   \n",
       "\n",
       "                                       universityName  \\\n",
       "0                         University of Hertfordshire   \n",
       "29                        Sheffield Hallam University   \n",
       "49                   University for the Creative Arts   \n",
       "50         University of the West of England, Bristol   \n",
       "51  POLI.design, Società consortile a responsabili...   \n",
       "\n",
       "                                          facultyName isItFullTime  \\\n",
       "0   School of Physics, Engineering and Computer Sc...    Full time   \n",
       "29                               Postgraduate Courses    Full time   \n",
       "49        Business School for the Creative Industries    Full time   \n",
       "50  Department of Architecture and the Built Envir...    Full time   \n",
       "51                               Postgraduate Courses    Full time   \n",
       "\n",
       "                                          description   startDate  \\\n",
       "0   Why choose Herts?Industry Accreditation: Accre...  See Course   \n",
       "29  Develop a broad range of practical skills esse...   September   \n",
       "49  UCA's new MSc degree in Fashion Forecasting an...   September   \n",
       "50  Façade engineering is a discipline in its own ...   September   \n",
       "51  The Fashion Tech designer has a decisive role ...       April   \n",
       "\n",
       "    fees (euro) modality                                           duration  \\\n",
       "0       16500.0      MSc  1 year full-time, 15 months full-time, 3 years...   \n",
       "29      10310.0      MSc                1 year full-time, 2 years part-time   \n",
       "49      10500.0  MA, MSc                                   1 year full time   \n",
       "50      11500.0      MSc                1 year full time, 2 years part time   \n",
       "51      11000.0  MSc, MA                                          13 months   \n",
       "\n",
       "         city         country administration  \\\n",
       "0    Hatfield  United Kingdom      On Campus   \n",
       "29  Sheffield  United Kingdom      On Campus   \n",
       "49    Farnham  United Kingdom      On Campus   \n",
       "50    Bristol  United Kingdom      On Campus   \n",
       "51      Milan           Italy      On Campus   \n",
       "\n",
       "                                                  url  \n",
       "0   https://www.findamasters.com/masters-degrees/c...  \n",
       "29  https://www.findamasters.com/masters-degrees/c...  \n",
       "49  https://www.findamasters.com/masters-degrees/c...  \n",
       "50  https://www.findamasters.com/masters-degrees/c...  \n",
       "51  https://www.findamasters.com/masters-degrees/c...  "
      ]
     },
     "execution_count": 7,
     "metadata": {},
     "output_type": "execute_result"
    }
   ],
   "source": [
    "# Applying the function to the dataframe\n",
    "df[\"fees\"] = df[\"fees\"].apply(find_fees)\n",
    "df.rename(columns={\"fees\": \"fees (euro)\"}, inplace=True)\n",
    "df[df[\"fees (euro)\"].notna()].head()"
   ]
  },
  {
   "cell_type": "code",
   "execution_count": 9,
   "metadata": {},
   "outputs": [],
   "source": [
    "geolocator = Nominatim(user_agent=\"trial\", scheme='http', timeout=5)  # Set timeout value\n",
    "\n",
    "# Create a cache dictionary to store fetched locations for universities\n",
    "location_cache = {}\n",
    "\n",
    "def get_location(row):\n",
    "    if row['universityName'] in location_cache:\n",
    "        return location_cache[row['universityName']]\n",
    "    else:\n",
    "        try:\n",
    "            university_location = geolocator.geocode(row['universityName'])\n",
    "            if university_location:\n",
    "                location_cache[row['universityName']] = (university_location.latitude, university_location.longitude)\n",
    "                return university_location.latitude, university_location.longitude\n",
    "        except GeocoderTimedOut:\n",
    "            pass\n",
    "        \n",
    "        try:\n",
    "            # Concatenate City and Country\n",
    "            concat_location = f\"{row['city']}, {row['country']}\"\n",
    "            country_location = geolocator.geocode(concat_location)\n",
    "            if country_location:\n",
    "                return country_location.latitude, country_location.longitude\n",
    "        except GeocoderTimedOut:\n",
    "            pass\n",
    "\n",
    "        return None, None\n",
    "\n",
    "# Apply the function to the dataframe to get latitude and longitude\n",
    "df[['latitude', 'longitude']] = df.apply(lambda row: pd.Series(get_location(row)), axis=1)\n"
   ]
  },
  {
   "cell_type": "code",
   "execution_count": 10,
   "metadata": {},
   "outputs": [
    {
     "data": {
      "application/vnd.plotly.v1+json": {
       "config": {
        "plotlyServerURL": "https://plot.ly"
       },
       "data": [
        {
         "customdata": [
          [
           "16500.0, 810.0, 7900.0, 14750.0, 810.0, 16500.0, 14750.0, 16650.0, 14750.0, 14750.0, 14750.0, 14750.0, 15230.0, nan, 16500.0, 16500.0, 16500.0, 14750.0, 20020.0, nan, nan, nan, 9600.0, 16650.0, nan, 14750.0, nan, 14750.0, nan, 14750.0, nan, 9600.0, nan, nan, 16000.0, 14750.0, 16860.0, 14750.0, 16500.0, 16500.0, 16500.0, nan, nan, 14750.0, 810.0, nan, 16000.0, 14750.0, 14750.0, 16500.0, 9600.0, 14750.0, 15450.0",
           "Hatfield",
           "Computer Science - MSc<br>Advanced Medical Imaging - MSc<br>Global Business - MSc<br>Business Analytics and Consultancy - MSc<br>Clinical Radiographic Reporting - MSc<br>Cyber Security with Advanced Research - MSc<br>Management with Digital Marketing - MSc<br>Cancer Immunotherapy (placement option available) - MSc<br>Environmental Management for Agriculture - MSc<br>Environmental Management - MSc<br>Management with Logistics and Supply Chain Management - MSc<br>Management with Sustainability - MSc<br>Business Psychology - MSc<br>Clinical Dermatology - MSc<br>Computer Networks and Systems Security (placement option available) - MSc<br>Computer Networks and Systems Security with Advanced Research - MSc<br>Cyber Security (placement and research option available) - MSc<br>Astrophysics - MSc<br>Advancing Clinical Pharmacy Practice - MSc<br>Health and Medical Simulation - MSc<br>Health and Medical Education - MSc<br>International Tourism, Hospitality and Events Mngmt with Advanced Research MSc<br>Artificial Intelligence (Online) - MSc<br>Drug Discovery and Toxicology (placement option available) - MSc<br>Advanced Paramedic Practice - MSc<br>Management (pathway options available) - MSc<br>Advanced Clinical Practice - MSc<br>Aerospace Engineering - MSc<br>Master of Public Health<br>Manufacturing Management - MSc<br>Master of Public Health with Extended Placement<br>Master of Public Health (Online)<br>Master of Public Health with Advanced Research<br>International Tourism, Hospitality and Event Management MSc<br>International Tourism, Hospitality and Event Management with Placement Year - MSc<br>Automotive Engineering - MSc<br>Finance and Investment Banking (placement option available) - MSc<br>Communications and Information Engineering - MSc<br>Artificial Intelligence and Robotics (placement option available) - MSc<br>Data Science and Analytics with Advanced Research - MSc<br>Data Science and Analytics (placement option available) - MSc<br>Contemporary Nursing - MSc<br>Cardiology and Stroke - MSc<br>Audio Engineering - MSc<br>Advanced Radiotherapy and Oncology Practice - MSc<br>Advanced Physiotherapy - MSc<br>International Business (placement option available) - MSc<br>Clinical Skin Integrity and Wound Management - MSc<br>Data Science - MSc<br>Advanced Computer Science (placement option available) - MSc<br>Advanced Computer Science (Online) - MSc<br>Electronics Engineering - MSc<br>Civil Engineering"
          ]
         ],
         "hovertemplate": "<b>%{hovertext}</b><br><br>city=%{customdata[1]}<br>latitude=%{lat}<br>longitude=%{lon}<br>fees_list=%{customdata[0]}<br>courses_list=%{customdata[2]}<extra></extra>",
         "hovertext": [
          "University of Hertfordshire"
         ],
         "lat": [
          51.75174425
         ],
         "legendgroup": "Hatfield",
         "lon": [
          -0.23904979445944738
         ],
         "marker": {
          "color": "#636efa"
         },
         "mode": "markers",
         "name": "Hatfield",
         "showlegend": true,
         "subplot": "mapbox",
         "type": "scattermapbox"
        },
        {
         "customdata": [
          [
           "nan, nan, nan, nan, nan, nan, nan, 15000.0, nan, nan, nan, nan, nan, nan, nan, nan, nan, nan, nan, nan, nan, nan, nan, nan, nan, nan, nan",
           "Stoke on Trent",
           "Computer Science (Cyber Security) - MSc<br>Computer Science (Computer Networks and Security) - MSc<br>Computer Science (Business Computing) - MSc<br>Clinical Biomechanics - MSc<br>Arts And Creative Technologies (By Negotiated Study) (Full Time) - MA/MSc<br>Applied Sport and Exercise Science MSc<br>Forensic Archaeology and Genocide Investigation MSc<br>Accounting and Finance - MSc<br>Computer Science MSc<br>Arts And Creative Technologies (By Negotiated Study) (Part Time) - MA/MSc<br>Health and Social Care (by Negotiated Study) MSc<br>Leadership of Policing<br>Computer Science (Software Engineering) - MSc<br>Digital Forensic Investigation MSc<br>Health Psychology - MSc<br>Automotive Engineering MSc<br>International Business Management MSc<br>3D Computer Games Design - MSc<br>Aeronautical Engineering MSc<br>Electronic and Telecommunication Engineering - MSc<br>Criminology and Criminal Justice - MSc<br>Applied Research MSc<br>Human Factors for Patient Safety MSc<br>Digital Marketing Management MSc<br>Advanced Clinical Practice MSc<br>Electrical Engineering and Renewable Energy Systems - MSc<br>Forensic Science - MSc"
          ],
          [
           "nan, nan, nan, nan, nan, nan, nan, nan, nan, nan, nan, nan, nan, nan, nan, nan, nan, nan, nan, nan, nan, nan, nan, nan, nan, nan, nan, nan, nan, nan, nan, nan, nan, nan, nan, nan, nan, nan, nan, nan, nan",
           "Stoke on Trent",
           "Computer Science (100% online) MSc<br>Biomedical Science (Medical Microbiology) - MSc (IBMS Accredited), PgCert, PgDip<br>Biomedical Science (Blended Learning) MSc<br>Biomedical Science (Blood Science) - MSc (IBMS accredited), PgCert, PgDip<br>Management with Data Analytics (100% online) MSc<br>Banking and Finance MSc<br>Management with Marketing (100% online) MSc<br>Management with Sustainability (100% online) MSc<br>Biomedical Engineering MSc, PgDip<br>Clinical Education (Intercalated) MSc<br>Geographical and Environmental Research MSc<br>Law, Artificial Intelligence and New Technologies MSc/LLM<br>Enterprise and Innovation MSc<br>International Diplomacy MSc<br>Investment Management MSc<br>Health Sciences MSc<br>Cognition and Cognitive Neuroscience MSc<br>Computer Science MSc<br>Management MSc<br>Artificial Intelligence and Data Science MSc<br>Business Analytics MSc<br>Biomedical Science (Medical Microbiology) - MSc (IBMS Accredited), PgCert, PgDip<br>Biomedical Science (Blended Learning) MSc<br>Biomedical Science (Blood Science) - MSc (IBMS accredited), PgCert, PgDip<br>Counselling and Psychotherapy MSc<br>Computer Science with Artificial Intelligence (100% online) MSc<br>Computer Science with Data Analytics (100% online) MSc<br>Marketing MSc<br>Accounting and Financial Management MSc<br>Applied Social and Political Psychology MSc<br>Digital Marketing MSc<br>Cell and Tissue Engineering MSc, PgDip<br>Management (100% online) MSc<br>Advanced Clinical Practice MSc<br>Clinical Pharmacy Practice MSc, PgCert, PgDip<br>Advanced Computer Science MSc<br>Applied Child Psychology MSc<br>Cyber Security MSc<br>Environmental Sustainability and Green Technology MSc<br>International Business MSc<br>Geoscience Research MSc"
          ]
         ],
         "hovertemplate": "<b>%{hovertext}</b><br><br>city=%{customdata[1]}<br>latitude=%{lat}<br>longitude=%{lon}<br>fees_list=%{customdata[0]}<br>courses_list=%{customdata[2]}<extra></extra>",
         "hovertext": [
          "Staffordshire University",
          "Keele University"
         ],
         "lat": [
          52.8131677,
          53.0016756
         ],
         "legendgroup": "Stoke on Trent",
         "lon": [
          -2.0802228,
          -2.270694218876779
         ],
         "marker": {
          "color": "#EF553B"
         },
         "mode": "markers",
         "name": "Stoke on Trent",
         "showlegend": true,
         "subplot": "mapbox",
         "type": "scattermapbox"
        },
        {
         "customdata": [
          [
           "nan, nan, nan, nan, nan, nan, nan, nan, nan, nan, nan, nan, nan, nan, nan, nan, nan, nan, nan, nan, nan, nan, nan, nan, nan, nan, nan, nan, nan, nan, nan, nan, nan, nan, nan, nan, nan, nan, nan, nan, nan, nan, nan, nan, nan, nan, nan, nan, nan, nan, nan, nan",
           "Dublin",
           "Computer Science (Data Science) - MSc<br>Computer Science (Future Networked Systems) - MSc<br>Computer Science (Augmented and Virtual Reality) - MSc<br>Clinical Chemistry - MSc/PgDip<br>Gerontological Nursing - MSc/PgDip<br>Dementia - MSc/PgDip<br>Entrepreneurship of Smart Medicines - M.Sc.<br>Entrepreneurship & Innovation - MSc<br>Business Analytics - MSc<br>International Management - MSc<br>Community Health - MSc/PgDip/PgCert<br>Comparative Social Change - MSc<br>High Performance Computing - MSc/PgDip<br>Global Health - MSc<br>Finance - MSc<br>Diagnostic Radiography - MSc<br>Marketing - MSc<br>Interactive Digital Media - MSc<br>Engineering (Environmental / Structural and Geotechnical / Transport/ Sustainable Energy) (M.Sc/P.Grad.Dip)<br>Clinical Dentistry - MSc<br>Biomedical Sciences (Intercalated) - MSc/PgDip<br>Economics - MSc/PgDip<br>Law and Finance - MSc<br>Financial Risk Management - MSc<br>Computer Science (Intelligent Systems) - MSc<br>International Politics - MSc/PgDip<br>Health Services Management - MSc<br>Biodiversity and Conservation - MSc/PgDip<br>Managing Risk and System Change (Online) - MSc/PgDip<br>Immunology - MSc<br>Immunotherapeutics - MSc<br>Genomic Medicine - MSc<br>Hospital Pharmacy - MSc<br>Ageing Health & Wellbeing in Intellectual Disability - MSc/PgDip<br>Cancer Survivorship - MSc<br>Applied Psychology - MSc<br>Advanced Radiation Therapy Practice - Treatment Planning (Online) - MSc<br>Addiction Recovery - MSc/PgDip<br>Applied Social Research - MSc<br>Biomedical Engineering (M.Sc. / P.Grad.Dip.)<br>Clinical Speech and Language Studies - MSc<br>Development Practice - MSc/PgDip<br>Digital Marketing Strategy - MSc<br>Management - MSc<br>Energy Science - MSc/PgDip<br>Child Protection and Welfare - MSc/PgDip<br>Electronic Information Engineering (M.Sc. / P.Grad.Dip.)<br>Applied Behaviour Analysis - MSc<br>Applied Clinical Neuropsychology - M.Sc.<br>Human Resource Management - MSc<br>Cognitive Behavioural Psychotherapy - MSc<br>Environmental Sciences - MSc/PgDip"
          ],
          [
           "nan, nan, nan, nan, nan, nan, nan, nan, nan, nan, nan, nan, nan, nan, nan, nan, nan, nan, nan, nan, nan, nan, nan, nan, nan, nan, nan, nan, nan, nan, nan, nan, nan, nan, nan, nan, nan, nan, nan, nan, nan, nan, nan, nan, nan, nan, nan",
           "Dublin",
           "MSc Marketing Practice<br>MSc Marketing & Retail Innovation<br>MSc International Political Economy<br>MSc Financial Mathematics<br>MSc Environmental Policy<br>MSc Education, Children & Youth<br>MSc Digital Technology for Sustainable Agriculture<br>MSc Economics and Data Analytics<br>MSc Equality Studies<br>MSc Environmental & Climate Law<br>MSc Environmental Technology<br>MSc Data & Computational Science<br>MSc Criminology & Criminal Justice<br>MSc Behavioural Neuroscience<br>MSc Animal Science<br>MSc Archaeology (Full-Time)<br>MSc Space Science & Technology<br>MSc Renewable Energy & Environmental Finance<br>MSc Quantitative Finance<br>MSc Social Data Science<br>MSc Risk, Resilience & Sustainability<br>MSc Sport Management: Sport<br>MSc Quantitative Economics<br>MSc Urban Design & Planning<br>MSc Subsurface Characterisation & Geomodelling<br>MSc Synthetic Chemistry Pharmaceutical & Fine Chemicals Industries<br>MSc(Agr) Sustainable Agriculture & Rural Development<br>MSc Wildlife Conservation & Management<br>MSc(Agr) Environmental Resource Management<br>MSc Plant Biology & Biotechnology<br>MSc Physics<br>MSc NanoBio Science<br>MSc Politics & Data Science<br>MSc International Law & Business<br>MSc Humanitarian Action<br>MSc Global Change: Ecosystem Science & Policy<br>MSc Horticulture<br>MSc Food Safety<br>MSc Human Computer Interaction (Full-Time)<br>MSc Biotherapeutics<br>MSc Chemistry<br>MSc Computer Science (Conversion)<br>MSc Comparative Social Change<br>MSc Biological and Biomolecular Science<br>MSc Computational Physics<br>MSc Coaching Science in Sport<br>MAgrSc Agricultural Extension & Innovation"
          ],
          [
           "nan",
           "Dublin",
           "Erasmus Mundus Joint Msc in Advanced Systems Dependability"
          ]
         ],
         "hovertemplate": "<b>%{hovertext}</b><br><br>city=%{customdata[1]}<br>latitude=%{lat}<br>longitude=%{lon}<br>fees_list=%{customdata[0]}<br>courses_list=%{customdata[2]}<extra></extra>",
         "hovertext": [
          "Trinity College Dublin",
          "University College Dublin",
          "Maynooth University"
         ],
         "lat": [
          53.34366745,
          53.3068763,
          53.3821766
         ],
         "legendgroup": "Dublin",
         "lon": [
          -6.254444724511822,
          -6.224625093340977,
          -6.5987338
         ],
         "marker": {
          "color": "#00cc96"
         },
         "mode": "markers",
         "name": "Dublin",
         "showlegend": true,
         "subplot": "mapbox",
         "type": "scattermapbox"
        },
        {
         "customdata": [
          [
           "nan, nan, nan, nan, nan, nan, nan, nan, nan, nan, nan, nan, nan, nan, nan, nan, nan, nan, nan, nan, nan, nan, nan, nan, nan, nan, nan, nan, nan, nan, nan, nan, nan, nan, nan, nan, nan, nan, nan, nan, nan, nan, nan, nan, nan, nan, nan, nan, nan, nan, 16000.0",
           "Lancaster",
           "Computer Science (by Research) - MSc<br>Biomedical Science - MSc (by Research)<br>Digital Business, Innovation and Management - MSc<br>Marketing Management (Advanced)<br>International Business and Strategy - MSc<br>Clinical Research - MSc<br>Environmental Management - MSc<br>Developmental Disorders - MSc<br>Developmental Psychology - MSc<br>Marketing - MSc<br>Engineering (by Research) - MSc<br>Criminal Justice and Social Research Methods - MSc<br>Data Science MSc<br>Health Economics and Policy - MSc<br>Ecology - MSc (by Research)<br>Business Analytics - MSc<br>Economics - MSc<br>Leadership Practice - MSc/PgDip<br>Leadership Practice - MSc<br>Leadership and Management - PG Cert<br>Leadership and Management (Health Care) - PG Cert<br>Economics, Finance and Data Analysis MSc<br>Conservation and Biodiversity - MSc<br>Human Resource Management - MSc<br>Biomedicine - MSc<br>Leadership Practice - PgDip<br>Investment Management and Financial Analysis - MSc<br>Criminology and Social Research Methods - MSc<br>Health Data Science MSc<br>Health Data Science MSc<br>Communication Systems (by Research) - MSc<br>Cyber Security - MSc<br>Chemistry - MSc (by Research)<br>Ageing - MSc<br>Engineering Project Management - MSc<br>Flood and Coastal Risk Management - MSc<br>Electronic Engineering - MSc<br>Finance - MSc<br>Food Security (Distance Learning) - MSc<br>Innovation and Improvement Science - MSc/PGDip/PGCert<br>Innovation and Improvement Science - MSc<br>Innovation and Improvement Science - PgCert<br>Innovation and Entrepreneurship - MSc<br>Innovation and Improvement Science - PgDip<br>Accounting and Financial Management - MSc<br>Logistics and Supply Chain Management - MSc<br>Data Science - MSc<br>Management - MSc<br>Environment and Development- MSc<br>Environmental Science - MSc (by Research)<br>Machine Learning: Applied Econometrics Postgraduate Programme"
          ]
         ],
         "hovertemplate": "<b>%{hovertext}</b><br><br>city=%{customdata[1]}<br>latitude=%{lat}<br>longitude=%{lon}<br>fees_list=%{customdata[0]}<br>courses_list=%{customdata[2]}<extra></extra>",
         "hovertext": [
          "Lancaster University"
         ],
         "lat": [
          54.00975365
         ],
         "legendgroup": "Lancaster",
         "lon": [
          -2.7875727317728654
         ],
         "marker": {
          "color": "#ab63fa"
         },
         "mode": "markers",
         "name": "Lancaster",
         "showlegend": true,
         "subplot": "mapbox",
         "type": "scattermapbox"
        },
        {
         "customdata": [
          [
           "nan, nan, 25380.0, nan, nan, nan, nan, nan, nan, nan, nan, nan, nan, nan, nan, nan, nan, 17030.0, 15730.0, nan, nan, nan, nan, nan, nan, nan, nan, nan, nan, nan, nan, nan, nan, nan, nan, nan, nan, nan, nan, nan, nan, nan, nan, nan, nan, nan, nan, nan, nan, nan, nan, nan, nan, nan, nan, nan, nan, nan, nan, nan, nan, nan, nan, nan, nan, nan, nan, nan, nan, nan, nan, nan, nan, nan, nan, nan, nan, nan, nan, nan, nan, nan, nan, nan, nan, nan, nan",
           "Birmingham",
           "Computer Science - MSc<br>Computer Science (Dubai) - MSc/PGDip<br>Bioimaging - MSc<br>Communications Engineering - MSc<br>Advanced Mechanical Engineering - MSc<br>Construction Management - MSc (Dubai Campus)<br>Marketing - MSc<br>Dental Materials Science - MSc/PGDip/PGCert<br>Clinical Neuropsychiatry - MSc/PGDip/PGCert<br>Financial Economics - MSc<br>Financial Management - MSc<br>Financial Engineering - MSc<br>Electronic and Computer Engineering - MSc<br>Electrical Power Systems - MSc<br>Electrical Power Systems with Advanced Research - MSc<br>Accounting and Finance - MSc<br>Developmental Science and Neurodiversity - MSc<br>Online MSc Bioinformatics<br>Online MSc International Management<br>Computational Neuroscience and Cognitive Robotics - MSc<br>Biomedical Innovation - MSc/PGDip/PGCert<br>Health Economics and Health Policy - MSc/PGDip<br>Business Analytics - MSc<br>Health Data Science - MSc/PGDip/PGCert<br>Health Care Policy and Management - MSc<br>Advanced Engineering Management (Project Management) - MSc<br>Advanced Engineering Management (Systems Management) - MSc<br>Advanced Engineering Management (Operations Management) - MSc<br>Advanced Engineering Management (Construction Management) - MSc<br>Economics - MSc<br>International Money and Banking - MSc<br>Healthcare Technology - MSc/PGDip<br>Conflict, Security and Development - MSc<br>Environment, Development and Politics - MSc<br>Advanced Manipulative Physiotherapy - MSc/PGDip<br>Advanced Clinical Practice - MSc/PGDip/PGCert<br>Human Resource Management - MSc<br>Industrial Project Management - MSc/PGDip/PGCert<br>Applied Mathematics - MSc<br>Advanced Child Protection Studies - MSc/PGDip/PGCert<br>Food Safety, Hygiene and Management - MSc/PGDip/PGcert<br>Investments - MSc<br>Health Research Methods - MSc/PGDip/PGCert<br>International Development (Conflict, Security and Development) (Distance Learning) - MSc/PGDip<br>International Development (by Distance Learning) - MSc/PGDip<br>International Development (Poverty, Inequality and Development) (Distance Learning) - MSc/PGDip<br>International Development - MSc<br>Air Pollution Management and Control - MSc/PGDip<br>Advanced Practice in Healthcare - MSc/PGDip/PGCert<br>Immunology and Immunotherapy - MSc<br>Applied Meteorology and Climatology - MSc<br>Environmental Health - MSc<br>Genomic Medicine - MSc/PGDip/PGCert<br>Health Economics and Econometrics - MSc/PGDip<br>Civil Engineering and Management - MSc/PgDip/PgCert<br>Earth Sciences Research - MSc<br>Cyber Security - MSc<br>Health, Safety and Environment Management - MSc/PGDip<br>Exercise and Sports Medicine (Football) - MSc/PGDip<br>Clinical Oncology (Full time) - MSc/PGDip<br>Clinical Oncology (Part time) - MSc/PGDip<br>Endodontics - MSc<br>Formulation Engineering Masters - MSc/PGDip<br>Fuel Cell and Hydrogen Technologies - MSc<br>Advanced Chemical Engineering with Bioprocessing - MSc/PGDip<br>Advanced Chemical Engineering with Formulation - MSc<br>Advanced Chemical Engineering - MSc/PGDip<br>Advanced Chemical Engineering with Healthcare Technology - MSc/PGDip<br>Advanced Chemical Engineering with Energy - MSc/PGDip<br>Hydrogeology - MSc<br>Advanced Engineering Management (with Specialist Pathways) - MSc<br>Bioinformatics - MSc/PGDip/PGCert<br>International Business - MSc<br>International Business (Dubai) - MSc<br>International Business (Singapore) - MSc<br>Clinical Trials - MSc/PGDip/PGCert<br>Development Policy and Politics - MSc<br>Data Science - MSc<br>Global Ethics and Justice - MSc<br>Global Ethics and Justice (Distance Learning) - MSc<br>Global Energy Technologies and Systems Masters - MSc<br>Advanced Computer Science - MSc<br>Civil Engineering - MSc/PgDip<br>Cognitive Neuroimaging and Data Science - MSc<br>Management - MSc<br>Human Computer Interaction - MSc<br>Geotechnical Engineering - MSc/PgDip/PgCert"
          ],
          [
           "nan, nan, 9625.0",
           "Birmingham",
           "Clinical Applications of Psychology MSc/PGDip/PGCert<br>Integrative Counselling and Psychotherapy Studies MSc (UKCP Accredited)<br>Integrative Counselling PgDip/MSc"
          ],
          [
           "nan, nan, nan, nan, nan, nan, nan",
           "Birmingham",
           "Global Meetings and Events Management MSc / PGDip<br>Finance and Accounting MSc/PGDip<br>Enterprise Management MSc/PGDip<br>International Tourism Management MSc / PGDip<br>Hospitality with Tourism Management MSc / PG Diploma<br>International Hospitality Management MSc / PGDip<br>Aviation Management MSc/PGDip"
          ],
          [
           "nan, nan, nan, nan, nan, nan, nan, nan",
           "Birmingham",
           "Advanced Dental Implantology MSc<br>Clinical Neurophysiology Practice MSc<br>Drug Delivery MSc<br>Health Psychology MSc (Online)<br>Health Psychology MSc<br>Advanced Hearing Therapy Practice MSc<br>Clinical Science (Neurosensory Sciences) MSc<br>Advanced Clinical Practice in Ocular Health MSc"
          ],
          [
           "nan, nan, nan",
           "Birmingham",
           "MA | MSc - Video Game Development<br>MA | MSc - Future Media<br>AdvProfDip | GradCert | PgCert - Clinical Hypnosis and Related Techniques"
          ]
         ],
         "hovertemplate": "<b>%{hovertext}</b><br><br>city=%{customdata[1]}<br>latitude=%{lat}<br>longitude=%{lon}<br>fees_list=%{customdata[0]}<br>courses_list=%{customdata[2]}<extra></extra>",
         "hovertext": [
          "University of Birmingham",
          "Birmingham Newman University",
          "University College Birmingham",
          "Aston University",
          "Birmingham City University"
         ],
         "lat": [
          52.4522956,
          52.43411935,
          52.481672,
          52.48620785,
          52.4822706
         ],
         "legendgroup": "Birmingham",
         "lon": [
          -1.9312856726008194,
          -1.9943107286222492,
          -1.9061374380791707,
          -1.888499150885147,
          -1.8888147987150585
         ],
         "marker": {
          "color": "#FFA15A"
         },
         "mode": "markers",
         "name": "Birmingham",
         "showlegend": true,
         "subplot": "mapbox",
         "type": "scattermapbox"
        },
        {
         "customdata": [
          [
           "nan, nan, nan, nan, nan, nan, nan, nan, nan, 12660.0, nan, nan, nan, nan, nan, nan, nan, nan, nan, nan, nan, 12660.0, nan, nan, nan, nan, nan, nan, nan, 12660.0, nan, nan, nan, nan, nan, nan, nan, nan, nan, nan, 12660.0, nan, nan, nan, nan, nan",
           "Brighton",
           "Computer Science (Conversion) - MSc<br>Global Biodiversity Conservation - MSc<br>Entrepreneurship and Innovation - MSc<br>International Management - MSc<br>Climate Change, Development and Policy - MSc<br>Climate Change, Development and Policy - MSc<br>International Business Economics - MSc<br>Advanced Mechanical Engineering - MSc<br>Management of Information Technology - MSc<br>Global Supply Chain Management MSc (online)<br>Global Supply Chain and Logistics Management - MSc<br>Fintech, Risk and Investment Analysis MSc<br>Cancer Cell Biology - MSc<br>Accounting and Finance - MSc<br>International Business and Development - MSc<br>Physics - MSc<br>Engineering Business Management - MSc<br>Astronomy - MSc<br>Data Science - MSc<br>Advanced Electronic and Electrical Engineering - MSc<br>Computing with Digital Media - MSc<br>Sustainable Development MSc (online)<br>Financial Mathematics - MSc<br>Artificial Intelligence and Adaptive Systems (with an industrial placement year) - MSc<br>Artificial Intelligence and Adaptive Systems MSc<br>Genetic Manipulation and Molecular Cell Biology - MSc<br>5G Mobile Communications and Intelligent Embedded Systems - MSc<br>5G Mobile Communications and Intelligent Embedded Systems (with an industrial placement year) - MSc<br>Data Science (with an industrial placement year) - MSc<br>International Marketing MSc (online)<br>Management and Finance - MSc<br>Cosmology - MSc<br>Banking and Finance - MSc<br>International Finance and Economics - MSc<br>Marketing and Consumer Psychology - MSc<br>Energy and Climate Policy - MSc<br>Foundations of Clinical Psychology and Mental Health - MSc<br>Development Economics - MSc<br>Corporate and Financial Risk Management - MSc<br>Management - MSc<br>Energy Policy MSc (online)<br>Advanced Computer Science - MSc<br>Financial Data Analytics - MSc<br>Human Resource Management - MSc<br>Cognitive Neuroscience - MSc<br>Human and Social Data Science - MSc"
          ],
          [
           "nan, nan, nan, nan, nan, nan, nan, nan, nan, nan, nan, nan, nan, nan, nan, nan, nan, nan, nan, nan, nan, nan, nan, nan, nan, nan, nan, nan, nan, nan, nan, nan, nan, nan, nan, nan, nan, nan, nan, nan, nan",
           "Brighton",
           "International Management MSc (PGCert PGDip)<br>Applied Exercise Physiology MSc (PGCert PGDip)<br>Community Specialist Practice MSc (PGDip)<br>Construction Management MSc (PGCert PGDip)<br>Applied Sport Physiology MSc (PGCert PGDip)<br>Finance and Risk Management MSc<br>Finance and Investment MSc (PGCert PGDip)<br>International Event Management MSc (PGCert PGDip)<br>Finance and Accounting MSc<br>Finance and Banking MSc<br>Diagnostic Radiography (pre-registration) MSc<br>Marketing (International Marketing) MSc (PGCert PGDip)<br>Marketing (Branding and Communications) MSc (PGCert PGDip)<br>Marketing (Digital Marketing) MSc (PGCert PGDip)<br>European MSc in Occupational Therapy<br>European Master of Science in Occupational Therapy (post-graduation programme)<br>Marketing MSc (PGCert PGDip)<br>Economics and Finance MSc (PGCert PGDIP)<br>Health and Management MSc (PGCert PGDip)<br>Health and Education MSc (PGCert PGDip)<br>Energy and Environmental Performance of Buildings MSc<br>Logistics and Supply Chain Management MSc (PGCert PGDip)<br>Advanced Occupational Therapy MSc (PGCert PGDip)<br>Geographical Information Systems and Environmental Management MSc (PGDip)<br>Digital Construction MSc<br>Environmental Assessment and Management MSc (PGCert PGDip)<br>Health MSc (PGCert PGDip)<br>Health Promotion MSc (PGCert PGDip)<br>International Tourism Management MSc (PGCert PGDip)<br>Data Analytics MSc (PGCert PGDip)<br>Accounting (ACCA) MSc (PGCert PGDip)<br>Earthquake and Structural Engineering MSc<br>Management MSc (PGCert PGDip)<br>Marketing (Social Marketing) MSc (PGCert PGDip)<br>Advanced Podiatry MSc (PGCert PGDip)<br>Advanced Physiotherapy MSc (PGCert PGDip)<br>Management (Human Resources) MSc (PGCert PGDip)<br>Management (Entrepreneurship) MSc (PGCert PGDip)<br>Civil Engineering MSc (PGCert PGDip)<br>Advanced Clinical Practice MSc (PGCert, PGDip)<br>Clinical Pharmacy MSc"
          ]
         ],
         "hovertemplate": "<b>%{hovertext}</b><br><br>city=%{customdata[1]}<br>latitude=%{lat}<br>longitude=%{lon}<br>fees_list=%{customdata[0]}<br>courses_list=%{customdata[2]}<extra></extra>",
         "hovertext": [
          "University of Sussex",
          "University of Brighton"
         ],
         "lat": [
          50.86796665,
          50.81361615
         ],
         "legendgroup": "Brighton",
         "lon": [
          -0.08778899363132905,
          0.24785304229161031
         ],
         "marker": {
          "color": "#19d3f3"
         },
         "mode": "markers",
         "name": "Brighton",
         "showlegend": true,
         "subplot": "mapbox",
         "type": "scattermapbox"
        },
        {
         "customdata": [
          [
           "nan, nan, nan, nan, nan, nan, nan, nan, nan, nan, nan, nan, nan, nan, nan, nan, nan, nan",
           "Chester",
           "Computer Science (Conversion) MSc<br>Marketing Management MSc<br>Banking and Finance MSc<br>Electronic and Electrical Engineering MSc<br>Cybersecurity (Conversion) MSc<br>Data Science MSc<br>Management MSc / PGDip / PGCert<br>Animal Welfare MSc<br>Engineering Management MSc<br>Health Services Management MSc<br>International Finance MSc<br>Animal Behaviour MSc<br>Accounting MSc<br>Marine and Coastal Resource Management MSc<br>Digital Marketing MSc / PGDip / PGCert<br>Advanced Computer Science MSc<br>MA/MSc/MBA - Work Based and Integrative Studies (WBIS)<br>International Business MSc"
          ]
         ],
         "hovertemplate": "<b>%{hovertext}</b><br><br>city=%{customdata[1]}<br>latitude=%{lat}<br>longitude=%{lon}<br>fees_list=%{customdata[0]}<br>courses_list=%{customdata[2]}<extra></extra>",
         "hovertext": [
          "University of Chester"
         ],
         "lat": [
          53.200264250000004
         ],
         "legendgroup": "Chester",
         "lon": [
          -2.8993188621319756
         ],
         "marker": {
          "color": "#FF6692"
         },
         "mode": "markers",
         "name": "Chester",
         "showlegend": true,
         "subplot": "mapbox",
         "type": "scattermapbox"
        },
        {
         "customdata": [
          [
           "nan, nan, nan, nan, nan, nan, nan, nan, nan, nan, nan, nan, nan, nan, nan, nan, nan, nan, nan, nan, nan, nan, nan, nan, nan, nan, nan, nan, nan, nan, nan, nan, nan, nan, nan, nan, nan, nan, nan, nan, nan, nan, nan, nan, nan, nan, nan, nan, nan, nan, nan, nan, nan, nan, nan, nan, nan, nan, nan, nan, nan",
           "Newcastle",
           "Computer Science - MSc<br>Clinical and Health Sciences - MSc/PGDip/PGCert<br>Clinical and Health Sciences with Clinical Research - MSc/PGDip/PGCert<br>Clinical and Health Sciences with Molecular Pathology - MSc/PGDip/PGCert<br>International Marine Environmental Consultancy (IMEC) - MSc<br>Digital Business (E-Marketing) - MSc<br>Digital Business - MSc<br>Bioinformatics - MSc<br>Global Human Resource Management - MSc<br>International Business Management - MSc<br>Conservation and Ecosystem Management - MSc<br>Engineering Geology - MSc<br>International Marketing - MSc<br>Forensic Psychology - MSc<br>Economics and Data Science MSc<br>Economics and Finance - MSc<br>Landscape Architecture Studies MA<br>Economics MSc<br>Accounting, Finance and Financial Analysis - MSc<br>Accounting, Finance and Strategic Investment - MSc<br>Advanced Landscape Planning and Management MSc<br>Drug Chemistry - MSc<br>Hydrology and Water Management MSc<br>Hydroinformatics and Water Management (Euro Aquae) - MSc<br>Hydrogeology and Water Management - MSc<br>Electrical Power - MSc<br>Embedded Systems and Internet of Things (ES-IoT) - MSc<br>Cloud Computing - MSc<br>Global Public Health MSc, PGDip<br>Industrial and Commercial Biotechnology - MSc<br>Advanced Architectural Design MSc<br>Automation and Control - MSc<br>Agricultural and Environmental Science - MSc<br>Communications and Signal Processing - MSc<br>Environmental Engineering - MSc<br>Cyber Security - MSc<br>Exercise Physiology MSc<br>Health Services Research - MSc/PGDip<br>Chemistry MSc<br>Data Science (with specialisation in Visualization) MSc, PGDip, PGCert<br>Data Science (with specialisation in Artificial Intelligence) MSc, PGDip, PGCert<br>Data Science (with specialisation in Statistics) MSc, PGDip, PGCert<br>Language Pathology - MSc<br>Behavioural and Experimental Economics MSc<br>Finance - MSc<br>Banking and Finance - MSc<br>Computer Game Engineering - MSc<br>Data Science MSc/PGDip/PGCert<br>Foundations in Clinical Psychology - MSc<br>Human-Computer Interaction MSc<br>Biomedical Engineering - MSc<br>Clinical Science MSc<br>Marine Engineering - MSc<br>Marine Technology Education Consortium - MSc/PGDip/PGCert<br>Digital and Technology Solutions (Cyber Security Specialist) MSc (Specialist Integrated Degree Apprenticeship)<br>Digital and Technology Solutions (Data Analytics Specialist) MSc (Specialist Integrated Degree Apprenticeship)<br>Digital and Technology Solutions (Software Engineering Specialist) MSc (Specialist Integrated Degree Apprenticeship)<br>Advanced Computer Science - MSc<br>Clinical Linguistics and Evidence Based Practice (Research) - MSc/PGDip<br>Entrepreneurship, Innovation and Sustainability MSc<br>Geotechnical Engineering - MSc"
          ],
          [
           "nan, nan, nan, nan, nan, nan, nan, 9075.0, nan, nan, nan, nan, nan, nan, nan, nan, nan, nan, nan, nan, nan, nan, nan, nan, nan, 9075.0, nan, nan, nan, nan, nan, nan, nan, nan, 9950.0, nan, nan, nan, nan, nan, 9075.0",
           "Newcastle",
           "Entrepreneurship and Innovation Management MSc<br>Applied Economics MSc<br>Global Human Resource Management MSc<br>Global Logistics, Operations and Supply Chain Management MSc<br>Finance MSc<br>Forensic Accounting MSc<br>Computer Science MSc<br>Computer Science MSc (Online)<br>Construction Project Management with BIM MSc<br>Construction Project Management with BIM MSc<br>Data Science MSc<br>Sport and Exercise Psychology MSc<br>Health and Social Practice MSc<br>Economics and Sustainability MSc<br>Healthcare Management MSc<br>Law (Cyber Law) LLM<br>Biotechnology MSc<br>Disaster Management and Sustainable Development MSc<br>International Development MSc<br>International Development MSc<br>Electrical Power Engineering MSc<br>Health Psychology MSc<br>International Business Management MSc<br>Engineering Management MSc<br>Artificial Intelligence MSc<br>Business and Management MSc (Online)<br>Business Analytics MSc<br>International Hospitality and Tourism Management MSc<br>Forensic Science MSc<br>Business and Management MSc<br>International Finance and Investment MSc<br>Marketing MSc<br>International Sport Management MSc<br>Accounting and Finance MSc<br>Psychology MSc (Online Conversion Course)<br>Psychology MSc<br>Advanced Computer Science MSc<br>Clinical Exercise Physiology MSc<br>Environmental Monitoring, Modelling and Reconstruction MSc<br>Digital Marketing MSc<br>Digital Marketing MSc (Online)"
          ]
         ],
         "hovertemplate": "<b>%{hovertext}</b><br><br>city=%{customdata[1]}<br>latitude=%{lat}<br>longitude=%{lon}<br>fees_list=%{customdata[0]}<br>courses_list=%{customdata[2]}<extra></extra>",
         "hovertext": [
          "Newcastle University",
          "Northumbria University"
         ],
         "lat": [
          54.98017505,
          54.977755349999995
         ],
         "legendgroup": "Newcastle",
         "lon": [
          -1.6146802127187847,
          -1.607282403525396
         ],
         "marker": {
          "color": "#B6E880"
         },
         "mode": "markers",
         "name": "Newcastle",
         "showlegend": true,
         "subplot": "mapbox",
         "type": "scattermapbox"
        },
        {
         "customdata": [
          [
           "nan, nan, nan, nan, nan, nan, nan, nan, nan, nan, nan, nan, nan, nan, nan, nan, nan, nan, nan, nan, nan, nan, nan, nan, nan, nan, nan, nan, nan, nan, nan, nan, nan, nan, nan, nan, nan, nan, nan, nan, nan, nan, nan, nan, nan, nan, nan, nan, nan, nan, nan, nan, nan, nan, nan, nan, nan, nan, nan, nan, nan, nan, nan, nan, nan, nan, nan, nan, nan, nan, nan, nan, nan, nan, nan, nan, nan, nan, nan, nan, nan, nan",
           "Bristol",
           "Computer Science (Conversion) - MSc<br>Business Innovation and Entrepreneurship - MSc<br>Advanced Microelectronic Systems Engineering - MSc<br>Engineering with Management - MSc<br>Epidemiology - MSc<br>Bioinformatics - MSc<br>Climate Change Science and Policy - MSc<br>International Business and Strategy: Global Challenges - MSc<br>Clinical Research Methods and Evidence-Based Medicine - MSc<br>Dental Implantology - MSc<br>Global Wildlife Health and Conservation - MSc<br>Clinical Neuropsychology - MSc<br>Accounting and Finance - MSc<br>Marketing - MSc<br>Global Operations and Supply Chain Management - MSc<br>Data Science (Online) - MSc<br>Health Economics and Health Policy Analysis - MSc<br>Business Analytics - MSc<br>Economics and Finance - MSc<br>Economics - MSc<br>Healthcare Management (Online) - MSc<br>Geographic Data Science and Spatial Analytics - MSc<br>Economics with Data Science - MSc<br>Economics, Finance and Management - MSc<br>Accounting, Finance and Management - MSc<br>Gender and International Relations - MSc<br>Environmental Analytical Chemistry - MSc<br>Image and Video Communications and Signal Processing - MSc<br>Immersive Technologies (Virtual and Augmented Reality) - MSc<br>Financial Technology - MSc<br>Management (Project Management) - MSc<br>Biomedical Sciences Research - MSc<br>International Development - MSc<br>Health Professions Education (Online) - MSc<br>Applied Neuropsychology - MSc<br>Applied Neuropsychology (Online) - MSc<br>Aerial Robotics - MSc<br>Earthquake Engineering and Infrastructure Resilience - MSc<br>East Asian Development and the Global Economy - MSc<br>Earth Sciences - MSc by Research<br>Finance and Investment - MSc<br>Communication Networks and Signal Processing - MSc<br>Cyber Security (Infrastructures Security) - MSc<br>Chemistry - MSc by Research<br>Contemporary Identities - MSc<br>Development and Security - MSc<br>Cardiovascular Perfusion (Online) - MSc<br>Engineering Mathematics - MSc<br>Banking, Regulation and Financial Stability - MSc<br>Digital Health - MSc<br>Human Resource Management and the Future of Work - MSc<br>Management (International Business) - MSc<br>Management (Entrepreneurship and Innovation) - MSc<br>Management (International Human Resource Management) - MSc<br>Management (Marketing) - MSc<br>Human-Computer Interaction - MSc (Online)<br>Innovation and Entrepreneurship - MSc<br>Education (Mathematics Education) - MSc<br>Education (Learning, Technology and Society) - MSc<br>Education (Education and Climate Change) - MSc<br>Education (Inclusive Education) - MSc<br>Education (Open Pathway) - MSc<br>Education (Teaching and Learning) - MSc<br>Education (Policy and International Development) - MSc<br>Education (Neuroscience and Education) - MSc<br>Education (Leadership and Policy) - MSc<br>Financial Technology with Data Science - MSc<br>Digital and Technological Society - MSc<br>Human Geography: Society and Space - MSc<br>Data Science - MSc<br>Cellular and Molecular Medicine - MSc by Research<br>Management (CSR and Sustainability) - MSc<br>Management (Digitalisation and Big Data) - MSc<br>Clinical Perfusion Science - MSc<br>Global Development and Environment - MSc<br>Global Environmental Challenges - MSc by Research<br>Advanced Composites - MSc<br>Environmental Policy and Management - MSc<br>Environmental Modelling and Data Analysis - MSc<br>Management - MSc<br>International Relations - MSc<br>International Security - MSc"
          ],
          [
           "11500.0, 8400.0, 10000.0, 10000.0, 10000.0, 10000.0, nan, 9000.0, 10000.0, 9000.0, 10000.0, 9000.0, 10000.0, 10000.0, 8200.0, 9000.0, 8400.0, 9000.0, 9000.0, 9750.0, 10000.0, 10000.0, 8200.0, 9000.0, nan, 8200.0, 10000.0, 9000.0, 10000.0, 9000.0, 9000.0, 9000.0, 8400.0, 9000.0, 9000.0, 4150.0, 9000.0, 9000.0, 9000.0, 10000.0, 8400.0",
           "Bristol",
           "Facade Engineering - MSc<br>Biomedical Science - MSc/PGDip<br>Business with Supply Chain Management - MSc<br>Marketing Communications - MSc<br>Events Management - MSc<br>International Management - MSc<br>Conservation Leadership - MSc<br>Construction Project Management - MSc<br>Marketing - MSc<br>Engineering Management - MSc<br>Digital Marketing - MSc<br>Environmental Management - MSc<br>Accounting and Finance - MSc<br>Business with Digital Management - MSc<br>Business Psychology - MSc<br>Construction Project Management (Distance Learning) - MSc<br>Advanced Wildlife Conservation in Practice - MSc<br>Building Information Modelling (BIM) in Design Construction and Operations - MSc<br>Data Science - MSc<br>Applied Transfusion and Transplantation Science - MSc<br>Human Resource Management - MSc<br>Financial Technology (FinTech) - MSc<br>Health Psychology - MSc<br>Environmental Consultancy - MSc<br>Advanced Practice - MSc<br>Environmental Health - MSc<br>Business Management - MSc<br>Commercial Games Development - MSc<br>Finance and Investment - MSc<br>Cyber Security - MSc<br>Information Technology - MSc<br>Health Technology - MSc<br>Biomedical Science - MSc/PGDip<br>Artificial Intelligence - MSc<br>Building Surveying - MSc<br>Human Resource Management (part-time) - MSc<br>Computational Architecture - MSc<br>Information Management - MSc<br>Civil Engineering - MSc<br>Human Resource Management (International) - MSc<br>Forensic Science - MSc"
          ]
         ],
         "hovertemplate": "<b>%{hovertext}</b><br><br>city=%{customdata[1]}<br>latitude=%{lat}<br>longitude=%{lon}<br>fees_list=%{customdata[0]}<br>courses_list=%{customdata[2]}<extra></extra>",
         "hovertext": [
          "University of Bristol",
          "University of the West of England, Bristol"
         ],
         "lat": [
          51.4905582,
          51.50076785
         ],
         "legendgroup": "Bristol",
         "lon": [
          -2.6304824978595356,
          -2.5503106339491204
         ],
         "marker": {
          "color": "#FF97FF"
         },
         "mode": "markers",
         "name": "Bristol",
         "showlegend": true,
         "subplot": "mapbox",
         "type": "scattermapbox"
        },
        {
         "customdata": [
          [
           "nan, nan, nan, nan, nan, nan, nan, nan, nan, nan, nan, nan, nan, nan, nan, nan, nan, nan, nan, nan, nan, nan, nan, nan, nan, nan, nan, nan, nan, nan, nan, nan, nan, nan, nan, nan, nan, nan, nan, nan, nan, nan, nan",
           "London",
           "Clinical Applications of Psychology (MSc)<br>Cancer Biology (MSc)<br>Marketing Communications and Advertising (MSc)<br>Historic Building Conservation (MSc)<br>Global Human Resource Management (MSc)<br>Management in Construction (Civil Engineering) (MSc)<br>Management in Construction (MSc)<br>Innovation Management & Entrepreneurship (with pathway) (MSc)<br>Banking and Finance (MSc)<br>Environmental Management (MSc)<br>Marketing & Brand Management (MSc)<br>Data Science (MSc)<br>Biomedical Science - Medical Microbiology (MSc)<br>Biomedical Science - Haematology with Management Studies (MSc)<br>Biomedical Science - Haematology (MSc)<br>Biomedical Science - Medical Microbiology with Management Studies (MSc)<br>Accounting and Finance (MSc)<br>Healthcare Practice (MSc/PgCert/PgDip)<br>Leadership and Management in Health (MSc/PGDip/PGCert)<br>Game Development (Programming) (MSc)<br>Aerospace Engineering (MSc)<br>Learning Disabilities Nursing (MSc)<br>Advanced Product Design Engineering & Manufacturing (MSc)<br>Investment and Financial Risk Management (MSc)<br>Finance (MSc)<br>Information Systems (MSc)<br>Advanced Clinical Practice (MSc)<br>Engineering Projects & Systems Management (MSc)<br>Behavioural Decision Science (MSc)<br>Forensic Science (Analysis/Toxicology) (MSc)<br>Building Surveying (MSc)<br>Logistics and Supply Chain Management (MSc)<br>Financial Technology MSc (subject to validation)<br>Child Psychology (MSc)<br>Analytical Chemistry (MSc)<br>Clinical Leadership (MSc/PgCert/PgDip)<br>Financial and Business Management (MSc)<br>Electronics and Robotics (MSc)<br>Human Resource Management (MSc top-up)<br>International Relations (MSc)<br>Adult Nursing (MSc)<br>Forensic Psychology (MSc)<br>International Business Management with pathways in General Management, Entrepreneurship, Marketing and Project Management (MSc)"
          ],
          [
           "nan, nan, 18000.0, 18000.0, nan, 18000.0, 16100.0, 18000.0, 18000.0, 18000.0, 18000.0, 18000.0, 14100.0, 16100.0, 14100.0, nan, 35000.0, 32100.0, 32100.0, 18000.0, 21200.0, 21200.0, 18000.0, 18000.0, 18000.0, 14100.0, 14100.0, 18000.0, 18000.0, nan, 18000.0, 14100.0, 14100.0, 14100.0, 35000.0, 41500.0, nan, 14100.0, 16100.0, nan, 11800.0, 16100.0, 16100.0, 29000.0, nan, 16100.0, 18000.0, nan, 18000.0, 14100.0, 18000.0, 26200.0, 18000.0, nan, 18000.0, 14100.0, 14100.0, 18000.0, 18000.0, 14100.0, 18000.0, nan, 14100.0, 18000.0, 14100.0, 18000.0, 18000.0, nan, 18000.0, 21200.0, 14100.0, 18000.0, 29000.0, 16100.0, nan, nan, nan, 18000.0, nan, 14100.0, 18000.0, 18000.0, 14100.0, nan, 14100.0, 18000.0, 21200.0, 16100.0, 11800.0, 14100.0, nan, 14100.0, nan, nan, 14100.0, 14100.0, 14100.0, 14100.0, 16100.0, 21200.0, 16100.0, 18000.0, 14100.0, 16100.0, 18000.0, 18000.0, nan, 18000.0, 18000.0, 18000.0, 16100.0, 14100.0, 18000.0, nan, 14100.0, 14100.0, 38300.0, 24200.0, nan, 18000.0, 18000.0, 16100.0, 18000.0, nan, nan, 11800.0, 18000.0, 18000.0, 18000.0, 14100.0, nan, 14100.0, 14100.0, 14100.0, 14100.0, 14100.0, 14100.0, 14100.0, 14100.0, 21200.0, 14100.0, 11800.0, 18000.0, 14100.0, 14100.0, 14100.0, 14100.0, 21200.0, 18000.0, 38300.0, 18000.0, 18000.0, 14100.0, nan, 14100.0, 14100.0, 14100.0, 14100.0, nan, 14100.0, 14100.0, 14100.0, 14100.0, 35000.0, 32100.0, nan, 18000.0, 18000.0, 18000.0, 18000.0, 14100.0, 16100.0, 16100.0, nan, 16100.0, 16100.0, 14100.0, nan, 14100.0, nan, nan, 14100.0, nan, 41500.0, 18000.0, 16100.0, 18000.0, 11800.0, 18000.0, 11800.0, nan, 18000.0, 16100.0, nan, nan, 18000.0, 18000.0, nan, 14100.0, 11800.0, 7050.0, 14100.0, 14100.0, 14100.0, 18000.0, 18000.0, 14100.0, 14100.0, 18000.0, 18000.0, 14100.0, 18000.0, 18000.0",
           "London",
           "Clinical Associate in Psychology (Adult Mental Health) apprenticeship programme MSc<br>Clinical and Public Health Nutrition MSc<br>Engineering with Innovation and Entrepreneurship MSc<br>Engineering with Finance MSc<br>Applied Infectious Disease Epidemiology MSc<br>Entrepreneurship MSc<br>International City Planning MSc<br>Biomaterials and Tissue Engineering MSc<br>Biodiversity and Global Change MSc<br>Global Healthcare Management (Analytics) MSc<br>Global Healthcare Management (Leadership) MSc<br>Global Healthcare Management (Finance) MSc<br>Climate Change MSc<br>Conservation MSc<br>Conservation for Archaeology and Museums MSc<br>Conservation of Contemporary Art and Media MSc<br>Conservative Dentistry MSc<br>Data Science and Public Policy (Political Science) MSc<br>Data Science and Public Policy (Economics) MSc<br>Data Science and Machine Learning MSc<br>Global Management of Natural Resources MSc<br>Global Management of Natural Resources MSc<br>Clinical Pharmacy, International Practice and Policy MSc<br>Clinical Pharmacy, International Practice and Policy with Extended Placement MSc<br>Democracy and Comparative Politics MSc<br>Dementia: Causes, Treatments and Research (Neuroscience) MSc<br>Dementia: Causes, Treatments and Research (Mental Health) MSc<br>Global Governance and Ethics MSc<br>Engineering for International Development MSc<br>Digital Manufacturing of Advanced Materials MSc<br>Global Urbanism MASc<br>Clinical Neurology (by Distance Learning) MSc<br>Clinical Neuroscience MSc<br>Clinical Mental Health Sciences MSc<br>Cancer MSc<br>Finance MSc<br>Developmental Psychology and Clinical Practice MSc<br>Global Migration MSc<br>Aquatic Conservation, Ecology and Restoration MSc<br>Archaeological Science: Technology and Materials MSc<br>Engineering and Education MSc<br>Crime Science with Data Science MSc<br>Crime Science with Cybercrime MSc<br>Computational Finance MSc<br>Data Science MSc<br>Clinical Drug Development MSc<br>Health in Urban Development MSc<br>Ecology and Data Science MSc<br>Biomedical Sciences MSc<br>Astrophysics MSc<br>European Politics and Policy MSc<br>Economics MSc<br>Economics and Policy of Energy and the Environment MSc<br>Early Child Development and Clinical Applications MSc<br>Light and Lighting MSc<br>Knowledge, Information and Data Science MSc<br>Brain and Mind Sciences MSc<br>Building and Urban Design in Development MSc<br>Chemical Process Engineering MSc<br>Chemical Research MSc<br>Connected Environments MSc<br>Future Manufacturing and Nanoscale Engineering MSc<br>Financial Mathematics MSc<br>Internet Engineering MSc<br>Environment, Politics and Society MSc<br>Environment and Sustainable Development MSc<br>Drug Discovery and Development MSc<br>Drug Design MSc<br>Drug Discovery and Pharma Management MSc<br>Construction Economics and Management MSc<br>Advanced Neuroimaging MSc<br>Disability, Design and Innovation MSc<br>Financial Risk Management MSc<br>Architectural Computation MSc<br>Countering Extremist Crime and Terrorism MSc<br>Crime and Forensic Science MSc<br>Crime Science MSc<br>Learning Environments MSc<br>Infection and Immunity MSc<br>Infancy and Early Childhood Development MSc<br>International Public Policy MSc<br>International Real Estate and Planning MSc<br>International Development in the Americas MSc<br>Educational Neuroscience MSc<br>Bioarchaeological and Forensic Anthropology MSc<br>Biochemical Engineering MSc<br>Digital Engineering Management MSc<br>Manufacture and Commercialisation of Stem Cell and Gene Therapies MSc<br>Health Psychology MSc<br>Environmental Archaeology MSc<br>Health Professions Education MSc<br>Health Informatics MSc<br>Global Prosperity MSc<br>Implant Dentistry MSc<br>Applied Paediatric Neuropsychology MSc<br>Advanced Audiology: Otology and Skull Base Surgery MSc<br>Advanced Audiology MSc<br>Advanced Audiology: Audiovestibular Medicine MSc<br>Advanced Biomedical Imaging MSc<br>Genetics of Human Disease MSc<br>Genetics and Multiomics in Medicine MSc<br>Computer Science MSc<br>Health Data Science MSc<br>Health Economics and Decision Science MSc<br>Civil Engineering (with Seismic Design) MSc<br>Civil Engineering (with Integrated Design) MSc<br>Civil Engineering (with Environmental Systems) MSc / PG Dip<br>Civil Engineering (with Transport) MSc<br>Civil Engineering (with Infrastructure Planning) MSc<br>Civil Engineering (with Fluids) MSc<br>Housing and City Planning MSc<br>History and Philosophy of Science MSc<br>Earthquake Engineering with Disaster Management MSc<br>Eating Disorders and Clinical Nutrition MSc<br>Anthropology, Environment and Development MSc<br>Applied Analytical Chemistry MSc<br>Management MSc<br>Management of Complex Projects MSc<br>Anthropology and Professional Practice MSc<br>Artificial Intelligence for Sustainable Development MSc<br>Artificial Intelligence for Biomedicine and Healthcare MSc<br>Artificial Intelligence and Medical Imaging MSc<br>Experimental and Translational Immunology MSc<br>Experimental Pharmacology and Therapeutics MSc<br>Chemical Sustainability MSc<br>Humanitarian Policy and Practice MSc<br>Health, Wellbeing and Sustainable Buildings MSc<br>Healthcare Facilities MSc<br>Development Administration and Planning MSc<br>Aesthetics (Minimally-invasive Aesthetics) MS<br>Aesthetics (Aesthetic Surgery) MS<br>Language Sciences: Development of Language and Speech MSc<br>Language Sciences: Principles of Language and Speech MSc<br>Language Sciences: Technology of Language and Speech MSc<br>Language Sciences (Neuroscience, Language and Speech) MSc<br>Latin American Politics MSc<br>Language Sciences (Sign Language and Deaf Studies) MSc<br>Language Sciences (Sign Language and Deaf Studies) MSc<br>Language Sciences: Neuroscience of Language and Speech MSc<br>Business Analytics MSc<br>Behaviour Change MSc<br>Dental Public Health MSc<br>Business and Sustainability MSc<br>Brain and Mind Sciences MSc<br>Audiological Science with Clinical Practice MSc<br>Audiological Science MSc<br>Digital Humanities MSc<br>Digital Innovation in Built Asset Management MSc<br>Digital Health and Entrepreneurship MSc<br>Banking and Digital Finance MSc<br>Computational Statistics and Machine Learning MSc<br>Computer Graphics, Vision and Imaging MSc<br>Clinical Paediatric Neuropsychology MSc<br>Clinical Ophthalmic Practice MSc<br>Clinical Neuroscience: Neuromuscular Disease MSc<br>Clinical Neuroscience: Stroke MSc<br>Geophysical Hazards MSc<br>Global Health and Development MSc<br>Advanced Propulsion MSc<br>Advanced Physiotherapy: Musculoskeletal MSc<br>Advanced Physiotherapy: Neurophysiotherapy MSc<br>Advanced Physiotherapy: Cardiorespiratory MSc<br>Advanced Physiotherapy: Paediatrics MSc<br>Endodontics MSc<br>Emerging Digital Technologies MSc<br>Burns, Plastic and Reconstructive Surgery MSc<br>Built Environment: Environmental Design and Engineering MSc<br>Built Environment: Sustainable Heritage (Heritage Science) MSc<br>Built Environment : Sustainable Heritage (Data Science) MSc<br>Built Environment: Sustainable Heritage (Heritage Management) MSc<br>Human-Computer Interaction MSc<br>Human Tissue Repair MSc<br>Infrastructure Systems MSc<br>Infrastructure Investment and Finance MSc<br>Infrastructure Planning, Appraisal and Development MSc<br>Bio-Integrated Design MSc<br>Computational Archaeology: GIS, Data Science and Complexity MSc<br>Clinical Trials MSc<br>Advanced Materials Science (Energy Storage) MSc<br>Advanced Materials Science (Materials Innovation and Enterprise) MSc<br>Advanced Materials Science (Sustainability) MSc<br>Advanced Materials Science MSc<br>Advanced Materials Science (Data-driven Innovation) MSc<br>Financial Technology MSc<br>Manufacturing with Innovation and Enterprise MSc<br>Marine Engineering MSc<br>Civil Engineering MSc<br>Developmental and Educational Psychology MSc<br>Digital Anthropology MSc<br>Dietetics MSc<br>Human Evolution and Behaviour MSc<br>Integrated Machine Learning Systems MSc<br>Cell & Gene Therapy MSc<br>Cardiovascular Science MSc<br>Advanced Clinical Practice in Ophthalmology (integrated degree apprenticeship) MSc<br>Information Security MSc<br>Energy Systems and Data Analytics (ESDA) MSc<br>Ecology and Urban Engineering MSc<br>Child and Adolescent Mental Health MSc<br>Child Development MSc<br>Anaesthesia and Perioperative Science MSc<br>Environmental Modelling MSc<br>Cognitive Neuroscience MSc<br>Cognitive and Decision Sciences MSc<br>Environmental Systems Engineering MSc<br>Machine Learning MSc<br>International Relations of the Americas MSc<br>Materials and Molecular Modelling MSc<br>Geospatial Sciences MSc<br>Geospatial Sciences (Hydrographic Surveying) MSc<br>Geoscience MSc<br>Geospatial Sciences (Geographic Information Science and Computing) MSc<br>Geospatial Sciences (Building Information Modelling and Surveying) MSc"
          ],
          [
           "nan, nan, nan, nan, nan, nan, nan, nan, nan, nan, nan, nan, nan, nan, nan, nan, nan, nan, nan, nan, nan, nan, nan, nan, nan, nan, nan, nan, nan, nan, nan, nan, nan, nan, nan, nan, nan, nan, nan, nan, nan, nan, nan, nan, nan, nan, nan, nan, nan, nan, nan, nan, nan, nan, nan, nan, nan, nan, nan, nan",
           "London",
           "Facilities Management (Distance Learning) MSc<br>Applied Food Safety and Quality Management PGDip/MSc<br>Applied Food Safety and Quality Management with Industrial Practice, MSc<br>Construction Management and Economics MSc<br>Finance and Investment MSc (DUAL Award, Greenwich and New Zealand)<br>Food Innovation MSc<br>MSc Film Production<br>Fintech and Finance MSc<br>Electrical Power Engineering with Industrial Practice, MSc<br>Occupational Psychology MSc<br>Civil Engineering MSc<br>Construction Project Management MSc<br>Economics MSc<br>Data Science and its Applications, MSc<br>Biotechnology MSc<br>Accounting and Finance MSc<br>Healthcare Management MSc/PGDip/PGCert<br>Healthcare Quality Management MSc/PGDip/PGCert<br>Haematology MSc/PGDip/PGCert<br>Law, Regulation and the International Financial System MSc<br>Financial Management and Risk MSc<br>Interprofessional Healthcare Simulation MSc<br>Biomedical Sciences: Online MSc/PGDip/PGCert<br>Food Safety and Quality Management e-learning MSc/PGDip/PGCert<br>Computer Science (Network Engineering) MSc<br>Electrical Power Engineering MSc<br>Advanced Clinical Practitioner MSc (Degree Apprenticeship)<br>Criminology, Gender and Sexualities MSc<br>Criminology and Criminal Psychology MSc<br>Global Public Health MSc<br>Global Shipping Management MSc<br>Computer Science MSc<br>Agriculture for Sustainable Development MSc<br>Finance and Investment MSc<br>Management of Business Information Technology MSc<br>Engineering Management MSc<br>Civil Engineering with Industrial Practice, MSc<br>International Banking and Finance MSc<br>Engineering Management with Industrial Practice MSc<br>Engineering MSc by Research<br>Food Innovation with Industrial Practice MSc<br>Big Data and Business Intelligence MSc<br>Architecture, Landscape and Urbanism MSc<br>General Pharmacy Practice PGCert/PGDip/MSc<br>Biotechnology MSc<br>Computer Forensics and Cyber Security MSc<br>Global Health Management MSc<br>Nursing (Adult Nursing) MSc<br>Data Science MSc<br>Advanced Chemical Engineering, MSc<br>Formulation Science MSc<br>Advanced Clinical Practice MSc<br>Product Design Engineering MSc<br>Child and Adolescent Psychology MSc<br>Electrical and Electronic Engineering MSc<br>Electrical and Electronic Engineering with Industrial Practice, MSc<br>Global Environmental Change MSc<br>Machine Intelligence MSc<br>Computing and Information Systems MSc<br>Forensic Psychology MSc"
          ],
          [
           "nan, nan, nan, nan, nan, nan, nan",
           "London",
           "Fashion and Lifestyle Marketing - MSc<br>International Management and Business Development - MSc<br>Environmental Management (Waste, Energy, Water, Oil and Gas) - MSc<br>International Marketing - MSc<br>Luxury Marketing - MSc<br>International Banking and Finance - MSc<br>Insurance and Sustainable Risk Management - MSc"
          ],
          [
           "nan, nan, nan, nan, nan, nan, nan, nan, nan, nan, nan, nan, nan, nan, nan, nan, nan, nan, nan, nan, nan, nan, nan, nan, nan, nan, nan, nan, nan, nan, nan, nan, nan, nan, nan, nan, nan, nan, nan, nan, nan, nan, nan, nan, nan, nan, nan, nan, nan, nan, nan, nan, nan, nan, nan, nan, nan, nan, nan, nan, nan, nan, nan, nan, nan, nan, nan, nan, nan, nan, nan, nan, nan, nan, nan, nan, nan, nan, nan, nan, nan, nan, nan, nan, nan, nan, nan, nan, nan, nan, nan, nan, nan, nan, nan, nan, nan, nan, nan",
           "London",
           "Family Therapy MSc<br>Advanced Minimum Intervention Restorative Dentistry MSc<br>Engineering with Management MSc<br>Global Affairs MSc<br>Emerging Economies and International Development MSc<br>Biomedical & Molecular Sciences Research MSc, MRes<br>Artificial Intelligence MSc<br>Climate Change: Environment, Science and Policy MSc<br>Environmental, Social, Governance (ESG) Management MSc<br>Finance (Asset Pricing) MSc<br>Executive MSc Strategic Marketing<br>Environmental Science for Sustainability MSc<br>Financial Policy & Regulation MSc, PG Dip, PG Cert<br>Addictions MSc<br>Analytical Toxicology MSc<br>Accounting, Accountability & Financial Management MSc<br>Banking and Finance MSc<br>Advanced Computing MSc<br>Clinical Neuropsychiatry MSc<br>Clinical Neurodevelopmental Sciences MSc<br>International Marketing MSc<br>Forensic Mental Health MSc<br>Developmental Psychology & Psychopathology MSc<br>Palliative Care MSc, PGDip, PGCert<br>Physics MSc<br>Pharmacology MSc<br>Computational Finance MSc<br>Clinical Nursing MSc (Online)<br>Clinical Pharmacology MSc<br>China & Globalisation MSc<br>Clinical Dermatology MSc<br>Public Policy and Management MSc<br>Statistics MSc<br>Early Intervention in Psychosis MSc<br>Construction Law & Dispute Resolution MSc<br>Diabetes Clinical Care and Management MSc (Online)<br>Mathematics MSc<br>Maxillofacial Prosthetic Rehabilitation MSc<br>Economics & Finance MSc<br>Sustainable Cities MSc<br>Stem Cell & Regenerative Therapies: From Bench to Market MSc<br>Financial Mathematics MSc<br>Environment, Politics and Development MSc<br>Health Psychology MSc<br>Advanced Clinical Practice MSc, PGDip, PGCert<br>Master of Science in International Addiction Studies (IPAS) MSc<br>Finance Analytics MSc<br>War & Psychiatry MSc<br>Urban Informatics MSc<br>Women & Children's Health MSc<br>Theoretical Physics MSc<br>Genomic Medicine MSc, PGDip, PGCert<br>Applied Neuroscience Online | MSc, PG Dip<br>Applied Statistical Modelling & Health Informatics MSc, PGCert, PGDip<br>Cardiovascular Research MSc<br>Human Resource Management and Organisational Analysis MSc<br>Healthcare Technologies MSc, MRes<br>Global Mental Health MSc<br>Human & Applied Physiology MSc<br>Executive Management MSc<br>Affective Disorders MSc<br>Aerospace Medicine MSc, PGDip<br>Aesthetic Dentistry MSc<br>International Management MSc<br>Immunology MSc<br>Electronic Engineering with Management MSc<br>Dental Public Health MSc<br>Finance (Corporate Finance) MSc<br>Clinical Neuroscience MSc<br>Global Health, Social Justice and Public Policy MSc<br>Nursing with Registration as a Mental Health Nurse MSc<br>Nursing with Registration as an Adult Nurse MSc<br>Nutrition MSc<br>Nursing with Registration as a Children's Nurse MSc<br>Neuroscience MSc<br>Advanced Software Engineering MSc<br>Endodontics MSc<br>Data Science MSc<br>MedTech Innovation & Entrepreneurship MSc<br>Microbiome in Health & Disease MSc<br>Medical Affairs MSc<br>Forensic Science MSc / MRes<br>Global Leadership and Peacebuilding MSc<br>Global Health MSc<br>Complex Systems Modelling - from Biomedical & Natural to Economic & Social Sciences MSc<br>Clinical Ultrasound MSc/PGDip/PGCert<br>Dietetics MSc<br>Digital Marketing MSc<br>Psychology and Neuroscience of Mental Health Online | MSc, PG Dip, PG Cert<br>Psychiatric Research MSc<br>Political Economy of Emerging Markets MSc<br>Child & Adolescent Mental Health MSc<br>Applied Bioinformatics MSc<br>Cyber Security MSc<br>Drug Development Science MSc<br>Digital Economy MSc<br>Economics and Policy MSc<br>Law & Professional Practice MSc/PGDip<br>Leadership and Development MSc"
          ],
          [
           "nan, nan, nan, nan, nan, nan, nan, nan, nan, nan, nan, nan, nan, nan, nan, nan, nan, nan, nan, nan, nan, nan, nan, nan, nan, nan, nan, nan, nan, nan, nan, nan, nan, nan, nan, nan, nan, nan, nan, nan, nan, nan, nan, nan, nan, nan, nan, nan, nan, nan, nan, nan, nan, nan, nan, nan, nan, nan, nan, nan",
           "London",
           "Business Innovation (MSc)<br>Digital Business (MSc)<br>Government, Policy and Politics (MSc)<br>Business Analytics (MSc)<br>Marketing Communications (MSc)<br>Historical Research (Economic and Social History) (MSc)<br>Education and Social Justice (MSc/PGDip/PGCert)<br>Management Consultancy and Organisational Change (MSc)<br>Finance and Data Analytics (MSc)<br>Management with Business Innovation (MSc)<br>Advanced Computing (MSc/MRes)<br>Financial Economics (MSc)<br>International Marketing (MSc)<br>Marketing (MSc)<br>International Business and Development (MSc)<br>Global Politics of Environment and Resources (MSc)<br>Global Political Economy (MSc)<br>Management with International Business (MSc)<br>Management with Marketing (MSc)<br>Management with International Business and Development (MSc)<br>Management with Sport Management (MSc)<br>Archaeological Practice (Economic and Social Research) (MSc)<br>Culinary Innovation Management (MSc)<br>Data Science (MSc)<br>Astrobiology (MSc)<br>Economics (MSc/MRes)<br>Brain and Cognitive Development (MA/MSc)<br>Accounting and Finance (MSc)<br>Geographic Data Science (MSc/PGDip/PGCert/PGCert Intensive)<br>Applied Statistics (MSc/PGCert)<br>Applied Statistics and Financial Modelling (MSc)<br>Environment and Sustainability (MSc/PGDip/PGCert)<br>Entrepreneurship (MSc)<br>Management (MSc/MRes)<br>Computer Science (MSc)<br>International Development (MSc/PGDip/PGCert)<br>Educational Neuroscience (MA/MSc)<br>Cognition and Computation (MA/MSc)<br>Finance (MSc)<br>Hospitality Innovation Management (MSc)<br>Climate Change (MSc/PGDip/PGCert)<br>International Human Resource Management (MSc)<br>Management and Finance (MSc)<br>Gender and Sexuality Studies (MA/MSc/PGCert/PGDip)<br>Brain and Cognitive Development (MA/MSc)<br>Banking and Finance (MSc)<br>Marketing Analytics (MSc)<br>Criminology (MSc)<br>Geography (MSc/PGDip/PGCert)<br>Analytical Chemistry (MSc/PGDip)<br>International Security and Global Governance (MSc)<br>Bioinformatics (MSc/MRes)<br>International Business (MSc)<br>Career Coaching (MSc/PGCert)<br>Corporate Responsibility and Sustainability (MSc)<br>Corporate Governance (MSc)<br>Analytical Bioscience (MSc/PGDip)<br>Human Resource Management (MSc)<br>Cognitive Neuroscience and Neuropsychology (MA/MSc)<br>International Relations (MSc)"
          ],
          [
           "15700.0, 15100.0, 15100.0, 9600.0, 15100.0, 15100.0, 15100.0, 15100.0, 14400.0, 15700.0, 16800.0, 16800.0, 16800.0, 16800.0, 16800.0, 15100.0, 15100.0, 15700.0, nan, 16800.0, 11500.0, 8900.0, 15700.0, 15700.0, 16800.0, 10500.0, 56.0, 16800.0, 16800.0, 15100.0, 15100.0, nan, 15700.0, 5100.0, 15700.0, 11500.0, 15100.0, 15100.0, 15100.0, 15100.0, 15100.0, 15100.0, 9600.0, 15100.0, 15100.0, 15100.0, 16800.0, 7800.0, 9600.0, 16800.0, 15700.0, 9800.0, 16800.0, 15100.0, 15700.0",
           "London",
           "Business Information Systems Management MSc<br>Biomedical Science (Clinical Biochemistry) MSc<br>Biomedical Science (Medical Microbiology) MSc/PGCert<br>Biomedical Science (Cellular Pathology) MSc<br>Biomedical Science (Haematology and Transfusion Science) MSc<br>Biomedical Science (Medical Immunology) MSc<br>Biomedical Science (Infection and Immunity) MSc<br>Cancer Biology and Therapeutics MSc<br>Evolutionary Behavioural Science MSc by Research<br>International Hospitality and Events Management MSc/PGDip/PGCert<br>Cybercrime and Digital Investigation MSc<br>Management MSc<br>Innovation Management and Entrepreneurship MSc<br>Global Supply Chain Management MSc<br>Banking and Finance MSc<br>Clinical Neuroscience MSc<br>Developmental Psychology in Action MSc<br>Intelligent Telecommunications Engineering MSc<br>Computer Networks and Network Design MSc<br>Branding and Marketing Communication MSc<br>Building Information Modelling & Construction Technologies MSc<br>Building Information Modelling Management and Integrated Digital Delivery MSc/PGDip/PGCert<br>Applied Statistics MSc/PGDip<br>Financial Mathematics MSc/PGDip<br>Financial Management MSc/PG Cert/PG Dip<br>Creative Technology MA/MSc<br>Advanced Clinical Practice MSc/PGDip<br>Investment and Finance MSc<br>Criminology with Forensic Psychology MSc<br>Cognitive and Clinical Neuroscience MSc<br>Environmental Health MSc<br>Automation and Digital Manufacturing MSc<br>Computer Science MSc<br>Cognitive Neuroscience MSc by Research<br>Engineering Management MSc<br>Exercise and Physical Activity for Special Populations and Healthy Ageing MSc (Distance Education)<br>Exercise and Physical Activity for Special Populations and Healthy Ageing MSc<br>Cardiac Ultrasound MSc/PGDip/PGCert<br>Cardiac Rhythm Management and Electrophysiology MSc/PGDip/PGCert<br>Cardiology MSc/PGDip<br>Biomedical Science (Clinical Biochemistry) MSc<br>Biomedical Science (Medical Microbiology) MSc/PGCert<br>Biomedical Science (Cellular Pathology) MSc<br>Biomedical Science (Haematology and Transfusion Science) MSc<br>Biomedical Science (Medical Immunology) MSc<br>Biomedical Science (Infection and Immunity) MSc<br>Branding and Marketing Communication MSc<br>Digital Journalism (Online Distance Learning) MSc<br>Applied Psychology MSc<br>Marketing Management MSc<br>Data Science MSc<br>Marine Operations Management MSc<br>Digital Marketing MSc<br>Clinical Health Psychology and Wellbeing MSc<br>Cyber Security and Pen Testing MSc"
          ],
          [
           "nan, nan, nan, nan, nan, nan, nan, nan, nan, nan, 18410.0, nan, nan, nan, nan, nan, nan, 20450.0, 20450.0, nan, 20450.0, nan, 21470.0, nan, nan, nan, nan, nan, nan, nan, 22000.0, nan, nan, nan, nan, nan, 20450.0, nan, nan, nan, 20450.0, 20450.0, nan, 20450.0, nan, nan, nan, nan, nan, nan, nan, nan, nan, nan",
           "London",
           "Business Finance MSc<br>Artificial Intelligence Strategy MSc<br>Advanced Mechanical Engineering MSc<br>Management MSc<br>Global Supply Chain Management MSc<br>Flood and Coastal Engineering (with Project Risk Management) MSc<br>Flood and Coastal Engineering (with Infrastructure Design) MSc<br>Banking and Finance MSc<br>Environmental Management MSc<br>Accounting and Business Management MSc<br>Clinical Education PGCert, PGDip and MSc<br>Advanced Electronic and Electrical Engineering MSc<br>Advanced Engineering Design MSc<br>Lightweight Structures and Impact Engineering MSc<br>Financial Mathematics MSc<br>Human Resources Management MSc<br>Advanced Manufacturing Systems MSc<br>Advanced Clinical Practice (Cardiovascular Health)<br>Advanced Clinical Practice (Critical Care)<br>Advanced Clinical Practice (Cardiovascular Health) PgCert | PgDip | MSc<br>Advanced Clinical Practice<br>Aerospace Engineering MSc<br>Electric Vehicle Systems MSc<br>Digital Design and Branding MSc<br>Advanced Clinical Practitioner Master's Degree Apprenticeship<br>Advanced Clinical Practice PgCert | PgDip | MSc<br>Cognitive and Clinical Neuroscience MSc<br>Finance and Accounting MSc<br>Automotive and Motorsport Engineering MSc<br>Business Intelligence and Digital Marketing MSc<br>Accounting and Business Intelligence MSc<br>Finance and Investment MSc<br>Anthropology of International Development and Humanitarian Assistance MSc<br>Anthropology of Childhood, Youth and Education MSc<br>Engineering Management MSc<br>Artificial Intelligence MSc<br>Advanced Clinical Practice (Musculoskeletal Rehabilitation)<br>Advanced Clinical Practice (Neurological Rehabilitation) PgCert | PgDip | MSc<br>Advanced Clinical Practice (Critical Care) PgCert | PgDip | MSc<br>Advanced Clinical Practice (Musculoskeletal Rehabilitation) PgCert | PgDip | MSc<br>Advanced Clinical Practice (Pelvic Health)<br>Advanced Clinical Practice (Occupational Therapy)<br>Advanced Clinical Practice (Occupational Therapy) PgCert | PgDip | MSc<br>Advanced Clinical Practice (Neurological Rehabilitation)<br>Advanced Clinical Practice (Pelvic Health) PgCert | PgDip | MSc<br>Data Science and Analytics MSc<br>Marketing MSc<br>Building Services Engineering with Sustainable Energy MSc<br>Building Services Engineering Management MSc<br>Building Services Engineering MSc<br>Integrated Product Design MSc<br>Corporate Brand Management MSc<br>Digital Service Design MSc<br>International Business MSc"
          ],
          [
           "nan, nan, nan, nan, nan, nan, nan, nan, nan, nan, nan, nan, nan, nan, nan, nan, nan, nan, nan, nan, nan, nan, nan, nan, nan, nan, nan, nan, nan, nan, nan, nan, nan, nan, nan, nan, nan, nan, nan, nan, nan, nan, nan, nan, nan, nan, nan, nan, nan",
           "London",
           "Advanced Mechanical Engineering MSc<br>Enhanced Midwifery Care MSc/PGDip/PGCert<br>Energy, Environmental Technology and Economics MSc<br>Artificial Intelligence MSc<br>Construction Management MSc<br>Data Science Apprenticeship MSc<br>Global Maternal Health MSc<br>Maritime Operations and Management MSc<br>Maritime Safety and Security Management MSc<br>Banking and International Finance MSc<br>Financial Economics MSc<br>Finance MSc<br>Biomedical Engineering with Data Analytics MSc<br>Health Economics MSc<br>Software Engineering with Cloud Computing MSc<br>Robotics, AI and Autonomous Systems MSc<br>Data Science MSc<br>Library Science MA/MSc<br>Economics MSc<br>Actuarial Management MSc<br>Investment Management MSc<br>International Accounting and Finance MSc<br>Air Transport Management MSc<br>Aircraft Maintenance Management MSc<br>Air Safety Management MSc<br>Health Management MSc<br>Children's Nursing (pre-registration) MSc<br>Human-Computer Interaction Design MSc<br>Business Analytics MSc<br>Food Policy MSc<br>Behavioural Economics MSc<br>Business Economics / International Business Economics MSc<br>Computer Games Technology MSc<br>Clinical Optometry MSc<br>Criminology and Criminal Justice MSc<br>Adult and Mental Health Nursing (pre-registration) MSc<br>Actuarial Science MSc<br>Clinical, Social and Cognitive Neuroscience MSc<br>Civil Engineering Structures MSc<br>Development Economics MSc<br>Insurance and Risk Management MSc<br>Corporate Finance MSc<br>Advanced Clinical Practice MSc<br>Information Science MSc<br>Project Management, Finance and Risk MSc<br>Energy, Trade and Finance MSc<br>Economic Evaluation in Healthcare MSc<br>Cyber Security MSc<br>Adult Nursing (pre-registration) MSc"
          ],
          [
           "nan, nan, nan, nan, nan, nan, nan, nan, nan, nan, nan, nan, nan, nan, nan, nan, nan, nan, nan, nan, nan, nan, nan, nan, nan, nan, nan, nan, nan, nan, nan, nan, nan, nan, nan, nan, nan, nan, nan, nan, nan, nan, nan, nan, nan, nan, nan, nan, nan, nan, nan, nan, nan, nan, nan, nan, nan, nan, nan, nan, nan",
           "London",
           "Applied Genomics - MSc<br>Environmental Technology - MSc<br>Epidemiology - MSc<br>Global Innovation Design - MA/MSc<br>Advanced Mechanical Engineering - MSc<br>International Health Management - MSc<br>Conservation Science and Practice - MSc<br>Innovation Design Engineering - MA/MSc<br>Engineering Fluid Mechanics for the Offshore, Coastal and Built Environments - MSc<br>Allergy - MSc/PGDip/PGCert<br>Advanced Computing - MSc<br>Patient Safety - MSc<br>Computational Methods in Ecology and Evolution - MSc<br>Health Data Analytics and Machine Learning - MSc<br>Geo-Energy with Machine Learning and Data Science - MSc<br>Concrete Structures - MSc<br>Applied Computational Science and Engineering - MSc<br>Future Power Networks - MSc<br>Surgical Innovation - MSc/PGDip/PGCert<br>Hydrology and Water Resources Management - MSc<br>Applied Machine Learning - MSc<br>Applied Mathematics - MSc<br>Computing (Artificial Intelligence and Machine Learning) - MSc<br>Computing (Management and Finance) - MSc<br>Computing - MSc<br>Computing (Security and Reliability) - MSc<br>Environmental Data Science and Machine Learning - MSc<br>Health Policy - MSc/PGDip/PGCert<br>Global Statistics (Online) - MSc<br>Immunology - MSc/PGCert<br>Genomic Medicine - MSc/PGDip/PGCert<br>Applied Paediatrics - MSc/PGCert/PGDip<br>Ecological Applications - MSc<br>Earthquake Engineering - MSc<br>Communications and Signal Processing - MSc<br>Environmental Engineering - MSc<br>Health Policy - MSc/PGDip/PGCert<br>Healthcare and Design - MSc<br>Control and Optimisation - MSc<br>Cardiovascular and Respiratory Healthcare - MSc/PGDip/PGCert<br>Artificial Intelligence - MSc<br>General Structural Engineering - MSc<br>Genes, Drugs and Stem Cells – Novel Therapies - MSc/PGCert<br>Advanced Chemical Engineering with Materials Engineering - MSc<br>Advanced Chemical Engineering with Process Systems Engineering - MSc<br>Advanced Chemical Engineering with Biotechnology - MSc<br>Advanced Chemical Engineering - MSc<br>Bioinformatics and Theoretical Systems Biology - MSc<br>Biomedical Engineering - MSc<br>Composites: the Science, Technology and Engineering Application of Advanced Composites - MSc<br>Advanced Materials Science and Engineering - MSc<br>Advanced Materials for Sustainable Infrastructure - MSc<br>Human Molecular Genetics - MSc<br>Ecology, Evolution and Conservation - MSc<br>Advanced Computational Methods for Aeronautics, Flow Management and Fluid-Structure Interaction - MSc<br>Analogue and Digital Integrated Circuit Design - MSc<br>Applied Biosciences and Biotechnology - MSc<br>Computing (Software Engineering) - MSc<br>Machine Learning and Data Science (Online) - MSc<br>Advanced Aeronautical Engineering - MSc<br>Human and Biological Robotics - MSc"
          ],
          [
           "nan, nan, nan, nan, nan, nan, nan, nan, nan, nan, nan, nan, nan, nan, nan, nan, nan, nan, nan, nan, nan, nan, nan, nan, nan",
           "London",
           "Global Corporations and Policy (Online) - MSc<br>Finance and Financial Law (Distance Learning) - MSc<br>Accounting and Finance - MSc<br>International Business Administration (Distance Learning) - MSc, PGDip & PGCert<br>Economics and Environment - MSc<br>Economics - MSc<br>Environment, Politics and Development - MSc<br>International Development Online - MSc<br>International Politics - MSc<br>Finance (Quantitative Finance) (Distance Learning) - MSc<br>Climate Change and Development - MSc/PGDip/PGCert<br>Finance (Banking) (Distance Learning) - MSc<br>Finance (Financial Sector Management) (Distance Learning) - MSc<br>Finance (Economic Policy) (Distance Learning) - MSc<br>International Finance and Development - MSc<br>International Financial Management - MSc<br>Humanitarian Action Online - MSc<br>Humanitarianism, Aid and Conflict<br>International Business - MSc<br>Development Studies with reference to Gender - MSc<br>Development Studies - MSc<br>Development Studies (with reference to South Asia) - MSc<br>Development Economics - MSc<br>Global Energy and Climate Policy (Online) - MSc<br>Global Energy and Climate Policy MSc"
          ],
          [
           "nan, nan, nan, nan, nan, nan, nan, nan, nan, nan, nan, nan, nan, nan, nan, nan, nan, nan, nan, nan",
           "London",
           "International Management MSc<br>International Management and Emerging Economies MSc<br>Entrepreneurship and Innovation Management MSc<br>Entrepreneurship, Finance and Innovation MSc<br>International Human Resource Management MSc<br>Cyber Security and Data Analytics MSc<br>Data Driven Design<br>Artificial Intelligence and Data Analytics<br>Diplomacy, International Politics and Trade<br>Diplomacy and International Relations MSc<br>Diplomacy, International Business and Trade MSc<br>International Project Management MSc<br>Digital Creative Media MSc<br>Digital Entrepreneurship<br>Digital Finance MSc<br>Design Innovation MA/MSc<br>Design Innovation Management MSc<br>Digital Innovation Management MSc<br>International Sustainable Development MSc<br>Digital Marketing MSc"
          ],
          [
           "nan, nan, nan, nan, nan, nan, nan, nan, nan, nan, nan, nan, nan",
           "London",
           "Epidemiology (MSc)<br>Epidemiology (Distance Learning) (MSc/PGDip/PGCert)<br>Demography & Health (MSc)<br>Global Mental Health (MSc)<br>Health in Humanitarian Crises by Distance Learning (MSc)<br>Health Data Science (MSc)<br>Health Policy, Planning & Financing (MSc)<br>Immunology of Infectious Diseases (MSc)<br>Climate Change & Planetary Health (MSc)<br>Control of Infectious Diseases (MSc)<br>Global Health Policy (Distance Learning) (MSc)<br>Clinical Trials (Distance Learning) (MSc/PGDip/PGCert)<br>Infectious Diseases (Distance Learning) (MSc/PGDip/PGCert)"
          ],
          [
           "nan, nan, nan, nan, nan, nan, nan, nan, nan, nan, nan, nan, nan, nan, nan, nan, nan, nan, nan, nan, nan, nan, nan, nan, nan, nan",
           "London",
           "Digital Audio Engineering - MSc<br>Digital Audio Engineering - MSc<br>Business Analytics - MSc<br>International Business Management - MSc<br>Clinical Practice - MSc<br>Finance and Risk Management - MSc<br>Finance and Economics - MSc<br>Digital Marketing - MSc<br>Construction Project Management - MSc<br>Health Informatics - MSc<br>Advanced Clinical Practice - MSc<br>Infection Prevention and Control - MSc/PgDip/PgCert<br>Air Transport Operations and Management - Executive MSc<br>Health Psychology - MSc<br>Improvement Science - MSc<br>Finance and Accounting - MSc<br>Advancing Professional Practice - MSc<br>Civil and Environmental Engineering - MSc<br>Cyber Security - MSc<br>Information Systems (Integrated) - MSc<br>Food Business Management - MSc<br>Artificial Intelligence - MSc<br>Digital Hospitality and Travel Leadership - MSc<br>Applied Project Management - MSc<br>Information Systems - MSc<br>Civil Engineering - MSc"
          ],
          [
           "nan, nan, nan, nan, nan, nan, nan, nan, nan, nan, nan, nan, nan, nan, nan, nan, nan, nan, nan, nan, nan, nan, nan, nan, nan, nan, nan, nan, nan, nan, nan, nan, nan, nan",
           "London",
           "Digital Business MSc<br>Marketing Management MA/MSc<br>Marketing Communications MA/MSc<br>International Business and Management MSc<br>FinTech with Business Analytics MSc<br>Integrative Health and Wellbeing MSc<br>Integrative Health and Wellbeing with Professional Experience MSc<br>Construction Project Management MSc<br>Biomedical Sciences MSc<br>Biomedical Sciences - Cancer Biology MSc<br>Biomedical Sciences - Medical Microbiology MSc<br>Biomedical Sciences - Medical Molecular Biology MSc<br>Biomedical Sciences - Immunology MSc<br>Biomedical Sciences - Haematology MSc<br>Biomedical Sciences - Clinical Biochemistry MSc<br>Logistics and Supply Chain Management MSc<br>International Development Management MSc<br>Health Psychology MSc<br>Air Transport Planning and Management MSc<br>Investment and Risk Finance MSc<br>Global Public Health Nutrition MSc<br>Global Public Health with Data Science MSc<br>Finance and Accounting MSc<br>Data Science and Analytics MSc<br>Big Data Technologies MSc<br>Architecture and Environmental Design MSc<br>Business and Organisational Psychology MSc<br>Finance (Banking) MSc<br>Finance (International Finance) MSc<br>Digital Marketing Management MSc<br>Economic Policy and Analysis MSc<br>Entrepreneurship, Innovation and Enterprise Development MSc<br>Applied Biotechnology MSc<br>Cyber Security and Forensics MSc"
          ],
          [
           "nan, nan, 12000.0",
           "London",
           "GP Vet / Primary care Vet Masters<br>Developmental Transactional Analysis [DTA]<br>Coaching & Coaching Psychology"
          ],
          [
           "nan, nan, nan, nan, nan, nan, nan, nan, nan, nan, nan, nan, nan, nan, nan, nan, nan, nan, nan, nan",
           "London",
           "Business Analytics (MSc)<br>Innovation, Creativity and Leadership (MSc/MA/MInnov)<br>Banking and International Finance (MSc)<br>Marketing Strategy and Innovation (MSc)<br>Actuarial Management (MSc)<br>Financial Mathematics (MSc)<br>Entrepreneurship (MSc)<br>Investment Management (MSc)<br>International Accounting and Finance (MSc)<br>Finance (MSc)<br>Executive Master's in Medical Leadership (MSc)<br>Actuarial Science (MSc)<br>Management (MSc)<br>International Business (MSc)<br>Insurance and Risk Management (MSc)<br>Charity Accounting and Financial Management (PgDip/MSc)<br>Charity Marketing and Fundraising (PgDip/MSc)<br>Corporate Finance (MSc)<br>Digital Supply Chain Management (MSc)<br>Energy, Trade and Finance (MSc)"
          ],
          [
           "nan, nan, nan, 27250.0, nan, nan, nan, 26750.0, nan, 27250.0, nan, nan, nan, 13295.0",
           "London",
           "Biodiversity and Conservation MSc<br>Data Science and Artificial Intelligence (Conversion Programme) MSc<br>Intellectual Property, Data and Information Law MSc<br>Blockchain in Business and Society MSc<br>Biotechnology and Synthetic Biology MSc<br>Biomedical Sciences MSc<br>Genomic Medicine MSc/PGDip/PGCert<br>Artificial Intelligence in the Biosciences MSc<br>Electronic Engineering by Research MSc<br>Blockchain in Business and Society MSc<br>Computer Games MSc<br>Bioinformatics MSc<br>Digital and Technology Solutions Specialist (Data Analytics) MSc<br>International Public Policy MSc"
          ],
          [
           "nan, 14280.0, nan, nan, 14760.0, nan, nan, 14760.0, nan, nan, nan, nan, 14760.0, nan, nan, nan, nan, nan, nan, 16200.0, nan, nan, nan, nan, nan",
           "London",
           "Artificial Intelligence MSc<br>Events and Hospitality Leadership<br>Applied Sport and Exercise Sciences (with specialism) MSc<br>Finance and Risk MSc<br>Engineering Management<br>Intelligent Transport Planning and Engineering MSc<br>Business Psychology MSc<br>Asset Management with Digital Technologies<br>Human Resource Management MSc<br>Construction Engineering Management MSc<br>Computing<br>Big Data Technologies MSc<br>Cloud Computing<br>Applied Positive Psychology and Coaching Psychology (MAPPCP) MSc<br>Computer Science MSc<br>International Business Management MSc<br>Biomedical Science (with specialism) MSc<br>Data Science MSc<br>Humanitarian Intervention MSc<br>Innovation and Sustainable Hospitality<br>Civil Engineering MSc<br>Integrative Counselling and Coaching MSc<br>Information Security and Digital Forensics MSc<br>Electrical Automotive Engineering MSc<br>International Relations MSc"
          ],
          [
           "nan, nan, nan, nan, nan, nan, nan, nan, nan, nan, nan, nan",
           "London",
           "Heart Failure MSc<br>Advanced Clinical Practice MSc/PgDip<br>Advanced Breast Practice MSc/PgCert<br>Genomic Medicine MSc<br>Clinical Neuroscience Practice MSc/PgCert<br>Global Health and Mental Health MSc<br>Global Health and Humanities MSc<br>Global Health MSc<br>Global Health and Conflict MSc<br>Global Health, Infection and Immunity MSc<br>Global Health, Ethics and Law MSc<br>Applied Biomedical Science MSc"
          ],
          [
           "nan, nan, nan, nan, nan, nan, nan, nan, nan, nan, nan, nan, nan, nan, nan, nan, 16500.0",
           "London",
           "Global Human Resources Management - MSc<br>Global Logistics and Supply Chain Management - MSc/PgDip/PgCert<br>Global Marketing - MSc<br>Global Financial Management - MSc<br>Digital Marketing - MSc<br>Occupational and Business Psychology - MSc<br>Computing - MSc/PgDip/PgCert<br>Clinical Neuroscience - MSc/PGDip/PgCert<br>Applied Cognitive Neuroscience - MSc/PgDip/PgCert<br>Sustainable Economics - MSc/PgDip/PgCert<br>Advanced Clinical Practice - MSc<br>Banking, Finance and Risk Management - MSc/PgDip/PgCert<br>Clinical Nutrition - MSc/PgDip/PgCert<br>Forensic Psychology - MSc<br>Global Business Management - MSc<br>Data Science - MSc<br>Physiotherapy - MSc"
          ],
          [
           "nan, nan",
           "London",
           "Global Innovation Design MA/MSc<br>Innovation Design Engineering MA/MSc"
          ],
          [
           "9750.0, 9750.0, 9750.0",
           "London",
           "MSc Management with optional specialization<br>MSc Data Science<br>MSc Artificial Intelligence"
          ],
          [
           "nan, nan, nan, nan, nan",
           "London",
           "MSc International Project Management<br>MSc Digital Marketing<br>MSc Business with Financial Management<br>MSc Computing and Technology<br>MA/MSc Multidisciplinary Innovation"
          ],
          [
           "nan, nan, 13000.0",
           "London",
           "International Business Management - MSc<br>Finance and Management - MSc<br>Engineering Management - MSc"
          ],
          [
           "nan, nan, nan, nan, nan, nan, nan, nan, nan, nan",
           "London",
           "International Business Management - MSc/PGDip/PGCert<br>Applied Sport and Exercise Physiology - MSc/PGDip/PGCert<br>Applied Sport Psychology - MSc/PGDip/PGCert<br>Applied Sports Nutrition - MSc/PGDip/PGCert<br>Computer Science<br>Marketing MSc/PGDip/PGCert<br>Human Nutrition - MSc/PGDip/PGCert<br>Chronic Disease Management - MSc/PGDip/PGCert<br>International Finance and Accounting<br>Applied Sport and Exercise Biomechanics"
          ],
          [
           "nan, nan, 24700.0, nan, nan",
           "London",
           "International Business Law and Management - MS<br>International Wealth Management - MS<br>Energy Management - MSc<br>Biopharmaceutical Management - MS<br>Finance - MS"
          ],
          [
           "nan, nan, nan, nan, nan, nan, nan, nan, nan, nan, nan, nan, nan, nan, nan, nan, nan, nan, nan, nan, nan, nan, nan, nan, nan, nan, nan, nan, nan, nan, nan, nan, nan, nan, nan, nan, nan, nan, nan, nan, nan, nan, nan, nan, nan, nan, nan, nan, nan, nan, nan, nan, nan, nan, nan, nan, nan, nan, nan, nan, nan, nan, nan, nan, nan, nan, nan, nan, nan, nan, nan, nan, nan, nan, nan, nan, nan, nan, nan, nan, nan, nan, nan, nan, nan, nan, nan, nan, nan, nan, nan, nan",
           "London",
           "Executive Global Master's in Management<br>International Health Policy MSc<br>International Health Policy (Health Economics) MSc<br>Global Media and Communications (LSE and USC) MSc<br>Global Media and Communications (LSE and Fudan) MSc<br>Global Master's in Management<br>Global Media and Communications (LSE and UCT) MSc<br>Management and Strategy MSc<br>Finance and Private Equity MSc<br>Finance and Economics MSc<br>Global Political Economy of China and Europe (LSE-Fudan) MSc<br>Culture and Conflict in a Global Europe MSc<br>Culture and Society MSc<br>Data Science MSc<br>European Studies (LSE-Sciences Po) MSc<br>European Politics, Conflict and Culture (LSE-Columbia) MSc<br>Economics and Management MSc<br>Economics (Two-year programme) MSc<br>Economics (One-year programme) MSc<br>Accounting and Finance MSc<br>International Migration and Public Policy MSc<br>Geographic Data Science MSc<br>Health and International Development MSc<br>Accounting, Organisations and Institutions MSc<br>Gender (Rights and Human Rights) MSc<br>Gender (Sexuality) MSc<br>Gender (Research) MSc<br>Financial Mathematics MSc<br>Human Rights MSc<br>Human Rights and Politics MSc<br>Human Resources and Organisations MSc<br>LSE-Sciences Po Double Degree MSc Urban Policy<br>LSE-Sciences Po Double MSc Political Economy of Development<br>LSE-Leipzig Double Degree in Global Studies and Economic History<br>LSE-LSHTM Double MSc Health Policy, Planning and Financing<br>LSE-Peking University Double Degree MSc Environmental Policy, Technology and Health<br>LSE-Sciences Po Double Degree in Affaires Internationales<br>International and Asian History MSc<br>International and World History (LSE-Columbia University) MSc<br>Inequalities and Social Science MSc<br>Master of Public Administration (LSE-Columbia University) MPA<br>Master of Public Administration<br>International Political Economy MSc<br>International Political Economy (Research) MSc<br>International Affairs (LSE-PKU) MSc<br>International Development and Humanitarian Emergencies MSc<br>European and International Public Policy and Politics (LSE-Bocconi) MSc<br>European and International Politics and Policy MSc<br>Finance (part-time)<br>Master of Public Policy (MPP)<br>History of International Relations MSc<br>Applicable Mathematics MSc<br>Management of Information Systems and Digital Innovation MSc<br>Anthropology and Development MSc<br>City Design and Social Science MSc<br>China in Comparative Perspective MSc<br>Environmental Economics and Climate Change MSc<br>Executive MSc Health Economics, Outcomes and Management in Clinical Sciences<br>Executive Master of Public Administration<br>Executive MSc Healthcare Decision Making (in collaboration with NICE)<br>Executive MSc in Cities<br>Executive MSc International Strategy and Diplomacy<br>Executive MSc Behavioural Science<br>Executive MSc Social Business and Entrepreneurship<br>Executive MSc Health Economics, Policy and Management<br>Behavioural Science MSc<br>Gender, Development and Globalisation MSc<br>Gender, Policy and Inequalities MSc<br>Gender MSc<br>Gender, Peace and Security MSc<br>Gender, Media and Culture MSc<br>Finance (full-time) MSc<br>Criminal Justice Policy MSc<br>Global Health Policy MSc<br>Marketing MSc<br>Empires, Colonialism and Globalisation MSc<br>International Social and Public Policy MSc<br>International Social and Public Policy (LSE-Fudan) MSc<br>Economy and Society MSc<br>Applied Social Data Science MSc<br>Local Economic Development MSc<br>Development Management MSc<br>Development Studies MSc<br>Human Geography and Urban Studies (Research) MSc<br>Econometrics and Mathematical Economics MSc<br>Economic History (Research) MSc<br>Economic History MSc<br>Environment and Development MSc<br>Environmental Policy and Regulation MSc<br>Master's in Management<br>International Relations MSc<br>International Relations (Research) MSc"
          ],
          [
           "nan, nan, nan, nan, nan, nan, nan, nan, nan",
           "London",
           "International Hospitality and Tourism Management MSc<br>Management MSc<br>Global Financial Trading MSc<br>Global Finance MSc<br>Enterprise and Innovation MSc<br>International Project Management MSc<br>International Fashion Marketing MSc<br>Financial Technology (FinTech) MSc<br>Digital Marketing with Data Analytics MSc"
          ],
          [
           "9000.0, 7000.0, 11700.0, 11700.0",
           "London",
           "Global MBA<br>Master of Public Health<br>Master of Science in Information Security and Digital Forensics<br>Master of Science in Computer Science"
          ],
          [
           "nan, nan, nan, nan, nan, nan, nan, nan, nan, nan, nan, nan, nan, nan, nan, nan, nan, nan, nan, nan, nan, nan, nan, nan, nan, nan, nan, nan",
           "London",
           "International Events, Leisure and Tourism Management MSc<br>Cancer Immunotherapy MSc<br>Cancer Pharmacology MSc<br>Biomedical Science MSc<br>Computer Networking and Cyber Security with Work Experience MSc<br>Health and Social Care Leadership and Management - MSc<br>Construction Project Management MSc<br>Blood Science (Distance Learning) MSc<br>Blood Science MSc<br>International Trade and Finance MSc<br>Human Nutrition MSc<br>International Banking and Finance MSc<br>Biomedical Studies (Distance Learning) MSc<br>International Accounting and Finance<br>Criminology and Psychopathology MSc<br>Criminology MSc<br>Data Analytics MSc<br>International Business Management MSc<br>Blood Science (Distance Learning) MSc<br>Blood Science MSc<br>Computer Networking and Cyber Security MSc<br>Food Science MSc<br>Addiction and Mental Health MSc<br>Dietetics and Nutrition MSc<br>Corporate Social Responsibility and Sustainability MSc<br>Child and Adolescent Mental Health MSc<br>Airline and Airport Corporate Management<br>International Business Management with Project Management MSc"
          ],
          [
           "12.0, 12.0, 12000.0",
           "London",
           "Master's in Digital Marketing and Ethical Branding<br>Master's in Innovation and Social Entrepreneurship<br>Master's in International Business and Sustainability"
          ],
          [
           "nan",
           "London",
           "Livestock Health and Production - MSc/PGDip/PGCert"
          ],
          [
           "10605.0, 10605.0, 10605.0, 10605.0, 10605.0",
           "London",
           "Advanced Manufacturing Systems MSc online<br>Master of Public Health (MPH) Online<br>Global Public Health & Social Justice MSc Online<br>Health Economics & Health Policy MSc online<br>Engineering Management MSc online"
          ],
          [
           "12900.0",
           "London",
           "Legal Practice Course (LPC)"
          ],
          [
           "nan, nan, nan",
           "London",
           "MA/MSc - Digital Journalism<br>MA/MSc - Digital Journalism<br>MA/MSc - Virtual and Augmented Reality"
          ],
          [
           "nan",
           "London",
           "MA/MSc Computing and Creative Industry (Modular)"
          ]
         ],
         "hovertemplate": "<b>%{hovertext}</b><br><br>city=%{customdata[1]}<br>latitude=%{lat}<br>longitude=%{lon}<br>fees_list=%{customdata[0]}<br>courses_list=%{customdata[2]}<extra></extra>",
         "hovertext": [
          "Kingston University",
          "University College London",
          "University of Greenwich",
          "GCU London",
          "King’s College London",
          "Birkbeck, University of London",
          "Middlesex University",
          "Brunel University London",
          "City, University of London",
          "Imperial College London",
          "SOAS University of London",
          "Loughborough University London",
          "London School of Hygiene & Tropical Medicine",
          "University of West London",
          "University of Westminster",
          "Professional Development International",
          "Bayes Business School",
          "Queen Mary University of London",
          "University of East London",
          "St George’s, University of London",
          "University of Roehampton",
          "Royal College of Art",
          "The London Institute of Banking and Finance",
          "Northumbria University London",
          "University of Sunderland in London",
          "St Mary’s University, Twickenham",
          "ESCP Business School (London Campus)",
          "London School of Economics and Political Science",
          "Coventry University London",
          "London School of Business & Finance",
          "London Metropolitan University",
          "King Stage",
          "Royal Veterinary College",
          "Brunel University Online",
          "The University of Law",
          "Goldsmiths, University of London",
          "University of the Arts London"
         ],
         "lat": [
          51.403073899999995,
          51.52420305,
          51.4825423,
          51.51833575,
          51.5060001,
          51.52184485,
          51.590297050000004,
          51.5326092,
          51.527658200000005,
          51.4989595,
          51.5218979,
          51.5483354,
          51.5209537,
          51.48953535,
          51.5168987,
          51.5074456,
          51.5220541,
          51.52492685,
          51.544326350000006,
          51.4273617,
          51.4485315,
          51.5132495,
          51.5074456,
          51.5177926,
          51.50014135000001,
          51.4370679,
          51.5549087,
          51.51426105,
          51.5174192,
          51.5178779,
          51.51771165,
          47.388044550000004,
          51.5366813,
          51.5074456,
          51.520537000000004,
          51.4736302,
          51.51768525
         ],
         "legendgroup": "London",
         "lon": [
          -0.3032181426130893,
          -0.13300072425929543,
          -0.0066531,
          -0.07195141548343553,
          -0.1121582948025203,
          -0.13021550670673807,
          -0.2296322094540291,
          -0.47404989072672915,
          -0.1035244775461434,
          -0.17564069276310426,
          -0.1288676341954016,
          -0.0236239,
          -0.13037143644571766,
          -0.3136103840521947,
          -0.14330516808711596,
          -0.1277653,
          -0.09037407429312483,
          -0.03924405317429028,
          0.009709714615969586,
          -0.1749488,
          -0.24401071122664614,
          -0.22872641639436697,
          -0.1277653,
          -0.0778041,
          -0.014243203858161243,
          -0.3360952,
          -0.19316768990269922,
          -0.11673351981492822,
          -0.0776409,
          -0.11066759512857537,
          -0.08816256361773317,
          -122.04551747474905,
          -0.1342081,
          -0.1277653,
          -0.13173725942856418,
          -0.037246446695101076,
          -0.11633584389344499
         ],
         "marker": {
          "color": "#FECB52"
         },
         "mode": "markers",
         "name": "London",
         "showlegend": true,
         "subplot": "mapbox",
         "type": "scattermapbox"
        },
        {
         "customdata": [
          [
           "nan, nan, nan, nan, nan, nan, nan, 6035.0, nan, nan, nan, nan, nan, nan, nan, nan, nan, nan, nan, nan, nan, nan, nan, nan, nan, nan, nan, nan, nan, nan, nan, nan, nan, nan, nan, nan, nan, nan, nan, nan, nan, nan, nan, nan, nan, nan, nan, nan, nan, nan, nan, nan, nan, nan, nan, nan, nan, nan, nan, nan, nan, nan, nan, nan, nan, nan, nan, nan, nan, nan, nan, nan, nan, nan, nan, nan, nan, nan, nan, nan, nan, nan, nan, nan, nan, nan, nan, nan, nan, nan, nan, nan, nan, nan, nan, nan, nan, nan, nan, nan, nan, nan, nan, nan, nan, nan, nan, nan, nan, nan, nan, nan, nan, nan, nan, nan, nan, nan, nan, nan, nan, nan, nan, nan, nan, nan, nan, nan, nan, nan, nan, nan, nan, nan, nan, nan, nan, nan, nan, nan, nan, nan, nan, nan, nan, nan, nan, nan, nan, nan, nan, nan, nan, nan, nan, nan, nan, nan, nan, nan, nan, nan, nan, nan, nan, nan, nan, nan, nan",
           "Edinburgh",
           "Clinical Animal Behaviour (Online Learning) MSc, PgDip, PgCert, PgProfDev<br>English Literature: Literature and Modernity 1900 to present MSc<br>English Literature: Literature and Society Enlightenment, Romantic and Victorian MSc<br>English Language MSc<br>Global Challenges (Online Learning) MSc<br>Global Crime, Justice and Security MSc<br>Entrepreneurship and Innovation MSc<br>Cancer Biology and Precision Oncology (Online Learning) MSc, PgDip, PgCert<br>Applied Environmental Hydrogeology MSc<br>Epidemiology (Online Learning)<br>Epistemology, Ethics and Mind (Online Learning) (MSc/PgDip/PgCert)<br>Biodiversity, Wildlife and Ecosystem Health (Online Learning) MSc, PgDip, PgCert, PgProfDev<br>Biodiversity and Taxonomy of Plants MSc, PgDip<br>Comparative Public Policy (MSc)<br>Comparative Literature MSc<br>Comparative Education and International Development (CEID)<br>High Performance Computing (Online Learning) MSc, PgDip (ICL), PgCert (ICL), PgProfDev<br>High Performance Computing MSc, PgDip<br>High Performance Computing with Data Science MSc<br>High Performance Computing with Data Science (Online Learning) MSc, PgDip, PgCert, PgProfDev<br>Clinical Anatomy MSc<br>Climate Change Finance and Investment MSc<br>Evolutionary Genetics MSc, PgDip<br>Evolution of Language and Cognition MSc<br>Data Science for Biology MSc<br>Cyber Security, Privacy and Trust MSc<br>Education MSc, PgCert, PgDip<br>Education Futures MSc, PgDip (ICL), PgCert<br>Education Futures (Online Learning) MSc, PgDip (ICL), PgCert<br>Management MSc<br>Global Food Security and Nutrition (Online Learning) MSc, PgDip, PgCert, PgProfDev<br>Finance, Technology and Policy MSc<br>Globalised Muslim World MSc<br>Fire Engineering Science MSc<br>Clinical Microbiology and Infectious Diseases (Online Learning) MSc, PgDip, PgCert, PgProfDev<br>International Master of Science in Fire Safety Engineering MSc<br>Finance MSc<br>Developmental Linguistics (MSc)<br>Developmental Science MSc<br>Global Mental Health and Society MSc<br>Global Premodern Art: History, Heritage and Curation MSc<br>Critical Care (Online Learning) MSc, PgDip, PgCert<br>Dance Science and Education MSc, PgDip (ICL), PgDip<br>Intellectual History MSc<br>Computational Mathematical Finance MSc<br>Data Science for Health and Social Care (Online Learning)<br>Clinical Education (Online Learning) MSc, PgDip, PgCert, PgProfDev<br>Astrobiology and Planetary Sciences MSc<br>Advanced Sustainable Design MSc<br>Advancing Nursing MSc<br>Advanced Technology for Financial Computing (MSc)<br>Earth Observation and Geoinformation Management MSc<br>Linguistics MSc<br>Landscape and Wellbeing MSc<br>Korean Studies MSc<br>Biotechnology MSc, PgDip<br>Accounting and Finance MSc<br>GeoEnergy MSc<br>Data and Decision Analytics (Online Learning) - MSc<br>Economics/ Economics (Econometrics)/ Economics (Finance) MSc<br>Acoustics and Music Technology MSc<br>Applied Conservation Genetics with Wildlife Forensics (Online Learning) MSc, PgDip, PgCert, PgProfDev<br>Data, Inequality and Society (Online Learning) MSc, PgDip (ICL), PgCert<br>Data Science, Technology and Innovation (Online Learning) (MSc/PgDip/PgCert/PgProfDev)<br>Data, Inequality and Society MSc, PgDip (ICL), PgCert<br>Environment, Culture and Society MSc<br>Artificial Intelligence (MSc)<br>Drug Discovery and Translational Biology MSc, PgDip<br>Imaging (Online Learning) MSc, PgDip, PgCert, PgProfDev<br>Human Osteoarchaeology MSc<br>Advanced Nursing (Online Learning)<br>Financial Modelling and Optimization (MSc)<br>Architectural Conservation MSc<br>Architectural and Urban Design MSc<br>Archaeology MSc<br>International and European Politics MSc<br>International Animal Welfare, Ethics and Law (Online Learning) MSc, PgDip, PgCert, PgProfDev<br>International Animal Health (Online Learning) MSc, PgDip, PgCert, PgProfDev<br>Creative Industries MSc<br>Creative Writing MSc<br>Applied Linguistics (MSc)<br>Food Safety (Online Learning) MSc, PgDip, PgCert, PgProfDev<br>International Development MSc<br>Islam and Christian-Muslim Relations MSc<br>Islamic and Middle Eastern Studies MSc<br>Geographical Information Science MSc<br>Electrical Power Engineering MSc<br>Intermediality: Literature, Film and the Arts in Dialogue MSc<br>Internal Medicine (Online Learning) MSc, PgCert, PgDip, PgProfDev<br>International Development (Online Learning) MSc<br>Biochemistry MSc, PgDip<br>Digital Design and Manufacture MSc<br>Digital Education Online Learning MSc, PGCert, PGDip<br>Equine Science (Online Learning) MSc, PgDip, PgCert, PgProfDev<br>European Archaeology MSc<br>Inclusive Education MSc, PgDip (ICL), PgCert (ICL), PgDip<br>Data and Artificial Intelligence Ethics MSc<br>Data and Artificial Intelligence Ethics (Online Learning)<br>History of Art, Theory and Display MSc<br>History (Online Learning) MSc<br>History MSc<br>Cognitive Science MSc<br>East Asian Relations MSc<br>Ecological Economics MSc<br>Applied Animal Behaviour and Animal Welfare MSc<br>Management of Bioeconomy, Innovation and Governance MSc<br>Animal Breeding and Genetics MSc, PgDip<br>Circular Economy MSc<br>Circular Economy (Online Learning)<br>Classics (MSc)<br>Classical Art and Archaeology (MSc)<br>Global Strategy & Sustainability MSc<br>Advanced Clinical Practice (Online) MVetSci, PGDip, PGCert, PGProfDev<br>Contemporary History MSc<br>Design Informatics MSc<br>Africa and International Development (MSc)<br>Carbon Management (Online Learning) MSc<br>Carbon Management MSc<br>Language and Intercultural Communication MSc, PgCert, PgDip<br>Language Education MSc, PgDip<br>Late Antique, Islamic and Byzantine Studies MSc<br>Language and Intercultural Communication MSc, PgCert, PgDip<br>Business Analytics MSc<br>Biblical Studies MTh, MSc<br>International Human Resource Management MSc<br>Counselling Studies MSc<br>Banking Innovation and Risk Analytics MSc<br>Design and Digital Media MSc<br>Architecture, Landscape and Environment MSc<br>Architecture, Landscape and Environment MSc<br>Film, Exhibition and Curation MSc<br>Film Studies MSc<br>Biotechnology MSc, PgDip<br>Applied Poultry Science (Online Learning) MSc, PgDip, PgCert, PgProfDev<br>Applied Psychology (Healthcare) For Children And Young People MSc<br>Computer Science MSc<br>Criminology and Criminal Justice MSc<br>Global Health and Infectious Diseases (Online Learning) MSc, PgDip, PgCert, PgProfDev<br>Marketing MSc<br>Advanced Power Engineering MSc<br>Food Security MSc<br>Data Science MSc<br>Human Resource Management MSc<br>Future Governance MSc, PgDip (ICL), PgCert<br>Future Governance (Online Learning) MSc, PgDip (ICL), PgCert<br>Advanced Chemical Engineering MSc<br>Ancient History (MSc)<br>Analytical Chemistry MSc<br>Ancient Worlds (Archaeology and Classics) (Online Learning) (MSc)<br>Bioinformatics MSc, PgDip<br>Computational Applied Mathematics (MSc)<br>Clinical Trials (Online Learning) MSc, PgCert, PgDip, PgProfDev<br>Marine Systems and Policies MSc<br>Digital Media Design (Online Learning) MSc<br>Digital Sociology (MSc)<br>Energy, Society and Sustainability MSc<br>Ecology, Evolution and Biodiversity MSc<br>Global Environment, Politics and Society MSc<br>American History (MSc)<br>Clinical Management of Pain (Online Learning) MSc, PgProfDev<br>Environment and Development MSc<br>Electronics MSc<br>Environmental Protection and Management MSc<br>Environmental Sustainability MSc<br>International Relations MSc<br>Human Cognitive Neuropsychology MSc<br>Human Complex Trait Genetics MSc, PgDip<br>Human Anatomy MSc<br>Materials Chemistry MSc"
          ],
          [
           "nan, nan, nan, nan, nan, nan, nan, nan, nan, nan, 26976.0, nan, nan, 21136.0, nan, 21136.0, nan, nan, nan, nan, nan, nan, nan, nan, nan, nan, nan, nan, nan, nan, nan, nan, nan, nan, nan, nan, nan, nan, nan, nan, nan, 18520.0, nan, nan, nan, nan, nan, nan, nan, 18520.0, nan, nan, nan, nan, nan, nan, nan, 9840.0, nan, nan, nan, 21136.0, nan, nan, nan, nan, nan, nan, nan, 24520.0, nan, nan, nan, nan, nan, 21136.0, nan",
           "Edinburgh",
           "Facilities Management<br>Fashion and Textiles Management - MSc<br>Advanced Mechanical Engineering with Industrial Application (Two years)<br>International Management and Business Communication with Human Resource Management - MSc<br>International Management and Business Communication - MSc/PGDip<br>International Marine Science<br>Artificial Intelligence with Speech and Multimodal Interaction - MSc/PGDip<br>Climate Change: Managing the Marine Environment<br>Advanced Mechanical Engineering - MSc/PGDip<br>Construction Project Management<br>Maritime Logistics and Business<br>Finance and Management - MSc/PGDip<br>International Fashion Marketing - MSc<br>Digital Marketing<br>Global Sustainability Engineering<br>International Marketing - MSc<br>International Marketing with Consumer Psychology - MSc<br>Business Psychology with Intercultural Communication - MSc<br>Business Psychology with Coaching<br>Business Psychology with Human Resource Management - MSc<br>Business Strategy, Leadership and Change - MSc/PGDip<br>Business Psychology - MSc/PGDip<br>Computational Mathematics - MSc/PGDip<br>Construction Project Management with Industry Placement<br>Economics, Banking and Finance - MSc/PGDip<br>Actuarial Science - MSc<br>Actuarial Management - MSc<br>Actuarial Management with Data Science - MSc<br>Interpreting and Translating - MSc/PGDip<br>Interpreting - MSc<br>Artificial Intelligence (2 years) - MSc<br>Energy and Economics - MSc<br>International Banking and Finance - MSc/PGDip<br>Applied Mathematical Sciences - MSc/PGDip<br>Applied Mathematical Sciences Climate Change Modelling - MSc/PGDip<br>Applied Mathematical Sciences (2 years) - MSc<br>Applied Mathematical Sciences with Mathematical Biology, Ecology and Medicine - MSc<br>Investment Management - MSc<br>Applied Data Science - MSc<br>Computing (2 years) - MSc<br>International Accounting and Finance - MSc<br>Intercultural Business Communication<br>Information Technology (Software Systems) - MSc<br>Information Technology (Business) - MSc/PGDip<br>Applied Petroleum Geoscience<br>Computer Science for Cyber Security<br>International Business Management with Finance - MSc<br>International Business Management with Marketing - MSc<br>International Business Management with Human Resource Management - MSc<br>Accountancy<br>Civil Engineering and Construction Management<br>Commercial Management and Quantity Surveying<br>Commercial Management and Quantity Surveying with Industry Placement<br>Chinese-English Translation and Interpreting<br>Civil Engineering with Industry Placement<br>Artificial Intelligence - MSc/PGDip<br>Finance - MSc/PGDip<br>Business and Organisational Psychology<br>Brewing and Distilling with Entrepreneurship - MSc<br>Brewing and Distilling (Online) - MSc<br>Brewing and Distilling - MSc/PGDip<br>Applied Psychology<br>Advanced Structural Engineering<br>Actuarial Science and Management - MSc<br>Energy - MSc/PGDip<br>Building Services Engineering (Online only)<br>Analytical Science for the Biosciences Industries<br>Human Robot Interaction - MSc<br>Human Robot Interaction (2 years) - MSc<br>Logistics and Supply Chain Management<br>Marine Renewable Energy<br>Data Science (2 years) - MSc<br>Data Science - MSc/PGDip<br>Energy with Entrepreneurship<br>Global Environmental Change and Policy<br>Human Resource Management (HRM)<br>International Business Management with Project Management - MSc"
          ],
          [
           "7572.0, nan",
           "Edinburgh",
           "Marketing with Digital Strategy<br>Master of Public Health"
          ]
         ],
         "hovertemplate": "<b>%{hovertext}</b><br><br>city=%{customdata[1]}<br>latitude=%{lat}<br>longitude=%{lon}<br>fees_list=%{customdata[0]}<br>courses_list=%{customdata[2]}<extra></extra>",
         "hovertext": [
          "University of Edinburgh",
          "Heriot-Watt University",
          "Edinburgh Napier University"
         ],
         "lat": [
          55.94407645,
          55.91029585,
          55.93110635
         ],
         "legendgroup": "Edinburgh",
         "lon": [
          -3.1883735563964555,
          -3.323447514558347,
          -3.2093902303057424
         ],
         "marker": {
          "color": "#636efa"
         },
         "mode": "markers",
         "name": "Edinburgh",
         "showlegend": true,
         "subplot": "mapbox",
         "type": "scattermapbox"
        },
        {
         "customdata": [
          [
           "nan, nan, nan, nan, nan, nan, nan, nan, nan, nan, nan, nan, nan, nan, nan, nan, nan, nan, nan, nan, nan, nan, nan, nan, nan, nan, nan, nan, nan, nan, nan, nan, nan, nan, nan, nan, nan, nan, nan, nan, nan, nan, nan, nan, nan, nan, nan, nan, nan, nan, nan, nan, nan, nan, nan, nan, nan, nan, nan, nan, nan, nan, nan, nan, nan, nan, nan, nan, nan, nan, nan, nan, nan, nan, nan",
           "Nottingham",
           "Clinical and Molecular Microbiology MSc/PGDip/PGCert<br>Graduate Entry Nursing (Child) MSc<br>Graduate Entry Nursing (Learning Disability) MSc<br>Graduate Entry Nursing (Adult) MSc<br>Graduate Entry Nursing (Mental Health) MSc<br>Biological Photography and Imaging MSc<br>Bioengineering MSc<br>Cyberphysical Systems MSc<br>Cyberphysical Systems 2 year MSc<br>Finance and Investment MSc<br>Management Psychology MSc/PGDip<br>Banking and Finance MSc<br>Clinical Microbiology (Distance Learning) MSc/PGDip/PGCert<br>Cancer Immunology and Biotechnology MSc<br>Financial Economics MSc<br>Developmental Disorders MSc<br>Cultural Industries and Entrepreneurship MSc<br>Computational Neuroscience, Cognition and AI MSc<br>Marketing MSc<br>Economics and Econometrics MSc<br>Economics and Data Science MSc<br>Advanced Electrical and Electronic Engineering with Extended Research MSc<br>Biotechnology MSc<br>Brewing Science and Practice MSc<br>Gravity, Particles and Fields MSc<br>Chemical Engineering MSc<br>Economics MSc<br>Drug Discovery MSc<br>Drug Discovery with Industrial Training (two-year) MSc<br>Advanced Nursing MSc/PGDip<br>Industrial Engineering and Operations Management MSc<br>Food Production Management MSc/PGDip<br>International Economics MSc<br>Electrical Engineering MSc<br>Health Psychology MSc<br>Immunology and Immunotherapeutics MSc<br>Environmental Leadership and Management MSc<br>Advanced Building Performance Engineering MSc<br>International Tourism Management and Marketing MSc<br>Civil Engineering MSc<br>Communication and Entrepreneurship MSc<br>Cognitive Neuroscience MSc<br>Management MSc<br>Animal Nutrition MSc/PGDip<br>Environmental Engineering MSc<br>Information Systems and Operations Management MSc<br>Business Analytics MSc<br>Food Process Engineering MSc<br>Behavioural Economics MSc<br>Electronic Communications and Computer Engineering MSc<br>Business and Management MSc<br>Clinical Nutrition MSc/PGDip<br>Computer Science or Computer Science (Artificial Intelligence) MSc<br>Computer Science or Computer Science (Artificial Intelligence) pathway (2-year) MSc<br>Additive Manufacturing and 3D Printing MSc<br>Data Science MSc<br>Human Resource Management and Organisation MSc<br>Accounting and Finance MSc<br>Applied Sport and Exercise Medicine MSc<br>Bioinformatics MSc<br>Logistics and Supply Chain Management MSc<br>Advanced Materials MSc<br>Financial Technology MSc<br>Development Economics MSc<br>Human Computer Interaction MSc<br>Human Factors and Ergonomics MSc<br>Advanced Clinical Practice MSc<br>Electrical and Electronic Engineering MSc<br>Electrical Engineering for Sustainable and Renewable Energy MSc<br>Economic Development and Policy Analysis MSc<br>Financial and Computational Mathematics MSc<br>Entrepreneurship, Innovation and Management MSc<br>Cognitive Behavioural Therapy MSc/PGDip<br>Machine Learning in Science MSc<br>International Business MSc"
          ],
          [
           "nan, nan, nan, nan, nan, nan, nan, nan, nan, nan, nan, nan, nan, nan, nan, nan, nan, nan, nan, nan, nan, nan, nan, nan, nan, nan, nan, nan, nan, nan, nan, nan, nan, nan, nan, nan, nan, nan, nan, nan, nan, nan, nan, nan, nan, nan, nan, nan, nan, nan",
           "Nottingham",
           "Equine Performance, Health and Welfare MRes / MSc<br>Digital Architecture and Construction MSc<br>Biodiversity Conservation MRes / MSc<br>Artificial Intelligence MSc<br>International Law Enforcement MSc / PGCert / PGDip<br>Construction Management MSc<br>Cyberpsychology MSc<br>Innovation Management and Entrepreneurship MSc<br>Finance and Accounting MSc<br>FinTech and Financial Markets MSc<br>Finance MSc<br>Forensic Mental Health MSc<br>Engineering (Electronics) MSc<br>Business Transformation MSc<br>Biomedical Science MSc<br>Marketing MSc<br>Economics Banking and Finance MSc<br>IT Security MSc<br>Biotechnology MSc<br>Economics MSc<br>Computing Systems MSc<br>Management and Business Analytics MSc<br>International Real Estate Investment and Finance MSc<br>Advertising and Marketing Communications MSc<br>Finance and Investment Banking MSc<br>Management MSc<br>Chemistry (Professional Practice) MSc<br>Design: Products and Technology MSc<br>Engineering Management MSc<br>Biomedical Science by Flexible Learning MSc<br>Management and Global Supply Chain Management MSc<br>Management and International Business MSc<br>Management and Finance MSc<br>Management and Marketing MSc<br>Forensic Science MSc<br>Biotechnology MSc<br>International Finance Joint Degree MSc<br>Marketing and Brand Management MSc<br>Marketing and Data Analytics MSc<br>Computer Science MSc<br>Endangered Species Recovery and Conservation MRes / MSc<br>Data Science MSc<br>Building Surveying MSc<br>International Business (Dual Award) MSc<br>Cloud and Enterprise Computing MSc<br>Civil Engineering MSc<br>Digital Marketing MSc<br>Applied Child Psychology MSc<br>Forensic Psychology MSc<br>International Business MSc"
          ]
         ],
         "hovertemplate": "<b>%{hovertext}</b><br><br>city=%{customdata[1]}<br>latitude=%{lat}<br>longitude=%{lon}<br>fees_list=%{customdata[0]}<br>courses_list=%{customdata[2]}<extra></extra>",
         "hovertext": [
          "University of Nottingham",
          "Nottingham Trent University"
         ],
         "lat": [
          52.9387428,
          52.91163995
         ],
         "legendgroup": "Nottingham",
         "lon": [
          -1.2002956927457427,
          -1.1866026147428088
         ],
         "marker": {
          "color": "#EF553B"
         },
         "mode": "markers",
         "name": "Nottingham",
         "showlegend": true,
         "subplot": "mapbox",
         "type": "scattermapbox"
        },
        {
         "customdata": [
          [
           "nan, nan, nan, nan, nan, nan, nan, nan, nan, nan, nan, nan, nan, nan, nan, nan, nan, nan, nan, nan, nan, nan, nan, nan, nan, nan, nan, nan, nan, nan, nan, nan, nan, nan, nan, nan, nan, nan, nan, nan, nan, nan, nan, nan, nan, nan, nan, nan, nan, nan, nan, nan, nan, nan, nan, nan, nan, nan, nan, nan, nan, nan, nan, nan, nan, nan, nan, nan, nan, nan, nan, nan, nan, nan",
           "Exeter",
           "Clinical Associate in Psychology Degree Apprenticeship MSc<br>Extreme Medicine (Distance) MSc/PgDip/PgCert<br>Entrepreneurship and Technology Innovation MSc<br>Entrepreneurship and Innovation Management MSc<br>Marketing and Financial Management MSc<br>Evolutionary and Behavioural Ecology MSc<br>International Human Resource Management MSc<br>Clinical Psychology MSc<br>Finance and Management MSc<br>Finance and Investment MSc<br>Global Governance MSc<br>Global Sustainability Solutions (Online) MSc<br>Global Sustainability Solutions MSc<br>Financial Economics MSc<br>Global Operations Management MSc<br>Engineering Business Management with Industrial Placement MSc<br>Engineering Business Management MSc<br>Data Science MSc<br>Clinical Education MSc/PgDip/PgCert<br>Cyber Security Analytics MSc<br>Economics MSc<br>Genomic Medicine MSc/PgDip/PgCert (Online)<br>Economics: Behavioural Insights<br>Conservation and Biodiversity MSc<br>Data Science with Artificial Intelligence MSc<br>Financial Mathematics MSc<br>Human Resource Management MSc/PgDip<br>Construction Design Management MSc<br>Financial Mathematics with Professional Placement MSc<br>Island Biodiversity and Conservation MSc<br>Geographical Information Science MSc<br>Applied Data Science (Renewable Energy) MSc<br>Applied Data Science (Ecology and Evolution) MSc<br>Applied Data Science and Modelling MSc<br>Applied Data Science and Statistics MSc<br>Applied Data Science (Environment and Sustainability) MSc<br>Electrical Power and Smart Grids MSc<br>Health Research Methods MSc/PgDip/PgCert<br>Educational Research MSc<br>Bioarchaeology MSc<br>Advanced Clinical Practitioner<br>Advanced Clinical Practice MSc/PgDip/PgCert<br>Global Security Studies MSc<br>Global Renewable Energy Engineering MSc<br>Advanced Biological Sciences MSc<br>Genomic Medicine MSc/PgDip/PgCert<br>Computer Science MPhil/Msc by Research<br>Health Data Science MSc/PgDip/PgCert<br>Management MSc<br>Animal Behaviour MSc<br>Civil Engineering with Management MSc<br>Exploration Geology MSc<br>Experimental Archaeology MSc<br>Healthcare Leadership and Management MSc/PgDip/PgCert<br>Business Analytics MSc<br>Geology MSc by Research<br>Marketing MSc<br>International Supply Chain Management MSc<br>Economics: Development Economics<br>Accounting and Finance MSc<br>Financial Technology (Fintech) MSc<br>Marine and Coastal Sustainability MSc<br>Civil Engineering MSc<br>Marine Vertebrate Ecology and Conservation MSc<br>Marine Environmental Management MSc<br>Digital Marketing MSc<br>Clinical Pharmacy MSc/PgDip/PgCert<br>Advanced Computer Science with Business MSc<br>Advanced Computer Science MSc<br>Financial Analysis and Fund Management MSc<br>Environment and Human Health MSc/PgDip/PgCert<br>International Business MSc (Online)<br>International Business MSc<br>Geotechnical Engineering MSc"
          ]
         ],
         "hovertemplate": "<b>%{hovertext}</b><br><br>city=%{customdata[1]}<br>latitude=%{lat}<br>longitude=%{lon}<br>fees_list=%{customdata[0]}<br>courses_list=%{customdata[2]}<extra></extra>",
         "hovertext": [
          "University of Exeter"
         ],
         "lat": [
          50.73693715
         ],
         "legendgroup": "Exeter",
         "lon": [
          -3.534734858662963
         ],
         "marker": {
          "color": "#00cc96"
         },
         "mode": "markers",
         "name": "Exeter",
         "showlegend": true,
         "subplot": "mapbox",
         "type": "scattermapbox"
        },
        {
         "customdata": [
          [
           "nan, nan, nan, nan, nan, nan, nan, nan, nan, nan, nan, nan, nan, nan, nan, nan, nan, nan, nan, nan, nan, nan, nan, nan, nan, nan, nan, nan, nan, nan, nan, nan, nan, nan, nan, nan, nan, nan, nan, nan, nan, nan, nan, nan, nan, nan, nan, nan, nan, nan, nan, nan, nan, nan, nan, nan, nan, nan, nan, nan, nan, nan, nan, nan, nan, nan, nan, nan, nan, nan, nan, nan, nan, nan, nan, nan, nan, nan, nan, nan, nan, nan, nan, nan, nan, nan, nan, nan, nan, nan, nan, nan, nan, nan, nan, nan, nan, nan, nan, nan, nan, nan, nan, nan, nan, nan, nan, nan, nan, nan, nan, nan, nan, nan, nan, nan, nan, nan, nan, nan, nan, nan, nan, nan, nan, nan, nan, nan, nan, nan, nan, nan, nan, nan, nan, nan, nan, nan, nan, nan, nan, nan, nan, nan, nan, nan, nan, nan, nan, nan, nan, nan, nan, nan, nan, nan, 15000.0, nan, nan, nan, nan, nan, nan, nan, nan, nan, nan",
           "Glasgow",
           "Clinical Critical Care - MSc/PgDip/PgCert (Online)<br>Film Curation - MSc<br>English Language & Linguistics - MSc<br>Enhanced Practice in Education (Dumfries Campus) - MSc<br>Education for Sustainable Futures in Adult, Community & Youth Contexts - MSc<br>Education, Public Policy & Equity - MSc<br>International Management & Design Innovation - MSc<br>Bioinformatics - MSc/PgDip/PgCert<br>Conservation Management of African Ecosystems - MSc<br>Global Mental Health - MSc/PgDip/PgCert<br>Global Gender History - MSc/PgDip/PgCert (Online)<br>Global Health - MSc/MRes<br>Environmental Risk Management (Dumfries Campus) - MSc<br>Epidemiology of Infectious Diseases and Antimicrobial Resistance - MSc<br>Management with Human Resources - MSc<br>Management with Enterprise & Business Growth - MSc<br>Diabetes, Renal, Endocrine & Metabolic Medicine - MSc (by Research)<br>Clinical Neuropsychology Knowledge & Practice - MSc(MedSci)<br>Clinical Neuropsychology - MSc(MedSci)/PgDip<br>Online MSc Marketing<br>Oral Sciences - MSc<br>Philosophy - MSc<br>Global Migrations & Social Justice - MSc<br>Global Mental Health MSc/PgDip/PgCert (online)<br>Management with International Finance - MSc<br>Critical Care - MSc/PgDip/PgCert<br>Computational Geoscience - MSc<br>City Planning & Real Estate Development - MSc<br>City Planning - MSc<br>Clinical Pharmacology - MSc(MedSci)<br>Health Economics and Health Technology Assessment - MSc (by Research)<br>Ecology & Environmental Monitoring (Dumfries Campus) - MSc<br>Biomedical Sciences - MSc<br>Astrophysics - MSc<br>Reparatory Justice - MSc/MA<br>Science Communications - MSc<br>Russian, East European and Eurasian Studies - MSc/PgDip<br>Statistics - MSc<br>Sociology - MSc<br>Religion & Global Challenges - MSc<br>Robotics & AI - MSc<br>Real Estate - MSc<br>Earth Futures: Environments, Communities, Relationships - MSc<br>Early Modern History - MSc/PgDip<br>Data Analytics - MSc<br>Data Analytics - MSc/PgDip/PgCert (Online)<br>Creative Industries & Cultural Policy - MSc<br>Data Analytics for Government - MSc/PgDip/PgCert (online)<br>Land & Hydrographic Surveying - MSc/PgDip/PgCert<br>Laboratory Management - MSc/PgDip/PgCert (Online)<br>Health-Professions Education/ Health Professions Education (with Research) MSc/MSc (Research)/PgDip/PgCert: Online<br>Chemical Biology - MSc<br>Data Science - MSc<br>Economics, International Banking & Finance - MSc<br>Conflict Archaeology & Heritage - MSc/PgDip<br>Stem Cell Engineering For Regenerative Medicine - MSc<br>Human Rights & International Politics - MSc/PgDip<br>Biotechnology & Management - MSc/PGDip<br>Biotechnology - MSc<br>Advanced Nursing Science - MSc<br>Financial Risk Management - MSc<br>Financial Technology - MSc<br>Financial Modelling & Investment - MSc<br>Aerospace Engineering - MSc<br>Aerospace Engineering & Management - MSc<br>Infection, Immunity & Inflammation - MSc (by Research)<br>Computer Systems Engineering - MSc<br>International Corporate Finance & Banking - MSc<br>Educational Studies - MSc<br>Biochemistry & Biotechnology - MSc (Research)<br>Advanced Practice in Veterinary Nursing - MSc/PgDip/PgCert (Online)<br>Advanced Practice in Health Care - MSc(MedSci)/PgDip/PgCert<br>Investment Banking & Finance - MSc<br>Immunology & Inflammatory Disease - MSc/PgDip/PgCert<br>Applied Neuropsychology - MSc(MedSci)/PgDip<br>Environmental Futures: Sustainable Systems - MSc<br>TESOL: Teaching of English to Speakers of Other Languages - MSc<br>Urban Analytics - MSc<br>Sustainable Water Environments - MSc<br>Sustainable Tourism & Global Challenges (Dumfries Campus) - MSc<br>Sustainable Energy - MSc<br>Urban Transport - MSc<br>Data Analytics for Economics & Finance - MSc<br>Housing Studies - MSc/PgDip<br>Archaeology - MSc<br>Applied Linguistics - MSc<br>Animal Welfare Science, Ethics & Law - MSc<br>Animal Nutrition - MSc/PgDip/PgCert (Online)<br>Animal Ecology - MSc (by Research)<br>Brain Sciences - MSc<br>Cardiovascular Sciences - MSc(MedSci)<br>Chemistry - MSc<br>Classics & Ancient History - MSc<br>Chemistry - MPhil/MSc (Research)<br>Global Security - MSc<br>History - MSc/PgDip<br>Information Technology - MSc<br>Health Technology Assessment (Online) MSc/PgDip/PgCert<br>Health Services Management - MSc/PgDip/PgCert<br>Chemistry with Medicinal Chemistry - MSc<br>Aging, Health & Welfare - MSc (by Research)<br>Cancer Research & Precision Oncology - MSc<br>Cardiovascular & Medical Sciences - MSc (by Research)<br>Infection Biology (With Specialisms) - MSc/PgDip/PgCert<br>Information Management & Preservation - MSc/PgDip/PgCert<br>International & Comparative Education - MSc<br>Behavioural Science - MSc<br>International Human Resource Management & Development - MSc<br>Dentistry (Community Oral Health & Oral Sciences) - MSc (by Research)<br>Art History: Collecting & Provenance in an International Context - MSc<br>Filmmaking & Media Arts - MSc<br>General Practice & Primary Care - MSc (by Research)<br>Genetic & Genomic Counselling (with Work Placement) - MSc(MedSci)<br>Finance & Management - MSc<br>International Financial Analysis - MSc<br>Marketing (MSc/PGDip/PgCert: Online)<br>Criminology & Criminal Justice - MSc/PgDip<br>Geomatics & Management - MSc<br>Geoinformation Technology & Cartography - MSc/PgDip/PgCert<br>Museum Studies MSc/PgDip/PgCert<br>Music Industries - MSc<br>Museum Education - MSc<br>Food Security - MSc<br>Endodontics - MSc(DentSci)<br>End of Life Studies - MSc/PgDip/PgCert (Online)<br>Media, Communications & International Journalism - MSc<br>Media Management - MSc<br>Media, Culture & Society - MSc<br>Ancient Cultures - MSc<br>International Strategic Marketing - MSc<br>Advanced Imaging and Sensing - MSc<br>Advanced Functional Materials - MSc<br>Gender History - MSc/PgDip<br>Global History - MSc<br>International Business - MSc<br>Biomedical Engineering - MSc<br>Biomedical Engineering - MPhil/MSc (Research)<br>Development Studies - MSc<br>Celtic Studies - MSc<br>Corporate Governance & Accountability - MSc<br>Infectious Disease - MSc (by Research)<br>Political Communication - MSc/PgDip<br>Public Policy & Management - MSc/PgDip<br>Global Economy - MSc<br>Economic Development (with Finance & Policy Pathways) – MSc<br>Financial Economics - MSc<br>Environment & Sustainable Development - MSc<br>Electronics & Photonics Manufacturing - MSc<br>Electronics & Electrical Engineering - MSc<br>Electronics & Electrical Engineering & Management - MSc<br>Civil Engineering - MSc<br>Civil Engineering & Management - MSc<br>Computing Science - MSc/PgDip/PgCert<br>Computing Science - MPhil/MSc (Research)<br>Environmental Science (Glasgow-Nankai Joint Graduate School) - MSc<br>Management - MSc<br>Education - MSc (Online)<br>Digital Society - MSc<br>Digital Cancer Technologies - MSc<br>International Relations (Glasgow-Nankai Joint Graduate School) - MSc<br>Management & Sustainable Tourism - MSc<br>Land & Hydrographic Surveying with Work Placement - MSc<br>International Relations - MSc<br>Language and Literacy Education (Dumfries Campus) - MSc<br>Material Culture & Artefact Studies - MSc/PgDip<br>Geospatial & Mapping Sciences - MSc/PgDip/PgCert<br>Geospatial Data Science & Modelling - MSc"
          ],
          [
           "nan, nan, nan, nan, nan, nan, nan, nan, nan, nan, nan, nan, nan, nan, nan, nan, nan, nan, nan, nan, nan, nan, nan, nan, nan, nan, nan, nan, nan, nan, nan, nan, nan, nan, nan, nan, nan, nan, nan, nan, nan, nan, nan, nan, nan, nan, nan, nan, nan, nan, nan, nan, nan, nan, nan, nan, nan, nan, nan, nan, nan, nan, nan, nan, nan, nan, nan, nan, nan, nan, nan, nan, nan, nan, nan, nan, nan, nan, nan, nan, nan, nan, nan, nan, nan, nan",
           "Glasgow",
           "Advanced Mechanical Engineering with Materials MSc<br>Advanced Mechanical Engineering with Aerospace MSc<br>Advanced Mechanical Engineering with Energy Systems MSc<br>Advanced Mechanical Engineering with Industrial Placement MSc<br>Advanced Mechanical Engineering with Power Plant Technologies MSc<br>Applied Gender Studies MSc<br>Applied Gender Studies MSc<br>Applied Educational & Social Research MSc<br>Historical Studies MSc/PgDip<br>Advanced Mechanical Engineering (Online Learning) MSc/PgDip/PgCert<br>Advanced Mechanical Engineering MSc<br>Advanced Mechanical Engineering by Modular study MSc, PGDip, PGCert<br>Education Studies MSc<br>Advanced Computer Science with Data Science<br>Advanced Construction Technologies & BIM MSc/PgDip/PgCert<br>Electronic & Electrical Engineering MSc<br>Criminal Justice & Penal Change LLM/MSc/PgDip/PgCert<br>Data Science for Politics & Policymaking MSc<br>Health History MSc/PgDip/PgCert<br>Advanced Electrical Power & Energy Systems MSc<br>Advanced Drug Delivery MSc<br>Applied Statistics in Health Sciences (online) MSc<br>Applied Statistics (on campus) MSc<br>Applied Translation & Interpreting MSc/PgDip<br>Applied Statistics in Finance (online) MSc<br>Applied Statistics with Data Science (online) MSc<br>Applied Statistics in Finance (on campus) MSc<br>Applied Statistics in Health Sciences (on campus) MSc<br>Advanced Manufacturing: Technology and Systems MSc<br>Artificial Intelligence & Applications MSc<br>Hydrogeology MSc<br>Advanced Pharmaceutical Manufacturing MSc<br>Advanced Pharmacology MSc<br>Advanced Naval Architecture MSc<br>Diplomacy & International Security MSc<br>Diplomacy & International Security MSc/PgDip<br>Industrial Biotechnology MSc<br>Architectural Design for the Conservation of Built Heritage MSc<br>Advanced Clinical Pharmacy Practice MSc<br>Biomedical Sciences MSc<br>Electrical Power & Energy Systems MSc<br>Applied Physics MSc/PgDip<br>Environmental Entrepreneurship MSc<br>Advanced Biochemistry MSc<br>Advanced Chemical & Process Engineering (distance learning) MSc/PgDip/PgCert<br>5G Advanced Communications MSc<br>Civil Engineering MSc<br>Applied Statistics (online) MSc<br>Engineering Management for Process Excellence MSc<br>Environmental Engineering MSc<br>Cyber Security (Graduate Apprenticeship) MSc<br>Chemical Technology & Management (Distance Learning) MSc/PgDip/PgCert<br>Design Engineering with Sustainability MSc<br>Design Engineering with Advanced Product Development MSc<br>Cancer Therapies MSc<br>Engineering Project Management (Online) MSc/PgDip/PgCert<br>Counselling & Psychotherapy MSc<br>Design Engineering MSc<br>Genealogical, Palaeographic & Heraldic Studies MSc/PgDip/PgCert<br>Forensic Science MSc<br>Autism MSc<br>Digital Health Systems MSc<br>Digital Manufacturing MSc<br>Criminology & Social Policy MSc<br>Advanced Software Engineering MSc<br>Advanced Residential Child Care MSc<br>Advanced Physics MSc/PgDip<br>Autonomous Robotic Intelligent Systems MSc<br>Actuarial Science MSc/PgDip/PgCert<br>Advanced Chemical Engineering MSc<br>International Social Welfare MSc<br>Advanced Immunology MSc<br>Biomedical Engineering MSc<br>Advanced Materials Engineering MSc<br>Marine Engineering MSc<br>Marine Engineering with Specialisation in Autonomous Marine Vehicles MSc/PgDip<br>Information & Library Studies MSc/PgDip<br>Information Management MSc/PgDip<br>Energy Systems Innovation MSc<br>Clinical Pharmacy MSc<br>Advanced Computer Science with Artificial Intelligence MSc<br>Advanced Computer Science MSc<br>Child & Youth Care Studies by Distance Learning MSc<br>Clinical Health Psychology MSc<br>Machine Learning and Deep Learning MSc<br>International Relations MSc"
          ],
          [
           "nan, nan, nan, nan, nan, nan, nan, nan, nan, nan, nan, nan, nan, nan, nan, nan, nan, nan, nan, nan, nan, nan, nan, nan, nan, nan, nan",
           "Glasgow",
           "Applied Instrumentation and Control - MSc<br>Environmental Management (Waste, Energy, Water, Oil and Gas) - MSc<br>Climate Justice - MSc<br>International Fashion Marketing - MSc<br>Advanced Physiotherapy Practice - MSc<br>3D Design for Virtual Environments - MSc<br>Diagnostic Imaging - MSc<br>Forensic Psychology - MSc<br>Diabetes Care and Management - MSc<br>Marketing - MSc<br>Biomedical Science - MSc<br>Cyber Security - MSc<br>Accounting, Finance and Regulation - MSc<br>Advanced Internetwork Engineering - MSc<br>International Banking, Finance and Risk Management - MSc<br>International Economic and Social Justice - MSc<br>Electrical Power Engineering - MSc<br>International Project Management (Energy. Construction, Management, Oil and Gas) - MSc<br>Electrical and Electronic Engineering - MSc<br>Investigative Ophthalmology and Vision Research - MSc<br>International Tourism and Events Management - MSc<br>International Business Management - MSc<br>Big Data Technologies - MSc<br>International Human Resource Management - MSc<br>Advanced Practice - MSc<br>Human Resource Management - MSc<br>International Operations and Supply Chain Management - MSc"
          ],
          [
           "nan, nan, nan, nan, nan, 13100.0, nan, nan, nan, nan, 13100.0, nan, nan, nan, nan, nan, nan, nan",
           "Glasgow",
           "International Management - MSc<br>International Events Management - MSc<br>Digital Marketing - MSc<br>Advanced Computing - MSc<br>Forensic Mental Health - MSc<br>Internet of Things - MSc<br>Biotechnology - MSc<br>Leading People-Centred Integrated Care - MSc<br>Advanced Clinical Practitioner - MSc<br>Advanced Biomedical Science - MSc<br>Information Technology - MSc<br>Contemporary Alcohol & Drug Studies - MSc<br>Big Data - MSc<br>Finance & Accounting with CIMA - MSc<br>Applied Social Science - MSc<br>Logistics and Supply Chain Management - MSc<br>Career Guidance & Development - MSc<br>Adult Nursing - MSc"
          ]
         ],
         "hovertemplate": "<b>%{hovertext}</b><br><br>city=%{customdata[1]}<br>latitude=%{lat}<br>longitude=%{lon}<br>fees_list=%{customdata[0]}<br>courses_list=%{customdata[2]}<extra></extra>",
         "hovertext": [
          "University of Glasgow",
          "University of Strathclyde",
          "Glasgow Caledonian University",
          "University of the West of Scotland"
         ],
         "lat": [
          55.872315349999994,
          55.8618812,
          55.86746635,
          55.8618812
         ],
         "legendgroup": "Glasgow",
         "lon": [
          -4.289219112981823,
          -4.241956565778082,
          -4.250245389417843,
          -4.241956565778082
         ],
         "marker": {
          "color": "#ab63fa"
         },
         "mode": "markers",
         "name": "Glasgow",
         "showlegend": true,
         "subplot": "mapbox",
         "type": "scattermapbox"
        },
        {
         "customdata": [
          [
           "nan, nan, nan, nan, nan, nan, nan, nan, nan, nan, nan, nan, nan, nan, nan, nan, nan, nan, nan, nan, nan, nan, nan, nan, nan, nan, nan, nan, nan, nan, nan, nan, nan, nan, nan, nan, nan, nan, nan, 18850.0, nan, nan, nan, nan, nan, nan, nan, nan, nan, nan, nan, nan, nan, nan, nan, nan, nan, nan, nan, nan, nan, nan, nan, nan",
           "Groningen",
           "Clinical and Psychosocial Epidemiology (research) MSc<br>DDM Marketing & Information Systems<br>DDM Marketing & Finance<br>DDM Strategic Marketing Intelligence<br>Energy and Environmental Sciences MSc<br>Biology MSc<br>Artificial Intelligence MSc<br>Marketing Management MSc<br>International Business and Management MSc<br>International Financial Management MSc<br>Demography and Social Inequality DDM<br>Innovative Medicine MSc<br>Finance MSc<br>Computational Cognitive Science MSc<br>Ecology and Evolution MSc<br>Business Administration: Small Business and Entrepreneurship MSc<br>Business Administration MSc<br>Business Administration: Change Management MSc<br>Business Administration: Strategic Innovation Management MSc<br>Business Administration: Management, Accounting and Control MSc<br>Business Administration: Health MSc<br>Economics MSc<br>Linguistics (research): Language and Communication Technologies (erasmus mundus) MA/MSc<br>Mechanical Engineering MSc<br>Mathematics MSc<br>DDM Economics and Economic Analysis<br>DDM International Financial Management<br>DDM International Business and Finance<br>DDM Economic Development and Growth (MEDEG)<br>DDM Central-East European Economies<br>DDM Finance<br>DDM International Development Economics<br>Industrial Engineering and Management MSc<br>CPE Track Health Systems and Prevention (research) MSc<br>CPE Track Lifecourse Health Development<br>Biomedical Sciences MSc<br>Learning in Interaction<br>Islands and Sustainability MSc<br>Environmental and Infrastructure Planning MSc<br>Systems and Control MSc<br>Accountancy & Controlling MSc<br>Behavioural and Cognitive Neurosciences (research) MSc<br>Applied Physics MSc<br>Applied Mathematics MSc<br>Astronomy MSc<br>Biomolecular Sciences MSc<br>Chemical Engineering MSc<br>Climate Adaptation Governance MSc<br>Chemistry MSc<br>Marketing Analytics and Data Science MSc<br>Nanoscience MSc<br>Marketing MSc<br>Human Resource Management MSc<br>Medical Pharmaceutical Sciences MSc<br>Biomedical Engineering MSc<br>Marine Biology MSc<br>Development Planning and Infrastructure Management DDM<br>Human Movement Sciences MSc<br>Physics MSc<br>Econometrics, Operations Research and Actuarial Studies MSc<br>Economic Geography: Regional Competitiveness and Trade MSc<br>Economic Geography MSc<br>Economic Development and Globalization MSc<br>Computing Science MSc"
          ],
          [
           "8276.0, 8276.0, 8276.0",
           "Groningen",
           "Data Science for Life Sciences<br>Energy for Society<br>Architecture"
          ]
         ],
         "hovertemplate": "<b>%{hovertext}</b><br><br>city=%{customdata[1]}<br>latitude=%{lat}<br>longitude=%{lon}<br>fees_list=%{customdata[0]}<br>courses_list=%{customdata[2]}<extra></extra>",
         "hovertext": [
          "University of Groningen",
          "Hanze University of Applied Sciences"
         ],
         "lat": [
          53.21944155,
          53.2190652
         ],
         "legendgroup": "Groningen",
         "lon": [
          6.562986329174857,
          6.5680077
         ],
         "marker": {
          "color": "#FFA15A"
         },
         "mode": "markers",
         "name": "Groningen",
         "showlegend": true,
         "subplot": "mapbox",
         "type": "scattermapbox"
        },
        {
         "customdata": [
          [
           "10310.0, 10310.0, 10310.0, 16385.0, 11810.0, 11410.0, 11410.0, 11810.0, 10310.0, 11810.0, 12710.0, 9910.0, 9910.0, 9910.0, 11410.0, 11810.0, 4955.0, 10310.0, 10310.0, 10310.0, 11410.0, 11410.0, nan, 10310.0, 10310.0, 1655.0, 16385.0, 9910.0, 9910.0, 9910.0, 1655.0, 1655.0, 1655.0, 9910.0, 11410.0, 11410.0, 11410.0, 10310.0, 10310.0, 11810.0, 11410.0, 11410.0, 11810.0, 9910.0, 16385.0, 6689.0, 1655.0, 9910.0, 10310.0, 1655.0, 11410.0, 11410.0, 9910.0, 11410.0, 11410.0, 11810.0, 11410.0, 10310.0, 11410.0, 11410.0, 21000.0, 10310.0, 11410.0, 10310.0, 10310.0, 10310.0, 10310.0",
           "Sheffield",
           "Clinical Cognitive Neuroscience (MSc)<br>Cancer Biology (MSc)<br>International Business and Marketing (MSc)<br>Advanced Mechanical Engineering (MSc)<br>International Business Management - Work Experience (MSc)<br>International Business Management (MSc)<br>International Hospitality and Tourism Management (MSc)<br>International Hospitality and Tourism Management with Work Experience (MSc)<br>Applied Sport and Exercise Science (MSc)<br>International Events Management (Work Experience Route) MSc<br>Global Financial Trading (MSc)<br>Banking and Finance (MSc)<br>Financial Management (MSc)<br>Environmental Management (MSc)<br>International Marketing (MSc)<br>International Marketing with Work Experience (MSc)<br>Accounting and Finance - Fast track (MSc)<br>Developmental Psychology (MSc)<br>International Business and Human Resource Management (MSc)<br>Forensic Accounting (MSc)<br>Construction Project Management (MSc)<br>Construction Project Management (Work Experience) (MSc)<br>Biomedical Laboratory Science (MSc)<br>Cyber Security (MSc)<br>Health and Social Care Leadership (MSc)<br>Health and Social Care Education (MSc)<br>Advanced Engineering and Management (MSc)<br>Accounting and Finance (MSc)<br>Artificial Intelligence (MSc)<br>Logistics and Supply Chain Management with Work Experience (MSc)<br>Advanced Clinical Practice - Musculoskeletal Management (MSc)<br>Advanced Clinical Practice - Radiotherapy and Oncology (MSc)<br>Enhanced Radiotherapy and Oncology Practice (MSc)<br>Geographical Information Systems (MSc)<br>Computing (MSc)<br>Information Technology Management (MSc)<br>Electrical and Electronic Engineering (MSc)<br>Health Psychology (MSc)<br>Criminology and Criminal Justice Practice (MSc)<br>International Tourism and Aviation Management with Work Experience (MSc)<br>International Tourism Management (MSc)<br>International Tourism Management with Work Experience (MSc)<br>Data Analytics with Banking and Finance MSc<br>Automation, Control and Robotics (MSc)<br>Automation Control and Robotics (Work Experience) (MSc)<br>Advancing Practice Sensory Integration (MSc)<br>Advancing Professional Practice (MSc/PgDip/PgCert)<br>Finance and Investment (MSc)<br>Healthcare Analytics and Artificial Intelligence (MSc)<br>Advanced Clinical Practice (MSc)<br>Food and Nutrition Sciences (MSc)<br>Food and Nutrition Sciences with Work Experience (MSc)<br>Food Consumer Marketing and Product Development (MSc)<br>Food Consumer Marketing and Product Development with Work Experience (MSc)<br>Big Data Analytics (MSc)<br>International Hospitality Management (Work Experience Route) MSc<br>International Hospitality Management (MSc)<br>Building Surveying (MSc)<br>International Tourism and Aviation Management (MSc)<br>Logistics and Supply Chain Management (MSc)<br>Dietetics - Pre-Registration (MSc)<br>Child, Adolescent and Family Mental Health (MSc)<br>Electrical and Electronic Engineering (Work Experience) (MSc)<br>Advanced Computer Networks (MSc)<br>Analytical Chemistry (MSc)<br>Human Resource Management (MSc)<br>Forensic Psychology (MSc)"
          ],
          [
           "27500.0, nan, 29950.0, 23250.0, nan, nan, nan, nan, nan, 29950.0, nan, 23760.0, nan, nan, nan, nan, nan, 27500.0, nan, nan, nan, nan",
           "Sheffield",
           "MSc Management<br>MSc Materials Science and Engineering<br>MSc Finance and Accounting<br>MSc Economics<br>MSc Data Analytics<br>MSc Advanced Computer Science<br>MSc Aerospace Engineering<br>MSc Advanced Mechanical Engineering<br>MSc Autonomous and Intelligent Systems<br>MSc Accounting, Governance and Financial Management<br>MSc Robotics<br>MSc Psychology and Education (Conversion)<br>MSc Semiconductor Photonics and Electronics<br>MSc Structural Engineering<br>MSc(Eng) Data Communications<br>MSc(Eng) Aerospace Materials<br>MSc Pharmaceutical Engineering<br>MSc Occupational Psychology<br>MSc(Eng)/PGDip Process Safety and Loss Prevention<br>MSc(Res) Advanced Manufacturing Technologies<br>MSc Civil Engineering and Management<br>MSc Biomedical Engineering"
          ]
         ],
         "hovertemplate": "<b>%{hovertext}</b><br><br>city=%{customdata[1]}<br>latitude=%{lat}<br>longitude=%{lon}<br>fees_list=%{customdata[0]}<br>courses_list=%{customdata[2]}<extra></extra>",
         "hovertext": [
          "Sheffield Hallam University",
          "University of Sheffield"
         ],
         "lat": [
          53.38172635,
          53.381504199999995
         ],
         "legendgroup": "Sheffield",
         "lon": [
          -1.462795139475161,
          -1.4833687805861575
         ],
         "marker": {
          "color": "#19d3f3"
         },
         "mode": "markers",
         "name": "Sheffield",
         "showlegend": true,
         "subplot": "mapbox",
         "type": "scattermapbox"
        },
        {
         "customdata": [
          [
           "nan, nan, nan, nan, nan, nan, nan, nan",
           "Haifa",
           "Master of Science in Biology<br>Master of Science in Architecture & Town Planning<br>Master of Science in Physics<br>Master of Science in Aerospace Engineering<br>Master of Science in Mathematics<br>Master of Science in Biotechnology & Food Engineering<br>Master of Science in Chemical Engineering<br>Master of Science - Biomedical Engineering"
          ],
          [
           "nan, nan",
           "Haifa",
           "Marine Biology MSc<br>Marine Geosciences MSc"
          ]
         ],
         "hovertemplate": "<b>%{hovertext}</b><br><br>city=%{customdata[1]}<br>latitude=%{lat}<br>longitude=%{lon}<br>fees_list=%{customdata[0]}<br>courses_list=%{customdata[2]}<extra></extra>",
         "hovertext": [
          "Technion - Israel Institute of Technology",
          "University of Haifa"
         ],
         "lat": [
          32.7768128,
          32.7609456
         ],
         "legendgroup": "Haifa",
         "lon": [
          35.02254464999363,
          35.02043482821519
         ],
         "marker": {
          "color": "#FF6692"
         },
         "mode": "markers",
         "name": "Haifa",
         "showlegend": true,
         "subplot": "mapbox",
         "type": "scattermapbox"
        },
        {
         "customdata": [
          [
           "nan, nan, nan, nan, nan, nan, nan, nan, nan, nan, nan, nan, nan, nan, nan, nan, nan, nan, nan, nan, nan, nan, nan, nan, nan, nan, nan, nan, nan, nan, nan, nan, nan, nan, nan, nan, nan, nan, nan, nan, nan, nan, nan, nan, nan, nan, nan, nan, nan, nan, nan, nan, nan, nan, nan, nan, nan, nan, nan, nan, nan, nan, nan, nan, nan, nan, nan, nan, nan, nan, nan, nan, nan, nan, nan, nan, nan, nan",
           "Galway",
           "Master of Science in Biopharmaceutical Manufacturing (Blended)<br>Master of Science in Big Data Analytics and Artificial Intelligence<br>Master of Science in BioIndustry 4.0<br>Master of Science in Big Data Analytics<br>Master of Science in Applied Sport and Exercise Nutrition<br>Master in Social Care and Social Justice (Online)<br>Master of Science in Professional Nursing<br>Master of Science in Medical Technology Regulatory Affairs (Online)<br>Master of Science in Medical Science (Blended)<br>Master of Science in Nutrition and Sensory Science<br>Master of Science in Outdoor Education, Sustainability and Well-being<br>Master of Science in Project Management (Online)<br>Master of Science in Palliative and End of Life Care<br>Master of Science in Applied Marine Conservation<br>Master of Science in Advanced Therapy Medicinal Products (ATMP) Cell Manufacturing<br>Master of Science in Applied Leadership and Management in Healthcare<br>Master of Science in Applied Leadership and Management in the Public Sector<br>Master of Science in Advanced Therapy Medicinal Products (ATMP) Technology and Manufacturing<br>Master of Science in Advancing Health & Social Care<br>Master of Science in Applied Leadership and Management in Social Care<br>Master of Health Science in Applied Health and Wellness Coaching<br>Master of Health Science in Professional Healthcare Studies<br>Master of Health Science in Nursing<br>Master of Health Science in International Healthcare Management (National Stream)<br>Master of Health Science in International Healthcare Management (Intentional Stream)<br>Master of Health Science in Community Mental Health Nursing<br>Master of Health Science in Professional Studies<br>Master of Science in Disability Studies<br>Master of Science in Environmental Health and Safety Management (Online)<br>Master of Science in Digital Media and Marketing<br>Master of Science in Environmental Protection (Online)<br>Master of Science in DevOps<br>Master of Science in Digital Business (Online)<br>Master of Science in Therapeutic Interventions for Alcohol & Other Drugs<br>Master of Science in Sustainable Food Systems (Online)<br>Master of Science in Supply Chain Analytics<br>Master of Science in Validation and Digitalisation Technologies<br>Master of Science in Water Services Management<br>Master of Science in Sustainability Leadership<br>Master of Science in Food Regulatory Affairs (Online)<br>Master of Science in Food Innovation<br>Master of Science in Food & Nutritional Product Development (Online)<br>Master of Science in Health Promotion Practice part-time (Online)<br>Master of Science in Marketing (Donegal)<br>Master of Science in Marketing (Sligo)<br>Master of Science in International Marine Biological Resources<br>Master of Science in International Medical Technologies, Innovation and Development<br>Master of Science in Industrial Pharmaceutical Science (Online)<br>Master of Science in Innovation in FinTech<br>Master of Science in Biopharmaceutical Science (Online)<br>Master of Science in Biopharmaceutical Processing (Online)<br>Master of Science in Circular Economy Leadership for the Built Environment<br>Master of Science in Business Management<br>Master of Science in Built Environment Regulation<br>Master of Science in Building Information Modelling and Digital Leadership (Blended)<br>Master of Arts in Learning & Teaching (Donegal)<br>Master of Arts in Governance & IT in Financial Services<br>Master of Engineering in Geotechnical Engineering with Structural Engineering<br>Master of Science in Sports and Exercise Nutrition part-time (online)<br>Master of Science in Public Health Nutrition part-time (online)<br>Master of Science in Strategic People Management (Online)<br>Master of Science in Quality and Safety in Healthcare<br>Master of Science in Quality and Safety in Social Care<br>Master of Science in Sports Performance Practice<br>Master of Science in Strength and Conditioning<br>Master of Science in Sport and Clinical Biomechanics<br>Master of Science in Strategy, Enterprise & Innovation<br>Master of Science in Clinical Measurement Physiology<br>Master of Science in Computing Blockchain Technologies and Applications<br>Master of Science in Computing (Data Science)<br>Master of Science in Cloud Technologies<br>Master of Science in Computing Healthcare Innovation and Technology<br>Master of Science in Cyberpsychology<br>Master of Science in Conservation Behaviour<br>Master of Science in Data Science & Preparatory Certificate in Computing<br>Master of Science in Cybersecurity<br>Master of Science in Design and Innovation<br>Master of Science in Cybersecurity Operations (Blended)"
          ],
          [
           "24140.0, 24140.0, nan",
           "Galway",
           "MSc Toxicology<br>MSc Neuropharmacology<br>Masters Program in Climate Change, Agriculture & Food Security (MScCCAFS)"
          ]
         ],
         "hovertemplate": "<b>%{hovertext}</b><br><br>city=%{customdata[1]}<br>latitude=%{lat}<br>longitude=%{lon}<br>fees_list=%{customdata[0]}<br>courses_list=%{customdata[2]}<extra></extra>",
         "hovertext": [
          "Atlantic Technological University",
          "University of Galway"
         ],
         "lat": [
          53.84965675,
          53.2936337
         ],
         "legendgroup": "Galway",
         "lon": [
          -9.30507210747157,
          -9.075059919448318
         ],
         "marker": {
          "color": "#B6E880"
         },
         "mode": "markers",
         "name": "Galway",
         "showlegend": true,
         "subplot": "mapbox",
         "type": "scattermapbox"
        },
        {
         "customdata": [
          [
           "nan, nan, nan, nan, nan, nan, nan, nan, nan, nan, nan, nan, nan, nan, nan, nan, nan, nan, nan, nan, nan, nan, nan, nan, nan, nan, nan, nan, nan, nan, nan, nan, nan, nan, nan",
           "Tampere",
           "Master of Science in Biomedical Technology - Cell Technology<br>Master of Science in Biomedical Technology - Molecular Biology<br>Master of Science in Biomedical Technology - Biomedical Informatics<br>Master of Science (Technology) in Biomedical Sciences and Engineering - Biomedical Informatics<br>Master of Science (Technology) in Biomedical Sciences and Engineering - Biomaterials and Tissue Engineering<br>Master of Science (Technology) in Automation Engineering - Factory Automation and Robotics<br>Master of Science (Technology) in Information Technology - Robotics and Artificial Intelligence<br>Master of Science (Technology) in Industrial Engineering and Management - Business and Technology<br>Master of Science (Technology) in Photonics Technologies<br>Master of Science (Technology) in Security and Safety Management – Safety Management and Engineering<br>Master of Science (Technology) in Materials Science and Engineering<br>Master of Science (Technology) in Environmental Engineering<br>Master of Health Sciences in Public and Global Health<br>Master of Science (Economics and Business Administration) in Leadership for Change - Sustainable Business Management<br>Master of Science (Architecture) in Sustainable Architecture<br>Master of Science in Computing Sciences and Electrical Engineering - Data Science<br>Master of Science in Computing Sciences and Electrical Engineering - Statistical Data Analytics<br>Master of Social Sciences in Peace, Mediation and Conflict Research<br>Master of Social Sciences in Sustainable Societies and Digitalisation - Sustainable Digital Life<br>Master of Social Sciences in Sustainable Societies and Digitalisation - Accessibility and Diversity in Digital Services<br>Master of Science (Technology) in Computing Sciences and Electrical Engineering - Human-Technology Interaction<br>Master of Science (Technology) in Computing Sciences and Electrical Engineering - System-on-Chip Design<br>Master of Science (Technology) in Civil Engineering, Structural Engineering<br>Master of Science (Technology) in Computing Sciences and Electrical Engineering - Smart Grids<br>Master of Science (Technology) in Civil Engineering, Sustainable Transport<br>Master of Science (Technology) in Civil Engineering - Geotechnical Engineering<br>Master of Science (Technology) in Computing Sciences and Electrical Engineering - Embedded Systems<br>Master of Science (Technology) in Computing Sciences and Electrical Engineering - Software, Web & Cloud<br>Master of Science (Technology) in Computing Sciences and Electrical Engineering - Information Security<br>Master of Science (Technology) in Computing Sciences and Electrical Engineering - Power Electronics and Electromechanics<br>Master of Science (Technology) in Computing Sciences and Electrical Engineering - Wireless Communications and RF Systems<br>Master of Science (Technology) in Computing Sciences and Electrical Engineering - Signal Processing and Machine Learning<br>Master of Science (Technology) in Biomedical Sciences and Engineering - Medical Physics and Biomedical Instrumentation<br>Master of Science (Technology) in Biomedical Sciences and Engineering - Biomedical Micro- and Nanodevices<br>Master of Science (Technology) in Computing Sciences and Electrical Engineering - Communication Systems and Networks"
          ],
          [
           "nan, nan, nan, nan",
           "Tampere",
           "Data Science<br>Cloud and Network Infrastructures<br>Autonomous Systems<br>Human Computer Interaction and Design"
          ]
         ],
         "hovertemplate": "<b>%{hovertext}</b><br><br>city=%{customdata[1]}<br>latitude=%{lat}<br>longitude=%{lon}<br>fees_list=%{customdata[0]}<br>courses_list=%{customdata[2]}<extra></extra>",
         "hovertext": [
          "Tampere University",
          "Aalto University"
         ],
         "lat": [
          61.49412325,
          60.1860789
         ],
         "legendgroup": "Tampere",
         "lon": [
          23.779206777676293,
          24.828102074406736
         ],
         "marker": {
          "color": "#FF97FF"
         },
         "mode": "markers",
         "name": "Tampere",
         "showlegend": true,
         "subplot": "mapbox",
         "type": "scattermapbox"
        },
        {
         "customdata": [
          [
           "nan, nan, nan, nan, nan, nan, nan, nan, nan, nan, nan, nan, nan, nan, nan, nan, nan, nan, nan, nan, nan, nan",
           "Baltimore",
           "Master of Science in Bioinformatics<br>Master of Science (ScM) in Environmental Health<br>Master of Science (MS) in Geography and Environmental Engineering<br>Master of Science (MS) in Toxicology for Human Risk Assessment<br>Master of Science (ScM) in Genetic Counseling<br>Master of Science (MS) in Occupational and Environmental Hygiene<br>Epidemiology - Master of Science (ScM)<br>Master of Science in Organizational Leadership<br>Master of Science in Applied Economics<br>Master of Science in Energy Policy and Climate<br>Master of Science in Environmental Sciences and Policy<br>Master of Science in Data Analytics and Policy<br>Master of Science in Financial Economics<br>Biochemistry and Molecular Biology - Master of Science (ScM)<br>Master of Science in Food Safety Regulation<br>Master of Science in Geographic Information Systems<br>Master of Science in Intelligence Analysis<br>Master of Science in Individualized Genomics and Health<br>Master of Science in Biotechnology<br>Master of Arts in Digital Media Strategy and Design<br>Master of Science in Regenerative and Stem Cell Technologies<br>Master of Science in Regulatory Science"
          ]
         ],
         "hovertemplate": "<b>%{hovertext}</b><br><br>city=%{customdata[1]}<br>latitude=%{lat}<br>longitude=%{lon}<br>fees_list=%{customdata[0]}<br>courses_list=%{customdata[2]}<extra></extra>",
         "hovertext": [
          "Johns Hopkins University"
         ],
         "lat": [
          39.33020225
         ],
         "legendgroup": "Baltimore",
         "lon": [
          -76.62185357858337
         ],
         "marker": {
          "color": "#FECB52"
         },
         "mode": "markers",
         "name": "Baltimore",
         "showlegend": true,
         "subplot": "mapbox",
         "type": "scattermapbox"
        },
        {
         "customdata": [
          [
           "nan, nan, nan, nan, nan, nan, nan, nan",
           "Astana",
           "Master of Science in Biomedical Engineering<br>Master of Science in Mechanical and Aerospace Engineering<br>Master of Science in Electrical and Computer Engineering<br>Master of Science in Chemical and Materials Engineering<br>Master of Science in Robotics<br>Master of Science in Civil and Environmental Engineering<br>Master of Science in Computer Science<br>Master of Science in Data Science"
          ]
         ],
         "hovertemplate": "<b>%{hovertext}</b><br><br>city=%{customdata[1]}<br>latitude=%{lat}<br>longitude=%{lon}<br>fees_list=%{customdata[0]}<br>courses_list=%{customdata[2]}<extra></extra>",
         "hovertext": [
          "Nazarbayev University"
         ],
         "lat": [
          51.0904348
         ],
         "legendgroup": "Astana",
         "lon": [
          71.39836834273265
         ],
         "marker": {
          "color": "#636efa"
         },
         "mode": "markers",
         "name": "Astana",
         "showlegend": true,
         "subplot": "mapbox",
         "type": "scattermapbox"
        },
        {
         "customdata": [
          [
           "nan, nan, nan, nan, nan, nan, nan, nan, nan, nan, nan, nan",
           "Kuala Lumpur",
           "Master of Science in Artificial Intelligence (ODL) - 100% ONLINE<br>Master of Science in Artificial Intelligence<br>Master of Project Management<br>Master of Philosophy in Engineering<br>Master of Science in Global Marketing Management<br>Master of Science in International Business Communications<br>Master of Finance with a specialism in FinTech<br>Master of Finance<br>Master of Science in Computing<br>Master of Technology Management<br>Master of Science in Cyber Security<br>Master of Science in Data Science and Business Analytics (ODL) - 100% ONLINE"
          ]
         ],
         "hovertemplate": "<b>%{hovertext}</b><br><br>city=%{customdata[1]}<br>latitude=%{lat}<br>longitude=%{lon}<br>fees_list=%{customdata[0]}<br>courses_list=%{customdata[2]}<extra></extra>",
         "hovertext": [
          "Asia Pacific University of Technology & Innovation (APU)"
         ],
         "lat": [
          3.05592175
         ],
         "legendgroup": "Kuala Lumpur",
         "lon": [
          101.69985504838799
         ],
         "marker": {
          "color": "#EF553B"
         },
         "mode": "markers",
         "name": "Kuala Lumpur",
         "showlegend": true,
         "subplot": "mapbox",
         "type": "scattermapbox"
        },
        {
         "customdata": [
          [
           "nan",
           "Santiago",
           "Master of Science in Biological and Medical Engineering"
          ]
         ],
         "hovertemplate": "<b>%{hovertext}</b><br><br>city=%{customdata[1]}<br>latitude=%{lat}<br>longitude=%{lon}<br>fees_list=%{customdata[0]}<br>courses_list=%{customdata[2]}<extra></extra>",
         "hovertext": [
          "Pontifica Catholic University of Chile"
         ],
         "lat": [
          -33.4377756
         ],
         "legendgroup": "Santiago",
         "lon": [
          -70.6504502
         ],
         "marker": {
          "color": "#00cc96"
         },
         "mode": "markers",
         "name": "Santiago",
         "showlegend": true,
         "subplot": "mapbox",
         "type": "scattermapbox"
        },
        {
         "customdata": [
          [
           "nan, nan, nan, nan, nan, nan, nan, nan, nan, nan, nan, nan, nan, nan, nan, nan, nan, nan, nan, nan, nan, nan, nan, nan, nan, nan",
           "Sunderland",
           "Extended Award - MA/MBM/MSc<br>International Business Management - MSc<br>Clinical Pharmacy via Study Centres - MSc<br>Finance and Management - MSc<br>Engineering Management - MSc<br>Cybersecurity - MSc<br>Business Technology Management - MSc<br>Leadership in Criminal Justice and Policing - MSc<br>Computing via Study Centre - MSc<br>Applied Computing MSc<br>Applied Cybersecurity MSc<br>Drug Discovery and Development - MSc<br>Inequality and Society - MSc<br>Computing - MSc<br>Information Technology Management via Study Centres - MSc<br>Electric Engineering via Study Centres MSc<br>Manufacturing Engineering MSc<br>Manufacturing Engineering via Study Centres MSc<br>Advanced Clinical Practitioner - MSc<br>Engineering Management via Study Centres - MSc<br>Cosmetic Science - MSc<br>Electronic Engineering MSc<br>Applied Project Management MSc<br>Data Science - MSc<br>Clinical Pharmacy - MSc<br>Human Resource Management (CIPD Accredited) - MSc"
          ]
         ],
         "hovertemplate": "<b>%{hovertext}</b><br><br>city=%{customdata[1]}<br>latitude=%{lat}<br>longitude=%{lon}<br>fees_list=%{customdata[0]}<br>courses_list=%{customdata[2]}<extra></extra>",
         "hovertext": [
          "University of Sunderland"
         ],
         "lat": [
          54.90438685
         ],
         "legendgroup": "Sunderland",
         "lon": [
          -1.3917922587224556
         ],
         "marker": {
          "color": "#ab63fa"
         },
         "mode": "markers",
         "name": "Sunderland",
         "showlegend": true,
         "subplot": "mapbox",
         "type": "scattermapbox"
        },
        {
         "customdata": [
          [
           "10500.0, 10500.0, 10500.0, 10500.0, 12500.0, 12500.0, 10500.0, 10500.0, 10500.0, 10500.0",
           "Farnham",
           "Fashion Forecasting & Data Analysis - MA/MSc<br>Fashion Business & Management - MA/MSc<br>International Music Management - MA / MSc<br>Game Engineering - MSc<br>Luxury Business Management - MA/MSc<br>Luxury Buying & Logistics - MSc<br>Experience & Service Design MA/MSc<br>Human Resource Management for the Creative Industries - MA/MSc<br>Global Marketing & Communications - MA/MSc<br>Human Computer Interaction - MSc"
          ]
         ],
         "hovertemplate": "<b>%{hovertext}</b><br><br>city=%{customdata[1]}<br>latitude=%{lat}<br>longitude=%{lon}<br>fees_list=%{customdata[0]}<br>courses_list=%{customdata[2]}<extra></extra>",
         "hovertext": [
          "University for the Creative Arts"
         ],
         "lat": [
          51.2162625
         ],
         "legendgroup": "Farnham",
         "lon": [
          -0.806056713153231
         ],
         "marker": {
          "color": "#FFA15A"
         },
         "mode": "markers",
         "name": "Farnham",
         "showlegend": true,
         "subplot": "mapbox",
         "type": "scattermapbox"
        },
        {
         "customdata": [
          [
           "11000.0, 16500.0, 11990.0, 13000.0, 12000.0, 13000.0, 16500.0, 11500.0, 14.5, 12000.0, 12500.0, 16.5, 12000.0, 10.5, 13000.0, 12000.0, nan, 14500.0",
           "Milan",
           "Fashion Tech (Specializing Master)<br>Fashion Accessories & Jewellery: Design & Management (Specializing Master)<br>Lighting Design & Technology (Specializing Master)<br>Brand Communication (Specializing Master)<br>Brand Extension. Design and strategy for the diversification in luxury markets<br>Industrial Design Engineering & Innovation (Specializing Master)<br>Interior Design (Specializing Master)<br>Exhibition Design (Specializing Master)<br>Contract Design (Specializing Master)<br>Design the Digital Strategy (Specializing Master)<br>Design for Public Space (Specializing Master)<br>Design for Food (Specializing Master)<br>Design for Architecture (Specializing Master)<br>Design for Kids & Toys (Specializing Master in e-learning)<br>Brand Communication (Specializing Master)<br>Brand Extension. Design and strategy for the diversification in luxury markets<br>Fundamentals of the Air Transport System (Specializing Master)<br>Furniture Design (Specializing Master)"
          ],
          [
           "9000.0, 9000.0, 9000.0, nan, 9000.0, 9000.0, nan, 9000.0, 9000.0, 9000.0, 9000.0, 9000.0, nan, nan, 9000.0",
           "Milan",
           "Global Business Management MSc<br>European Studies in Investor Relations and Financial Communication MSc<br>Management MSc<br>Innovations in Biotechnology Applied to Regenerative Medicine MSc<br>Banking and Finance MSc<br>Economics MSc<br>Linguistic Computing MSc<br>Healthcare Management Msc<br>Food Processing: innovation and tradition MSc<br>Applied data science for banking and finance MSc<br>Data analytics for business MSc<br>Agricultural and Food Economics MSc<br>Communication for Business, Media and Culture MSc<br>Consumer Behaviour MSc<br>Innovation and Technology Management MSc"
          ],
          [
           "nan, nan, nan",
           "Milan",
           "Data Science<br>Fintech<br>Human Computer Interaction and Design"
          ],
          [
           "nan, nan",
           "Milan",
           "Master’s Degree in Biomedical Omics<br>Geophysics MS"
          ]
         ],
         "hovertemplate": "<b>%{hovertext}</b><br><br>city=%{customdata[1]}<br>latitude=%{lat}<br>longitude=%{lon}<br>fees_list=%{customdata[0]}<br>courses_list=%{customdata[2]}<extra></extra>",
         "hovertext": [
          "POLI.design, Società consortile a responsabilità limitata",
          "Università Cattolica del Sacro Cuore",
          "Politecnico di Milano",
          "University of Milan"
         ],
         "lat": [
          45.4641943,
          45.537861449999994,
          45.048282549999996,
          45.4600626
         ],
         "legendgroup": "Milan",
         "lon": [
          9.1896346,
          10.224281265977462,
          9.702161106086972,
          9.194661601245926
         ],
         "marker": {
          "color": "#19d3f3"
         },
         "mode": "markers",
         "name": "Milan",
         "showlegend": true,
         "subplot": "mapbox",
         "type": "scattermapbox"
        },
        {
         "customdata": [
          [
           "nan, nan, nan, nan, nan, nan, nan, nan, nan, nan, nan, nan, nan, nan, nan, nan, nan, nan, nan, nan, nan, nan, nan, nan, nan, nan, nan",
           "Cardiff",
           "Fashion Marketing Management - MSc/PgD/PgC<br>Biomedical Science - MSc/PgD/PgC<br>Entrepreneurship and Innovation Management - MSc/PgC/PgD<br>International Business Management - MSc/PgD/PgC<br>Events Project Management - MSc/PgD/PgC<br>International Hospitality and Tourism Management - MSc<br>Dietetics - MSc/PgD<br>Advanced Computer Security - MSc/PgD/PgC<br>Financial Management - MSc/PgD/PgC<br>Forensic Psychology - MSc<br>Economics & Finance - MSc<br>Food Science & Technology - MSc/PgD/PgC<br>Information Technology Management - MSc/PgD/PgC<br>Health Psychology - MSc/PgD/PgC<br>Advanced Practice - MSc/PgD/PgC<br>Accounting & Finance - MSc<br>Dental Technology - MSc/PgD/PgC<br>Banking & Finance - MSc/PgD/PgC<br>Criminology and Criminal Investigations - MSc<br>Food Technology for Industry - MSc/PgD/PgC (Online Distance Learning)<br>International Sport Management - MSc/PgD/PgC<br>International Supply Chain and Logistics Management - MSc<br>Applied Public Health - MSc/PgD/PgC<br>Digital Marketing Management - MSc/PgD/PgC<br>Data Science - MSc/PgD/PgC<br>Advanced Computer Science - MSc/PgD/PgC<br>Human Resource Management - MSc/PgD/PgC"
          ],
          [
           "7800.0, 8400.0, 8400.0, 9300.0, 8700.0, 8400.0, 9000.0, 7800.0, 8400.0, 8880.0, 9000.0, 8400.0, 8700.0, 9720.0, 10440.0, 8880.0, 9300.0, 9300.0, 8880.0, 9000.0",
           "Cardiff",
           "Family Medicine - MSc<br>Applied Health Economics - MSc<br>Clinical Psychiatry - MSc<br>Diabetes - MSc<br>Leadership in Healthcare - MSc<br>Haematology - MSc<br>Gastroenterology - MSc<br>Stroke Medicine MSc<br>Genomic Medicine and Healthcare - MSc<br>Care of the Older Person - MSc<br>Expedition and Wilderness Medicine - MSc<br>Cardiology - MSc<br>Cosmetic Medicine - MSc<br>Dermatology in Clinical Practice - MSc<br>Dermatology in Clinical Practice MSc (The University of Buckingham)<br>Neurology - MSc<br>Acute Medicine - MSc<br>Endocrinology - MSc<br>Infectious Disease - MSc<br>Preventative Cardiovascular Medicine - MSc"
          ],
          [
           "nan, nan, nan, nan, nan, nan, nan, nan, nan, nan, nan, nan, nan, nan, nan, nan, nan, nan, nan, nan, nan, nan, nan, nan, nan, nan, nan, nan, nan, nan, nan, nan, nan, nan, nan, nan, nan, nan, nan, nan, nan, nan, nan, nan, nan, nan, nan, nan, nan, nan, nan, nan, nan, nan, nan, nan, nan, nan, nan, nan, nan, nan, nan, nan, nan, nan, nan, nan, nan, nan, nan, nan, nan, nan, nan, nan",
           "Cardiff",
           "Cancer Biology and Therapeutics - MSc<br>Applied Environmental Geology - MSc<br>Gravitational Wave Physics - MSc<br>International Management - MSc<br>Conservation Practice - MSc<br>Clinical Research - MSc<br>Marketing - MSc<br>Maritime Policy and Shipping Management - MSc<br>Diabetes Practice - MSc<br>Financial Economics - MSc<br>Accounting and Finance - MSc<br>Archaeological Science - MSc<br>Critical Care - MSc<br>Business Strategy and Entrepreneurship - MSc<br>Computational Methods in Architecture - MSc<br>Clinical Dermatology - MSc<br>Astrophysics - MSc<br>Advanced Surgical Practice - MSc<br>Building and Infrastructure Information Modelling (BIM) for Smart Engineering - MSc<br>Economics - MSc<br>International Planning and Development - MSc<br>International Planning and Urban Design - MSc<br>Data Intensive Astrophysics - MSc<br>Data Intensive Physics - MSc<br>Computing with Placement - MSc<br>Human Resource Management - MSc<br>Advanced Chemistry - MSc<br>Advanced Clinical Practice - MSc<br>International Economics, Banking and Finance - MSc<br>Computing - MSc<br>Computing & IT Management - MSc<br>International Criminology and Criminal Justice - MSc<br>Manufacturing Engineering Innovation & Management - MSc<br>Implantology - MSc<br>Environmental Hazards - MSc<br>Data Analytics for Government - MSc<br>Genetic and Genomic Counselling - MSc<br>Business Management - MSc<br>Business Management with a Professional Placement Year - MSc<br>Advancing Practice in Neonatology - MSc<br>Applied and Experimental Clinical Immunology - MSc<br>Civil and Geoenvironmental Engineering - MSc<br>Children’s Psychological Disorders - MSc<br>Environmental Design of Buildings - MSc<br>Cyber Security - MSc<br>Data Science and Analytics - MSc<br>Data Science and Analytics - MSc<br>Engineering Net Zero - MSc<br>Big Data Biology - MSc<br>International Human Resource Management - MSc<br>Artificial Intelligence - MSc<br>Finance - MSc<br>Clinical Optometry - MSc<br>Education - MSc<br>Advanced Healthcare Practice - MSc<br>Logistics and Operations Management - MSc<br>Computational and Data Journalism - MSc<br>Computational and Data Journalism - MSc<br>Compound Semiconductor Electronics - MSc<br>Compound Semiconductor Physics - MSc<br>Advanced Mechanical Engineering - MSc<br>Care of Collections - MSc<br>Clinical Pharmacy - MSc<br>Advanced Computer Science with a Professional Placement Year - MSc<br>Electrical Energy Systems - MSc<br>Global Ecology and Conservation - MSc<br>Advanced Computer Science - MSc<br>Clinical Geriatrics - MSc<br>Environment and Development - MSc<br>Civil Engineering - MSc<br>Civil and Water Engineering - MSc<br>Applied Bioinformatics and Genomics - MSc<br>Applied Bioinformatics and Genetic Epidemiology - MSc<br>Cyber Security and Technology - MSc<br>Computing and IT Management with Placement - MSc<br>International Relations - MScEcon"
          ]
         ],
         "hovertemplate": "<b>%{hovertext}</b><br><br>city=%{customdata[1]}<br>latitude=%{lat}<br>longitude=%{lon}<br>fees_list=%{customdata[0]}<br>courses_list=%{customdata[2]}<extra></extra>",
         "hovertext": [
          "Cardiff Metropolitan University",
          "Learna | Diploma MSc",
          "Cardiff University"
         ],
         "lat": [
          51.4960947,
          51.4816546,
          51.4764902
         ],
         "legendgroup": "Cardiff",
         "lon": [
          -3.2127615385866655,
          -3.1791934,
          -3.1803382
         ],
         "marker": {
          "color": "#FF6692"
         },
         "mode": "markers",
         "name": "Cardiff",
         "showlegend": true,
         "subplot": "mapbox",
         "type": "scattermapbox"
        },
        {
         "customdata": [
          [
           "31000.0, nan, 19500.0, 25000.0, 15000.0, 12250.0, nan, nan, nan, nan, nan, 11330.0, 11330.0, 11330.0, 11330.0, 11330.0, nan, 19500.0, nan, nan, nan, nan, nan, nan, 31000.0, 31000.0, nan, nan, nan, nan, 11330.0, 11330.0, nan, nan, nan, nan, nan, nan, nan, nan, 16995.0, 11330.0, nan, nan, nan, nan, nan, 19500.0, nan, nan, nan, nan, nan, nan, nan, nan, nan, nan, nan, nan, nan, nan, nan, nan, nan, nan, nan, nan, nan, nan, nan, nan, 19500.0, nan, nan, nan, nan, nan, nan, nan",
           "Bedford",
           "Explosives Ordnance Engineering (MSc)<br>Advanced Motorsport Engineering (MSc)<br>Defence Simulation and Modelling (MSc)<br>Defence and Security Programme (Engineering)<br>Defence and Security Programme (Technology)<br>Defence and Security Programme (Leadership and Management)<br>Marketing and Leadership MSc<br>Advanced Mechanical Engineering (MSc)<br>Executive Logistics and Supply Chain Management MSc (Online)<br>Executive Logistics and Supply Chain Management MSc<br>Environmental Management for Business (MSc)<br>Forensic Ballistics (MSc)<br>Forensic Investigation (MSc)<br>Forensic Explosives and Explosion Investigation (MSc)<br>Forensic Biology<br>Forensic Archaeology and Anthropology (MSc)<br>Global Product Development and Management (MSc)<br>Cyberspace Operations (MSc)<br>Engineering and Management of Manufacturing Systems (MSc)<br>Computational Fluid Dynamics (MSc)<br>Computational Intelligence for Data Analytics option - Computational and Software Techniques in Engineering (MSc)<br>Astronautics and Space Engineering (MSc)<br>Advanced Water Management (MSc)<br>Advanced Digital Energy Systems (MSc)<br>Gun Systems Design (MSc)<br>Guided Weapon Systems (MSc)<br>Connected and Autonomous Vehicle Engineering (Automotive) MSc<br>Gas Turbine Technology option - Thermal Power and Propulsion (MSc)<br>Advanced Lightweight and Composite Structures (MSc)<br>Advanced Motorsport Mechatronics (MSc)<br>Counterterrorism Risk Management and Resilience MSc<br>Counterterrorism (MSc)<br>Management and Corporate Sustainability MSc<br>Aerospace Dynamics (MSc)<br>Aerospace Computational Engineering (MSc)<br>Geographical Information Management (MSc)<br>Air Transport Management (Executive) (MSc)<br>Aircraft Engineering (MSc)<br>Air Transport Management (MSc)<br>Aircraft Design option - Aerospace Vehicle Design (MSc)<br>Digital Forensics<br>Investigation of Heritage Crime (MSc)<br>Investment and Commercial Banking Professional Apprenticeship<br>Automotive Engineering (MSc)<br>Applied Artificial Intelligence MSc<br>Management MSc (MiM)<br>Environmental Engineering (MSc)<br>Cyber Defence and Information Assurance (MSc)<br>Aerospace Vehicle Design (MSc)<br>Aerospace Materials (MSc)<br>Aerospace Propulsion option - Thermal Power and Propulsion (MSc)<br>Aerospace Manufacturing (MSc)<br>Management and Entrepreneurship MSc<br>Management and Information Systems (MSc)<br>Management and Human Resource Management MSc<br>Management and Leadership MSc<br>Banking, Economics and Finance MSc<br>Avionic Systems Design option - Aerospace Vehicle Design (MSc)<br>Computer and Machine Vision option - Computational and Software Techniques in Engineering (MSc)<br>Automotive Mechatronics (MSc)<br>Autonomous Vehicle Dynamics and Control (MSc)<br>Aviation Digital Technology Management (MSc)<br>Food Systems and Management (MSc)<br>Future Food Sustainability (MSc)<br>Advanced Chemical Engineering (MSc)<br>Accounting and Finance MSc<br>Logistics and Supply Chain Management MSc<br>Computational Engineering Design option - Computational and Software Techniques in Engineering (MSc)<br>Computational and Software Techniques in Engineering (MSc)<br>Advanced Materials (MSc)<br>Manufacturing Technology and Management (MSc)<br>Digital and Technology Solutions (MSc)<br>Information Capability Management (MSc)<br>Global Environmental Change (MSc)<br>Airport Planning and Management (MSc)<br>Airworthiness (MSc)<br>Finance MSc<br>Applied Bioinformatics (MSc)<br>Maintenance Engineering and Asset Management (MSc)<br>Advanced Air Mobility Systems (MSc)"
          ]
         ],
         "hovertemplate": "<b>%{hovertext}</b><br><br>city=%{customdata[1]}<br>latitude=%{lat}<br>longitude=%{lon}<br>fees_list=%{customdata[0]}<br>courses_list=%{customdata[2]}<extra></extra>",
         "hovertext": [
          "Cranfield University"
         ],
         "lat": [
          52.070415350000005
         ],
         "legendgroup": "Bedford",
         "lon": [
          -0.6287932053178253
         ],
         "marker": {
          "color": "#B6E880"
         },
         "mode": "markers",
         "name": "Bedford",
         "showlegend": true,
         "subplot": "mapbox",
         "type": "scattermapbox"
        },
        {
         "customdata": [
          [
           "nan, nan, nan, nan, nan, nan, nan, nan, nan, nan, nan, nan, nan, nan, nan, nan, nan, nan, nan, nan, nan, nan, nan, nan, nan, nan, nan, nan, nan, nan, nan, nan, nan, nan, nan, nan, nan, nan, nan, nan, nan, nan, nan, nan, nan, nan, nan, nan, nan",
           "Belfast",
           "Business for Agri-Food and Rural Enterprise - Innovation Management (MSc)<br>Business for Agri-Food and Rural Enterprise - Rural Enterprise Development (MSc)<br>Business for Agri-Food and Rural Enterprise - Business Communication (MSc)<br>Business Analytics (MSc)<br>Clinical Anatomy (MSc)<br>Educational Leadership (MSc)<br>Cancer Medicine (MSc/MRes)<br>Marketing (MSc)<br>Ecological Management and Conservation Biology (MSc)<br>Accounting and Finance (MSc)<br>Building Information Modelling Project Management Higher Level Apprenticeship (MSc)<br>Building Information Modelling Project Management (MSc)<br>Leadership for Sustainable Rural Development (MSc)<br>Leadership for Sustainable Development (MSc)<br>Applied Cyber Security (MSc)<br>Applied Cyber Security with Professional Internship (MSc)<br>Artificial Intelligence (MSc)<br>Construction and Project Management Higher Level Apprenticeship (MSc)<br>Construction and Project Management (MSc)<br>Construction and Project Management with Industrial Internship (MSc)<br>Industrial Pharmaceutics (MSc)<br>Advanced Clinical Pharmacy Practice (MSc)<br>Applied Developmental Psychology (MSc)<br>International Public Policy (MSc)<br>Advanced Professional and Clinical Practice (MSc)<br>Advanced Professional Practice (MSc)<br>Finance (MSc)<br>Data Analytics (MSc)<br>City Planning and Design (MSc)<br>City Planning and Design Higher Level Apprenticeship (MSc)<br>Children's Rights (MSc)<br>Environmental Engineering (MSc)<br>Experimental Medicine (MSc)<br>Autism Spectrum Disorders (MSc)<br>Advanced Pharmacy Practice (with Independent Prescribing) (MSc)<br>Actuarial Science (MSc)<br>Human Resource Management (MSc)<br>Management (MSc)<br>Animal Behaviour and Welfare (MSc)<br>Advanced Food Safety (MSc)<br>Bioinformatics and Computational Genomics (MSc)<br>International Business (MSc)<br>Caring for Children and Young People with Complex Health Needs (MSc)<br>Clinical Health Psychology (MSc)<br>Financial Analytics (MSc)<br>Electronics (MSc)<br>Electronics with Professional Internship (MSc)<br>Applied Behaviour Analysis (MSc)<br>Advanced Architectural Design (MSc)"
          ]
         ],
         "hovertemplate": "<b>%{hovertext}</b><br><br>city=%{customdata[1]}<br>latitude=%{lat}<br>longitude=%{lon}<br>fees_list=%{customdata[0]}<br>courses_list=%{customdata[2]}<extra></extra>",
         "hovertext": [
          "Queen’s University Belfast"
         ],
         "lat": [
          54.58414875
         ],
         "legendgroup": "Belfast",
         "lon": [
          -5.933721043274003
         ],
         "marker": {
          "color": "#FF97FF"
         },
         "mode": "markers",
         "name": "Belfast",
         "showlegend": true,
         "subplot": "mapbox",
         "type": "scattermapbox"
        },
        {
         "customdata": [
          [
           "18500.0, 20200.0, 22600.0, 22600.0, 9300.0, 18500.0, 18490.0, 18490.0, 20500.0, 18400.0, 18500.0, 18500.0, 10200.0, 16400.0, 22600.0, 12130.0, 6850.0, 18400.0, 18940.0, 18490.0, 22600.0, 22600.0, 22600.0, 18500.0, 22600.0, 18500.0, 18500.0, 18500.0, 18500.0, 18500.0, 18500.0, 7670.0, 22600.0, 16400.0, 18500.0, 22600.0, 15400.0, 4130.0, 18700.0, 18500.0, 11100.0, 18500.0, 6250.0, 18500.0, 6950.0, 20500.0, 18500.0, 18500.0, 16000.0",
           "Cork",
           "Business Economics MSc<br>Dementia MSc<br>Biology - Marine Biology MSc<br>Biology - Molecular Cell Biology with Bioinnovation MSc<br>Hearing, Balance and Communication MSc<br>Management Information & Managerial Accounting Systems MSc<br>Innovation, Commercialisation and Entrepreneurship MSc<br>Innovation in European Business MSc<br>Diagnostic Radiography MSc<br>Government and Politics MSc<br>Interactive Media MSc<br>Business Analytics MSc<br>Healthcare Quality Improvement (Online) MSc<br>Applied Coastal and Marine Management MSc<br>Biotechnology MSc<br>Human Nutrition & Dietetics MSc<br>Infection Prevention & Control (Online) MSc<br>International Public Policy & Diplomacy MSc<br>International Accounting Practice MSc<br>Cyber Risk for Business MSc<br>Chemistry - Analysis of Pharmaceutical Compounds MSc<br>Chemistry - Analytical Chemistry MSc<br>Chemistry - Environmental Analytical Chemistry MSc<br>Information Systems for Business Performance MSc<br>Food Microbiology MSc<br>Food Business & Innovation MSc<br>Design & Development of Digital Business MSc<br>Finance (Investment & Asset Management) MSc<br>Finance (Corporate Finance) MSc<br>Finance (Banking & Risk Management) MSc<br>Audiology MSc<br>Digital Health MSc<br>Geology - Applied Environmental Geoscience MSc<br>Geoinformatics MSc<br>Marketing MSc<br>Food Science MSc<br>Food Security Policy and Management MSc<br>End of Life Healthcare Ethics MSc<br>Human Resource Management MSc<br>Bioinformatics and Computational Biology MSc<br>Clinical Trials (Online) MSc<br>Data Science & Analytics MSc<br>Co-operative & Social Enterprise (Online) MSc<br>Management & Marketing MSc<br>Allergy & Clinical Immunology (Online) PGCert<br>Clinical Measurement Physiology MSc<br>Financial & Computational Mathematics MSc<br>Computing Science MSc<br>Human Anatomy MSc"
          ]
         ],
         "hovertemplate": "<b>%{hovertext}</b><br><br>city=%{customdata[1]}<br>latitude=%{lat}<br>longitude=%{lon}<br>fees_list=%{customdata[0]}<br>courses_list=%{customdata[2]}<extra></extra>",
         "hovertext": [
          "University College Cork"
         ],
         "lat": [
          51.8947384
         ],
         "legendgroup": "Cork",
         "lon": [
          -8.4903073
         ],
         "marker": {
          "color": "#FECB52"
         },
         "mode": "markers",
         "name": "Cork",
         "showlegend": true,
         "subplot": "mapbox",
         "type": "scattermapbox"
        },
        {
         "customdata": [
          [
           "nan, nan, nan, nan, nan, nan, nan, nan, nan, nan, nan, nan, nan, nan, nan, nan",
           "Enschede",
           "Business Information Technology MSc<br>Construction Management and Engineering MSc<br>Data Science (MSc)<br>Interaction Technology MSc<br>Cyber Security (MSc)<br>Chemical Science & Engineering MSc<br>Industrial Engineering and Management MSc<br>Industrial Design Engineering MSc<br>Applied Mathematics MSc<br>Electrical Engineering MSc<br>Embedded Systems MSc<br>Applied Physics MSc<br>Computer Science MSc<br>Geo-information Science and Earth Observation MSc<br>Biomedical Engineering MSc<br>Human Computer Interaction and Design (MSc)"
          ]
         ],
         "hovertemplate": "<b>%{hovertext}</b><br><br>city=%{customdata[1]}<br>latitude=%{lat}<br>longitude=%{lon}<br>fees_list=%{customdata[0]}<br>courses_list=%{customdata[2]}<extra></extra>",
         "hovertext": [
          "University of Twente"
         ],
         "lat": [
          52.24332675
         ],
         "legendgroup": "Enschede",
         "lon": [
          6.850915739203856
         ],
         "marker": {
          "color": "#636efa"
         },
         "mode": "markers",
         "name": "Enschede",
         "showlegend": true,
         "subplot": "mapbox",
         "type": "scattermapbox"
        },
        {
         "customdata": [
          [
           "5700.0, nan, nan, nan, nan",
           "Dortmund",
           "Business Intelligence & Data Science , M.Sc.<br>International Management, M.Sc.<br>International Business, M.Sc.<br>International Logistics & Supply Chain Management, M.Sc.<br>Finance, M.Sc."
          ]
         ],
         "hovertemplate": "<b>%{hovertext}</b><br><br>city=%{customdata[1]}<br>latitude=%{lat}<br>longitude=%{lon}<br>fees_list=%{customdata[0]}<br>courses_list=%{customdata[2]}<extra></extra>",
         "hovertext": [
          "International School of Management"
         ],
         "lat": [
          51.489050950000006
         ],
         "legendgroup": "Dortmund",
         "lon": [
          7.40627932790408
         ],
         "marker": {
          "color": "#EF553B"
         },
         "mode": "markers",
         "name": "Dortmund",
         "showlegend": true,
         "subplot": "mapbox",
         "type": "scattermapbox"
        },
        {
         "customdata": [
          [
           "nan, nan, nan, nan, nan, nan, nan, nan, nan, nan, nan, nan, nan, nan, nan, nan, nan, nan, nan, nan, nan, nan, nan, nan, nan, nan, nan, nan, nan, nan, nan, nan, nan, nan, nan, nan, nan, nan, nan, nan, nan",
           "Aberdeen",
           "Business Innovation and Entrepreneurship (PgCert/PgDip/MSc)<br>Business with Strategic Risk Management (PgCert/PgDip/MSc)<br>Business with Financial Management (PgCert/PgDip/MSc)<br>Business with HR Management (PgCert/PgDip/MSc)<br>Business Analytics (PgCert/PgDip/MSc)<br>International Business Management (PgCert/PgDip/MSc)<br>International Fashion Business (PgCert/PgDip/MSc)<br>Digital Marketing (PgCert/PgDip/MSc)<br>International Marketing (PgCert/PgDip/MSc)<br>Data Science (PgCert/PgDip/MSc)<br>Engineering (PgCert/PgDip/MSc)<br>Construction Project Management (PgCert/PgDip/MSc)<br>Cyber Security (PgCert/PgDip/MSc)<br>Journalism (PgCert/PgDip/MSc)<br>Accounting and Finance (PgCert/PgDip/MSc)<br>Financial Management (PgCert/PgDip/MSc)<br>Drilling and Well Engineering (PgCert/PgDip/MSc)<br>Energy Management (PgCert/PgDip/MSc)<br>Construction Law & Arbitration (PgCert/PgDip, LLM/MSc)<br>Biomedical Technology (PgCert/PgDip/MSc)<br>IT for the Energy Industry (PgCert/PgDip/MSc)<br>Information Technology (PgCert/PgDip/MSc)<br>Information Technology with Business Intelligence (PgCert/PgDip/MSc)<br>Information Technology with Cyber Security (PgCert/PgDip/MSc)<br>International Tourism and Hospitality Management (PgCert/PgDip/MSc)<br>Business Leadership and Management (PgCert/PgDip/MSc)<br>Advancing Practice (PgCert/PgDip/MSc)<br>Engineering Management (PgCert/PgDip/MSc)<br>Business and Management (PgCert/PgDip/MSc)<br>Business and Management with Sustainability (PgCert/PgDip/MSc)<br>Applied Psychology (PgCert/PgDip/MSc)<br>Advanced Pharmacy Practice (PgCert/PgDip/MSc)<br>Human Resource Management (PgCert/PgDip/MSc)<br>Analytical Science: Food Analysis, Authenticity and Safety (PgCert/PgDip/MSc)<br>Analytical Science: Environmental Analysis (PgCert/PgDip/MSc)<br>Analytical Science: Drug Analysis and Toxicology (PgCert/PgDip/MSc)<br>Corporate Communication & Public Affairs (PgCert/PgDip/MSc)<br>Information and Library Studies (PgCert/PgDip/MSc)<br>Energy Transitions and Sustainability (PgCert/PgDip/MSc)<br>Clinical Pharmacy Practice (PgCert/PgDip/MSc)<br>Advanced Architectural Design (PgCert/PgDip/MSc)"
          ],
          [
           "nan, nan, nan, nan, nan, nan, nan, nan, nan, nan, nan, nan, nan, nan, nan, nan, nan, nan, nan, nan, nan, nan, nan, nan, nan, nan, nan, nan, nan, nan, nan, nan, nan, nan, nan, nan, nan, nan, nan, nan, nan, nan, nan, nan, nan, nan, nan, nan, nan, nan, nan, nan, nan, nan, nan, nan, nan, nan, nan, nan",
           "Aberdeen",
           "Advanced Mechanical Engineering MSc<br>Decommissioning MSc (Online)<br>Decommissioning MSc (Campus)<br>Marketing Management Msc<br>Finance and Real Estate (with CFA Level 1) and (without CFA exam) MSc<br>Environmental Management MSc<br>Finance MSc<br>International Business and Finance MSc<br>Cultural and Creative Communication MSc<br>Cultural Heritage<br>Data Science (MSc)<br>Cybersecurity (MSc)<br>Clinical Education MSc, PgDip, PgCert<br>Health Economics for Health Professionals MSc, PgDip, PgCert<br>Ecology and Conservation MSc<br>Artificial Intelligence AI (MSc)<br>Drug Discovery and Development MSc<br>Biotechnology and Bioinformatics MSc<br>Human Nutrition MSc<br>Archaeology of the North, MSc, ISS (Campus)<br>Archaeology MSc<br>Applied Marine and Fisheries Ecology MSc<br>Biomolecular Archaeology<br>Geographical Information Systems MSc (Campus)<br>Geographical Information Systems MSc (Online)<br>Industrial Robotics MSc<br>Master of Public Health (Campus) MPH<br>International Political Economy MSc<br>Health Psychology MSc<br>Information Technology MSc (Campus)<br>Bioarchaeological Science<br>Advanced Clinical Practice MSc, PgDip, PgCert<br>Immunology & Immunotherapy MSc<br>Master of Public Health (Online) MPH<br>International Tourism Management<br>International Business Management MSc<br>Finance and Investment Management MScEcon<br>Finance and Investment Management (with CFA Level 1 Examination) MScEcon<br>Chemistry for Sustainable Energy<br>International Human Resource Management MSc<br>Clinical Nutrition MSc, PgDip or PgCert<br>Global Health and Management MSc<br>Advanced Restorative Dental Practice MSc<br>Advanced Structural Engineering MSc (Campus)<br>Advanced Chemical Engineering MSc<br>Accounting and Finance MSc Econ<br>Biomedical Engineering<br>Marine Conservation MSc<br>Integrated Petroleum Geoscience MSc<br>Cardiovascular Science and Diabetes MSc<br>Corporate Finance and Law<br>Energy Politics and Law MSc<br>Energy Transition Systems and Technologies MSc<br>Clinical Pharmacology MSc<br>Environmental Pollution and Remediation MSc<br>Environmental Science MSc or MRes<br>International Relations and International Law MSc<br>International Relations (MSc)<br>Master of Land Economy (Rural Surveying), ISS or MLE, PgDip<br>Geophysics MSc"
          ]
         ],
         "hovertemplate": "<b>%{hovertext}</b><br><br>city=%{customdata[1]}<br>latitude=%{lat}<br>longitude=%{lon}<br>fees_list=%{customdata[0]}<br>courses_list=%{customdata[2]}<extra></extra>",
         "hovertext": [
          "Robert Gordon University",
          "Aberdeen University"
         ],
         "lat": [
          57.1187364,
          57.16452475
         ],
         "legendgroup": "Aberdeen",
         "lon": [
          -2.139306576766816,
          -2.1018363546621197
         ],
         "marker": {
          "color": "#00cc96"
         },
         "mode": "markers",
         "name": "Aberdeen",
         "showlegend": true,
         "subplot": "mapbox",
         "type": "scattermapbox"
        },
        {
         "customdata": [
          [
           "4600.0, 4000.0, 2500.0, 4000.0, nan, 2782.0, 4000.0, 6000.0, nan, 2782.0, 4600.0, 4284.0, 4000.0, 6.55, 4600.0, 4600.0, 4000.0, 4000.0, 4000.0, 1092.0, 2782.0, 2782.0, 2782.0, 4600.0",
           "Brussels",
           "Business Engineering: Business and Technology<br>Applied Informatics<br>Biomedical Engineering<br>Biology<br>Global Health<br>Electromechanical Engineering<br>Biomedical Research<br>Advanced Master in European Integration<br>Disaster Medicine<br>Architectural Engineering<br>International Business<br>Geography<br>Educational Sciences<br>Master of Science in Maritime Science<br>Communication Studies: Journalism and Media in Europe<br>Communication Studies: Digital Media in Europe<br>Chemistry<br>Applied Sciences and Engineering: Computer Science<br>Applied Sciences and Engineering: Applied Computer Science<br>Marine and Lacustrine Science and Management (Oceans & Lakes)<br>Chemical and Materials Engineering<br>Electrical Engineering<br>Civil Engineering<br>Management"
          ],
          [
           "18.0, 18.0",
           "Brussels",
           "Advanced Master in Financial Markets<br>Advanced Master in Innovation & Strategic Management"
          ]
         ],
         "hovertemplate": "<b>%{hovertext}</b><br><br>city=%{customdata[1]}<br>latitude=%{lat}<br>longitude=%{lon}<br>fees_list=%{customdata[0]}<br>courses_list=%{customdata[2]}<extra></extra>",
         "hovertext": [
          "Vrije Universiteit Brussel",
          "Solvay Brussels School"
         ],
         "lat": [
          50.822552900000005,
          50.81369075
         ],
         "legendgroup": "Brussels",
         "lon": [
          4.395491480471453,
          4.3790860738182795
         ],
         "marker": {
          "color": "#ab63fa"
         },
         "mode": "markers",
         "name": "Brussels",
         "showlegend": true,
         "subplot": "mapbox",
         "type": "scattermapbox"
        },
        {
         "customdata": [
          [
           "nan, nan, nan, nan, nan, nan, nan, nan",
           "Athens",
           "Business for Lawyers MSc<br>Master of Science (MS) in Data Science<br>International Business and Management MSc<br>Finance MSc<br>Entrepreneurship MSc<br>Master (MS) in Organizational Psychology<br>Master (MS) in Counseling Psychology & Psychotherapy<br>Marketing MSc"
          ]
         ],
         "hovertemplate": "<b>%{hovertext}</b><br><br>city=%{customdata[1]}<br>latitude=%{lat}<br>longitude=%{lon}<br>fees_list=%{customdata[0]}<br>courses_list=%{customdata[2]}<extra></extra>",
         "hovertext": [
          "The American College of Greece"
         ],
         "lat": [
          38.003282049999996
         ],
         "legendgroup": "Athens",
         "lon": [
          23.831720780678047
         ],
         "marker": {
          "color": "#FFA15A"
         },
         "mode": "markers",
         "name": "Athens",
         "showlegend": true,
         "subplot": "mapbox",
         "type": "scattermapbox"
        },
        {
         "customdata": [
          [
           "16500.0, 19500.0",
           "Bordeaux",
           "Business Engineering<br>Master of Science in Wine & Spirits Management"
          ],
          [
           "nan, nan, nan, nan, nan, nan, nan, nan, nan, nan, nan",
           "Bordeaux",
           "Cancer Biology<br>Light Sciences and Technologies<br>Environmental Contamination and Toxicology (ECT+)<br>Euro-Mediterranean Master of Neuroscience (EMN-Online)<br>Agro-Biomedical Science<br>Image Processing and Computer Vision (IPCV)<br>Functional Advanced Materials Engineering with Artificial Intelligence for Sustainability (FAMEAIS)<br>Advanced Materials Innovative Recycling (AMIR)<br>Advanced Materials for Innovation and Sustainability (AMIS)<br>Marine EnviRonment 2030 (MER2030)<br>Algebra, Geometry and Number Theory (ALGANT)"
          ]
         ],
         "hovertemplate": "<b>%{hovertext}</b><br><br>city=%{customdata[1]}<br>latitude=%{lat}<br>longitude=%{lon}<br>fees_list=%{customdata[0]}<br>courses_list=%{customdata[2]}<extra></extra>",
         "hovertext": [
          "Kedge Business School",
          "University of Bordeaux"
         ],
         "lat": [
          44.7964286,
          44.83697265
         ],
         "legendgroup": "Bordeaux",
         "lon": [
          -0.6008878036370602,
          -0.578070403772544
         ],
         "marker": {
          "color": "#19d3f3"
         },
         "mode": "markers",
         "name": "Bordeaux",
         "showlegend": true,
         "subplot": "mapbox",
         "type": "scattermapbox"
        },
        {
         "customdata": [
          [
           "nan, nan, nan, nan, nan, nan, nan, nan, nan, nan, nan, nan, nan, nan, nan, nan, nan, nan, nan, nan, nan, nan, nan, nan, nan, nan, nan, nan, nan, nan, nan, nan, nan, nan, nan, nan, nan, nan, nan, nan, nan, nan, nan, nan, nan, nan, nan, nan, nan, nan, nan, nan, nan, nan, nan, nan, nan, nan, nan, nan, nan, nan, nan, nan, nan, nan, nan, nan, nan, nan, nan, nan, nan, nan, nan, nan, nan, nan, nan, nan, nan, nan, nan, nan, nan, nan, nan, nan, nan, nan, nan, nan, nan, nan, nan, nan, nan, nan, nan, nan, nan, nan, nan, nan",
           "Huddersfield",
           "Business Intelligence and Analytics (Professional Practice) MSc<br>Applied Health Sciences (MSc by Research)<br>International Business with Marketing MSc<br>International Business with Tourism and Hospitality MSc<br>International Business with Humanitarian Challenges MSc<br>International Business with Tourism and Hospitality (Professional Practice) MSc<br>International Business with Project Management (Professional Practice) MSc<br>International Business with Entrepreneurship MSc<br>International Business with Project Management MSc<br>International Business with Marketing (Professional Practice) MSc<br>International Business with Entrepreneurship (Professional Practice) MSc<br>International Business with Humanitarian Challenges (Professional Practice) MSc<br>Biomedical and Analytical Science MSc<br>Biological Sciences (MSc by Research)<br>Artificial Intelligence MSc<br>Artificial Intelligence MSc (Distance Learning)<br>Engineering Control Systems and Instrumentation (with Placement) MSc<br>Engineering Control Systems and Instrumentation MSc<br>Management with Human Resource Management (Professional Practice) MSc<br>Management with Entrepreneurship (Professional Practice) MSc<br>Management with Entrepreneurship MSc<br>Management with Communication MSc<br>Management with Communication (Professional Practice) MSc<br>Management with Human Resource Management MSc<br>Digital Marketing (Professional Practice) MSc<br>Fintech MSc<br>Fintech (Professional Practice) MSc<br>Banking and Finance MSc<br>Banking and Finance (Professional Practice) MSc<br>Electronic and Communication Engineering (with Placement) MSc<br>Electronic and Automotive Engineering (with Placement) MSc<br>Electronic and Automotive Engineering MSc<br>Electronic and Communication Engineering MSc<br>Finance MSc<br>Management with Leadership MSc<br>Management with International Business MSc<br>Management with International Business (Professional Practice) MSc<br>Management with Marketing (Professional Practice) MSc<br>Management with Marketing MSc<br>Management with Leadership (Professional Practice) MSc<br>Criminology/Criminal Justice (MSc by Research)<br>Engineering (MSc by Research)<br>Cyber Security and Digital Forensics (with Placement) MSc<br>Cyber Security and Digital Forensics MSc<br>Marketing with Brand Management MSc<br>Marketing with Brand Management (Professional Practice) MSc<br>Economics MSc<br>Economics (Professional Practice) MSc<br>Accounting and Finance (Professional Practice) MSc<br>Chemical Process Engineering and Safety MSc<br>Chemical Engineering (MSc by Research)<br>Artificial Intelligence (with Placement) MSc<br>Management (Professional Practice) MSc<br>Leadership, Communication and Humanitarian Challenges (Professional Practice) MSc<br>Leadership, Communication and Humanitarian Challenges MSc<br>Geography (MSc by Research)<br>Master of Podiatric Surgery<br>Master of Public Health (Advanced Practitioner)<br>Master of Public Health (Global)<br>Computer Science and Informatics (MSc by Research)<br>Management with Tourism and Hospitality (Professional Practice) MSc<br>Management with Tourism and Hospitality MSc<br>Advanced Project Management in Construction MSc<br>Investigative Psychology MSc<br>Health Professional Education MSc<br>Cognition and Neuroscience MSc<br>Finance (Professional Practice) MSc<br>Master of Public Health (Global) Advanced Practitioner<br>Data Analytics MSc<br>Data Analytics (with Placement) MSc<br>Data Analytics MSc (Distance Learning)<br>Automotive Engineering (with Placement) MSc<br>Automotive Engineering MSc<br>Business Intelligence and Analytics MSc<br>Management MSc<br>Engineering Management (with Placement) MSc<br>Engineering Management MSc<br>Chemistry (MSc by Research)<br>Information Systems Management (with Placement) MSc<br>Information Systems Management MSc<br>Health Studies MSc<br>Cancer Research MSc<br>Electronic Engineering MSc<br>Electronic Engineering (with Placement) MSc<br>Forensic Science (Forensic Chemistry) MSc<br>Forensic Science (MSc by Research)<br>Forensic Science (Forensic Biology) MSc<br>Marketing (Professional Practice) MSc<br>Marketing MSc<br>Analytical Chemistry MSc<br>Accounting and Finance MSc<br>International Business (Professional Practice) MSc<br>Logistics and Supply Chain Management MSc<br>Logistics and Supply Chain Management (Professional Practice) MSc<br>Digital Marketing MSc<br>Advanced Clinical Practice MSc<br>Clinical Pharmacy Practice with Community Placement MSc<br>Clinical Pharmacy Practice with Research Project MSc<br>Clinical Pharmacy Practice with Hospital Placement MSc<br>Environmental Monitoring and Modelling MSc<br>Cyber Security and Digital Forensics MSc (Distance Learning)<br>Computing (with Placement) MSc<br>Computing MSc<br>International Business MSc"
          ]
         ],
         "hovertemplate": "<b>%{hovertext}</b><br><br>city=%{customdata[1]}<br>latitude=%{lat}<br>longitude=%{lon}<br>fees_list=%{customdata[0]}<br>courses_list=%{customdata[2]}<extra></extra>",
         "hovertext": [
          "University of Huddersfield"
         ],
         "lat": [
          53.6428959
         ],
         "legendgroup": "Huddersfield",
         "lon": [
          -1.7781768079827107
         ],
         "marker": {
          "color": "#FF6692"
         },
         "mode": "markers",
         "name": "Huddersfield",
         "showlegend": true,
         "subplot": "mapbox",
         "type": "scattermapbox"
        },
        {
         "customdata": [
          [
           "nan, nan, nan, nan, nan, nan, nan, nan, nan, nan, nan, nan, nan, nan, nan, nan, nan, nan, nan, nan, nan, nan, nan, nan, nan, nan, nan, nan, nan, nan, nan, nan, nan, nan, nan, nan, nan, nan, nan, nan, nan, nan, nan, nan, nan, nan, nan, nan, nan",
           "Manchester",
           "Advanced Medical Imaging - MSc/PgDip/PgCert<br>Entrepreneurship MSc<br>Digital Business - MSc/PGDip/PGCert<br>Advanced Mechanical Engineering Design - MSc/PgDip<br>Construction Management - MSc/PGDip<br>Cyber Security, Threat Intelligence and Forensics - MSc/PGDip<br>Dental Implantology - MSc/PGDip<br>Digital Marketing - MSc/PgDip/PgCert<br>Advanced Counselling and Psychotherapy Studies (Supervision) - MSc/PgDip/PgCert<br>Advanced Counselling and Psychotherapy Studies - MSc/PgDip/PgCert<br>Advanced Control Systems - MSc/PGDip<br>Accounting and Finance - MSc/PGDip/PGCert<br>Diabetes Care - MSc/PgDip/PgCert<br>Biomedical Science - MSc<br>Clinical Exercise Physiology - MSc/PgDip/PgCert<br>Advancing Integrated Care - MSc<br>Health and Global Environment - MSc<br>Leadership and Management for Health Care Practice - MSc/PGDip<br>Acoustics - MSc/PGDip<br>Games and Extended Reality - MSc<br>Internet of Things with Data Science - MSc/PgDip<br>Human Resource Management MSc (Part-time evening delivery)<br>Artificial Intelligence - MSc/PGDip<br>Drug Design and Discovery - MSc<br>Biotechnology - MSc<br>Construction Law and Practice - MSc/PGDip<br>Financial Technology (FinTech) - MSc/PGDip/PGCert<br>Advanced Clinical Practice - MSc<br>Aerospace Engineering - MSc/PGDip<br>Leading Education for Health and Social Care Reform MSc<br>BIM and Digital Built Environments - MSc/PGDip<br>Managing Innovation and Information Technology - MSc/PGDip/PGCert<br>Environmental Assessment and Management - MSc<br>Advanced Practice: Neonates - MSc<br>Counselling and Psychotherapy (Professional Training) - MSc/PGDip<br>General Practice Nursing - MSc/PgDip/PgCert<br>Finance - MSc/PGDip/PGCert<br>Audio Production - MSc/PGDip<br>Applied Psychology: Addictions - MSc<br>Applied Psychology: Therapies - MSc<br>Advanced Physiotherapy - MSc/PgDip/PgCert<br>Building Surveying - MSc<br>Applied Social Work Practice - MSc/PGDip/PGCert<br>International Business - MSc/PGDip/PGCert<br>Data Science - MSc/PGDip<br>Management - MSc/PGDip/PGCert<br>Human Resource Management - MSc<br>Cognitive Behavioural Psychotherapy - MSc/PGDip/PGCert<br>Geriatric Medicine MSc"
          ],
          [
           "nan, nan, nan, nan",
           "Manchester",
           "MA/MSc - Craft<br>MA/MSc - Design for Health and Wellbeing<br>MA/MSc - Product Design<br>MA/MSc - Textiles"
          ],
          [
           "nan, nan",
           "Manchester",
           "Cardiovascular Health and Disease (Research)<br>MA/PGDip Heritage Studies"
          ]
         ],
         "hovertemplate": "<b>%{hovertext}</b><br><br>city=%{customdata[1]}<br>latitude=%{lat}<br>longitude=%{lon}<br>fees_list=%{customdata[0]}<br>courses_list=%{customdata[2]}<extra></extra>",
         "hovertext": [
          "University of Salford",
          "Manchester Metropolitan University",
          "The University of Manchester"
         ],
         "lat": [
          53.4886422,
          53.4697435,
          53.4863381
         ],
         "legendgroup": "Manchester",
         "lon": [
          -2.2783094237220456,
          -2.2374093348484845,
          -2.263547283561194
         ],
         "marker": {
          "color": "#B6E880"
         },
         "mode": "markers",
         "name": "Manchester",
         "showlegend": true,
         "subplot": "mapbox",
         "type": "scattermapbox"
        },
        {
         "customdata": [
          [
           "26350.0, 24000.0, 27000.0, 21550.0, nan, nan, nan, 21350.0, 26350.0, 21400.0, 26350.0, 25000.0, 9250.0, 16065.0, 24750.0, 3467.0, 16065.0, 16065.0, nan, 26000.0, 16065.0, nan, 22000.0, 26350.0, 26350.0, 26350.0, 22000.0, 21350.0, 21400.0, 24700.0, 24300.0, 26250.0, 25000.0, 26350.0, 26350.0, 24750.0, 21150.0, nan, 16065.0, 24750.0, 12167.0, 21400.0, 3467.0, 23200.0, nan, 26350.0, 21550.0, 28000.0, 26350.0, 26350.0, 39250.0, nan, 28000.0, 24750.0, 26350.0, nan, nan, 28000.0, nan, 26350.0, 26350.0, 22000.0, nan, 24150.0, 25200.0, 26350.0, nan, 26000.0",
           "Liverpool",
           "Advanced Mechanical Engineering MSc (Eng)<br>Entrepreneurship and Innovation Management MSc<br>Business Analytics and Big Data MSc<br>Global Healthcare Ethics MSc<br>Global Housing Design<br>MSc Management<br>MSc Mental Health Psychology<br>Climate Resilience and Environmental Sustainability in Architecture (CRESTA) MSc<br>Data Science and Artificial Intelligence with a Year in Industry MSc<br>Data Science and Communication MSc<br>Data Science and Artificial Intelligence MSc<br>Digital Marketing and Analytics MSc<br>Diagnostic Radiography (Pre-registration) MSc<br>MSc Finance and Investment Management<br>Cancer Biology and Therapy MSc<br>Cancer Care MSc<br>MSc Data Science and Artificial Intelligence<br>MSc Cyber Security<br>MSc Digital Marketing<br>Finance MSc<br>MSc Artificial Intelligence<br>MSc Big Data Analytics<br>Data Science for Economics MSc<br>Biomedical Engineering with Management (Healthcare) MSc<br>Biomedical Engineering MSc (Eng)<br>Biomedical Engineering with Management MSc<br>Economics MSc<br>Building Information Modelling and Digital Transformation (BIM-DT) MSc<br>Geographic Data Science MSc<br>Financial Mathematics MSc<br>Human Resource Management MSc<br>Advanced Manufacturing Systems and Technology MSc (Eng)<br>Advanced Marketing MSc<br>Energy and Power Systems MSc (Eng)<br>Energy and Power Systems with a Year in Industry MSc (Eng)<br>Biotechnology MSc<br>Archaeology MSc<br>MSc Sports Business and Management<br>MSc Psychology (Conversion)<br>Infection and Immunity MSc<br>Advanced Clinical Practitioner MSc<br>Environmental Assessment and Management MSc<br>Advanced Practice in Healthcare MSc<br>Investigative and Forensic Psychology MSc<br>MSc Organisational and Business Psychology<br>Computer Science MSc<br>Health Data Science MSc<br>Finance and Investment Management MSc<br>Big Data and High Performance Computing with a Year in Industry MSc<br>Big Data and High Performance Computing MSc<br>Clinical Ophthalmology and Vision Science MSc<br>Emerging Infections and Pandemics MSc<br>Accounting and Finance MSc<br>Bioinformatics MSc<br>Biomedical Engineering (Healthcare) MSc (Eng)<br>MSc International Human Resource Management<br>MSc Information Systems Management<br>Financial Technology MSc<br>MSc Healthcare Leadership<br>Advanced Computer Science with a Year in Industry MSc<br>Advanced Computer Science MSc<br>Economic Policy and Data Analytics MSc<br>MSc Computer Science<br>Environment and Climate Change MSc<br>Environmental Sciences MSc<br>Advanced Aerospace Engineering MSc (Eng)<br>Adult Nursing with Registered Nurse Status<br>International Business MSc"
          ],
          [
           "nan, nan, nan, nan, nan, nan, nan, nan, nan, nan, nan, nan, nan, nan, nan, nan, nan, nan, nan, nan, nan, nan, nan, nan, nan, nan, nan, nan, nan, nan, nan, nan, nan, nan, nan, nan, nan, nan, nan, nan, nan, nan, nan, nan, nan, nan, nan, nan, nan",
           "Liverpool",
           "Climate Change and Sustainability<br>International Business and Management MSc<br>Maritime Operations Management MSc<br>Maritime Energy Efficiency<br>Management MSc<br>Digital Marketing (with Advanced Practice) MSc<br>Forensic Bioscience MSc<br>International Business and Management (with Advanced Practice) MSc<br>Forensic and Investigative Psychology MSc<br>Forensic Anthropology MSc<br>Construction Project Management MSc<br>Clinical Embryology MSc<br>Astrophysics MSc<br>Drug Discovery, Development and Delivery MSc<br>Brain and Behaviour MSc<br>Leadership and Management Practice MSc<br>International Transport, Trade and Logistics MSc<br>Industrial Biotechnology MSc<br>Management and Digital Business (with Advanced Practice) MSc<br>Management (with Advanced Practice) MSc<br>Management and Digital Business MSc<br>Biomedical Sciences MSc<br>Electrical Power and Control Engineering MSc<br>International Public Health MSc<br>Health Psychology MSc<br>Investment and Finance MSc<br>Investment and Finance Advanced Practice MSc<br>Embedded Systems and IC Design MSc<br>Commercial Building Surveying MSc<br>Artificial Intelligence and Machine Learning MSc<br>Exercise Physiology MSc<br>International Business, Corporate and Finance Law LLM/MSc<br>Cosmetic Science MSc<br>Brain and Behaviour MSc<br>Audio Forensics and Restoration MSc<br>Audio and Video Forensics MSc<br>Criminal Psychology and Criminal Justice MSc/PGDip<br>Data Science MSc<br>Advanced Healthcare Practice MSc<br>Marine and Offshore Engineering MSc<br>Civil Engineering MSc<br>Digital Marketing MSc<br>Clinical Pharmacy for Secondary and Tertiary Care MSc<br>Clinical Pharmacy for Primary Care and Community Pharmacy MSc<br>Child Nursing with Registered Nurse Status MSc<br>Clinical Exercise Physiology MSc<br>Cyber Security MSc<br>Computing and Information Systems MSc<br>Adult Nursing with Registered Nurse Status MSc"
          ],
          [
           "nan",
           "Liverpool",
           "Ecology and Environmental Management - MSc"
          ],
          [
           "nan, nan, nan, nan, nan",
           "Liverpool",
           "Master of Public Health (Managing Health Services)<br>Master of Public Health (Outbreak Control and Health Protection)<br>Master of Public Health (International)<br>Master of Public Health (Sexual & Reproductive Health)<br>Master of Public Health (Humanitarian Health)"
          ]
         ],
         "hovertemplate": "<b>%{hovertext}</b><br><br>city=%{customdata[1]}<br>latitude=%{lat}<br>longitude=%{lon}<br>fees_list=%{customdata[0]}<br>courses_list=%{customdata[2]}<extra></extra>",
         "hovertext": [
          "University of Liverpool",
          "Liverpool John Moores University",
          "Liverpool Hope University",
          "Liverpool School of Tropical Medicine"
         ],
         "lat": [
          53.40724285,
          53.4045861,
          53.39122185,
          53.4086917
         ],
         "legendgroup": "Liverpool",
         "lon": [
          -2.965833661018871,
          -2.970402403366336,
          -2.892394914038255,
          -2.969502219901786
         ],
         "marker": {
          "color": "#FF97FF"
         },
         "mode": "markers",
         "name": "Liverpool",
         "showlegend": true,
         "subplot": "mapbox",
         "type": "scattermapbox"
        },
        {
         "customdata": [
          [
           "nan, nan, nan, nan, nan, nan, nan, nan, nan, nan, nan, nan, nan, nan, nan, nan, nan, nan, nan, nan, nan, nan, nan, nan, nan, nan, nan, nan",
           "Leicester",
           "Advanced Mechanical Engineering with Management - MSc<br>Bioinformatics - MSc<br>Advanced Mechanical Engineering - MSc<br>International Management - MSc<br>Marketing - MSc<br>Educational Leadership Distance Learning) - MSc<br>Banking and International Finance - MSc<br>Diabetes - MSc/PGDip/PGCert<br>Data Analysis for Business Intelligence - MSc<br>Crime, Justice and Psychology - MSc<br>Clinical Education - MSc/PGDip/PGCert<br>Business Analysis & Finance - MSc<br>Advanced Electrical and Electronic Engineering - MSc<br>Entrepreneurship and Innovation - MSc<br>Financial Risk Management - MSc<br>Geographical Information Science - MSc<br>Management, Finance and Accounting - MSc<br>Management, Finance and Accounting - MSc<br>Environmental Futures MSc<br>Chemistry - MSc<br>Healthcare Management - MSc<br>Management and Leadership - MSc<br>Finance - MSc<br>Forensic Science and Criminal Justice - MSc<br>Criminology - MSc<br>Actuarial Science with Data Analytics - MSc/PGDip<br>Advanced Computer Science - MSc/PGDip/PGCert<br>Management - MSc"
          ],
          [
           "16300.0, 17200.0, 8560.0, 16300.0, nan",
           "Leicester",
           "Finance and Banking MSc<br>Economics MSc<br>MA/MSc - Design Innovation<br>Finance and Investment MSc<br>MA/MSc - Master's by Research"
          ]
         ],
         "hovertemplate": "<b>%{hovertext}</b><br><br>city=%{customdata[1]}<br>latitude=%{lat}<br>longitude=%{lon}<br>fees_list=%{customdata[0]}<br>courses_list=%{customdata[2]}<extra></extra>",
         "hovertext": [
          "University of Leicester",
          "De Montfort University"
         ],
         "lat": [
          52.62446355,
          52.630060900000004
         ],
         "legendgroup": "Leicester",
         "lon": [
          -1.1257301398551323,
          -1.1398434074941486
         ],
         "marker": {
          "color": "#FECB52"
         },
         "mode": "markers",
         "name": "Leicester",
         "showlegend": true,
         "subplot": "mapbox",
         "type": "scattermapbox"
        },
        {
         "customdata": [
          [
           "nan, nan, nan, nan, nan, nan, nan, nan, nan, nan, nan, nan, nan, nan, nan, nan, nan, 4650.0, nan, nan, nan, nan, nan, nan, nan, nan, nan, nan, nan, nan, nan, nan, nan, nan, nan, nan, nan, nan, nan, nan, nan, nan, nan, nan, nan, nan, nan, nan, nan, nan, nan, nan, nan, nan, nan, nan, nan, nan, nan, nan, nan, nan, nan, nan, nan, nan, nan, nan, nan, nan, nan, nan, nan, nan, nan, nan, nan, nan, nan, nan, nan, nan, nan, nan, nan, nan, nan, 18600.0",
           "Swansea",
           "Biomedical Science (Clinical Biochemistry) MSc/PGDip<br>Biomedical Science (Clinical Microbiology) MSc/PGDip<br>Enhanced Professional Practice MSc/PGDip/PGCert<br>Enhanced Professional Midwifery Practice MSc/PGDip/PGCert<br>Glaciology MSc by Research<br>Community and Primary Health Care Practice MSc/PGDip/PGCert<br>Community Health Studies, Specialist Practice Award in District Nursing MSc / PGDip<br>International Financial Management MSc<br>Clinical Science (Medical Physics) MSc<br>Clinical Psychology and Mental Health MSc<br>Finance and Big Data Analytics MSc<br>Engineering Leadership and Management MSc<br>Diabetes Practice MSc/PGDip/PGCert<br>Global Migration MSc by Research<br>Engineering (Aerospace) MSc<br>Computational Mechanics MSc<br>Health Economics MSc by Research<br>Computer Science - Informatique (Grenoble) MSc<br>Health Care Management MSc<br>Health and Wellbeing MSc by Research<br>Economics and Finance MSc<br>Earth Observation MSc by Research<br>Geographic Information and Climate Change MSc<br>Chemical Engineering MSc<br>Chemical Engineering MSc by Research<br>Economics MSc<br>Human Resource Management, MSc/ PGDip<br>Energy Innovation MSc by Research<br>International Banking and Finance MSc<br>Management (Sport) MSc<br>Management (Operations and Supply Management) MSc<br>Bioprocess Engineering MSc by Research<br>Aerospace Engineering MSc<br>Aerospace Engineering MSc by Research<br>Investment Management MSc<br>Applied Data Science MSc<br>International Accounting and Finance MSc<br>Environmental Biology: Conservation & Resource Management MSc<br>Advanced Practice in Health Care MSc/PGDip<br>Health Informatics MSc/PGDip/PGCert<br>Applied Physics and Materials MSc by Research<br>International Tourism Management MSc<br>Genomic Medicine MSc/PGDip/PGCert<br>Business Management MSc by Research<br>Health Data Science MSc/PGDip/PGCert<br>Cognitive Neuroscience MSc<br>Management MSc/ PGDip<br>Civil Engineering with Industry, MSc<br>Environmental Dynamics and Climate Change MSc<br>Environmental Dynamics MSc by Research<br>Experimental Physics MSc by Research<br>Advanced Clinical Practice (Primary Care) MSc / PGDip<br>Chemistry MSc by Research<br>Biomedical Science (Clinical Biochemistry) MSc/PGDip<br>Biomedical Science (Clinical Microbiology) MSc/PGDip<br>Electronic and Electrical Engineering MSc<br>Electronic and Electrical Engineering MSc by Research<br>Electronic and Electrical Engineering with Industry, MSc<br>Desalination and Water Re-use MSc by Research<br>International Finance MSc<br>Computer Science MSc<br>Computer Science MSc by Research<br>Computer Science: Informatique (Swansea) MSc<br>Advanced Software Technology MSc<br>Advanced Sport Performance Science MSc<br>Actuarial Science, MSc<br>Data Science MSc<br>Management (Human Resource Management) MSc<br>Management (Finance) MSc<br>Management (Enterprise and Innovation) MSc<br>Management (Marketing) MSc<br>Management (Media) MSc<br>Management (International Management) MSc<br>Human-Centred Big Data and Artificial Intelligence MSc<br>Advanced Health and Care Management (Innovation and Transformation) MSc<br>Advanced Health and Care Management (Value-Based) MSc<br>Biomedical Engineering MSc<br>Computational Engineering MSc/PGDip<br>Computational Engineering with Industry, MSc<br>Civil Engineering MSc by Research<br>Civil Engineering MSc<br>Human Computer Interaction MSc by Research<br>Management (Digital Business) MSc<br>Management (Business Analytics) MSc<br>Advanced Computer Science MSc<br>Global Environmental Modelling MSc by Research<br>Cyber Security MSc<br>Forensic Psychology MSc"
          ]
         ],
         "hovertemplate": "<b>%{hovertext}</b><br><br>city=%{customdata[1]}<br>latitude=%{lat}<br>longitude=%{lon}<br>fees_list=%{customdata[0]}<br>courses_list=%{customdata[2]}<extra></extra>",
         "hovertext": [
          "Swansea University"
         ],
         "lat": [
          51.6192545
         ],
         "legendgroup": "Swansea",
         "lon": [
          -3.8792745
         ],
         "marker": {
          "color": "#636efa"
         },
         "mode": "markers",
         "name": "Swansea",
         "showlegend": true,
         "subplot": "mapbox",
         "type": "scattermapbox"
        },
        {
         "customdata": [
          [
           "nan, nan, nan, nan, nan, nan, nan, nan, nan, nan, nan, nan, nan, nan, nan, nan",
           "Coleraine",
           "Biomedical Science - MSc Online<br>Environmental Toxicology & Pollution Monitoring (Distance Learning) - PGDip/MSc<br>International Event Management (Part Time) - MSc - 2023/2024<br>International Event Management (Full Time) - MSc - 2023/2024<br>International Event Management (with Advanced Practice) - MSc - 2023/2024<br>FinTech Management - MSc<br>Environmental Management with Geographic Information Systems (Distance Learning) - PgDip/MSc<br>Environmental Management (Distance Learning) - MSc/PGDip<br>Geographic Information Systems (Distance Learning) - PGCert/PgDip/MSc<br>Geographic Information Systems (Distance Learning) - Part-time PgDip/MSc<br>International Tourism and Hospitality Management (with Advanced Practice) - MSc - 2023/2024<br>International Tourism and Hospitality Management (Full Time) - MSc - 2023/2024<br>International Tourism and Hospitality Management (Part Time) - MSc - 2023/2024<br>Business in Technology MSc<br>Health Psychology - MSc<br>Psychology (Conversion) - MSc Online"
          ]
         ],
         "hovertemplate": "<b>%{hovertext}</b><br><br>city=%{customdata[1]}<br>latitude=%{lat}<br>longitude=%{lon}<br>fees_list=%{customdata[0]}<br>courses_list=%{customdata[2]}<extra></extra>",
         "hovertext": [
          "Ulster University"
         ],
         "lat": [
          54.6036491
         ],
         "legendgroup": "Coleraine",
         "lon": [
          -5.9297644
         ],
         "marker": {
          "color": "#EF553B"
         },
         "mode": "markers",
         "name": "Coleraine",
         "showlegend": true,
         "subplot": "mapbox",
         "type": "scattermapbox"
        },
        {
         "customdata": [
          [
           "nan, nan, 243.0, nan, nan",
           "Nice",
           "Engineers for Smart Cities<br>Data Science (MSc)<br>M2 Research in Management and Innovation<br>Autonomous Systems (MSc)<br>Fintech (MSc)"
          ]
         ],
         "hovertemplate": "<b>%{hovertext}</b><br><br>city=%{customdata[1]}<br>latitude=%{lat}<br>longitude=%{lon}<br>fees_list=%{customdata[0]}<br>courses_list=%{customdata[2]}<extra></extra>",
         "hovertext": [
          "Université Côte d’Azur"
         ],
         "lat": [
          43.716066999999995
         ],
         "legendgroup": "Nice",
         "lon": [
          7.264897360869565
         ],
         "marker": {
          "color": "#00cc96"
         },
         "mode": "markers",
         "name": "Nice",
         "showlegend": true,
         "subplot": "mapbox",
         "type": "scattermapbox"
        },
        {
         "customdata": [
          [
           "nan, nan, nan, nan, nan",
           "Odense",
           "Engineering, Innovation and Business (Sønderborg)<br>Chemical Engineering and Biotechnology (Odense)<br>MA in American Studies<br>Environmental Engineering (Odense)<br>Electronics Engineering (Sønderborg)"
          ]
         ],
         "hovertemplate": "<b>%{hovertext}</b><br><br>city=%{customdata[1]}<br>latitude=%{lat}<br>longitude=%{lon}<br>fees_list=%{customdata[0]}<br>courses_list=%{customdata[2]}<extra></extra>",
         "hovertext": [
          "University of Southern Denmark"
         ],
         "lat": [
          55.367853249999996
         ],
         "legendgroup": "Odense",
         "lon": [
          10.42805340701966
         ],
         "marker": {
          "color": "#ab63fa"
         },
         "mode": "markers",
         "name": "Odense",
         "showlegend": true,
         "subplot": "mapbox",
         "type": "scattermapbox"
        },
        {
         "customdata": [
          [
           "nan, nan, nan, nan, nan, nan, nan, nan, nan, nan, nan, nan, nan, nan, nan, nan, nan, nan, nan, nan, nan, nan, nan, nan, nan, nan, nan, nan, nan, nan, nan, nan, nan, nan, nan, nan, nan, nan, nan, nan, nan, nan, nan, nan, nan, nan, nan, nan, nan",
           "Stirling",
           "English Language and Linguistics MSc<br>Global Ageing MSc (Online)<br>International Conflict and Cooperation MSc<br>Digital Banking and Finance MSc<br>Historical Research MSc<br>Heritage MSc<br>International Journalism MSc<br>Dementia Studies MSc (Online)<br>Education MSc<br>Educational Leadership (Specialist Qualification for Headship) MSc<br>Finance and Risk Management MSc<br>Finance and Data Analytics MSc<br>Environmental Management MSc<br>Finance MSc<br>Aquatic Veterinary Studies MSc<br>Aquatic Pathobiology MSc<br>Data Science for Business MSc (Online)<br>Data Science for Business MSc<br>Early Years Practice Health Visiting MSc<br>Human Rights and Diplomacy MSc<br>Disaster Interventions and Humanitarian Aid MSc<br>Health Psychology MSc<br>International Accounting and Finance MSc<br>Investment Analysis MSc<br>Criminology MSc<br>Advancing Practice MSc (Online)<br>Housing Studies (Part-Time) MSc<br>Artificial Intelligence MSc<br>Business Analytics MSc (Online)<br>Business Analytics MSc<br>Big Data MSc<br>Behavioural Science MSc<br>Management and English Language Teaching MSc<br>Gender Studies (Applied) MLitt/MSc<br>Business and Management MSc<br>Business and Management MRes<br>Autism Research MSc<br>Applied Professional Studies MSc<br>Marketing Analytics MSc<br>Marketing and Brand Management MSc<br>Criminological Research MSc<br>Marketing MSc<br>Human Resource Management MSc<br>Human-Animal Interaction MSc/MA<br>Applied Social Research MSc<br>Financial Technology (FinTech) MSc<br>Digital Media and Communication MSc<br>Housing Studies (with Internship) MSc<br>International Business MSc"
          ]
         ],
         "hovertemplate": "<b>%{hovertext}</b><br><br>city=%{customdata[1]}<br>latitude=%{lat}<br>longitude=%{lon}<br>fees_list=%{customdata[0]}<br>courses_list=%{customdata[2]}<extra></extra>",
         "hovertext": [
          "University of Stirling"
         ],
         "lat": [
          56.145115399999995
         ],
         "legendgroup": "Stirling",
         "lon": [
          -3.917393804088662
         ],
         "marker": {
          "color": "#FFA15A"
         },
         "mode": "markers",
         "name": "Stirling",
         "showlegend": true,
         "subplot": "mapbox",
         "type": "scattermapbox"
        },
        {
         "customdata": [
          [
           "nan, nan, nan, nan, nan, nan, nan, nan, nan, nan, nan, nan, nan, nan, nan, nan, nan, nan, nan, nan",
           "Suzhou",
           "Applied Informatics - MSc<br>Entrepreneurship and Innovation (part time) - MSc<br>Construction Management (part time) - MSc<br>Applied Statistics - MSc<br>Business Analytics - MSc<br>Economics and Finance - MSc<br>Actuarial Science - MSc<br>Applied Statistics (part time) - MSc<br>Financial Mathematics - MSc<br>Entrepreneurship and Innovation - MSc<br>Construction Management - MSc<br>Management (part time) - MSc<br>Investment Management - MSc<br>Digital Education - MSc<br>Civil Engineering (part time) - MSc<br>Finance - MSc<br>Human-Computer Interaction - MSc<br>Financial Computing - MSc<br>Civil Engineering - MSc<br>Management - MSc"
          ]
         ],
         "hovertemplate": "<b>%{hovertext}</b><br><br>city=%{customdata[1]}<br>latitude=%{lat}<br>longitude=%{lon}<br>fees_list=%{customdata[0]}<br>courses_list=%{customdata[2]}<extra></extra>",
         "hovertext": [
          "Xi’an Jiaotong-Liverpool University"
         ],
         "lat": [
          31.27217325
         ],
         "legendgroup": "Suzhou",
         "lon": [
          120.73679031822311
         ],
         "marker": {
          "color": "#19d3f3"
         },
         "mode": "markers",
         "name": "Suzhou",
         "showlegend": true,
         "subplot": "mapbox",
         "type": "scattermapbox"
        },
        {
         "customdata": [
          [
           "16500.0, 16800.0, 16300.0, 16800.0, 16800.0, 16800.0, 16500.0, 15800.0, 16800.0, 16800.0, 16800.0, 17200.0, 16500.0, 16500.0, 7850.0, 17200.0, 1100.0, 16800.0, 1080.0, 16800.0, 15800.0, 16500.0, 1130.0, 17200.0, 17200.0, 16800.0, 16800.0, 16200.0, 16800.0, 16800.0, 16800.0, 16800.0, 16800.0, 16800.0, 16500.0, 16500.0, 16300.0, 16800.0, 16800.0, 17200.0, 16200.0, 17200.0",
           "Oxford",
           "Applied Human Nutrition - PgDip/PgCert/MSc<br>Marketing Communications Management - MSc<br>Historic Conservation - PgDip/PgCert/MSc<br>International Business and Marketing Management - MSc<br>International Business and Supply Chain Management - MSc<br>International Luxury Marketing - MSc<br>Conservation Ecology - PgDip/PgCert/MSc<br>Management in Health and Social Care - PgDip/PgCert/MSc<br>Digital Marketing - MSc<br>Accounting and Finance - MSc<br>Marketing - MSc<br>Data Analytics - MSc<br>Construction Project Management - PgDip/PgCert/MSc<br>Building Information Modelling and Management - PgDip/PgCert/MSc<br>Applied Coaching Science - MSc<br>Artificial Intelligence - PgDip/PgCert/MSc<br>Advanced Clinical Practice - PgDip/PgCert/MSc<br>Entrepreneurship and Innovation - MSc<br>Advanced Nursing Practice - PgDip/PgCert/MSc<br>Management and Business Analytics - MSc<br>Health Sciences Open Award - PgDip/PgCert/MSc<br>Environmental Impact Assessment and Management - MSc<br>Data Analytics for Government - MSc<br>Automotive Engineering with Electric Vehicles - MSc<br>Computer Science for Cyber Security - PgDip/PgCert/MSc<br>International Business Management and Corporate Social Responsibility - MSc<br>International Business Management and Digital Strategy - MSc<br>International Business Management- MSc<br>International Business Management and Finance - MSc<br>International Business Management and Entrepreneurship - MSc<br>International Hospitality, Events and Tourism Management - MSc<br>International Hotel and Tourism Management - MSc<br>Finance - MSc<br>Marketing and Brand Management - MSc<br>Infrastructure Planning and Sustainable Development - PgDip/PgCert/MSc<br>Applied Sport and Exercise Nutrition - PgDip/MSc<br>Digital Media Production - MSc<br>Management - MSc<br>Global Events Management - MSc<br>Advanced Computer Science - PgDip/PgCert/MSc<br>Human Resource Management - MSc<br>Computing Science - MSc"
          ],
          [
           "nan, nan, 18000.0, 45490.0, nan, nan, nan, nan, nan, nan, nan",
           "Oxford",
           "MSc in Genomic Medicine<br>MSc in Medical Physics with Radiobiology<br>MSc in Integrated Immunology (Part-time)<br>MSc in Integrated Immunology<br>MSc in Modelling for Global Health<br>MSc in Precision Cancer Medicine<br>MSc in Radiobiology<br>MSc in Software and Systems Security<br>MSc in Software Engineering<br>MSc in Advanced Computer Science<br>MSc in Applied Cancer Science"
          ]
         ],
         "hovertemplate": "<b>%{hovertext}</b><br><br>city=%{customdata[1]}<br>latitude=%{lat}<br>longitude=%{lon}<br>fees_list=%{customdata[0]}<br>courses_list=%{customdata[2]}<extra></extra>",
         "hovertext": [
          "Oxford Brookes University",
          "University of Oxford"
         ],
         "lat": [
          51.7549229,
          33.6502899
         ],
         "legendgroup": "Oxford",
         "lon": [
          -1.2242411304246317,
          -117.8281794
         ],
         "marker": {
          "color": "#FF6692"
         },
         "mode": "markers",
         "name": "Oxford",
         "showlegend": true,
         "subplot": "mapbox",
         "type": "scattermapbox"
        },
        {
         "customdata": [
          [
           "363.0, 363.0",
           "Salzburg",
           "Applied Image & Signal Processing<br>Human-Computer Interaction"
          ],
          [
           "726.72",
           "Salzburg",
           "Chemistry and Physics of Materials International MSc"
          ]
         ],
         "hovertemplate": "<b>%{hovertext}</b><br><br>city=%{customdata[1]}<br>latitude=%{lat}<br>longitude=%{lon}<br>fees_list=%{customdata[0]}<br>courses_list=%{customdata[2]}<extra></extra>",
         "hovertext": [
          "Salzburg University of Applied Sciences",
          "University of Salzburg"
         ],
         "lat": [
          47.7981346,
          47.7947829
         ],
         "legendgroup": "Salzburg",
         "lon": [
          13.0464806,
          13.054159709492996
         ],
         "marker": {
          "color": "#B6E880"
         },
         "mode": "markers",
         "name": "Salzburg",
         "showlegend": true,
         "subplot": "mapbox",
         "type": "scattermapbox"
        },
        {
         "customdata": [
          [
           "nan, nan, nan, nan, nan, nan, 833.0, nan, nan, 722.0, nan, nan, nan, nan, nan, nan, nan, nan, nan, nan, nan, nan, nan, nan, nan, nan, nan, nan, nan, nan, nan, nan, nan, nan, nan, nan, nan, nan, 722.0, 833.0, nan, nan, nan, nan, nan, nan, 722.0, nan, nan, nan, nan, nan, nan, nan, nan, nan",
           "Bath",
           "Applied Forensic Psychology with Placement<br>Decarbonisation (MSc) - 2 years part-time<br>Decarbonisation (MSc)<br>Entrepreneurship and Management (MSc)<br>Applied Economics with Banking and Financial Markets<br>Engineering Business Management online MSc<br>Entrepreneurship Management and Innovation, online MSc<br>Business Analytics (MSc)<br>International Management (MSc)<br>Artificial Intelligence, online MSc<br>Conservation of Historic Buildings (MSc)<br>Data Science and Statistics (MSc)<br>Data Science and Statistics (Health) (MSc)<br>Football Medicine in association with FIFA<br>Data Science (MSc)<br>Engineering Business Management (MSc)<br>Engineering Business Management (MSc)<br>Economics and Finance<br>Criminology<br>Accounting and Finance (MSc)<br>Economics<br>Financial Mathematics with Data Science (MSc)<br>Drug Discovery (MSc)<br>Biotechnology (Healthcare Technologies) (MSc)<br>Biotechnology (Sustainable Biotechnologies) (MSc)<br>Biotechnology (with Entrepreneurship) (MSc)<br>Architectural Engineering: Environmental Design (MSc)<br>Management (MSc)<br>International Development with Economics<br>International Development with Conflict and Humanitarian Action<br>International Development, Social Justice and Sustainability<br>Applied Economics<br>Computer Science (MSc)<br>International Development<br>Health Psychology<br>Finance (MSc)<br>Automotive Engineering with Electric Propulsion (MSc)<br>Automotive Engineering with Business Management (MSc)<br>Applied Economics (Banking and Financial Markets), online MSc<br>Business Analytics, online MSc<br>Civil Engineering: Innovative Structural Materials (MSc)<br>Environmental Engineering (MSc)<br>Humanitarianism, Conflict and Development<br>Global Public Health and Policy<br>Applied Psychology and Economic Behaviour<br>Marketing (MSc)<br>Computer Science, online MSc<br>Automotive Technology (MSc)<br>Automotive Technology with Business Management (MSc)<br>Human Resource Management (MSc)<br>Innovation and Technology Management (MSc)<br>Public Policy<br>Finance with Banking (MSc)<br>Finance with Risk Management (MSc)<br>Civil Engineering (MSc)<br>Applied Clinical Psychology"
          ]
         ],
         "hovertemplate": "<b>%{hovertext}</b><br><br>city=%{customdata[1]}<br>latitude=%{lat}<br>longitude=%{lon}<br>fees_list=%{customdata[0]}<br>courses_list=%{customdata[2]}<extra></extra>",
         "hovertext": [
          "University of Bath"
         ],
         "lat": [
          51.37658725
         ],
         "legendgroup": "Bath",
         "lon": [
          -2.323432593859133
         ],
         "marker": {
          "color": "#FF97FF"
         },
         "mode": "markers",
         "name": "Bath",
         "showlegend": true,
         "subplot": "mapbox",
         "type": "scattermapbox"
        },
        {
         "customdata": [
          [
           "nan, nan, nan, nan, nan, nan, nan",
           "Kaunas",
           "Applied Informatics<br>Applied English Linguistics<br>Marketing and International Commerce<br>International Business and Technology Law<br>Future Media and Journalism<br>Educational Management<br>Business Logistics"
          ]
         ],
         "hovertemplate": "<b>%{hovertext}</b><br><br>city=%{customdata[1]}<br>latitude=%{lat}<br>longitude=%{lon}<br>fees_list=%{customdata[0]}<br>courses_list=%{customdata[2]}<extra></extra>",
         "hovertext": [
          "Vytautas Magnus University"
         ],
         "lat": [
          54.8984353
         ],
         "legendgroup": "Kaunas",
         "lon": [
          23.91439374490837
         ],
         "marker": {
          "color": "#FECB52"
         },
         "mode": "markers",
         "name": "Kaunas",
         "showlegend": true,
         "subplot": "mapbox",
         "type": "scattermapbox"
        },
        {
         "customdata": [
          [
           "nan, nan, nan, nan, nan, nan, nan, nan, nan, nan, nan, nan, nan, nan, nan, nan, nan, nan, nan, nan, nan, nan, nan, nan, nan, nan, nan, nan, nan, nan, nan, nan, nan, nan, nan, nan, nan, nan, nan, nan, nan, nan, nan, nan, nan, nan, nan, nan, nan, nan, nan, nan, nan, nan, nan, nan, nan, nan, nan, nan, nan, nan, nan, nan, nan, nan, nan, nan, nan, nan, nan, nan, nan, nan, nan, nan, nan, nan, nan, nan, nan, nan, nan, nan, nan, nan, nan, nan, nan, nan, nan, nan",
           "Southampton",
           "Applied Geographical Information Systems and Remote Sensing MSc<br>Gerontology (Distance Learning) MSc<br>Gerontology MSc<br>Gerontology (Research) MSc<br>Global Ageing and Policy (Distance Learning) MSc<br>International Management MSc<br>Cancer Biology and Immunology (MSc)<br>Digital Chemistry MSc<br>Digital Business MSc<br>Business Analytics and Finance MSc<br>Business Analytics and Management Sciences MSc<br>Biodiversity and Conservation MSc<br>International Financial Markets MSc<br>Global Marine Resource Management MSc<br>Maritime Engineering Science: Advanced Computational Engineering MSc<br>Maritime Engineering Science: Marine Engineering and Autonomy MSc<br>Maritime Engineering Science: Naval Architecture MSc<br>Maritime Engineering Science: Ocean Energy & Offshore Engineering MSc<br>Maritime Engineering Science: Yacht and High-performance Craft MSc<br>Demography MSc<br>Education MSc<br>International Entrepreneurship and Management MSc<br>Finance and Economics MSc<br>Finance and Econometrics MSc<br>Electrical Power Systems MSc<br>Electrochemistry and Battery Technologies MSc<br>Finance MSc<br>Archaeology (Higher Archaeological Practice) MSc<br>Archaeology (Bioarchaeology) MSc<br>Archaeology (Palaeoanthropology) MSc<br>Business Strategy and Innovation Management MSc<br>European Masters in Embedded Computing Systems MSc<br>Economics MSc<br>Accounting and Finance MSc<br>Genomics MSc<br>Leadership and Management Health and Social Care MSc<br>Data and Decision Analytics MSc<br>Acoustical and Vibrational Engineering MSc<br>Applied Statistics MSc<br>Internet of Things MSc<br>Human Resource Management MSc<br>Energy and Sustainability (Energy, Environment and Buildings) MSc<br>Energy and Sustainability (Energy, Resources and Climate Change) MSc<br>Advanced Clinical Practice (Advanced Nurse Practitioner) MSc<br>Advanced Clinical Practice (Advanced Critical Care Practitioner) MSc<br>Advanced Clinical Practice (Advanced Allied Health Practitioner) MSc<br>Advanced Clinical Practice (Advanced Neonatal Nurse Practitioner) MSc<br>Archaeology MSc<br>International Banking & Financial Studies MSc<br>Creative Technologies (MSc)<br>Health Psychology MSc<br>Environmental Consultancy MSc<br>Criminology MSc<br>Data Analytics for Government MSc<br>Computer Science MSc<br>Aerodynamics and Computation MSc<br>Artificial Intelligence MSc<br>Chemistry by Research MSc<br>Chemistry MSc<br>Business and Heritage Management MSc<br>Engineering Materials (Advanced Mechanical Engineering Science) MSc<br>Electronic Engineering MSc<br>Audiology MSc<br>Audiology (with Clinical Placement) MSc/PgDip<br>Marketing Analytics MSc<br>Global Health MSc<br>Marketing Management MSc<br>Actuarial Science MSc/PGDip<br>Data Science MSc<br>Foundations of Clinical Psychology MSc<br>Advanced Chemical Engineering MSc<br>International Security and Risk MSc<br>Education (Management and Leadership) MSc<br>Education (Practice and Innovation) MSc<br>Education (Online) MSc<br>Accounting and Management MSc<br>Biomedical Engineering MSc<br>Logistics and Supply Chain Analytics MSc<br>Computational Engineering Design (Advanced Mechanical Engineering Science) MSc<br>Civil Engineering with an Integrated Qualifying Year MSc<br>Civil Engineering MSc<br>Marine Environment and Resources MSc<br>Maritime Archaeology MSc<br>Digital Marketing MSc<br>Digital Strategy and Information Systems MSc<br>Child Nursing (Pre-registration) PGDip/MSc<br>Allergy MSc/PGDip/PGCert<br>Amputation and Prosthetic Rehabilitation MSc<br>Environmental Monitoring and Assessment MSc<br>Environmental Pollution Control MSc<br>Cyber Security MSc<br>Adult Nursing (Pre-registration) MSc/PGDip"
          ]
         ],
         "hovertemplate": "<b>%{hovertext}</b><br><br>city=%{customdata[1]}<br>latitude=%{lat}<br>longitude=%{lon}<br>fees_list=%{customdata[0]}<br>courses_list=%{customdata[2]}<extra></extra>",
         "hovertext": [
          "University of Southampton"
         ],
         "lat": [
          50.9354752
         ],
         "legendgroup": "Southampton",
         "lon": [
          -1.3962847494297244
         ],
         "marker": {
          "color": "#636efa"
         },
         "mode": "markers",
         "name": "Southampton",
         "showlegend": true,
         "subplot": "mapbox",
         "type": "scattermapbox"
        },
        {
         "customdata": [
          [
           "nan, nan, nan, nan, nan, nan, nan, nan, nan, nan, nan, nan, nan, nan, nan, nan, nan, nan, nan, nan, nan, nan, nan, nan, nan, nan, nan, nan, nan, nan, nan, nan, nan, nan, nan, nan, nan, nan, nan, nan, nan, nan, nan, nan, nan, nan, nan",
           "Bangor",
           "Applied Innovation Design - MSc<br>Dementia Studies - MSc<br>Clinical and Health Psychology - MSc/PGDip/PGCert<br>Applied Sport Science - MSc/PGDip/PGCert<br>Applied Sport and Exercise Physiology - MSc/PgDip<br>Advanced Data Science MSc<br>Accounting and Finance - MSc<br>Computer Science - MSc<br>Language Acquisition and Development - MSc<br>Broadband and Optical Communications MSc<br>International Media and Management - MSc<br>Genomics and Precision Medicine - MSc<br>Conservation & Land Management - MSc<br>Advanced Clinical Practice - MSc/PGDip/PGCert<br>Advanced Clinical Practice (AHP) - MSc/PGDip/PGCert<br>Applied Marine Geoscience - MSc<br>Leading Quality Improvement - MSc<br>Islamic Banking and Finance - MSc<br>Agroforestry and Food Security - MSc/PgCert/PgDip<br>Agroforestry - MSc<br>Agroforestry and Food Security by Distance Learning - MSc/PgCert/PgDip<br>Environmental and Business Management - MSc<br>Environmental Forestry - MSc<br>Accounting and Banking - MSc<br>Accounting - MSc<br>Health Economics - MSc by Research<br>Exercise Rehabilitation - MSc/PGDip/PGCert<br>Consumer and Digital Marketing Analytics - MSc<br>Language Technologies - MSc<br>Biomedical Science MSc<br>Management and Finance - MSc<br>Counselling - MSc<br>Electronic Engineering - MSc<br>Finance - MSc<br>Forestry (Distance Learning) - MSc/PGDip/PGCert<br>Banking and Finance (Chartered Banker) - MSc<br>Banking and Finance - MSc<br>Forestry and Environmental Management degrees (TRANSFOR-M) - MSc<br>Advanced HEMS Practice - MSc/PGDip/PGCert<br>Advanced HEMS Practice<br>Marine Biology - MSc<br>Marine Environmental Protection - MSc<br>Marine Renewable Energy - MSc<br>Advanced Computer Science MSc<br>Environmental Microbiology and Biotechnology (by Research) - MSc<br>Computing MSc<br>Environmental Sciences by Research - MSc"
          ]
         ],
         "hovertemplate": "<b>%{hovertext}</b><br><br>city=%{customdata[1]}<br>latitude=%{lat}<br>longitude=%{lon}<br>fees_list=%{customdata[0]}<br>courses_list=%{customdata[2]}<extra></extra>",
         "hovertext": [
          "Bangor University"
         ],
         "lat": [
          53.2300234
         ],
         "legendgroup": "Bangor",
         "lon": [
          -4.13008199555879
         ],
         "marker": {
          "color": "#EF553B"
         },
         "mode": "markers",
         "name": "Bangor",
         "showlegend": true,
         "subplot": "mapbox",
         "type": "scattermapbox"
        },
        {
         "customdata": [
          [
           "nan, nan, nan, nan, nan, nan, nan, nan, nan, nan",
           "Warwick",
           "Global Decarbonisation and Climate Change<br>Diagnostics, Data and Digital Health<br>MASc in Community, Engagement, and Belonging<br>MASc - Data Visualisation<br>MASc in Global Sustainable Development<br>iheed MSc / PGDip in Diabetes Care<br>iheed Medical Education for Healthcare Professionals (PGCert / PGDip / MSc)<br>Masters by Research - Chemistry<br>(MSc/PGDip/PGCert) - Advanced Clinical Practice<br>(MSc/PGDip/PGCert) - Advanced Clinical Practice (Critical Care)"
          ]
         ],
         "hovertemplate": "<b>%{hovertext}</b><br><br>city=%{customdata[1]}<br>latitude=%{lat}<br>longitude=%{lon}<br>fees_list=%{customdata[0]}<br>courses_list=%{customdata[2]}<extra></extra>",
         "hovertext": [
          "University of Warwick"
         ],
         "lat": [
          52.3813073
         ],
         "legendgroup": "Warwick",
         "lon": [
          -1.5639569481637439
         ],
         "marker": {
          "color": "#00cc96"
         },
         "mode": "markers",
         "name": "Warwick",
         "showlegend": true,
         "subplot": "mapbox",
         "type": "scattermapbox"
        },
        {
         "customdata": [
          [
           "24500.0, 31000.0, 31000.0, 30750.0, nan, 31000.0, 30250.0, 30500.0, 31000.0, 31750.0, 31000.0, 27500.0, 31000.0, 31000.0, 31000.0, 34750.0, 28750.0, 30999.0, 28750.0, 29500.0, 31000.0, 30250.0, 31000.0, 28750.0, 26500.0, 28750.0, 38500.0, 20500.0, 31000.0, 30250.0, 31000.0, 31000.0, 30750.0, nan, 30750.0, 29500.0, 31000.0, 34750.0, 20250.0, 28750.0, 12750.0, 34750.0, 31000.0, 13500.0, 33000.0, 32000.0, 32000.0, 31000.0, 29000.0, 31000.0, 24500.0, 31000.0, 27500.0, 28750.0, 30750.0, 30750.0, 30000.0, 31000.0, 15000.0, 31000.0, 34750.0, 29500.0, 34750.0, 28750.0, 31000.0, 31000.0, 37000.0, 31000.0, 35250.0, 31750.0, 15000.0, 30250.0, 33500.0, 31000.0, 31000.0, 31000.0, 32000.0, nan, 32000.0, 31000.0, 28000.0, 31000.0, 32000.0, 12000.0, 30250.0, 31000.0, 31000.0, 31750.0, 31750.0, 31750.0, 31750.0, 28750.0, 31000.0, 30750.0, 27000.0, 33000.0, nan",
           "Leeds",
           "Decolonial Thought and Social Theory - MSc<br>International Construction Management and Engineering - MSc (Eng)<br>Energy and Environment - MSc<br>Environmental Data Science and Analytics - MSc<br>Engineering Management - MSc/PGCert<br>Environmental Engineering and Project Management - MSc (Eng)<br>Business Analytics and Decision Sciences - MSc<br>Biodiversity and Conservation with African Field Course - MSc<br>Communications and Signal Processing - MSc (Eng)<br>High-Performance Graphics and Games Engineering - MSc<br>Advanced Mechanical Engineering - MSc (Eng)<br>International Health - MSc<br>Dental Materials - MSc<br>Engineering Geology - MSc<br>Advanced Chemical Engineering - MSc<br>Accounting and Finance - MSc<br>Air Quality Solutions - MSc<br>Diagnostic Imaging (Medical Ultrasound) MSc<br>Global Supply Chain Management - MSc<br>Cancer Biology and Therapy - MSc<br>Electronic and Electrical Engineering - MSc (Eng)<br>International Marketing Management - MSc<br>Physics - MSc<br>Organizational Psychology and Business - MSc<br>Criminal Justice and Criminology - MSc<br>Climate Futures: Science, Society and Politics MSc<br>Clinical Embryology and Assisted Reproduction Technology - MSc/PGDip<br>Clinical Embryology - MSc/PGDip<br>Railway Engineering with Project Management - MSc (Eng)<br>Data Analytics and Human Resource Management - MSc<br>Mechatronics and Robotics - MSc (Eng)<br>Materials Science and Engineering - MSc<br>Law and Finance - MSc<br>Sustainable Business Leadership MSc/Postgraduate Certificate<br>Sustainability in Transport - MSc<br>Sustainable Cities - MSc<br>Sustainable Agriculture and Food Production - MSc<br>Financial Mathematics - MSc<br>Advanced Clinical Practice (Apprenticeship) - MSc<br>Enterprise and Entrepreneurship - MSc<br>Disability Studies, Rights and Inclusion - MSc (Online)<br>Financial Risk Management - MSc<br>Management Consulting - MSc<br>Advanced Clinical Practice - MSc<br>Biopharmaceutical Development - MSc<br>Food Science (Food Biotechnology) - MSc<br>Food Product Innovation - MSc<br>Aerospace Engineering - MSc<br>Geographical Information Systems - MSc/PGDip<br>Infection, Immunity and Human Disease - MSc<br>Inequalities and Social Science - MSc<br>Embedded Systems Engineering - MSc (Eng)<br>Health Informatics with Data Science MSc<br>Global Strategy and Innovation Management - MSc<br>Urban Data Science and Analytics - MSc<br>Transport Planning and the Environment - MSc<br>Sustainable Food Systems and Food Security - MSc<br>Automotive Engineering - MSc (Eng)<br>Artificial Intelligence MSc / PGCert<br>Astrophysics - MSc<br>Banking and International Finance - MSc<br>Ecological Economics - MSc<br>Finance and Investment - MSc<br>Management of Information Systems and Digital Innovation - MSc<br>Biotechnology with Business Enterprise - MSc<br>Biodiversity and Conservation - MSc<br>Biopharmaceutical Development (Industrial Placement) - MSc<br>Chemistry - MSc<br>Exploration Geophysics - MSc<br>Data Science and Analytics - MSc<br>Data Science (Statistics) MSc (Online)<br>Consumer Analytics and Marketing Strategy - MSc<br>International Business - MSc<br>Engineering Technology and Business Management - MSc (Eng)<br>Engineering Project Management - MSc (Eng)<br>Dental Public Health - MSc<br>Nutrition - MSc<br>Marketing Management with Advertising - MSc<br>Food Science and Nutrition - MSc<br>Medical Engineering - MSc<br>Global Conservation Science - MSc<br>Geotechnical Engineering - MSc (Eng)<br>Food Science - MSc<br>Geographical Information Science - MSc<br>Management - MSc<br>Precision Medicine: Genomic Data Science - MSc<br>Electrical Engineering and Renewable Energy Systems - MSc (Eng)<br>Advanced Computer Science (Artificial Intelligence) - MSc<br>Advanced Computer Science (Data Analytics) - MSc<br>Advanced Computer Science (Cloud Computing) - MSc<br>Advanced Computer Science - MSc<br>Environment and Development - MSc<br>Cognitive Development and Disorders - MSc<br>Economics and Finance - MSc<br>Economics - MSc<br>Drug Discovery and Development - MSc<br>Geotechnical Engineering Degree Apprenticeship MSc"
          ],
          [
           "nan",
           "Leeds",
           "Data Science and Artificial Intelligence"
          ]
         ],
         "hovertemplate": "<b>%{hovertext}</b><br><br>city=%{customdata[1]}<br>latitude=%{lat}<br>longitude=%{lon}<br>fees_list=%{customdata[0]}<br>courses_list=%{customdata[2]}<extra></extra>",
         "hovertext": [
          "University of Leeds",
          "Leeds Trinity University"
         ],
         "lat": [
          53.80677435,
          53.8481537
         ],
         "legendgroup": "Leeds",
         "lon": [
          -1.5562877504739676,
          -1.6450164550572741
         ],
         "marker": {
          "color": "#ab63fa"
         },
         "mode": "markers",
         "name": "Leeds",
         "showlegend": true,
         "subplot": "mapbox",
         "type": "scattermapbox"
        },
        {
         "customdata": [
          [
           "nan, nan, nan, nan, nan, nan, nan, nan, nan, nan, nan, nan, nan, nan, nan",
           "Jonkoping",
           "International Marketing<br>Applied Economics and Data Analysis<br>Digital Business<br>International Logistics and Supply Chain Management<br>Global Management<br>Cybersecurity<br>Engineering Management<br>Learning, Digitalization, and Sustainability (LEADS) (One Year)<br>Learning, Digitalization, and Sustainability (LEADS) (Two Year)<br>AI Engineering<br>Interventions in Childhood<br>Global Studies: Sustainable Societies and Social Change (Two Years)<br>Global Studies: Sustainable Societies and Social Change (One Year)<br>International Financial Analysis<br>Materials and Manufacturing"
          ]
         ],
         "hovertemplate": "<b>%{hovertext}</b><br><br>city=%{customdata[1]}<br>latitude=%{lat}<br>longitude=%{lon}<br>fees_list=%{customdata[0]}<br>courses_list=%{customdata[2]}<extra></extra>",
         "hovertext": [
          "Jonkoping University"
         ],
         "lat": [
          57.77802215
         ],
         "legendgroup": "Jonkoping",
         "lon": [
          14.162141018941803
         ],
         "marker": {
          "color": "#FFA15A"
         },
         "mode": "markers",
         "name": "Jonkoping",
         "showlegend": true,
         "subplot": "mapbox",
         "type": "scattermapbox"
        },
        {
         "customdata": [
          [
           "nan, nan, nan, nan, nan, nan, nan, nan, nan, nan, nan, nan, nan, nan, nan, nan, nan, nan, nan, nan, nan, nan, nan, nan, nan, nan, nan, nan, nan, nan, nan, nan, nan, nan, nan, nan, nan, nan, nan, nan, nan, nan, nan, nan, nan, nan, nan, nan, nan, nan, nan, nan, nan, nan, nan, nan, nan, nan, nan, nan, nan, nan, nan, nan, nan, nan, nan, nan, nan, nan, nan, nan, nan, nan, nan, nan, nan, nan, nan, nan",
           "Middlesbrough",
           "International Management (Operations) (Applied) MSc<br>International Management MSc<br>International Management (Operations) MSc<br>Cancer and Molecular Diagnostics MSc<br>Cancer and Molecular Diagnostics (with Advanced Practice) MSc<br>International Management (Accountancy) (Applied) MSc<br>International Management (Marketing Management) Applied MSc<br>International Management (Applied) MSc<br>International Management (Human Resource Management) (Applied) MSc<br>International Management (Digital Business) (Applied) MSc<br>International Management (Marketing Management) MSc<br>International Management (Accountancy) MSc<br>International Management (Digital Business) MSc<br>International Management (Human Resource Management) MSc<br>Artificial Intelligence MSc<br>Artificial Intelligence with Data Analytics MSc<br>Global Leadership and Management in Healthcare MSc<br>Global Leadership and Management in Healthcare (Senior Leader Apprenticeship) MSc<br>Evidence-Based Policing MSc<br>Diagnostic Radiography (Pre-registration) MSc<br>Environmental Management (with Advanced Practice) MSc<br>Environmental Management MSc<br>Cybersecurity MSc<br>Cybersecurity (Online) MSc<br>Criminal Investigation MSc<br>Ecology and Conservation (with Advanced Practice)* MSc<br>Ecology and Conservation MSc<br>Chemical Engineering (with Advanced Practice) MSc<br>Chemical Engineering MSc<br>Law and Policy (Applied) MSc<br>Law and Policy MSc<br>Immersive Technology (with Advanced Practice) MSc<br>Crime Intelligence and Data Analytics (with Advanced Practice) MSc<br>Crime Intelligence and Data Analytics MSc<br>Food Processing Engineering MSc<br>Aerospace Engineering MSc<br>Aerospace Engineering (with Advanced Practice) MSc<br>IT Project Management MSc<br>Applied Data Science MSc<br>Electrical Power and Energy Systems MSc<br>Electrical Power and Energy Systems (with Advanced Practice) MSc<br>Health Psychology MSc<br>Digital Forensics and Cyber Investigation (with Advanced Practice) MSc<br>Digital Forensics and Cyber Investigation MSc<br>Criminology MSc<br>Immersive Technology MSc<br>Advanced Biomedical Science MSc<br>Computer Science MSc<br>Finance and Innovation MSc<br>Applied Artificial Intelligence MSc<br>Food Processing Engineering (with Advanced Practice) MSc<br>Dental Therapy MSc<br>Forensic Science MSc<br>Forensic Science (with Advanced Practice) MSc<br>Applied Psychology MSc<br>Aviation Management (Online) MSc<br>Aviation Management MSc<br>Food Science and Biotechnology (with Advanced Practice) MSc<br>Food Science and Biotechnology MSc<br>Data Science MSc<br>Advanced Home Futures MSc<br>Accounting and Finance MSc<br>Bioinformatics MSc<br>Bioinformatics (with Advanced Practice) MSc<br>Financial Technology (FinTech) MSc<br>Digital and Technology Solutions (Degree Apprenticeship) MSc<br>Dietetics (Pre-Registration) MSc<br>Human Factors and Patient Safety MSc<br>Instrumentation and Control Engineering MSc<br>Instrumentation and Control Engineering (with Advanced Practice) MSc<br>Digital Marketing MSc<br>Advanced Clinical Practice MSc<br>Civil and Structural Engineering MSc<br>Civil and Structural Engineering (with Advanced Practice) MSc<br>Human Resource Management (Applied) MA<br>Cognitive Behavioural Therapy MSc<br>Computing MSc<br>International Relations MA<br>Forensic Radiography PgCert/MSc<br>Forensic Psychology MSc"
          ]
         ],
         "hovertemplate": "<b>%{hovertext}</b><br><br>city=%{customdata[1]}<br>latitude=%{lat}<br>longitude=%{lon}<br>fees_list=%{customdata[0]}<br>courses_list=%{customdata[2]}<extra></extra>",
         "hovertext": [
          "Teesside University"
         ],
         "lat": [
          54.57036085
         ],
         "legendgroup": "Middlesbrough",
         "lon": [
          -1.2350985277726934
         ],
         "marker": {
          "color": "#19d3f3"
         },
         "mode": "markers",
         "name": "Middlesbrough",
         "showlegend": true,
         "subplot": "mapbox",
         "type": "scattermapbox"
        },
        {
         "customdata": [
          [
           "nan, nan, nan, nan, nan, nan, nan, nan, nan, nan, nan",
           "Worcester",
           "International Management MSc<br>Applied Sports Performance Analysis MSc<br>Applied Sport Science MSc<br>Marketing MSc<br>Healthcare Management And Leadership MSc<br>Human Resource Management MSc<br>Logistics and Supply Chain Management MSc<br>Counselling MSc<br>Adapted Sport MSc<br>International Sport Management MSc<br>Advanced Clinical Practice MSc"
          ]
         ],
         "hovertemplate": "<b>%{hovertext}</b><br><br>city=%{customdata[1]}<br>latitude=%{lat}<br>longitude=%{lon}<br>fees_list=%{customdata[0]}<br>courses_list=%{customdata[2]}<extra></extra>",
         "hovertext": [
          "University of Worcester"
         ],
         "lat": [
          42.2667914
         ],
         "legendgroup": "Worcester",
         "lon": [
          -71.80921954228347
         ],
         "marker": {
          "color": "#FF6692"
         },
         "mode": "markers",
         "name": "Worcester",
         "showlegend": true,
         "subplot": "mapbox",
         "type": "scattermapbox"
        },
        {
         "customdata": [
          [
           "28.0, 28.0, 28.0",
           "Rome",
           "Master of Science (MSc) in Management<br>Master of Science (MSc) in Marketing<br>Master of Science (MSc) in Finance"
          ],
          [
           "2500.0",
           "Rome",
           "European Master in Archaeological Materials Science (ARCHMAT)"
          ]
         ],
         "hovertemplate": "<b>%{hovertext}</b><br><br>city=%{customdata[1]}<br>latitude=%{lat}<br>longitude=%{lon}<br>fees_list=%{customdata[0]}<br>courses_list=%{customdata[2]}<extra></extra>",
         "hovertext": [
          "European School of Economics (Rome)",
          "Sapienza University of Rome"
         ],
         "lat": [
          41.8933203,
          41.8933203
         ],
         "legendgroup": "Rome",
         "lon": [
          12.4829321,
          12.4829321
         ],
         "marker": {
          "color": "#B6E880"
         },
         "mode": "markers",
         "name": "Rome",
         "showlegend": true,
         "subplot": "mapbox",
         "type": "scattermapbox"
        },
        {
         "customdata": [
          [
           "nan, nan, nan, nan, nan, nan, nan, nan, nan, nan, nan, nan",
           "Washington",
           "Master of Science (MS) in Unmanned and Autonomous Systems<br>Master of Science (MS) in Product Management<br>Master of Science (MS) in Engineering Technology<br>Master of Science (MS) in Cyber Analytics<br>Master of Science (MS) in Construction Safety<br>Master of Science (MS) in Counterterrorism<br>Master of Science (MS) in Construction Cybersecurity<br>Master of Science (MS) in Computer Science<br>Master of Science (MS) in Cybersecurity<br>Master of Science (MS) in Critical Infrastructure<br>Master of Science (MS) in Aviation<br>Master of Science (MS) in Aviation Cybersecurity"
          ]
         ],
         "hovertemplate": "<b>%{hovertext}</b><br><br>city=%{customdata[1]}<br>latitude=%{lat}<br>longitude=%{lon}<br>fees_list=%{customdata[0]}<br>courses_list=%{customdata[2]}<extra></extra>",
         "hovertext": [
          "Capitol Technology University"
         ],
         "lat": [
          39.04698215
         ],
         "legendgroup": "Washington",
         "lon": [
          -76.85145270190938
         ],
         "marker": {
          "color": "#FF97FF"
         },
         "mode": "markers",
         "name": "Washington",
         "showlegend": true,
         "subplot": "mapbox",
         "type": "scattermapbox"
        },
        {
         "customdata": [
          [
           "nan, nan, nan, nan, nan, nan, nan, nan, nan, nan, nan",
           "York",
           "Entrepreneurship and Innovation MSc<br>Digital Marketing and Data Analytics MSc<br>Marketing MSc<br>Leadership and Management MSc<br>Advanced Musculoskeletal Practice MSc, PG Dip, PG Cert<br>Criminology MSc<br>Advanced Assessment and Outcome Measures Practice MSc, PG Dip, PG Cert<br>International Fashion Marketing MSc<br>Computer Science MSc - London campus<br>Advanced Respiratory Practice MSc, PG Dip, PG Cert<br>International Business MSc"
          ],
          [
           "nan",
           "York",
           "MA/MSc Interactive Media (by Research)"
          ]
         ],
         "hovertemplate": "<b>%{hovertext}</b><br><br>city=%{customdata[1]}<br>latitude=%{lat}<br>longitude=%{lon}<br>fees_list=%{customdata[0]}<br>courses_list=%{customdata[2]}<extra></extra>",
         "hovertext": [
          "York St John University",
          "University of York"
         ],
         "lat": [
          53.9828768,
          53.9453903
         ],
         "legendgroup": "York",
         "lon": [
          -1.0762464005920434,
          -1.0314592943104675
         ],
         "marker": {
          "color": "#FECB52"
         },
         "mode": "markers",
         "name": "York",
         "showlegend": true,
         "subplot": "mapbox",
         "type": "scattermapbox"
        },
        {
         "customdata": [
          [
           "nan, nan, nan, nan, nan, nan, nan, nan, nan, nan, nan, nan, nan, nan, nan, nan, nan, nan, nan, nan, nan",
           "Kalmar",
           "International Business Strategy, Master Programme<br>Evolutionary Ecology, Master Programme<br>Innovation through Business, Engineering and Design - Specialisation Business, Master Programme<br>Innovation through Business, Engineering and Design - specialisation Engineering, Master Programme<br>Aquatic Ecology, Master Programme<br>Business Process Control and Supply Chain Management- Frontiers in Management Accounting & Process-based Control, Master Programme<br>Marketing, Master Programme<br>Leadership and Management in International Contexts, Master Programme<br>Economics, master programme<br>Energy and Management for Sustainable Development, Master Programme<br>International Affairs, Master Programme<br>Electrical Engineering, specialisation Signal Processing & Wave Propagation, Master Programme<br>Health Science, Master Programme<br>Business Process Control and Supply Chain Management- Frontiers in Logistics & Supply Chain Management, Master Programme<br>Information Systems, Master Programme (60 credits, distance learning)<br>Information Systems, Master Programme (120 credits, distance learning)<br>Information Systems, Master Programme (60 credits)<br>Information Systems, Master Programme (120 credits)<br>Chemistry, Master Programme (60 credits)<br>Chemistry, Master Programme (120 credits)<br>Entrepreneurship, Sustainability and Social Change, Master Programme"
          ]
         ],
         "hovertemplate": "<b>%{hovertext}</b><br><br>city=%{customdata[1]}<br>latitude=%{lat}<br>longitude=%{lon}<br>fees_list=%{customdata[0]}<br>courses_list=%{customdata[2]}<extra></extra>",
         "hovertext": [
          "Linnaeus University"
         ],
         "lat": [
          56.6628826
         ],
         "legendgroup": "Kalmar",
         "lon": [
          16.3662382
         ],
         "marker": {
          "color": "#636efa"
         },
         "mode": "markers",
         "name": "Kalmar",
         "showlegend": true,
         "subplot": "mapbox",
         "type": "scattermapbox"
        },
        {
         "customdata": [
          [
           "nan, nan, nan, nan, nan, nan, nan, nan, nan, nan, nan, nan, nan, nan, nan, nan, nan",
           "Gothenburg",
           "Master in Robotics and Automation (Distance Learning, 2 Years)<br>Master in Robotics and Automation (On Campus, 2 Years)<br>Master in Robotics and Automation (On Campus, 1 Year)<br>Master in Sustainable Development<br>Master in International Business<br>Master in Electromechanical Vehicle Engineering (Distance Learning)<br>Master in Electromechanical Vehicle Engineering (On Campus)<br>Master in IT and Management<br>Master in Finance<br>Master in AI and Automation<br>Master in Robotics and Automation (Distance Learning, 2 Years Part-Time)<br>Master in Leadership in Digitalised Organisations<br>Master in Manufacturing Engineering (2 Years)<br>Master in Manufacturing Engineering (1 Year)<br>Master in Robotics and Automation (Distance Learning, 1 Year)<br>Master in Welding Technology<br>Master in Cybersecurity"
          ]
         ],
         "hovertemplate": "<b>%{hovertext}</b><br><br>city=%{customdata[1]}<br>latitude=%{lat}<br>longitude=%{lon}<br>fees_list=%{customdata[0]}<br>courses_list=%{customdata[2]}<extra></extra>",
         "hovertext": [
          "University West"
         ],
         "lat": [
          43.8158448
         ],
         "legendgroup": "Gothenburg",
         "lon": [
          -91.2429308
         ],
         "marker": {
          "color": "#EF553B"
         },
         "mode": "markers",
         "name": "Gothenburg",
         "showlegend": true,
         "subplot": "mapbox",
         "type": "scattermapbox"
        },
        {
         "customdata": [
          [
           "nan, nan, nan, nan, nan, nan, nan, nan",
           "Besancon",
           "Master in Vision & Robotics (VIBOT)<br>Master in Smart Mechanics<br>Master in Engineering of Thermal Energy (Energy ITE)<br>Master in Advanced Mathematics<br>Master in Medical Imaging and Applications (MAIA)<br>Master in Electrical Engineering : Smart Integrated Systems<br>Master in Control and Durability of Materials<br>Master in Electrical Energy (Energy EE)"
          ]
         ],
         "hovertemplate": "<b>%{hovertext}</b><br><br>city=%{customdata[1]}<br>latitude=%{lat}<br>longitude=%{lon}<br>fees_list=%{customdata[0]}<br>courses_list=%{customdata[2]}<extra></extra>",
         "hovertext": [
          "UBFC Graduate School EIPHI"
         ],
         "lat": [
          47.2380222
         ],
         "legendgroup": "Besancon",
         "lon": [
          6.0243622
         ],
         "marker": {
          "color": "#00cc96"
         },
         "mode": "markers",
         "name": "Besancon",
         "showlegend": true,
         "subplot": "mapbox",
         "type": "scattermapbox"
        },
        {
         "customdata": [
          [
           "nan, nan, nan, nan, nan, nan",
           "Biot",
           "Master in Security and Cloud Computing (SECCLO) - Erasmus Mundus<br>Data Science and Engineering - MSc<br>Cyber Security (MSc)<br>Internet of Things (IoT) - MSc<br>Autonomous Systems (MSc)<br>Digital Security - MSc"
          ]
         ],
         "hovertemplate": "<b>%{hovertext}</b><br><br>city=%{customdata[1]}<br>latitude=%{lat}<br>longitude=%{lon}<br>fees_list=%{customdata[0]}<br>courses_list=%{customdata[2]}<extra></extra>",
         "hovertext": [
          "EURECOM"
         ],
         "lat": [
          43.61437945
         ],
         "legendgroup": "Biot",
         "lon": [
          7.071205705635185
         ],
         "marker": {
          "color": "#ab63fa"
         },
         "mode": "markers",
         "name": "Biot",
         "showlegend": true,
         "subplot": "mapbox",
         "type": "scattermapbox"
        },
        {
         "customdata": [
          [
           "22400.0, nan",
           "Hamburg",
           "Master in Sustainable Management and Operations (SuMO)<br>Master in International Management"
          ],
          [
           "nan, nan",
           "Hamburg",
           "Economics (M.Sc.)<br>Integrated Climate System Sciences (ICSS)"
          ],
          [
           "nan",
           "Hamburg",
           "Master in Global Logistics and Supply Chain Management"
          ]
         ],
         "hovertemplate": "<b>%{hovertext}</b><br><br>city=%{customdata[1]}<br>latitude=%{lat}<br>longitude=%{lon}<br>fees_list=%{customdata[0]}<br>courses_list=%{customdata[2]}<extra></extra>",
         "hovertext": [
          "Kuehne Logistics University - KLU",
          "University of Hamburg",
          "Kuehne Logistics University - The KLU"
         ],
         "lat": [
          53.550341,
          53.5641091,
          53.550341
         ],
         "legendgroup": "Hamburg",
         "lon": [
          10.000654,
          9.994978875267606,
          10.000654
         ],
         "marker": {
          "color": "#FFA15A"
         },
         "mode": "markers",
         "name": "Hamburg",
         "showlegend": true,
         "subplot": "mapbox",
         "type": "scattermapbox"
        },
        {
         "customdata": [
          [
           "nan, nan, nan, nan, nan",
           "Aalborg",
           "Master in Techno-Anthropology<br>Master in Urban Planning and Management<br>Master in Sustainable Energy Planning and Management<br>Master in Environmental Management and Sustainable Science<br>Master in Cities and Sustainability"
          ]
         ],
         "hovertemplate": "<b>%{hovertext}</b><br><br>city=%{customdata[1]}<br>latitude=%{lat}<br>longitude=%{lon}<br>fees_list=%{customdata[0]}<br>courses_list=%{customdata[2]}<extra></extra>",
         "hovertext": [
          "Aalborg University"
         ],
         "lat": [
          57.015907049999996
         ],
         "legendgroup": "Aalborg",
         "lon": [
          9.975308243557345
         ],
         "marker": {
          "color": "#19d3f3"
         },
         "mode": "markers",
         "name": "Aalborg",
         "showlegend": true,
         "subplot": "mapbox",
         "type": "scattermapbox"
        },
        {
         "customdata": [
          [
           "nan, nan, nan",
           "Copenhagen",
           "Master in Sustainable Cities<br>Master in Techno-Anthropology<br>Master in Sustainable Design"
          ]
         ],
         "hovertemplate": "<b>%{hovertext}</b><br><br>city=%{customdata[1]}<br>latitude=%{lat}<br>longitude=%{lon}<br>fees_list=%{customdata[0]}<br>courses_list=%{customdata[2]}<extra></extra>",
         "hovertext": [
          "Aalborg University Copenhagen Campus"
         ],
         "lat": [
          55.6867243
         ],
         "legendgroup": "Copenhagen",
         "lon": [
          12.5700724
         ],
         "marker": {
          "color": "#FF6692"
         },
         "mode": "markers",
         "name": "Copenhagen",
         "showlegend": true,
         "subplot": "mapbox",
         "type": "scattermapbox"
        },
        {
         "customdata": [
          [
           "nan, nan, nan",
           "Amsterdam",
           "Business with International Management (MSc)<br>Business with Financial Management (MSc)<br>Business with Business Analytics (MSc)"
          ],
          [
           "12840.0, 15500.0, 14236.0, 15500.0, 15446.0, 15446.0, 16730.0, 15446.0, 15446.0, 15500.0, nan, 15320.0, 14236.0, 14236.0, 14236.0, 14236.0, 14236.0, 12840.0, nan, 15546.0, 15546.0, 15546.0, 15546.0, 15546.0, 15546.0, 16830.0, 15546.0, 15546.0",
           "Amsterdam",
           "Clinical and Developmental Psychopathology (Research Master) MSc<br>Global Health (Research Master) MSc<br>Ecology and Evolution (Joint Degree 3 Universities): Biodiversity, Ecology and Evolution MSc<br>Ecology and Evolution MSc<br>Environment and Resource Management: Ecosystem Services and Biodiversity MSc<br>Environment and Resource Management: Global Sustainable Futures MSc<br>Environment and Resource Management: Global Food Challenges MSc<br>Environment and Resource Management: Global Water Challenges MSc<br>Environment and Resource Management: Energy and Climate MSc<br>Hydrology MSc<br>Health Sciences MSc<br>Earth Sciences: Global Environmental Change and Policy MSc<br>Earth Sciences: Geology and Geochemistry MSc<br>Earth Sciences: Earth and Climate MSc<br>Business Analytics: Optimisation of Business Processes MSc<br>Business Analytics: Financial Risk Management MSc<br>Business Analytics: Computational Intelligence MSc<br>Genes in Behaviour and Health (Research Master) MSc<br>Human Movement Sciences MSc<br>Econometrics and Operations Research: Quantitative Logistics MSc<br>Econometrics and Operations Research: Marketing Data Science MSc<br>Econometrics and Operations Research: Quantitative Economics MSc<br>Econometrics and Operations Research: Econometrics and Data Science MSc<br>Econometrics and Operations Research: Financial Engineering MSc<br>Econometrics and Operations Research: Econometric Theory MSc<br>Econometrics and Operations Research: Climate Econometrics MSc<br>Econometrics and Operations Research: Financial Econometrics MSc<br>Econometrics and Operations Research: Operations Research Theory MSc"
          ],
          [
           "nan",
           "Amsterdam",
           "European Master of Science in Occupational Therapy (post-graduation programme)"
          ],
          [
           "nan, nan, nan",
           "Amsterdam",
           "European Politics and External Relations<br>Conflict Resolution and Governance<br>International Relations"
          ]
         ],
         "hovertemplate": "<b>%{hovertext}</b><br><br>city=%{customdata[1]}<br>latitude=%{lat}<br>longitude=%{lon}<br>fees_list=%{customdata[0]}<br>courses_list=%{customdata[2]}<extra></extra>",
         "hovertext": [
          "Northumbria University Amsterdam",
          "Vrije Universiteit Amsterdam",
          "Amsterdam University of Applied Sciences (AUAS)",
          "University of Amsterdam"
         ],
         "lat": [
          52.3730796,
          52.33396225,
          52.3730796,
          52.36813335
         ],
         "legendgroup": "Amsterdam",
         "lon": [
          4.8924534,
          4.865196500737312,
          4.8924534,
          4.889804155733945
         ],
         "marker": {
          "color": "#B6E880"
         },
         "mode": "markers",
         "name": "Amsterdam",
         "showlegend": true,
         "subplot": "mapbox",
         "type": "scattermapbox"
        },
        {
         "customdata": [
          [
           "nan, nan, nan, nan, nan, nan, nan, nan, nan, nan, nan, nan, nan, nan, nan, nan, nan",
           "High Wycombe",
           "Applied Forensic Psychology MSc<br>Artificial Intelligence MSc<br>Community Healthcare Practice MSc<br>Engineering Design MSc<br>Diagnostic Radiography (Pre-Registration) MSc<br>Managing Organisational Risk and Resilience MSc<br>Advanced Clinical Practitioner MSc<br>Applied Positive Psychology MSc<br>Hospitality Leadership MSc<br>Aviation Security MSc<br>Aviation Operations and Management MSc (part time)<br>Aviation Operations and Management MSc (full time)<br>Aviation Operations and Management (Online) MSc<br>Child Protection and Adult Safeguarding MSc<br>Cyber Security MSc<br>Cognitive Behavioural Therapy MSc<br>Adult Nursing MSc"
          ]
         ],
         "hovertemplate": "<b>%{hovertext}</b><br><br>city=%{customdata[1]}<br>latitude=%{lat}<br>longitude=%{lon}<br>fees_list=%{customdata[0]}<br>courses_list=%{customdata[2]}<extra></extra>",
         "hovertext": [
          "Buckinghamshire New University"
         ],
         "lat": [
          51.62818595
         ],
         "legendgroup": "High Wycombe",
         "lon": [
          -0.7535677268488475
         ],
         "marker": {
          "color": "#FF97FF"
         },
         "mode": "markers",
         "name": "High Wycombe",
         "showlegend": true,
         "subplot": "mapbox",
         "type": "scattermapbox"
        },
        {
         "customdata": [
          [
           "nan, nan, nan, nan, nan, nan, nan, nan, nan, nan, nan, nan, nan, nan, nan, nan, nan, nan, nan, nan, nan, nan, nan, nan, nan, nan, nan, nan, nan, nan, nan, nan, nan, nan, nan, 8300.0, nan, nan, nan, nan, nan, nan, nan, nan, nan, 8300.0, 8300.0, nan, nan, nan, nan, nan",
           "Preston",
           "Applied Forensic Psychology - MSc<br>Community Health Practice - MSc<br>International Hospitality and Event Management - MSc<br>International Hospitality and Tourism Management - MSc<br>Clinical Practice Management and Education - MSc/PGDip/PGCert<br>Clinical Research - MSc<br>Cybercrime Investigation - MSc<br>Dental Education - MSc<br>Dental Implantology - MClinDent<br>Digital Marketing Communications - MSc<br>Fire Safety Engineering - MSc<br>Fire Scene Investigation - MSc<br>Cancer Biology and Therapy - MSc<br>Financial Investigation - MSc<br>International Business and Management - MSc<br>Football Science & Rehabilitation – MSc<br>Intelligent Maintenance Engineering (with optional placement) - MSc<br>Criminal Investigation - MSc<br>Criminal Justice - MSc<br>Construction Project Management - MSc<br>Health Informatics - MSc/PGDip<br>Lifestyle Medicine - MSc/PGDip/PGCert<br>IT Security - MSc<br>Building Conservation & Adaptation - MSc/PGDip/PGCert<br>Healthcare Practice - MSc<br>Human Resource Management/Development - MSc<br>Drug Discovery and Development (with optional placement) - MSc<br>Disaster Medicine - MSc/PGDip/PGCert<br>DNA Profiling - MSc<br>Food Safety Management - MSc<br>Applied Data Science- MSc<br>Computing - MSc<br>Electrical and Electronic Engineering - MSc<br>Elite Coaching Practice - MSc<br>Emergency Management in High Hazard Industries - MSc<br>MSc Nursing (Online)<br>Counter Terrorism - MSc<br>Forensic Science and Crime Scene Investigation - MSc<br>Digital Health - MSc/PGDip/PGCert<br>Applied Public Health - MSc<br>Advanced Restorative and Periodontal Practice - MSc<br>Advanced Pharmacy Practice - MSc/PGDip<br>Additive Manufacturing - MSc<br>Endodontology - MSc/PGDip<br>Medical Education - MSc/PGDip/PGCert<br>MSc International Business and Management (Online)<br>MSc Human Resource Management (online)<br>Clinical Periodontology - MSc/PGDip/PGCert<br>Child and Adolescent Mental Health - MSc<br>Clinical Implantology - MSc<br>Applied Clinical Psychology - MSc<br>Maintenance Engineering (with optional placement) - MSc"
          ]
         ],
         "hovertemplate": "<b>%{hovertext}</b><br><br>city=%{customdata[1]}<br>latitude=%{lat}<br>longitude=%{lon}<br>fees_list=%{customdata[0]}<br>courses_list=%{customdata[2]}<extra></extra>",
         "hovertext": [
          "University of Central Lancashire"
         ],
         "lat": [
          53.7637059
         ],
         "legendgroup": "Preston",
         "lon": [
          -2.708910381956861
         ],
         "marker": {
          "color": "#FECB52"
         },
         "mode": "markers",
         "name": "Preston",
         "showlegend": true,
         "subplot": "mapbox",
         "type": "scattermapbox"
        },
        {
         "customdata": [
          [
           "11836.0, nan, 11836.0, 14500.0, 14500.0, 1610.0, 1610.0, 1610.0, 11836.0, 11836.0, 11836.0, 11836.0, 1610.0, 14500.0, 11836.0, 14500.0, 14500.0, 11836.0, 11836.0, 14500.0, 11836.0",
           "Canterbury",
           "Applied Exercise and Health Science - MSc<br>Clinical Reporting - MSc, PgDip, PgCert<br>Forensic and Investigative Psychology - MSc<br>Criminal Investigation-MSc<br>Crime, Justice & Security-MSc<br>Healthcare Practice (Simulation Pathway) - MSc, PgDip, PgCert<br>Healthcare Practice (Community and Primary Care route) - MSc, PgDip, PgCert<br>Healthcare Practice - MSc, PgDip, PgCert<br>Data Intelligence - MSc<br>Internet of Things Engineering - MSc<br>Advanced Manufacturing Systems and Technology with Robotics - MSc<br>Advanced Manufacturing Systems and Technology - MSc<br>Advanced Clinical Practice - MSc<br>Criminology and Criminal Psychology-MSC<br>Global Public Health - MSc<br>International Hospitality Management-MSc<br>Counter Terrorism and Security-MSC<br>Foundations in Clinical Psychology - MSc<br>International Business - MSc<br>Clinical Sport Psychology-MSc<br>Clinical Sport Psychology - MSc"
          ],
          [
           "nan, nan, nan, nan, nan",
           "Canterbury",
           "Level 7 Senior Leader (with MSc Top-up) Apprenticeship<br>Chemistry - MSc (by Research)<br>MA/MSc - Professional Practice<br>MA/MSc - Professional Practice (Resilient Leadership in Education)<br>Forensic Science - MSc"
          ]
         ],
         "hovertemplate": "<b>%{hovertext}</b><br><br>city=%{customdata[1]}<br>latitude=%{lat}<br>longitude=%{lon}<br>fees_list=%{customdata[0]}<br>courses_list=%{customdata[2]}<extra></extra>",
         "hovertext": [
          "Canterbury Christ Church University",
          "University of Kent"
         ],
         "lat": [
          51.2791874,
          51.295015750000005
         ],
         "legendgroup": "Canterbury",
         "lon": [
          1.0903253466811516,
          1.0673010856199983
         ],
         "marker": {
          "color": "#636efa"
         },
         "mode": "markers",
         "name": "Canterbury",
         "showlegend": true,
         "subplot": "mapbox",
         "type": "scattermapbox"
        },
        {
         "customdata": [
          [
           "nan, nan, nan, nan",
           "Clemson",
           "Applied Economics & Statistics (MS)<br>Food, Nutrition, and Culinary Sciences (MS)<br>Entomology (MS)<br>Economic Analytics (MS)"
          ]
         ],
         "hovertemplate": "<b>%{hovertext}</b><br><br>city=%{customdata[1]}<br>latitude=%{lat}<br>longitude=%{lon}<br>fees_list=%{customdata[0]}<br>courses_list=%{customdata[2]}<extra></extra>",
         "hovertext": [
          "Clemson University"
         ],
         "lat": [
          34.66869155
         ],
         "legendgroup": "Clemson",
         "lon": [
          -82.83743475607795
         ],
         "marker": {
          "color": "#EF553B"
         },
         "mode": "markers",
         "name": "Clemson",
         "showlegend": true,
         "subplot": "mapbox",
         "type": "scattermapbox"
        },
        {
         "customdata": [
          [
           "nan, nan, nan, nan, nan, nan, nan, nan, nan, nan, nan, nan, nan, nan, nan, nan",
           "Linkoping",
           "Applied Ethology and Animal Biology<br>Biomedical Engineering<br>Data Science and Information Engineering<br>Cybersecurity<br>Intelligent Transport Systems and Logistics<br>Computational Social Science<br>Ecology and Sustainable Development<br>Business Administration - Strategy and Management in International Organisations<br>Computer Science<br>Industrial Engineering and Management<br>Aeronautical Engineering<br>Experimental and Medical Biosciences<br>Chemistry<br>Ageing and Social Change, Master's Programme<br>Design<br>Electronics Engineering"
          ]
         ],
         "hovertemplate": "<b>%{hovertext}</b><br><br>city=%{customdata[1]}<br>latitude=%{lat}<br>longitude=%{lon}<br>fees_list=%{customdata[0]}<br>courses_list=%{customdata[2]}<extra></extra>",
         "hovertext": [
          "Linköping University"
         ],
         "lat": [
          58.3977911
         ],
         "legendgroup": "Linkoping",
         "lon": [
          15.57545441574208
         ],
         "marker": {
          "color": "#00cc96"
         },
         "mode": "markers",
         "name": "Linkoping",
         "showlegend": true,
         "subplot": "mapbox",
         "type": "scattermapbox"
        },
        {
         "customdata": [
          [
           "nan, nan, nan, nan, nan, nan, nan, nan, nan, nan, nan, nan, nan, nan, nan, nan, nan, nan, nan, nan, nan, nan",
           "Aberystwyth",
           "Equine Science - MSc<br>International Business and Marketing - MSc<br>International Business Management - MSc<br>Computer Science - MSc<br>Data Science - MSc<br>Biotechnology - MSc<br>Biodiversity and Conservation Management - MSc<br>Environmental Change, Impact and Adaptation - MSc<br>Agrifood Innovation - MSc<br>Animal Science - MSc<br>Management and Finance - MSc<br>Behaviour Change - MSc<br>Artificial Intelligence - MSc<br>Finance - MSc<br>Digital Information and Media Management - MSc (2 years distance learning)<br>International Finance and Banking - MSc<br>International Finance - MSc<br>Criminology and Criminal Justice - MSc<br>BioInnovation - MSc<br>Livestock Science - MSc<br>Advanced Computer Science (with integrated year in industry) - MSc<br>Advanced Computer Science - MSc"
          ],
          [
           "10500.0",
           "Aberystwyth",
           "Green Building MSc"
          ]
         ],
         "hovertemplate": "<b>%{hovertext}</b><br><br>city=%{customdata[1]}<br>latitude=%{lat}<br>longitude=%{lon}<br>fees_list=%{customdata[0]}<br>courses_list=%{customdata[2]}<extra></extra>",
         "hovertext": [
          "Aberystwyth University",
          "Centre for Alternative Technology"
         ],
         "lat": [
          52.4176313,
          52.6230397
         ],
         "legendgroup": "Aberystwyth",
         "lon": [
          -4.065152,
          -3.8399604
         ],
         "marker": {
          "color": "#ab63fa"
         },
         "mode": "markers",
         "name": "Aberystwyth",
         "showlegend": true,
         "subplot": "mapbox",
         "type": "scattermapbox"
        },
        {
         "customdata": [
          [
           "nan, nan, nan, nan, nan, nan, nan, nan, nan, nan, nan, nan, nan, nan, nan, nan, nan, nan, nan, nan, nan, nan, nan, nan, nan, nan, nan, nan, nan, nan, nan, nan, nan, nan, nan, nan, nan, nan",
           "Rochester",
           "Environmental, Health and Safety Management MS<br>Business Analytics MS<br>Construction Management MS (Online)<br>Global Supply Chain Management MS<br>Finance MS<br>Cybersecurity MS<br>Criminal Justice MS<br>Data Science MS<br>Astrophysical Sciences and Technology MS<br>Health and Well-being Management MS<br>Health Care Interpretation (Online) MS<br>Chemical Engineering MSc<br>Applied Statistics MS<br>Game Design and Development MS<br>Imaging Science MS<br>Electrical Engineering MS<br>Information Technology and Analytics MS<br>Manufacturing Leadership MS<br>Manufacturing and Mechanical Systems Integration MS<br>Health Informatics (Online) MS<br>Industrial and Systems Engineering MS<br>Computer Science MS<br>Accounting and Analytics MS<br>Hospitality Business Management (Online) MS<br>Color Science MS<br>Applied and Computational Mathematics MS<br>Communication Networks MS<br>Communication MS<br>Engineering Management MS<br>Artificial Intelligence MS<br>Experimental Psychology MS<br>Health Systems Management (Online) MS<br>Chemistry MS<br>Computer Engineering MS<br>Human-Computer Interaction MS<br>Bioinformatics MS<br>Dietetics and Nutrition MS<br>Environmental Science MS"
          ]
         ],
         "hovertemplate": "<b>%{hovertext}</b><br><br>city=%{customdata[1]}<br>latitude=%{lat}<br>longitude=%{lon}<br>fees_list=%{customdata[0]}<br>courses_list=%{customdata[2]}<extra></extra>",
         "hovertext": [
          "Rochester Institute of Technology USA"
         ],
         "lat": [
          43.08248835
         ],
         "legendgroup": "Rochester",
         "lon": [
          -77.67291102378641
         ],
         "marker": {
          "color": "#FFA15A"
         },
         "mode": "markers",
         "name": "Rochester",
         "showlegend": true,
         "subplot": "mapbox",
         "type": "scattermapbox"
        },
        {
         "customdata": [
          [
           "nan, 14105.0, nan, nan, nan, nan",
           "Chelmsford",
           "Equine Performance Science MSc<br>Conservation Education and Engagement MSc<br>Crop Production (Agriculture) MSc<br>Crop Production (Horticulture) MSc<br>Horticulture MSc<br>Animal Welfare and Conservation MSc"
          ]
         ],
         "hovertemplate": "<b>%{hovertext}</b><br><br>city=%{customdata[1]}<br>latitude=%{lat}<br>longitude=%{lon}<br>fees_list=%{customdata[0]}<br>courses_list=%{customdata[2]}<extra></extra>",
         "hovertext": [
          "Writtle University College"
         ],
         "lat": [
          51.736208000000005
         ],
         "legendgroup": "Chelmsford",
         "lon": [
          0.4263975019465964
         ],
         "marker": {
          "color": "#19d3f3"
         },
         "mode": "markers",
         "name": "Chelmsford",
         "showlegend": true,
         "subplot": "mapbox",
         "type": "scattermapbox"
        },
        {
         "customdata": [
          [
           "nan, nan, nan, nan, nan, nan, nan, nan, nan, nan, nan, nan, nan, nan, nan, nan",
           "Oulu",
           "Epidemiology and Biomedical Data Science - MSc<br>Business Analytics - MSc<br>International Business Management - MSc<br>International Business Management - BSc and MSc<br>Economics - MSc<br>Computer Science and Engineering - MSc<br>Biochemistry - MSc<br>Architecture - MSc<br>Environmental Engineering - MSc<br>Chemistry of Sustainable Processes and Materials - MSc<br>Finance - MSc<br>Biomedical Engineering - MHS/MSc<br>Digitalisation, Computing and Electronics - BSc and MSc<br>Financial and Management Accounting - MSc<br>Electronics - MSc<br>Master's in Sustainable and Autonomous Systems"
          ]
         ],
         "hovertemplate": "<b>%{hovertext}</b><br><br>city=%{customdata[1]}<br>latitude=%{lat}<br>longitude=%{lon}<br>fees_list=%{customdata[0]}<br>courses_list=%{customdata[2]}<extra></extra>",
         "hovertext": [
          "University of Oulu"
         ],
         "lat": [
          65.05932770000001
         ],
         "legendgroup": "Oulu",
         "lon": [
          25.467357691873588
         ],
         "marker": {
          "color": "#FF6692"
         },
         "mode": "markers",
         "name": "Oulu",
         "showlegend": true,
         "subplot": "mapbox",
         "type": "scattermapbox"
        },
        {
         "customdata": [
          [
           "19100.0, 15800.0, 15800.0, 15800.0, 15800.0, 15800.0, 15800.0, 19100.0, 19100.0, 19100.0, 19100.0, 19100.0, nan, 19100.0, 15800.0, nan",
           "Maastricht",
           "Epidemiology<br>Master Psychology, specialisation in Cognitive Neuroscience<br>Master Psychology, specialisation in Legal Psychology<br>Master Psychology, specialisation in Work and Organisational Psychology<br>Master Psychology, specialisation in Health and Social Psychology<br>Master Psychology, specialisation in Developmental Psychology<br>Master Psychology, specialisation in Neuropsychology<br>Global Health<br>Governance and Leadership in European Public Health<br>Health Education and Promotion<br>Health Food Innovation Management<br>Biomedical Sciences<br>Healthcare Policy, Innovation and Management<br>Health and Digital Transformation<br>Master Forensic Psychology<br>Human Movement Sciences"
          ]
         ],
         "hovertemplate": "<b>%{hovertext}</b><br><br>city=%{customdata[1]}<br>latitude=%{lat}<br>longitude=%{lon}<br>fees_list=%{customdata[0]}<br>courses_list=%{customdata[2]}<extra></extra>",
         "hovertext": [
          "Maastricht University"
         ],
         "lat": [
          50.8373469
         ],
         "legendgroup": "Maastricht",
         "lon": [
          4.406164
         ],
         "marker": {
          "color": "#B6E880"
         },
         "mode": "markers",
         "name": "Maastricht",
         "showlegend": true,
         "subplot": "mapbox",
         "type": "scattermapbox"
        },
        {
         "customdata": [
          [
           "nan, nan, nan, nan, nan, nan, nan, nan, nan, nan, nan, nan, nan, nan, nan, nan, nan, nan, nan, nan, nan, nan, nan, nan, nan, nan, nan, nan, nan, nan, nan, nan, nan, nan, nan, nan, nan, nan, nan, nan, nan, nan, nan, nan, nan",
           "Bradford",
           "Digital Civil Engineering - MSc<br>Bioinformatics - MSc<br>Marketing and Management - MSc<br>Advanced Mechanical Engineering - MSc<br>Applied Computer Science and Artificial Intelligence - MSc<br>Advanced Dementia Studies - MSc/PGDip/PGCert<br>Cancer Drug Discovery - MSc<br>Cancer Pharmacology - MSc<br>International Business and Management - MSc<br>Forensic Archaeology and Crime Scene Investigation - MSc<br>Archaeological Sciences - MSc<br>Drug Toxicology and Safety Pharmacology - MSc<br>Economics and Finance for Development - MSc<br>Landscape Archaeology and Digital Heritage - MSc<br>International Nursing Studies MSc / PGDip / PGCert<br>Leadership in Health & Social Care (International) MSc<br>Leadership in Health and Social Care - MSc/PGDip/PGCert<br>Logistics, Data Analytics and Supply Chain Management - MSc<br>Human Osteology and Palaeopathology - MSc<br>Construction and Project Management MSc / PGDip / PGCert<br>Financial Technology (FinTech) - MSc<br>Management (with Professional Placement) MSc<br>Advanced Civil and Structural Engineering - MSc<br>International Accounting and Finance MSc<br>Advanced Clinical Practitioner MSc<br>European and International Business Management - MSc<br>Advanced Biomedical Engineering - MSc<br>Advanced Chemical and Petroleum Engineering - MSc<br>Finance and Investment - MSc<br>Applied Artificial Intelligence and Data Analytics MSc<br>Engineering Management MSc<br>Artificial Intelligence and Machine Learning MSc<br>Cyber Security - MSc<br>Big Data Science and Technology - MSc<br>Advanced Pharmacy Practice - MSc/PGDip<br>Automotive Systems Engineering - MSc<br>Foundation Pharmacy Practice (Multi-sector) MSc/PGDip<br>Analytical Sciences MSc<br>Financial Technology (FinTech) Distance Learning MSc<br>Digital and Strategic Marketing - MSc<br>Advanced Clinical Practice (Radiography) MSc<br>Finance, Accounting and Management - MSc<br>Human Resource Management (CIPD Accreditation) - MSc<br>Management - MSc<br>Materials Chemistry - MSc"
          ]
         ],
         "hovertemplate": "<b>%{hovertext}</b><br><br>city=%{customdata[1]}<br>latitude=%{lat}<br>longitude=%{lon}<br>fees_list=%{customdata[0]}<br>courses_list=%{customdata[2]}<extra></extra>",
         "hovertext": [
          "University of Bradford"
         ],
         "lat": [
          53.7912775
         ],
         "legendgroup": "Bradford",
         "lon": [
          -1.7666110188908903
         ],
         "marker": {
          "color": "#FF97FF"
         },
         "mode": "markers",
         "name": "Bradford",
         "showlegend": true,
         "subplot": "mapbox",
         "type": "scattermapbox"
        },
        {
         "customdata": [
          [
           "nan, nan, nan, nan, nan, nan, nan, nan, nan, nan, nan, nan, nan, nan, 9400.0, 10500.0, 9400.0, nan, nan, nan, nan, nan, nan, nan, nan, nan, nan, nan, nan, nan, nan, nan, nan, nan, nan, nan, nan, nan, nan, nan, nan, nan, nan, nan, nan, 9400.0, 11250.0, nan, nan, nan, nan, nan, nan, nan, nan, nan, 10500.0, nan, nan, nan, nan, nan, nan, nan, nan, nan, nan, nan, nan, nan, nan, nan, nan, 9400.0, nan, 9500.0, nan, nan, nan, nan, nan, nan, nan, nan, nan",
           "Portsmouth",
           "Digital Business Management MSc<br>Global Human Resource Management (Distance Learning) MSc<br>International Business and Management MSc<br>International Human Resource Management MSc<br>Construction Project Management<br>Cybercrime, Terrorism and Security<br>Cybercrime (Distance Learning) MSc<br>Educational Leadership and Management (with Professional Experience)<br>Educational Leadership and Management MSc<br>Educational Leadership and Management (Distance Learning) MSc<br>Innovation Management and Entrepreneurship (Distance Learning)<br>Innovation Management and Entrepreneurship MSc<br>Engineering Geology MSc<br>Engineering Management<br>MSc Data Analytics<br>MSc Cyber Security and Digital Forensics<br>MSc Cybercrime<br>Electronic and Electrical Engineering MSc<br>Finance MSc<br>Forensic Investigation<br>Forensic Investigation MSc<br>Accounting and Data Analytics MSc<br>International Business and Management<br>Forensic Accounting (Distance Learning) (3 Year) MSc<br>Forensic Accounting MSc<br>Forensic Accounting (Distance Learning) MSc<br>Forensic Accounting (Distance Learning) (2 Year) MSc<br>Crisis and Disaster Management MSc<br>Data Analytics (Distance Learning) MSc<br>Construction Project Management MSc<br>Cyber Security and Digital Forensics (Distance Learning)<br>Advanced Digital Dentistry (Distance Learning) (Top Up)<br>Biotechnology MSc<br>Accounting and Finance MSc<br>Building Information Management MSc<br>Building Information Management (Distance Learning) MSc<br>Leadership and Management (Top-up) MSc<br>Economics, Finance and Banking MSc<br>Human Resource Management MSc<br>Advanced Manufacturing MSc<br>Energy and Power Systems Management MSc<br>Logistics and Supply Chain Management MSc<br>Human Resource Development (Top-up) MSc<br>Financial Technology<br>Creative Technologies MSc<br>MSc Psychology<br>MSc Risk, Crisis and Resilience Management<br>Geographical Information Systems MSc<br>International Criminal Justice and Intelligence<br>International Development (Distance Learning) MSc<br>International Criminal Justice and Intelligence (Distance Learning)<br>Digital Economy<br>Health Psychology MSc<br>Coastal and Marine Resource Management MSc<br>Global Public Health<br>Environmental Geology and Land Contamination MSc<br>MSc Project Management for Construction<br>Data Analytics MSc<br>Applied Aquatic Biology MSc<br>Artificial Intelligence and Machine Learning<br>Information Systems MSc<br>Engineering Management MSc<br>Business and Management MSc<br>International Finance and Banking MSc<br>Computer Network and Administration and Management MSc<br>Computer Animation MSc<br>Marketing Analytics MSc<br>Criminal Psychology and Victimology (Distance Learning)<br>Criminal Psychology<br>Geological and Environmental Hazards MSc<br>Advanced Restorative Dental Therapy (Distance Learning) (Top-Up)<br>Human Resource Management (Top-up) MSc<br>Biomedical Engineering<br>MSc Innovation Management and Entrepreneurship<br>Civil Engineering MSc<br>MSc Global Human Resource Management<br>Digital Media MSc<br>Advanced Clinical Practice MSc<br>Information Systems<br>Economic Crime (Distance Learning)<br>Economic Crime<br>Clinical Exercise Science MSc<br>Cyber Security and Forensic Information Technology MSc<br>Advanced Aesthetic & Restorative Dentistry (Distance learning) (Top-up) MSc<br>Forensic Psychology MSc"
          ]
         ],
         "hovertemplate": "<b>%{hovertext}</b><br><br>city=%{customdata[1]}<br>latitude=%{lat}<br>longitude=%{lon}<br>fees_list=%{customdata[0]}<br>courses_list=%{customdata[2]}<extra></extra>",
         "hovertext": [
          "University of Portsmouth"
         ],
         "lat": [
          50.795245
         ],
         "legendgroup": "Portsmouth",
         "lon": [
          -1.0935528683212405
         ],
         "marker": {
          "color": "#FECB52"
         },
         "mode": "markers",
         "name": "Portsmouth",
         "showlegend": true,
         "subplot": "mapbox",
         "type": "scattermapbox"
        },
        {
         "customdata": [
          [
           "nan",
           "Grenoble",
           "Grande Ecole Program (Master in Management)"
          ]
         ],
         "hovertemplate": "<b>%{hovertext}</b><br><br>city=%{customdata[1]}<br>latitude=%{lat}<br>longitude=%{lon}<br>fees_list=%{customdata[0]}<br>courses_list=%{customdata[2]}<extra></extra>",
         "hovertext": [
          "Grenoble Ecole de Management"
         ],
         "lat": [
          45.1899801
         ],
         "legendgroup": "Grenoble",
         "lon": [
          5.713614816647709
         ],
         "marker": {
          "color": "#636efa"
         },
         "mode": "markers",
         "name": "Grenoble",
         "showlegend": true,
         "subplot": "mapbox",
         "type": "scattermapbox"
        },
        {
         "customdata": [
          [
           "nan, nan, nan, nan, nan, nan, nan, nan",
           "Perth",
           "Graduate Certificate in Civil Engineering: Structural<br>Graduate Certificate in Industrial Automation Engineering<br>Graduate Certificate in Programmable Logic Controllers and SCADA<br>Graduate Certificate in Mechanical Engineering<br>Graduate Certificate in CAD and Computational Techniques<br>Graduate Certificate in Power System Analysis and Design<br>Graduate Certificate in Safety, Risk and Reliability Engineering<br>Master of Engineering (Mechanical)"
          ],
          [
           "nan",
           "Perth",
           "Master of Applied Psychology (Professional)"
          ]
         ],
         "hovertemplate": "<b>%{hovertext}</b><br><br>city=%{customdata[1]}<br>latitude=%{lat}<br>longitude=%{lon}<br>fees_list=%{customdata[0]}<br>courses_list=%{customdata[2]}<extra></extra>",
         "hovertext": [
          "Engineering Institute of Technology",
          "Murdoch University"
         ],
         "lat": [
          8.7366516,
          -32.06741575
         ],
         "legendgroup": "Perth",
         "lon": [
          76.8347508,
          115.83460861146293
         ],
         "marker": {
          "color": "#EF553B"
         },
         "mode": "markers",
         "name": "Perth",
         "showlegend": true,
         "subplot": "mapbox",
         "type": "scattermapbox"
        },
        {
         "customdata": [
          [
           "nan, nan, nan, nan, nan",
           "Derby",
           "Environmental Health MSc<br>MSc Management<br>MSc Sustainability and Environmental Management<br>MSc Psychology<br>Forensic Psychology MSc"
          ],
          [
           "nan, nan, nan, nan, nan, nan, nan, nan, nan, nan, nan, nan, nan, nan, nan, nan, nan, nan, nan, nan, nan, nan, nan, nan, nan, nan, nan, nan, nan, nan, nan, 14700.0, nan, nan, nan, 14900.0, nan",
           "Derby",
           "Marketing Management (MSc)<br>Community Specialist Practice: District Nursing (MSc)<br>International Business and Marketing (MSc)<br>International Hospitality Management (MSc)<br>Conservation Biology (MSc)<br>Applied Sport and Exercise Science (MSc)<br>Diagnostic Radiography: Pre-Registration (MSc)<br>Financial Investigation and Digital Intelligence (MSc)<br>Forensic Psychology (MSc)<br>International Business and HRM (MSc)<br>International Business and Finance (MSc)<br>Global Operations and Supply Chain Management (MSc)<br>Intelligence, Security and Disaster Management (MSc)<br>Criminal Justice and Criminology (MSc)<br>Criminal Investigation (MSc)<br>Biomedical Health (MSc)<br>Accounting and Finance (MSc)<br>Building Information Modelling and Project Collaboration (MSc)<br>GeoEnergy (MSc incorporating PGCert/PGDip )<br>Leadership in Health and Social Care MSc<br>Hand Therapy (MSc incorporating PG Cert/PGDip)<br>Information Technology (MSc)<br>Health Psychology (online) (MSc)<br>Environmental Assessment and Control (MSc)<br>Civil Engineering and Construction Management (MSc)<br>Applied Acoustics (MSc)<br>Cyber Security (MSc)<br>Advanced Clinical Practice (MSc)<br>Control and Instrumentation (MSc)<br>Big Data Analytics (MSc)<br>Behaviour Change (incorporating PG Dip/PG Cert) (MSc)<br>Forensic Science (MSc)<br>Audio Engineering (MSc)<br>International Business (MSc)<br>Integrative Counselling and Psychotherapy (MSc incorporating PGCert/PGDip)<br>Clinical Exercise Science (MSc)<br>Cognitive Behavioural Psychotherapy: Adult or Children and Young people (MSc)"
          ]
         ],
         "hovertemplate": "<b>%{hovertext}</b><br><br>city=%{customdata[1]}<br>latitude=%{lat}<br>longitude=%{lon}<br>fees_list=%{customdata[0]}<br>courses_list=%{customdata[2]}<extra></extra>",
         "hovertext": [
          "University of Derby Online Learning",
          "University of Derby"
         ],
         "lat": [
          52.9142235,
          52.937954700000006
         ],
         "legendgroup": "Derby",
         "lon": [
          -1.4719885461266053,
          -1.497999105195924
         ],
         "marker": {
          "color": "#00cc96"
         },
         "mode": "markers",
         "name": "Derby",
         "showlegend": true,
         "subplot": "mapbox",
         "type": "scattermapbox"
        },
        {
         "customdata": [
          [
           "27230.0, nan, nan, 10395.0, 21390.0, nan, nan, 18000.0, nan, nan, nan, 18000.0, nan, 27230.0, nan, nan, 24240.0, nan, 11120.0, 10395.0, nan, 27230.0, nan, nan, nan, nan, 27230.0, 27230.0, nan, nan, nan, nan, nan, nan, nan, nan, nan",
           "St Andrews",
           "Energy Policy and Finance (MSc)<br>Comparative, Evolutionary and Developmental Psychology: Origins of Mind (MSc)<br>Finance and Management (MSc)<br>International Education (MSc) - Distance Learning<br>International Education with optional specialism (MSc)<br>Finance and Economics (MSc)<br>Banking and Finance (MSc)<br>Data Science (PGCert/PGDip/MSc) - online<br>Astrophysics (MSc)<br>Economics (MSc)<br>Geochemistry (MSc)<br>Data Literacy for Social and Environmental Justice (PGCert/PGDip/MSc) - online<br>Applied Statistics and Datamining (PGDip/MSc)<br>Data-Intensive Analysis (MSc)<br>Data-Intensive Analysis (MSc)<br>Data-Intensive Analysis (MSc)<br>Strategic Earth Resources (MSc)<br>Artificial Intelligence (MSc)<br>International Education - Distance Learning with optional specialism (MSc)<br>International Education - Distance Learning with optional specialism (MSc)<br>Computer Science (MSc)<br>Information Technology with Management (MSc)<br>Information Technology with Management (MSc)<br>Information Technology (MSc)<br>Health Professions Education (PgCert/PgDip/MSc) - Distance Learning<br>Finance (MSc)<br>Health Data Science (MSc)<br>Health Data Science (MSc)<br>Health Data Science (MSc)<br>Chemical Science (MSc)<br>Animal Behaviour (MSc)<br>Information Technology with Management (MSc)<br>Marine Ecosystem Management (MSc)<br>Marine Mammal Science (MSc)<br>Catalysis (MSc)<br>Computing and Information Technology (MSc)<br>Human Computer Interaction (MSc)"
          ]
         ],
         "hovertemplate": "<b>%{hovertext}</b><br><br>city=%{customdata[1]}<br>latitude=%{lat}<br>longitude=%{lon}<br>fees_list=%{customdata[0]}<br>courses_list=%{customdata[2]}<extra></extra>",
         "hovertext": [
          "University of St Andrews"
         ],
         "lat": [
          56.3398198
         ],
         "legendgroup": "St Andrews",
         "lon": [
          -2.8117937053149826
         ],
         "marker": {
          "color": "#ab63fa"
         },
         "mode": "markers",
         "name": "St Andrews",
         "showlegend": true,
         "subplot": "mapbox",
         "type": "scattermapbox"
        },
        {
         "customdata": [
          [
           "nan, nan, nan, nan, nan, nan, nan, nan, nan, nan, nan, nan, nan",
           "St Cloud",
           "Biological Sciences (M.A., M.S.)<br>Higher Education Administration (M.S.)<br>Educational Administration and Leadership (M.S.)<br>Clinical Mental Health Counseling (M.S.)<br>Criminal Justice (M.S.)<br>Marriage and Family Therapy (M.S.)<br>Applied Clinical Research (M.S.)<br>Industrial/Organizational Psychology (M.S.)<br>Computer Science (M.S.)<br>Mass Communications - Strategic Media Communications (M.S.)<br>Applied Behavior Analysis (M.S.)<br>Communication Sciences and Disorders (M.S.)<br>Information Assurance (M.S.)"
          ]
         ],
         "hovertemplate": "<b>%{hovertext}</b><br><br>city=%{customdata[1]}<br>latitude=%{lat}<br>longitude=%{lon}<br>fees_list=%{customdata[0]}<br>courses_list=%{customdata[2]}<extra></extra>",
         "hovertext": [
          "St. Cloud State University"
         ],
         "lat": [
          45.54781165
         ],
         "legendgroup": "St Cloud",
         "lon": [
          -94.15122845517467
         ],
         "marker": {
          "color": "#FFA15A"
         },
         "mode": "markers",
         "name": "St Cloud",
         "showlegend": true,
         "subplot": "mapbox",
         "type": "scattermapbox"
        },
        {
         "customdata": [
          [
           "nan, nan, nan, nan, nan, nan, nan, nan, nan, nan, nan, nan, nan, nan, nan",
           "Palmerston North",
           "Biological Sciences (MSc)<br>Conservation Biology (MSc)<br>Ecology (MSc)<br>Earth Science (MSc)<br>Human Nutrition (MSc)<br>Computer Science (MSc)<br>Biochemistry (MSc)<br>Genetics (MSc)<br>Horticultural Science (MSc)<br>Animal Science (MSc)<br>Chemistry (MSc)<br>Master of Food Technology<br>Geography (MSc)<br>Master of Veterinary Studies (Public Health)<br>Electronics and Computer Engineering (MEng)"
          ]
         ],
         "hovertemplate": "<b>%{hovertext}</b><br><br>city=%{customdata[1]}<br>latitude=%{lat}<br>longitude=%{lon}<br>fees_list=%{customdata[0]}<br>courses_list=%{customdata[2]}<extra></extra>",
         "hovertext": [
          "Massey University"
         ],
         "lat": [
          -36.73277025
         ],
         "legendgroup": "Palmerston North",
         "lon": [
          174.70289003576602
         ],
         "marker": {
          "color": "#19d3f3"
         },
         "mode": "markers",
         "name": "Palmerston North",
         "showlegend": true,
         "subplot": "mapbox",
         "type": "scattermapbox"
        },
        {
         "customdata": [
          [
           "nan, nan, nan, nan, nan, nan, nan, nan, nan, nan, nan, nan, nan, nan, nan, nan, nan, nan, 16400.0, 16400.0",
           "Limerick",
           "Biomedical Device Materials MSc<br>Applied Sports Coaching MSc<br>Artificial Intelligence & Machine Learning MSc<br>Human Nutrition and Dietetics MSc<br>Human Nutrition and Dietetics MSc<br>Infection Prevention and Control Leadership MSc<br>Advanced Practice (Midwifery) MSc<br>Advanced Practice (Nursing) MSc<br>Health Informatics MSc<br>Health Professions Education MSc<br>Applied Physics MSc<br>Aeronautical Engineering MSc<br>Design for Health and Wellbeing MSc<br>Art and Technology MSc/MA<br>Digital Health Transformation MSc<br>Advanced Engineering Materials MSc<br>Advanced Healthcare Practice MSc<br>Civil Engineering MSc<br>Master of Taxation<br>Masters in International Entrepreneurship Management"
          ]
         ],
         "hovertemplate": "<b>%{hovertext}</b><br><br>city=%{customdata[1]}<br>latitude=%{lat}<br>longitude=%{lon}<br>fees_list=%{customdata[0]}<br>courses_list=%{customdata[2]}<extra></extra>",
         "hovertext": [
          "University of Limerick"
         ],
         "lat": [
          52.67325805
         ],
         "legendgroup": "Limerick",
         "lon": [
          -8.569809653548548
         ],
         "marker": {
          "color": "#FF6692"
         },
         "mode": "markers",
         "name": "Limerick",
         "showlegend": true,
         "subplot": "mapbox",
         "type": "scattermapbox"
        },
        {
         "customdata": [
          [
           "nan, nan, nan, nan, nan, nan, nan, nan, nan, nan, nan, nan, nan, nan, nan, nan, nan, nan, nan, nan, nan, nan, nan, nan, nan, nan",
           "Wageningen",
           "Biology MSc<br>Climate Studies MSc<br>International Land and Water Management MSc<br>Management Economics and Consumer Studies MSc<br>Governance of Sustainability Transformations MSc<br>Food Technology MSc<br>Aquaculture and Marine Resource Management MSc<br>Data Science for Food and Health MSc<br>Earth and Environment MSc<br>Landscape Architecture and Planning MSc<br>Biotechnology MSc<br>Economics of Sustainability MSc<br>Food Quality Management MSc<br>Food Safety MSc<br>International Development Studies MSc<br>Geographical Information Management and Applications MSc<br>Biobased Sciences MSc<br>Animal Sciences MSc<br>Communication, Health and Life Sciences MSc<br>Consumer Studies MSc<br>Development and Rural Innovation MSc<br>Forest and Nature Conservation MSc<br>Geo-Information Science MSc<br>Food Technology (online) MSc<br>Bioinformatics MSc<br>Environmental Sciences MSc"
          ]
         ],
         "hovertemplate": "<b>%{hovertext}</b><br><br>city=%{customdata[1]}<br>latitude=%{lat}<br>longitude=%{lon}<br>fees_list=%{customdata[0]}<br>courses_list=%{customdata[2]}<extra></extra>",
         "hovertext": [
          "Wageningen University & Research"
         ],
         "lat": [
          51.98544495
         ],
         "legendgroup": "Wageningen",
         "lon": [
          5.663212001137484
         ],
         "marker": {
          "color": "#B6E880"
         },
         "mode": "markers",
         "name": "Wageningen",
         "showlegend": true,
         "subplot": "mapbox",
         "type": "scattermapbox"
        },
        {
         "customdata": [
          [
           "16.1, 16.1, 16.1, 16.1, 16.1, 16.1, 16.1, 16.1, 16.1, 16200.0, 16.1, 16.1, 16.1, 16.1, 16.1",
           "Rotterdam",
           "Business Analytics and Quantitative Marketing (MSc)<br>Data Science and Marketing Analytics (MSc)<br>Financial Economics (MSc)<br>Marketing (MSc)<br>Strategy Economics (MSc)<br>Urban, Port and Transport Economics (MSc)<br>Health Economics (MSc)<br>International Economics (MSc)<br>Behavioural Economics (MSc)<br>Business Data Science - MSc Economics<br>Analytics and Operations Research in Logistics (MSc)<br>Accounting, Auditing and Control(MSc)<br>Econometrics (MSc)<br>Economics of Sustainability<br>Economics of Markets and Organisations"
          ]
         ],
         "hovertemplate": "<b>%{hovertext}</b><br><br>city=%{customdata[1]}<br>latitude=%{lat}<br>longitude=%{lon}<br>fees_list=%{customdata[0]}<br>courses_list=%{customdata[2]}<extra></extra>",
         "hovertext": [
          "Erasmus School of Economics"
         ],
         "lat": [
          51.9244424
         ],
         "legendgroup": "Rotterdam",
         "lon": [
          4.47775
         ],
         "marker": {
          "color": "#FF97FF"
         },
         "mode": "markers",
         "name": "Rotterdam",
         "showlegend": true,
         "subplot": "mapbox",
         "type": "scattermapbox"
        },
        {
         "customdata": [
          [
           "300.0, 300.0, 300.0, 300.0, 300.0, 300.0, 300.0, 300.0, 300.0, 300.0, 300.0, 300.0, 300.0, 300.0, 300.0",
           "Cologne",
           "International Management (CEMS MIM) - MSc<br>Master Sociology – Social and Economic Psychology<br>Demography and Social Inequality - Double Masters<br>Marketing (Business Administration) - MSc<br>Health Economics and Management - Double Masters<br>Economics - Double Masters<br>Economics - MSc<br>Master Business Analytics & Econometrics<br>Health Economics - MSc<br>Finance (Business Administration) - MSc<br>Accounting and Taxation (Business Administration) - MSc<br>Corporate Development (Business Administration) - MSc<br>Information Systems - MSc<br>Economic Research - MSc<br>Economic Education - MSc"
          ],
          [
           "934.0",
           "Cologne",
           "Master Fellowship Programme of the Cologne Graduate School of Ageing Research"
          ]
         ],
         "hovertemplate": "<b>%{hovertext}</b><br><br>city=%{customdata[1]}<br>latitude=%{lat}<br>longitude=%{lon}<br>fees_list=%{customdata[0]}<br>courses_list=%{customdata[2]}<extra></extra>",
         "hovertext": [
          "University of Cologne",
          "Cologne Graduate School of Ageing Research"
         ],
         "lat": [
          50.928044549999996,
          50.938361
         ],
         "legendgroup": "Cologne",
         "lon": [
          6.928130514523661,
          6.959974
         ],
         "marker": {
          "color": "#FECB52"
         },
         "mode": "markers",
         "name": "Cologne",
         "showlegend": true,
         "subplot": "mapbox",
         "type": "scattermapbox"
        },
        {
         "customdata": [
          [
           "nan, nan, nan, nan, nan, nan, nan",
           "Tartu",
           "Bioengineering<br>Excellence in Analytical Chemistry (Erasmus Mundus)<br>Computer Science<br>Actuarial and Financial Engineering<br>Applied Measurement Science<br>Clinical Nutrition<br>Geoinformatics for Urbanised Society"
          ],
          [
           "nan, nan",
           "Tartu",
           "Landscape Architecture<br>Environmental Governance and Adaption to Climate Change"
          ]
         ],
         "hovertemplate": "<b>%{hovertext}</b><br><br>city=%{customdata[1]}<br>latitude=%{lat}<br>longitude=%{lon}<br>fees_list=%{customdata[0]}<br>courses_list=%{customdata[2]}<extra></extra>",
         "hovertext": [
          "University of Tartu",
          "Estonian University of Life Sciences"
         ],
         "lat": [
          58.38088965,
          58.3801207
         ],
         "legendgroup": "Tartu",
         "lon": [
          26.719647526956543,
          26.72245
         ],
         "marker": {
          "color": "#636efa"
         },
         "mode": "markers",
         "name": "Tartu",
         "showlegend": true,
         "subplot": "mapbox",
         "type": "scattermapbox"
        },
        {
         "customdata": [
          [
           "15450.0, 17000.0, 16450.0, 4845.0, 15450.0, 15950.0, 15450.0, 15950.0, 15450.0, 15450.0, 5150.0, 15450.0, 17000.0, 15450.0, 17000.0, 16450.0, 15950.0, 15450.0, 15450.0, 15450.0, 16450.0, 16450.0, 15450.0, 16450.0, 2798.0, 15450.0, 15450.0, 15450.0, 15450.0, 15450.0, 17000.0, nan, 15950.0, 15950.0, 15450.0",
           "Wolverhampton",
           "Artificial Intelligence MSc<br>International Business Management (Extended) MSc<br>Cyber Security with Professional Practice MSc<br>Demolition Management MSc<br>Finance and Accounting MSc<br>Clinical Medicine (Teaching and Learning) MSc<br>Construction Project Management MSc<br>Biomedical Science MSc<br>Advanced Technology Management MSc<br>Health and Social Care MSc<br>Health and Wellbeing (Top-up) MSc<br>Leadership and Management MSc<br>Leadership and Management (Extended) MSc<br>Information Technology Management MSc<br>Finance and Accounting (Extended) MSc<br>Applied Microbiology and Biotechnology with Professional Practice MSc<br>Applied Microbiology and Biotechnology MSc<br>Computer Science MSc<br>International Business Management MSc<br>Civil Engineering Management MSc<br>Civil Engineering with Professional Practice MSc<br>Construction Project Management with Professional Practice Placement MSc<br>Business Analytics MSc<br>Computer Science with Professional Practice MSc<br>Emergency Practitioner MSc<br>Data Science MSc<br>Innovation and Entrepreneurship MSc<br>Civil Engineering MSc<br>Integrative Counselling & Psychotherapy MSc<br>Digital Marketing Management MSc<br>Digital Marketing Management (Extended) MSc<br>Advanced Clinical Practice (with V300 Non-Medical Prescribing) MSc<br>Clinical Medicine (Speciality Medicine) MSc<br>Clinical Medicine (Leadership and Management) MSc<br>Cyber Security MSc"
          ]
         ],
         "hovertemplate": "<b>%{hovertext}</b><br><br>city=%{customdata[1]}<br>latitude=%{lat}<br>longitude=%{lon}<br>fees_list=%{customdata[0]}<br>courses_list=%{customdata[2]}<extra></extra>",
         "hovertext": [
          "University of Wolverhampton"
         ],
         "lat": [
          52.5908309
         ],
         "legendgroup": "Wolverhampton",
         "lon": [
          -2.12755877919463
         ],
         "marker": {
          "color": "#EF553B"
         },
         "mode": "markers",
         "name": "Wolverhampton",
         "showlegend": true,
         "subplot": "mapbox",
         "type": "scattermapbox"
        },
        {
         "customdata": [
          [
           "972.0, 14607.0, 14607.0, 14607.0, 14607.0, 972.0, 13995.0, 13995.0, 972.0, 14607.0",
           "Ipswich",
           "Community Nursing (Progression Route) - MSc<br>Diagnostic Radiography (Pre-registration) - MSc<br>Advanced Computing - MSc<br>International Business and Management - MSc<br>Applied Cyber Security - MSc<br>Advanced Clinical Practice - MSc<br>Applications of Psychology - MSc<br>Data Science and Artificial Intelligence - MSc<br>Cognitive Behaviour Therapy and Counselling - MSc<br>Adult Nursing (Pre-registration)- Msc"
          ]
         ],
         "hovertemplate": "<b>%{hovertext}</b><br><br>city=%{customdata[1]}<br>latitude=%{lat}<br>longitude=%{lon}<br>fees_list=%{customdata[0]}<br>courses_list=%{customdata[2]}<extra></extra>",
         "hovertext": [
          "University of Suffolk"
         ],
         "lat": [
          52.0531808
         ],
         "legendgroup": "Ipswich",
         "lon": [
          1.1641646814528457
         ],
         "marker": {
          "color": "#00cc96"
         },
         "mode": "markers",
         "name": "Ipswich",
         "showlegend": true,
         "subplot": "mapbox",
         "type": "scattermapbox"
        },
        {
         "customdata": [
          [
           "15000.0, 15000.0, 15000.0",
           "Dundee",
           "MSc Law & Sustainability<br>MSc Moral Economy & Sustainable Development<br>MSc Strategic Organisational Learning"
          ],
          [
           "nan",
           "Dundee",
           "MSc Islamic Finance"
          ],
          [
           "nan, 15000.0, nan, nan, nan, nan, nan, 17000.0, 17000.0, 10000.0, 17000.0, nan, nan, nan",
           "Dundee",
           "Digital Marketing and e-Business - MSc<br>Accounting and Finance (CIMA Gateway) - MSc<br>Law and Sustainability - MSc<br>Construction and Project Management - MSc<br>Construction Management - MSc<br>Food Quality and Safety with Industrial Practise - MSc<br>Food Quality, Safety and Innovation - MSc<br>Ethical Hacking and Cyber Security - MSc/PGDip<br>Applied Artificial Intelligence and User Experience - MSc<br>Counselling - MSc<br>Computer Games Technology - MSc/PGDip<br>Environment and Energy - MSc<br>Environment and Business - MSc<br>Civil Engineering - MSc"
          ]
         ],
         "hovertemplate": "<b>%{hovertext}</b><br><br>city=%{customdata[1]}<br>latitude=%{lat}<br>longitude=%{lon}<br>fees_list=%{customdata[0]}<br>courses_list=%{customdata[2]}<extra></extra>",
         "hovertext": [
          "Al-Maktoum College of Higher Education",
          "University of Dundee",
          "Abertay University"
         ],
         "lat": [
          56.4605938,
          56.45796755,
          56.4631526
         ],
         "legendgroup": "Dundee",
         "lon": [
          -2.97019,
          -2.9821483135375493,
          -2.97467889452203
         ],
         "marker": {
          "color": "#ab63fa"
         },
         "mode": "markers",
         "name": "Dundee",
         "showlegend": true,
         "subplot": "mapbox",
         "type": "scattermapbox"
        },
        {
         "customdata": [
          [
           "9800.0, 9800.0, 8250.0, 10600.0, 8250.0, 10600.0",
           "Hull",
           "MSc Logistics and Supply Chain Management<br>MSc in Healthcare Leadership<br>MSc Engineering Management<br>MSc Dementia<br>MSc Artificial Intelligence<br>MSc In People Analytics"
          ]
         ],
         "hovertemplate": "<b>%{hovertext}</b><br><br>city=%{customdata[1]}<br>latitude=%{lat}<br>longitude=%{lon}<br>fees_list=%{customdata[0]}<br>courses_list=%{customdata[2]}<extra></extra>",
         "hovertext": [
          "University of Hull"
         ],
         "lat": [
          53.7710908
         ],
         "legendgroup": "Hull",
         "lon": [
          -0.3683905962694075
         ],
         "marker": {
          "color": "#FFA15A"
         },
         "mode": "markers",
         "name": "Hull",
         "showlegend": true,
         "subplot": "mapbox",
         "type": "scattermapbox"
        },
        {
         "customdata": [
          [
           "nan, nan",
           "Ningbo",
           "MSc International Management<br>MSc International Business"
          ]
         ],
         "hovertemplate": "<b>%{hovertext}</b><br><br>city=%{customdata[1]}<br>latitude=%{lat}<br>longitude=%{lon}<br>fees_list=%{customdata[0]}<br>courses_list=%{customdata[2]}<extra></extra>",
         "hovertext": [
          "University of Nottingham Ningbo China"
         ],
         "lat": [
          29.802278
         ],
         "legendgroup": "Ningbo",
         "lon": [
          121.55935633845053
         ],
         "marker": {
          "color": "#19d3f3"
         },
         "mode": "markers",
         "name": "Ningbo",
         "showlegend": true,
         "subplot": "mapbox",
         "type": "scattermapbox"
        },
        {
         "customdata": [
          [
           "nan, nan, nan, nan, nan, nan, nan, nan, nan, nan, nan, nan, nan, nan, nan, nan, nan, nan, nan, nan, nan, nan, nan, nan, nan, nan, nan, nan, nan, nan, nan, nan, nan, nan, nan, nan, nan, nan, nan, nan, nan, nan, nan, nan, nan, nan, nan, nan, nan, nan, nan, nan, nan, nan",
           "Coventry",
           "International Business Economics MSc<br>Advanced Mechanical Engineering MSc<br>Construction Project and Cost Management MSc<br>Construction Management with BIM MSc<br>Data Science and Computational Intelligence MSc<br>Global Logistics MSc<br>International Events Management MSc<br>International Entrepreneurship MSc<br>Management of Information Systems and Technology MSc<br>FinTech MSc<br>International Marketing Management MSc<br>Finance MSc<br>Crowded Places and Public Safety Management MSc<br>Biomedical Science MSc<br>Cyber Security (Online) MSc<br>Connected Autonomous Vehicle Systems MSc<br>Connected Autonomous Vehicles Engineering MSc<br>Biotechnology MSc<br>Disaster Management and Resilience MSc<br>Aerospace Engineering MSc<br>Learning Disabilities Nursing (pre-registration) MSc<br>Air Transport Management MSc<br>Health Psychology MSc<br>Embedded Systems Engineering MSc<br>Emergency Management and Resilience MSc<br>Automotive Engineering MSc<br>Computer Science MSc<br>International Business Management MSc<br>Advancing Physiotherapy Practice MSc<br>Agroecology, Water and Food Sovereignty MSc<br>Engineering Management MSc<br>Civil Engineering/Civil Engineering Technical Route MSc<br>Health Simulation MSc PGDip PG Cert<br>Business Analytics MSc<br>Engineering Project Management MSc<br>International Human Resource Management MSc<br>Business and Organisational Psychology MSc<br>Applied Psychology MSc<br>Global Health Care Management MSc<br>Data Science MSc<br>Fraud Investigation Management MSc<br>Accounting and Financial Management MSc<br>Civil Engineering Project Management MSc<br>Human Factors in Aviation MSc<br>Digital Marketing Management MSc<br>Control, Automation and Artificial Intelligence MSc<br>Children and Young People's Nursing (Pre-registration) MSc<br>Electrical Automotive Engineering MSc<br>Electrical and Electronic Engineering MSc<br>Cyber Security MSc<br>Cognitive Behavioural Therapy MSc (top-up)<br>Adult Nursing (pre-registration) Blended Learning MSc (also available at CUL)<br>Forensic Psychology and Mental Health MSc<br>Forensic Psychology MSc"
          ]
         ],
         "hovertemplate": "<b>%{hovertext}</b><br><br>city=%{customdata[1]}<br>latitude=%{lat}<br>longitude=%{lon}<br>fees_list=%{customdata[0]}<br>courses_list=%{customdata[2]}<extra></extra>",
         "hovertext": [
          "Coventry University"
         ],
         "lat": [
          52.4056372
         ],
         "legendgroup": "Coventry",
         "lon": [
          -1.4997222676795412
         ],
         "marker": {
          "color": "#FF6692"
         },
         "mode": "markers",
         "name": "Coventry",
         "showlegend": true,
         "subplot": "mapbox",
         "type": "scattermapbox"
        },
        {
         "customdata": [
          [
           "nan, nan, nan, nan, nan, nan, nan, nan, nan, nan, nan, nan, nan, nan, nan, nan, nan, nan, nan, nan, nan, nan",
           "Northampton",
           "International Business Management - MSc<br>Applied Sport and Exercise Science - MSc/MA<br>Advanced Design and Manufacturing - MSc<br>International Marketing Strategy - MSc<br>Accounting and Finance - MSc<br>Business Analytics - MSc<br>Lift Engineering - MSc<br>Accounting and Finance (Top-Up) - MSc<br>Advanced Occupational Therapy - MSc<br>Advanced Clinical Practice - MSc<br>Leather Technology (Professional) - MSc<br>Computing - MSc<br>Computing (Computer Networks Engineering) - MSc<br>Computing (Internet Technology and Security) - MSc<br>BIM-Enabled Sustainable Buildings - MSc<br>Advancing Practice - MSc<br>Counselling Children and Young People - MSc<br>Counselling - MSc<br>Logistics and Supply Chain Management - MSc<br>Child and Adolescent Mental Health (CAMH) - MSc<br>Financial and Investment Analysis - MSc<br>Computing (Software Engineering) - MSc"
          ]
         ],
         "hovertemplate": "<b>%{hovertext}</b><br><br>city=%{customdata[1]}<br>latitude=%{lat}<br>longitude=%{lon}<br>fees_list=%{customdata[0]}<br>courses_list=%{customdata[2]}<extra></extra>",
         "hovertext": [
          "University of Northampton"
         ],
         "lat": [
          52.2312912
         ],
         "legendgroup": "Northampton",
         "lon": [
          -0.8899029
         ],
         "marker": {
          "color": "#B6E880"
         },
         "mode": "markers",
         "name": "Northampton",
         "showlegend": true,
         "subplot": "mapbox",
         "type": "scattermapbox"
        },
        {
         "customdata": [
          [
           "nan",
           "Zurich",
           "Evolutionary Language Science"
          ],
          [
           "nan",
           "Zurich",
           "European Master of Science in Occupational Therapy (post-graduation programme)"
          ],
          [
           "nan, nan, nan",
           "Zurich",
           "Master of Science in Sustainable Business Development (trinational)<br>Master of Science in International Management<br>Master of Science in Business Information Systems (Wirtschaftsinformatik)"
          ]
         ],
         "hovertemplate": "<b>%{hovertext}</b><br><br>city=%{customdata[1]}<br>latitude=%{lat}<br>longitude=%{lon}<br>fees_list=%{customdata[0]}<br>courses_list=%{customdata[2]}<extra></extra>",
         "hovertext": [
          "University of Zurich",
          "Zurich University of Applied Sciences",
          "University of Applied Sciences Northwestern Switzerland"
         ],
         "lat": [
          47.49684345,
          47.49684345,
          47.3744489
         ],
         "legendgroup": "Zurich",
         "lon": [
          8.72980716809498,
          8.72980716809498,
          8.5410422
         ],
         "marker": {
          "color": "#FF97FF"
         },
         "mode": "markers",
         "name": "Zurich",
         "showlegend": true,
         "subplot": "mapbox",
         "type": "scattermapbox"
        },
        {
         "customdata": [
          [
           "nan, nan, nan, nan, nan, nan, nan, nan, nan, nan, nan, nan, nan, nan, nan, nan, nan, nan, nan, nan, nan, nan, nan, nan, nan, nan, nan, nan, nan, nan, nan, nan, nan, nan, nan, nan, nan, nan, nan, nan, nan, nan, nan, nan, nan, nan, nan, nan, nan, nan, nan, nan, nan, nan, nan, nan, nan, nan, nan, nan, nan, nan, nan, nan, nan, nan, nan, nan, nan, nan, nan, nan, nan, nan, nan, nan, nan, nan, nan",
           "Leuven",
           "Master of Water Resources Engineering (Leuven)<br>Master of Welding Engineering (Sint-Katelijne-Waver)<br>European Master of Science in Radiation and its Effects on Microelectronics and Photonics Technologies (RADMEP) (Geel et al)<br>European Master of Science in Sustainable Food Systems Engineering, Technology and Business (Ghent et al)<br>Master of Bioscience Engineering: Agro- and Ecosystems Engineering (Leuven)<br>Master of Business Engineering (Leuven)<br>Master of Bioscience Engineering: Cellular and Genetic Engineering (Leuven)<br>Master of Biomedical Sciences (Leuven)<br>Master of Chemistry (Leuven)<br>Master of Chemical Engineering (Leuven)<br>Master of Bioscience Engineering: Human Health Engineering (Leuven)<br>Master of Business Economics (Leuven)<br>Master of Biophysics, Biochemistry and Biotechnology (Leuven)<br>Master of Civil Engineering (Leuven)<br>Master of Business and Information Systems Engineering (Leuven)<br>Master of Biomedical Engineering (Leuven)<br>Master of Chemical Engineering Technology (Leuven)<br>Advanced Master in Innovative Health Technology (Leuven)<br>Master of Human Settlements (Leuven)<br>Master of Information Management (Leuven)<br>Master of International Business Economics and Management (Brussels)<br>Master of International Politics (Leuven)<br>Master of Intellectual Property and ICT Law (Brussels)<br>Master of Psychology: Theory and Research (Leuven)<br>Master of Physics (Leuven)<br>Master of Nuclear Engineering (Leuven)<br>Master of Nanoscience, Nanotechnology and Nanoengineering (Leuven)<br>Master of Criminology (Leuven)<br>Master of Cultural Anthropology and Development Studies (Leuven)<br>Master of Economics (Leuven)<br>Master of Cybersecurity (Leuven)<br>Master of Communication Sciences: Digital Media and Society (Leuven)<br>Master of Electronics and ICT Engineering Technology (Leuven)<br>Master of Digital Humanities (Leuven)<br>Master of Conservation of Monuments and Sites (Leuven)<br>Master of Deglutology (Leuven)<br>Master of Electromechanical Engineering Technology (Leuven)<br>Master of Educational Studies (Leuven)<br>Master of Electrical Engineering (Leuven)<br>EIT-KIC Master in Energy (Leuven)<br>Erasmus Mundus Master of Science in Public Sector Innovation and eGovernance (Leuven)<br>Erasmus Mundus Japan - Master of Science in Imaging and Light in Extended Reality (Ghent et al)<br>Erasmus Mundus Master of Science in Theoretical Chemistry and Computational Modelling (Leuven)<br>Erasmus Mundus Master of Science in Nanoscience and Nanotechnology (Leuven)<br>Master of Safety Engineering (Leuven)<br>Master of Rehabilitation Sciences and Physiotherapy (Leuven)<br>Master of Biochemical Engineering Technology (Leuven)<br>Master of Astronomy and Astrophysics (Leuven)<br>Master of Bioinformatics (Leuven)<br>Master of Biology (Leuven)<br>Master of Bioethics (Leuven)<br>Master of Global Health (Leuven)<br>Master of Engineering: Computer Science (Leuven)<br>Master of Geology (Leuven)<br>Master of Geography (Leuven)<br>Master of Engineering: Energy (Leuven)<br>Master of Food Technology (Leuven)<br>Master of Advanced Studies in European Policies and Public Administration (Leuven)<br>Master of Actuarial and Financial Engineering (Leuven)<br>Master of Artificial Intelligence (Leuven)<br>Master of Architecture (Ghent)<br>Master of Architecture (Brussels)<br>Master in Civil Engineering Technology (Ghent)<br>Advanced Master of Artificial Intelligence in Business and Industry (Bruges)<br>Advanced Master of Smart Operations and Maintenance in Industry (Bruges et al)<br>Master of Sustainable Development (Leuven)<br>Master of Urbanism, Landscape and Planning (Leuven)<br>Master of Social and Cultural Anthropology (Leuven)<br>Master of Space Studies (Leuven et al)<br>Master of Sociology (Leuven)<br>Master of Statistics and Data Science (Leuven)<br>Master of Mathematics (Leuven)<br>Master of Mechanical Engineering (Leuven)<br>Master of Materials Engineering (Leuven)<br>Master of Molecular Biology (Leuven)<br>Master of Medical Physics (Leuven et al)<br>Master of Management Engineering (Brussels)<br>Master of Mathematical Engineering (Leuven)<br>Master of Mobility and Supply Chain Engineering (Leuven)"
          ],
          [
           "18000.0",
           "Leuven",
           "Master in Food Systems"
          ]
         ],
         "hovertemplate": "<b>%{hovertext}</b><br><br>city=%{customdata[1]}<br>latitude=%{lat}<br>longitude=%{lon}<br>fees_list=%{customdata[0]}<br>courses_list=%{customdata[2]}<extra></extra>",
         "hovertext": [
          "KU Leuven",
          "EIT Food"
         ],
         "lat": [
          50.80571285,
          13.5160854
         ],
         "legendgroup": "Leuven",
         "lon": [
          3.2915374489139757,
          2.1198507
         ],
         "marker": {
          "color": "#FECB52"
         },
         "mode": "markers",
         "name": "Leuven",
         "showlegend": true,
         "subplot": "mapbox",
         "type": "scattermapbox"
        },
        {
         "customdata": [
          [
           "nan, nan, nan, nan, nan",
           "Stockholm",
           "Master program in Finance<br>Master program in Accounting, Valuation & Financial Management<br>Master program in Economics<br>Master program in International Business<br>Master program in Business & Management"
          ],
          [
           "nan, nan, nan, nan, nan",
           "Stockholm",
           "Data Science (MSc)<br>Embedded Systems (MSc)<br>Cloud and Network Infrastructures (MSc)<br>Autonomous Systems (MSc)<br>Human Computer Interaction and Design (MSc)"
          ]
         ],
         "hovertemplate": "<b>%{hovertext}</b><br><br>city=%{customdata[1]}<br>latitude=%{lat}<br>longitude=%{lon}<br>fees_list=%{customdata[0]}<br>courses_list=%{customdata[2]}<extra></extra>",
         "hovertext": [
          "Stockholm School of Economics",
          "KTH Royal Institute of Technology"
         ],
         "lat": [
          56.9591273,
          59.2016758
         ],
         "legendgroup": "Stockholm",
         "lon": [
          24.1076116,
          17.6203201
         ],
         "marker": {
          "color": "#636efa"
         },
         "mode": "markers",
         "name": "Stockholm",
         "showlegend": true,
         "subplot": "mapbox",
         "type": "scattermapbox"
        },
        {
         "customdata": [
          [
           "8500.0, 9.2, 13.75, 13.75, 13.75, 13.75, 13.75, 13.75",
           "Velp",
           "Master River Delta Development<br>Master of Innovations in Dairy and Food Chains (MSc)<br>Master of Agricultural Production Chain Management (MSc) - Specialisation (Agro)Forest Chains<br>Master of Agricultural Production Chain Management (MSc) - Specialisation Livestock Chains<br>Master of Agricultural Production Chain Management (MSc) - Specialisation Horticulture Chains<br>Master of Management of Development (MSc) - Specialisation Disaster Risk Management<br>Master of Management of Development (MSc) - Specialisation Social Inclusion, Gender and Youth<br>Master of Management of Development (MSc) - Specialisation Food Security"
          ]
         ],
         "hovertemplate": "<b>%{hovertext}</b><br><br>city=%{customdata[1]}<br>latitude=%{lat}<br>longitude=%{lon}<br>fees_list=%{customdata[0]}<br>courses_list=%{customdata[2]}<extra></extra>",
         "hovertext": [
          "Van Hall Larenstein, University of Applied Sciences"
         ],
         "lat": [
          51.9958671
         ],
         "legendgroup": "Velp",
         "lon": [
          5.9751252
         ],
         "marker": {
          "color": "#EF553B"
         },
         "mode": "markers",
         "name": "Velp",
         "showlegend": true,
         "subplot": "mapbox",
         "type": "scattermapbox"
        },
        {
         "customdata": [
          [
           "nan, nan, nan, nan, nan, nan, nan, nan, nan, nan, nan",
           "Carlisle",
           "International Management - MSc<br>Data Analytics - MSc<br>Environment, Health and Wellbeing - MSc<br>Industrial Leadership (Engineering) - MSc<br>Industrial Leadership - MSc<br>Advanced Clinical Practice - MSc<br>Legal and Criminological Psychology - MSc<br>Computer Science and International Business - MSc<br>Criminology, Risk and Safeguarding - MSc<br>Coaching and Mentoring - MSc<br>Finance and Accounting & PgDip target award - MSc"
          ]
         ],
         "hovertemplate": "<b>%{hovertext}</b><br><br>city=%{customdata[1]}<br>latitude=%{lat}<br>longitude=%{lon}<br>fees_list=%{customdata[0]}<br>courses_list=%{customdata[2]}<extra></extra>",
         "hovertext": [
          "University of Cumbria"
         ],
         "lat": [
          54.8908157
         ],
         "legendgroup": "Carlisle",
         "lon": [
          -2.9223991
         ],
         "marker": {
          "color": "#00cc96"
         },
         "mode": "markers",
         "name": "Carlisle",
         "showlegend": true,
         "subplot": "mapbox",
         "type": "scattermapbox"
        },
        {
         "customdata": [
          [
           "nan, nan, nan, nan",
           "Luneburg",
           "International Joint Master of Research in Work and Organisational Psychology (M.Sc.)<br>Management & Data Science (M.Sc.)<br>Management & Sustainable Accounting and Finance (M.Sc.)<br>Management & Entrepreneurship (M.Sc.)"
          ]
         ],
         "hovertemplate": "<b>%{hovertext}</b><br><br>city=%{customdata[1]}<br>latitude=%{lat}<br>longitude=%{lon}<br>fees_list=%{customdata[0]}<br>courses_list=%{customdata[2]}<extra></extra>",
         "hovertext": [
          "Leuphana University Lüneburg"
         ],
         "lat": [
          53.2287819
         ],
         "legendgroup": "Luneburg",
         "lon": [
          10.40147524887356
         ],
         "marker": {
          "color": "#ab63fa"
         },
         "mode": "markers",
         "name": "Luneburg",
         "showlegend": true,
         "subplot": "mapbox",
         "type": "scattermapbox"
        },
        {
         "customdata": [
          [
           "nan, nan, nan, nan",
           "Nantes",
           "International Management - MSc<br>Master in Management<br>Food and Agribusiness Management - MBA and MSc<br>Management - Engineering MSc"
          ],
          [
           "12000.0, 12000.0, 5100.0, 5100.0, 5100.0",
           "Nantes",
           "Management and Optimization of Supply chains and Transport (MOST)<br>Advanced Nuclear Waste Management (ANWM)<br>Architecture and Engineering for the Internet of Things (AEIOT)<br>Communication System and Network Engineering (CSNE)<br>Data Science (DS)"
          ]
         ],
         "hovertemplate": "<b>%{hovertext}</b><br><br>city=%{customdata[1]}<br>latitude=%{lat}<br>longitude=%{lon}<br>fees_list=%{customdata[0]}<br>courses_list=%{customdata[2]}<extra></extra>",
         "hovertext": [
          "Audencia Business School",
          "IMT Atlantique"
         ],
         "lat": [
          47.2470088,
          48.360686799999996
         ],
         "legendgroup": "Nantes",
         "lon": [
          -1.5526332154710927,
          -4.5716376049738425
         ],
         "marker": {
          "color": "#FFA15A"
         },
         "mode": "markers",
         "name": "Nantes",
         "showlegend": true,
         "subplot": "mapbox",
         "type": "scattermapbox"
        },
        {
         "customdata": [
          [
           "nan, nan, nan, nan, nan",
           "Cirencester",
           "Conservation and Management of Historic Buildings - PGCert/PGDip/MSc<br>Archaeology - PGCert/PGDip/MSc<br>Cultural Heritage Management - PGCert/PGDip/MSc<br>Business Management - MSc<br>Agricultural Technology and Innovation - MSc"
          ]
         ],
         "hovertemplate": "<b>%{hovertext}</b><br><br>city=%{customdata[1]}<br>latitude=%{lat}<br>longitude=%{lon}<br>fees_list=%{customdata[0]}<br>courses_list=%{customdata[2]}<extra></extra>",
         "hovertext": [
          "Royal Agricultural University"
         ],
         "lat": [
          51.70822245
         ],
         "legendgroup": "Cirencester",
         "lon": [
          -1.9914303306487156
         ],
         "marker": {
          "color": "#19d3f3"
         },
         "mode": "markers",
         "name": "Cirencester",
         "showlegend": true,
         "subplot": "mapbox",
         "type": "scattermapbox"
        },
        {
         "customdata": [
          [
           "26950.0, 26900.0, nan, nan, nan, nan, nan, nan, 22350.0, 26950.0, 5650.0, nan, nan, 14600.0, 22350.0, 28950.0, 22350.0, nan, 22350.0, 26950.0, 26950.0, nan, nan, 26950.0, 22350.0, 26950.0, 26950.0, 26950.0, 22350.0, 26950.0, 26950.0, 22350.0, 24150.0, 22350.0, 22350.0, 22350.0, 26950.0, 26950.0, 22350.0, 26950.0, nan, 22350.0, nan, nan, 26950.0, 22350.0, 26950.0, 22350.0, nan, 22350.0, nan, 26950.0, nan, nan, nan",
           "Reading",
           "Construction Management and International Development<br>Finance - MSc<br>Finance and Financial Technology (FinTech) - MSc<br>Accounting, Financial Management and Digital Business - MSc<br>Marketing (Consumer Marketing) - MSc<br>Marketing (International Marketing) - MSc<br>International Business and Finance - MSc<br>International Business and Digital Transformation - MSc<br>Ecological Survey Skills with Placement<br>Atmosphere, Ocean and Climate<br>Advancing Healthcare Practice<br>Real Estate - MSc<br>Digital Business and Data Analytics - MSc<br>Masters in Climate Change, Sustainable Business and Green Finance<br>Economics<br>Chemical Research<br>Environment, Climate Change and Development<br>Entrepreneurship and Innovation - MSc<br>Entomology<br>Construction Management<br>Construction Cost Management<br>Financial Risk Management - MSc<br>Marketing (Digital Marketing) - MSc<br>Applied Meteorology and Climate with Management<br>Applied International Development<br>Applied Meteorology and Climate<br>Biomedicine<br>Food Science<br>Applied Economics<br>Digital Design and Construction<br>Environmental Management<br>Agricultural Economics<br>Agriculture, Ecology and Environment<br>Agricultural and Food Economics<br>Agriculture and Development<br>Communication for Development<br>Climate Change and Artificial Intelligence (AI)<br>Data Science and Advanced Computing<br>Consumer Behaviour<br>Language Sciences<br>International Accounting and Finance - MSc<br>Food Economics and Marketing<br>International Human Resource Management - MSc<br>Behavioural Finance - MSc<br>Design and Management of Sustainable Built Environments<br>Business Economics<br>Food Technology - Quality Assurance<br>Food Security and Development<br>Management (International Business) - MSc<br>Development Finance<br>Corporate Finance - MSc<br>Cognitive Neuroscience<br>Digital Innovation - MSc<br>Management - MSc<br>Investment Management - MSc"
          ],
          [
           "9800.0, nan, nan",
           "Reading",
           "Innovation in Sustainable Built Environments - MSc<br>Construction Management - MSc<br>Building Surveying - MSc"
          ]
         ],
         "hovertemplate": "<b>%{hovertext}</b><br><br>city=%{customdata[1]}<br>latitude=%{lat}<br>longitude=%{lon}<br>fees_list=%{customdata[0]}<br>courses_list=%{customdata[2]}<extra></extra>",
         "hovertext": [
          "University of Reading",
          "University College of Estate Management"
         ],
         "lat": [
          51.4404358,
          51.4532231
         ],
         "legendgroup": "Reading",
         "lon": [
          -0.9417618328736392,
          -0.9638108
         ],
         "marker": {
          "color": "#FF6692"
         },
         "mode": "markers",
         "name": "Reading",
         "showlegend": true,
         "subplot": "mapbox",
         "type": "scattermapbox"
        },
        {
         "customdata": [
          [
           "18296.0, 18.0, 18296.0, 17470.0, 23910.0, 18.296, 17470.0, 17470.0, 18296.0, 18296.0, 18296.0, 18296.0, 17470.0, 18296.0, 17470.0, 18296.0, 18296.0, 18296.0, 17470.0, 17.47, 18296.0, 13.728, 17.47",
           "Nijmegen",
           "MSc in Biomedical Sciences<br>MSc in Economics, Behaviour and Policy<br>MSc in Cyber Security<br>MSc in Environment and Society Studies<br>MSc in Global Environment and Sustainability<br>MSc in Cognitive Neuroscience (Research)<br>MSc in Conflicts, Territories and Identities<br>MSc in Business Administration<br>MSc in Biology<br>MSc in Neurophysics<br>MSc in Medical Biology<br>MSc in Quantum Matter<br>MSc in International Business<br>MSc in Particle and Astrophysics<br>MSc in International Relations<br>MSc in Molecular Mechanisms of Disease (Research)<br>MSc in Mathematics<br>MSc in Software Science<br>MSc in Spatial Planning<br>MSc in Behaviour Change<br>MSc in Artificial Intelligence<br>MSc in Behavioural Science (Research)<br>MSc in Anthropology and Development Studies"
          ]
         ],
         "hovertemplate": "<b>%{hovertext}</b><br><br>city=%{customdata[1]}<br>latitude=%{lat}<br>longitude=%{lon}<br>fees_list=%{customdata[0]}<br>courses_list=%{customdata[2]}<extra></extra>",
         "hovertext": [
          "Radboud University"
         ],
         "lat": [
          51.82151725
         ],
         "legendgroup": "Nijmegen",
         "lon": [
          5.863403442541042
         ],
         "marker": {
          "color": "#B6E880"
         },
         "mode": "markers",
         "name": "Nijmegen",
         "showlegend": true,
         "subplot": "mapbox",
         "type": "scattermapbox"
        },
        {
         "customdata": [
          [
           "24900.0, 24900.0",
           "Lyon",
           "MSc in Health Management & Data Intelligence<br>MSc in Data Science & Artificial Intelligence Strategy"
          ]
         ],
         "hovertemplate": "<b>%{hovertext}</b><br><br>city=%{customdata[1]}<br>latitude=%{lat}<br>longitude=%{lon}<br>fees_list=%{customdata[0]}<br>courses_list=%{customdata[2]}<extra></extra>",
         "hovertext": [
          "Emlyon Business School"
         ],
         "lat": [
          45.7578137
         ],
         "legendgroup": "Lyon",
         "lon": [
          4.8320114
         ],
         "marker": {
          "color": "#FF97FF"
         },
         "mode": "markers",
         "name": "Lyon",
         "showlegend": true,
         "subplot": "mapbox",
         "type": "scattermapbox"
        },
        {
         "customdata": [
          [
           "12600.0, 12600.0, 12000.0",
           "Berlin",
           "MSc in Finance & Investment<br>MSc in Information Technology Management<br>MSc in International Health Management"
          ],
          [
           "32000.0, 32000.0, 32000.0",
           "Berlin",
           "Master in Innovation and Entrepreneurship<br>Master in Global Management at ESMT Berlin<br>Master in Analytics and Artificial Intelligence"
          ],
          [
           "nan, nan, nan, 214.0, nan, nan, 214.0, nan, nan, nan, 361.0",
           "Berlin",
           "M.Sc. Data Science<br>M.Sc. Data Management<br>M.Sc. Finance, Accounting & Taxation<br>M.Sc. Industrial and Organizational Psychology<br>M.Sc. Cyber Security<br>M.Sc. Business Intelligence<br>M.Sc. Business & IT<br>M.A. Innovation & Entrepreneurship<br>M.Sc. Computer Science<br>M.Sc. Artificial Intelligence<br>M.Sc. DevOps and Cloud Computing"
          ],
          [
           "6450.0, 6450.0, 6450.0, 6450.0, 6450.0, 6450.0",
           "Berlin",
           "M.Sc. Digital Supply Chain Management<br>M.Sc. Digital Transformation Management (Campus Hamburg)<br>M.Sc. Computer Science - Focus on Big Data and Artificial Intelligence<br>M.Sc. Computer Science - Focus on Cyber Security<br>M.Sc. Supply Chain Management (Campus Hamburg)<br>M.Sc. Supply Chain Management"
          ],
          [
           "nan",
           "Berlin",
           "Master of Data Science for Public Policy"
          ],
          [
           "nan",
           "Berlin",
           "Interdisciplinary Fast-Track program in Neurosciences"
          ],
          [
           "nan, nan, nan",
           "Berlin",
           "Master Business Management - Digital Business Management<br>Master Business Management - Green Energy and Climate Finance<br>Master International Business Management (M.Sc.)"
          ],
          [
           "nan, 373.0, 373.0, 373.0, nan, nan",
           "Berlin",
           "Business Management - Markt- und Werbepsychologie<br>Business Management - Sustainable Management<br>Business Management - HR and Change Management<br>Business Management - Business and Organization Psychology<br>Business Management - Wirtschafts- und Organisationspsychologie<br>Business and Organizational Psychology with M.Sc. Psychology (HRDM)"
          ],
          [
           "17600.0",
           "Berlin",
           "Master in Project Management and Data Science"
          ],
          [
           "10938.0",
           "Berlin",
           "MSc International Business Management"
          ]
         ],
         "hovertemplate": "<b>%{hovertext}</b><br><br>city=%{customdata[1]}<br>latitude=%{lat}<br>longitude=%{lon}<br>fees_list=%{customdata[0]}<br>courses_list=%{customdata[2]}<extra></extra>",
         "hovertext": [
          "Berlin School of Business and Innovation",
          "ESMT Berlin",
          "IU International University of Applied Sciences",
          "SRH Berlin University of Applied Sciences",
          "Hertie School",
          "Charité - Universitätsmedizin Berlin",
          "Berlin School of Economics and Law",
          "Steinbeis University Berlin",
          "HTW Berlin - University of Applied Sciences",
          "University of Applied Sciences Europe"
         ],
         "lat": [
          52.5170365,
          52.5152614,
          52.5170365,
          52.5170365,
          52.5128521,
          52.5299885,
          52.48516875,
          52.5093732,
          52.5170365,
          52.5060988
         ],
         "legendgroup": "Berlin",
         "lon": [
          13.3888599,
          13.401908655703892,
          13.3888599,
          13.3888599,
          13.3892713,
          13.34866394036122,
          13.33827372890771,
          13.47410593691955,
          13.3888599,
          13.3787343
         ],
         "marker": {
          "color": "#FECB52"
         },
         "mode": "markers",
         "name": "Berlin",
         "showlegend": true,
         "subplot": "mapbox",
         "type": "scattermapbox"
        },
        {
         "customdata": [
          [
           "1200.0, 1200.0, 1200.0, 1200.0, 1200.0",
           "Koblenz",
           "Master in Finance<br>Master in Entrepreneurship<br>Master in International Business<br>Master in Management<br>Master in Business Analytics"
          ]
         ],
         "hovertemplate": "<b>%{hovertext}</b><br><br>city=%{customdata[1]}<br>latitude=%{lat}<br>longitude=%{lon}<br>fees_list=%{customdata[0]}<br>courses_list=%{customdata[2]}<extra></extra>",
         "hovertext": [
          "WHU"
         ],
         "lat": [
          30.537354049999998
         ],
         "legendgroup": "Koblenz",
         "lon": [
          114.36152031917142
         ],
         "marker": {
          "color": "#636efa"
         },
         "mode": "markers",
         "name": "Koblenz",
         "showlegend": true,
         "subplot": "mapbox",
         "type": "scattermapbox"
        },
        {
         "customdata": [
          [
           "14950.0, nan",
           "Gibraltar",
           "Master in Environmental Science & Climate Change<br>Masters in Marine Science & Climate Change"
          ]
         ],
         "hovertemplate": "<b>%{hovertext}</b><br><br>city=%{customdata[1]}<br>latitude=%{lat}<br>longitude=%{lon}<br>fees_list=%{customdata[0]}<br>courses_list=%{customdata[2]}<extra></extra>",
         "hovertext": [
          "University of Gibraltar"
         ],
         "lat": [
          36.11077615
         ],
         "legendgroup": "Gibraltar",
         "lon": [
          -5.348302483397988
         ],
         "marker": {
          "color": "#EF553B"
         },
         "mode": "markers",
         "name": "Gibraltar",
         "showlegend": true,
         "subplot": "mapbox",
         "type": "scattermapbox"
        },
        {
         "customdata": [
          [
           "nan, nan, nan, 3.5, 3500.0, nan, nan",
           "Frankfurt am Main",
           "Master in Financial Management<br>Master in Management<br>Master of Finance<br>Master in Corporate Performance & Restructuring<br>Master in Data Analytics and Management<br>Master in Auditing<br>Master in Applied Data Science"
          ]
         ],
         "hovertemplate": "<b>%{hovertext}</b><br><br>city=%{customdata[1]}<br>latitude=%{lat}<br>longitude=%{lon}<br>fees_list=%{customdata[0]}<br>courses_list=%{customdata[2]}<extra></extra>",
         "hovertext": [
          "Frankfurt School of Finance and Management"
         ],
         "lat": [
          50.1106444
         ],
         "legendgroup": "Frankfurt am Main",
         "lon": [
          8.6820917
         ],
         "marker": {
          "color": "#00cc96"
         },
         "mode": "markers",
         "name": "Frankfurt am Main",
         "showlegend": true,
         "subplot": "mapbox",
         "type": "scattermapbox"
        },
        {
         "customdata": [
          [
           "nan, 8000.0",
           "Turin",
           "MASTER IN FINANCE, INSURANCE AND RISK MANAGEMENT<br>MASTER IN ECONOMICS"
          ]
         ],
         "hovertemplate": "<b>%{hovertext}</b><br><br>city=%{customdata[1]}<br>latitude=%{lat}<br>longitude=%{lon}<br>fees_list=%{customdata[0]}<br>courses_list=%{customdata[2]}<extra></extra>",
         "hovertext": [
          "Collegio Carlo Alberto"
         ],
         "lat": [
          44.9998325
         ],
         "legendgroup": "Turin",
         "lon": [
          7.684702547536473
         ],
         "marker": {
          "color": "#ab63fa"
         },
         "mode": "markers",
         "name": "Turin",
         "showlegend": true,
         "subplot": "mapbox",
         "type": "scattermapbox"
        },
        {
         "customdata": [
          [
           "2700.0, 2700.0, nan, 2700.0, 2700.0, 2700.0, 2700.0, 2700.0, 2700.0, 2700.0, 2700.0, 2700.0, 2700.0, 2700.0, 2700.0, 2700.0, 2700.0, 2700.0, 2700.0, 2700.0, 2700.0, 2700.0",
           "Padua",
           "Cybersecurity<br>Management Engineering<br>Global Forestry<br>Computer Science<br>Astrophysics and Cosmology<br>Earth Dynamics<br>Italian Food and Wine<br>Data Science<br>Energy Engineering<br>ICT for Internet and Multimedia<br>Biotechnologies for food science<br>Environmental Engineering<br>Control Systems Engineering<br>Food and Health<br>Electronic Engineering<br>Forest Science<br>Computer Engineering<br>Geophysics for Natural Risks and Resources<br>Computational finance<br>Marine Biology<br>Chemical and Process Engineering<br>Environmental Sustainability and Education"
          ]
         ],
         "hovertemplate": "<b>%{hovertext}</b><br><br>city=%{customdata[1]}<br>latitude=%{lat}<br>longitude=%{lon}<br>fees_list=%{customdata[0]}<br>courses_list=%{customdata[2]}<extra></extra>",
         "hovertext": [
          "University of Padua"
         ],
         "lat": [
          45.407986
         ],
         "legendgroup": "Padua",
         "lon": [
          11.871449115060642
         ],
         "marker": {
          "color": "#FFA15A"
         },
         "mode": "markers",
         "name": "Padua",
         "showlegend": true,
         "subplot": "mapbox",
         "type": "scattermapbox"
        },
        {
         "customdata": [
          [
           "nan, nan, nan, nan, nan, nan, nan",
           "New York",
           "Cybersecurity - MS<br>Computer Science - MS<br>Early Childhood Education - MS<br>Data Science - MS<br>Energy Management - MS<br>Electrical & Computer Engineering - MS<br>Architecture, Health and Design - MS"
          ],
          [
           "nan, nan, nan, nan, nan, nan, nan, nan",
           "New York",
           "Fashion Management<br>Economics<br>Data Visualisation<br>Architecture (M.Arch)<br>International Affairs (MA or MS)<br>Communication Design<br>Design and Urban Ecologies<br>Environmental Policy and Sustainability Management (MS)"
          ],
          [
           "nan",
           "New York",
           "Online M.S. in Quantitative Management (MSQM)"
          ]
         ],
         "hovertemplate": "<b>%{hovertext}</b><br><br>city=%{customdata[1]}<br>latitude=%{lat}<br>longitude=%{lon}<br>fees_list=%{customdata[0]}<br>courses_list=%{customdata[2]}<extra></extra>",
         "hovertext": [
          "New York Institute of Technology",
          "The New School",
          "New York University (New York)"
         ],
         "lat": [
          40.76984545,
          40.73547915,
          40.72914525
         ],
         "legendgroup": "New York",
         "lon": [
          -73.98286901738166,
          -73.9970708835668,
          -73.99507565085935
         ],
         "marker": {
          "color": "#19d3f3"
         },
         "mode": "markers",
         "name": "New York",
         "showlegend": true,
         "subplot": "mapbox",
         "type": "scattermapbox"
        },
        {
         "customdata": [
          [
           "14100.0, 17500.0, 14100.0, 14100.0, 14100.0, 14100.0, 14100.0, 24650.0, 22460.0",
           "Paris",
           "Master of Science and Technology in Economics for Smart Cities and Climate Policy<br>Master of Science and Technology in Artificial Intelligence and Advanced Visual Computing<br>Master of Science and Technology in Energy Environment: Science Technology and Management (STEEM)<br>Master of Science and Technology in Data and Economics for Public Policy<br>Master of Science and Technology in Environmental Engineering and Sustainability Management<br>Master of Science and Technology in Economics, Data Analytics and Corporate Finance<br>Master of Science and Technology in Internet of Things: Innovation and Management<br>Master of Science in Data Science for Business (X-HEC)<br>Master of Science in Data Science for Finance (X-HEC)"
          ],
          [
           "nan",
           "Paris",
           "Master's (Msc) of Public Health in Comparative Effectiveness Research"
          ]
         ],
         "hovertemplate": "<b>%{hovertext}</b><br><br>city=%{customdata[1]}<br>latitude=%{lat}<br>longitude=%{lon}<br>fees_list=%{customdata[0]}<br>courses_list=%{customdata[2]}<extra></extra>",
         "hovertext": [
          "Ecole Polytechnique",
          "Université Paris Cité"
         ],
         "lat": [
          48.7127874,
          48.82959855
         ],
         "legendgroup": "Paris",
         "lon": [
          2.2107453,
          2.381684300259244
         ],
         "marker": {
          "color": "#FF6692"
         },
         "mode": "markers",
         "name": "Paris",
         "showlegend": true,
         "subplot": "mapbox",
         "type": "scattermapbox"
        },
        {
         "customdata": [
          [
           "5.125",
           "Nicosia",
           "Master of Science in Advanced Materials and Nanotechnology"
          ],
          [
           "nan, 12060.0",
           "Nicosia",
           "Master of Science in Family Medicine<br>Master of Science in Health Services Administration"
          ]
         ],
         "hovertemplate": "<b>%{hovertext}</b><br><br>city=%{customdata[1]}<br>latitude=%{lat}<br>longitude=%{lon}<br>fees_list=%{customdata[0]}<br>courses_list=%{customdata[2]}<extra></extra>",
         "hovertext": [
          "University of Cyprus",
          "University of Nicosia"
         ],
         "lat": [
          35.15988245,
          35.1660481
         ],
         "legendgroup": "Nicosia",
         "lon": [
          33.37769506250004,
          33.31494050863776
         ],
         "marker": {
          "color": "#B6E880"
         },
         "mode": "markers",
         "name": "Nicosia",
         "showlegend": true,
         "subplot": "mapbox",
         "type": "scattermapbox"
        },
        {
         "customdata": [
          [
           "nan, nan, nan, nan, nan, nan, nan, nan, nan, nan",
           "Tampa",
           "Master of Science in Accounting<br>Master of Science in Entrepreneurship<br>Master of Science in Exercise and Nutrition Science<br>Master of Science in Finance<br>Master of Science in Marketing<br>Master of Science in Information and Technology Management<br>Master of Science in Instructional Design and Technology<br>Master of Science in Business Analytics<br>Master of Science in Cybersecurity<br>Master of Science in Criminology and Criminal Justice"
          ]
         ],
         "hovertemplate": "<b>%{hovertext}</b><br><br>city=%{customdata[1]}<br>latitude=%{lat}<br>longitude=%{lon}<br>fees_list=%{customdata[0]}<br>courses_list=%{customdata[2]}<extra></extra>",
         "hovertext": [
          "University of Tampa"
         ],
         "lat": [
          27.9473468
         ],
         "legendgroup": "Tampa",
         "lon": [
          -82.46542380378125
         ],
         "marker": {
          "color": "#FF97FF"
         },
         "mode": "markers",
         "name": "Tampa",
         "showlegend": true,
         "subplot": "mapbox",
         "type": "scattermapbox"
        },
        {
         "customdata": [
          [
           "nan, nan, nan, nan, nan, nan, nan, nan, nan",
           "Malmo",
           "Education: Educational Theory<br>Interaction Design Masters<br>Computational Materials Science<br>International Migration and Ethnic Relations (Master)<br>Biomedical Surface Science<br>Communication for Development<br>Computer Science: Internet of Things<br>Computer Science: Applied Data Science<br>Computer Science: Innovation for Change in a Digital Society"
          ]
         ],
         "hovertemplate": "<b>%{hovertext}</b><br><br>city=%{customdata[1]}<br>latitude=%{lat}<br>longitude=%{lon}<br>fees_list=%{customdata[0]}<br>courses_list=%{customdata[2]}<extra></extra>",
         "hovertext": [
          "Malmö University"
         ],
         "lat": [
          55.60888525
         ],
         "legendgroup": "Malmo",
         "lon": [
          12.993222489710192
         ],
         "marker": {
          "color": "#FECB52"
         },
         "mode": "markers",
         "name": "Malmo",
         "showlegend": true,
         "subplot": "mapbox",
         "type": "scattermapbox"
        },
        {
         "customdata": [
          [
           "nan, nan, nan, nan",
           "Los Angeles",
           "Master of Science in Nutritional Science<br>Master of Science in Nutrition, Healthspan and Longevity<br>Master of Science in Gerontology<br>Master of Science in Lifespan, Nutrition and Dietetics"
          ],
          [
           "nan, nan, nan, nan, nan",
           "Los Angeles",
           "Master of Business and Science (MBS)<br>Master of Science in Translational Medicine (MSTM)<br>Master of Science in Human Genetics and Genetic Counseling<br>Master of Science (MS) in Applied Life Sciences<br>Master of Engineering (MEng) in Biopharmaceutical Processing"
          ]
         ],
         "hovertemplate": "<b>%{hovertext}</b><br><br>city=%{customdata[1]}<br>latitude=%{lat}<br>longitude=%{lon}<br>fees_list=%{customdata[0]}<br>courses_list=%{customdata[2]}<extra></extra>",
         "hovertext": [
          "University of Southern California",
          "Keck Graduate Institute"
         ],
         "lat": [
          34.0218833,
          34.0922142
         ],
         "legendgroup": "Los Angeles",
         "lon": [
          -118.28586662125,
          -117.72352023657103
         ],
         "marker": {
          "color": "#636efa"
         },
         "mode": "markers",
         "name": "Los Angeles",
         "showlegend": true,
         "subplot": "mapbox",
         "type": "scattermapbox"
        },
        {
         "customdata": [
          [
           "nan, nan, nan",
           "Blackburg",
           "Master of Science in Ocean Engineering<br>Master of Science in Aerospace Engineering<br>Master of Science in Systems Engineering"
          ]
         ],
         "hovertemplate": "<b>%{hovertext}</b><br><br>city=%{customdata[1]}<br>latitude=%{lat}<br>longitude=%{lon}<br>fees_list=%{customdata[0]}<br>courses_list=%{customdata[2]}<extra></extra>",
         "hovertext": [
          "Virginia Polytechnic Institute and State University"
         ],
         "lat": [
          37.22192675
         ],
         "legendgroup": "Blackburg",
         "lon": [
          -80.42728184013652
         ],
         "marker": {
          "color": "#EF553B"
         },
         "mode": "markers",
         "name": "Blackburg",
         "showlegend": true,
         "subplot": "mapbox",
         "type": "scattermapbox"
        },
        {
         "customdata": [
          [
           "nan, nan, nan",
           "Freiburg",
           "Master of Science in Microsystems Engineering<br>Master of Science in Embedded Systems Engineering<br>Master of Science in Computer Science"
          ]
         ],
         "hovertemplate": "<b>%{hovertext}</b><br><br>city=%{customdata[1]}<br>latitude=%{lat}<br>longitude=%{lon}<br>fees_list=%{customdata[0]}<br>courses_list=%{customdata[2]}<extra></extra>",
         "hovertext": [
          "Albert Ludwig University of Freiburg"
         ],
         "lat": [
          47.9960901
         ],
         "legendgroup": "Freiburg",
         "lon": [
          7.8494005
         ],
         "marker": {
          "color": "#00cc96"
         },
         "mode": "markers",
         "name": "Freiburg",
         "showlegend": true,
         "subplot": "mapbox",
         "type": "scattermapbox"
        },
        {
         "customdata": [
          [
           "nan, nan, nan",
           "Abu Dhabi",
           "Master of Science in Natural Language Processing<br>Master of Science in Machine Learning<br>Master of Science in Computer Vision"
          ]
         ],
         "hovertemplate": "<b>%{hovertext}</b><br><br>city=%{customdata[1]}<br>latitude=%{lat}<br>longitude=%{lon}<br>fees_list=%{customdata[0]}<br>courses_list=%{customdata[2]}<extra></extra>",
         "hovertext": [
          "Mohamed Bin Zayed University of Artificial Intelligence"
         ],
         "lat": [
          24.4324903
         ],
         "legendgroup": "Abu Dhabi",
         "lon": [
          54.618379
         ],
         "marker": {
          "color": "#ab63fa"
         },
         "mode": "markers",
         "name": "Abu Dhabi",
         "showlegend": true,
         "subplot": "mapbox",
         "type": "scattermapbox"
        },
        {
         "customdata": [
          [
           "nan, nan, nan, nan",
           "Singapore",
           "Global Executive MBA<br>Master in Management<br>Executive Master in Change<br>Executive Master in Finance"
          ]
         ],
         "hovertemplate": "<b>%{hovertext}</b><br><br>city=%{customdata[1]}<br>latitude=%{lat}<br>longitude=%{lon}<br>fees_list=%{customdata[0]}<br>courses_list=%{customdata[2]}<extra></extra>",
         "hovertext": [
          "INSEAD (Singapore Campus)"
         ],
         "lat": [
          1.357107
         ],
         "legendgroup": "Singapore",
         "lon": [
          103.8194992
         ],
         "marker": {
          "color": "#FFA15A"
         },
         "mode": "markers",
         "name": "Singapore",
         "showlegend": true,
         "subplot": "mapbox",
         "type": "scattermapbox"
        },
        {
         "customdata": [
          [
           "2500.0",
           "Coimbra",
           "European Master in Archaeological Materials Science (ARCHMAT)"
          ]
         ],
         "hovertemplate": "<b>%{hovertext}</b><br><br>city=%{customdata[1]}<br>latitude=%{lat}<br>longitude=%{lon}<br>fees_list=%{customdata[0]}<br>courses_list=%{customdata[2]}<extra></extra>",
         "hovertext": [
          "University of Evora"
         ],
         "lat": [
          38.5683402
         ],
         "legendgroup": "Coimbra",
         "lon": [
          -7.9102649
         ],
         "marker": {
          "color": "#19d3f3"
         },
         "mode": "markers",
         "name": "Coimbra",
         "showlegend": true,
         "subplot": "mapbox",
         "type": "scattermapbox"
        },
        {
         "customdata": [
          [
           "nan, nan, nan, nan, nan",
           "Karlsruhe",
           "Management of Product Development<br>Financial Engineering<br>Energy Engineering and Management<br>Erasmus Mundus EUROPHOTONICS - MSc<br>Information Systems Engineering & Management"
          ]
         ],
         "hovertemplate": "<b>%{hovertext}</b><br><br>city=%{customdata[1]}<br>latitude=%{lat}<br>longitude=%{lon}<br>fees_list=%{customdata[0]}<br>courses_list=%{customdata[2]}<extra></extra>",
         "hovertext": [
          "Karlsruhe Institute of Technology"
         ],
         "lat": [
          49.101853399999996
         ],
         "legendgroup": "Karlsruhe",
         "lon": [
          8.433120159201868
         ],
         "marker": {
          "color": "#FF6692"
         },
         "mode": "markers",
         "name": "Karlsruhe",
         "showlegend": true,
         "subplot": "mapbox",
         "type": "scattermapbox"
        },
        {
         "customdata": [
          [
           "15000.0, 15000.0, 13000.0, 15000.0, 15000.0, 15000.0, 18000.0, 13000.0, 13000.0, 13000.0, 15000.0, 15000.0, 15000.0, 15000.0, 15000.0, 18000.0, 15000.0, 15000.0, 15000.0",
           "Helsinki",
           "Agricultural, Environmental and Resource Economics - MSc (Agriculture and Forestry)<br>Agricultural Sciences - MSc (Agriculture and Forestry)<br>Global Politics and Communication - MSSc<br>Ecology and Evolutionary Biology - MSc<br>Computer Science - MSc<br>Life Science Informatics - MSc<br>Economics - MSSc<br>Geography - MSc<br>Environmental Change and Global Sustainability - MSc (Agriculture and Forestry)<br>European and Nordic Studies - MSSc/MA<br>Genetics and Molecular Biosciences - MSc<br>Hu­man Nu­tri­tion and Food-Re­lated Be­ha­viour - MSc<br>Chemistry and Molecular Sciences - MSc<br>Atmospheric Sciences - MSc (Agriculture and Forestry)<br>Geology and Geophysics - MSc<br>Microbiology and Microbiotechnology - MSc<br>Forest Sciences - MSc (Ag­ri­cul­ture and Forestry)<br>Food Sciences - MSc<br>Data Science - MSc"
          ]
         ],
         "hovertemplate": "<b>%{hovertext}</b><br><br>city=%{customdata[1]}<br>latitude=%{lat}<br>longitude=%{lon}<br>fees_list=%{customdata[0]}<br>courses_list=%{customdata[2]}<extra></extra>",
         "hovertext": [
          "University of Helsinki"
         ],
         "lat": [
          60.175648300000006
         ],
         "legendgroup": "Helsinki",
         "lon": [
          24.953550020522073
         ],
         "marker": {
          "color": "#B6E880"
         },
         "mode": "markers",
         "name": "Helsinki",
         "showlegend": true,
         "subplot": "mapbox",
         "type": "scattermapbox"
        },
        {
         "customdata": [
          [
           "5750.0, 9000.0, 5750.0",
           "Plymouth",
           "MSc Engineering for Marine Professionals (Top-up)<br>MSc Sustainable Maritime Operations<br>MSc Sustainability in Practice (Top-up)"
          ]
         ],
         "hovertemplate": "<b>%{hovertext}</b><br><br>city=%{customdata[1]}<br>latitude=%{lat}<br>longitude=%{lon}<br>fees_list=%{customdata[0]}<br>courses_list=%{customdata[2]}<extra></extra>",
         "hovertext": [
          "MLA College"
         ],
         "lat": [
          52.34580545
         ],
         "legendgroup": "Plymouth",
         "lon": [
          4.884320672439437
         ],
         "marker": {
          "color": "#FF97FF"
         },
         "mode": "markers",
         "name": "Plymouth",
         "showlegend": true,
         "subplot": "mapbox",
         "type": "scattermapbox"
        },
        {
         "customdata": [
          [
           "28500.0, 29500.0, 29500.0, nan, nan, nan, 31500.0, 24500.0, 31500.0, 33500.0, 31500.0",
           "Durham",
           "MSc Energy Engineering Management<br>MSc - Marketing<br>MSc - Management<br>Investigating cell division and contractility in animal cells<br>Investigation of brain anatomy across closely related bumblebee species, native to North-East England<br>Animate Materials MSc by Research<br>Finance (Corporate and International Finance)<br>MSc - Economics<br>MSc - Finance<br>MSc - Business Analytics<br>MSc - Accounting"
          ]
         ],
         "hovertemplate": "<b>%{hovertext}</b><br><br>city=%{customdata[1]}<br>latitude=%{lat}<br>longitude=%{lon}<br>fees_list=%{customdata[0]}<br>courses_list=%{customdata[2]}<extra></extra>",
         "hovertext": [
          "Durham University"
         ],
         "lat": [
          35.973209049999994
         ],
         "legendgroup": "Durham",
         "lon": [
          -78.89755053748397
         ],
         "marker": {
          "color": "#FECB52"
         },
         "mode": "markers",
         "name": "Durham",
         "showlegend": true,
         "subplot": "mapbox",
         "type": "scattermapbox"
        },
        {
         "customdata": [
          [
           "nan, nan, nan, nan",
           "Rennes",
           "Fintech (MSc)<br>Data Science (MSc)<br>Cyber Security (MSc)<br>Cloud and Network Infrastructures (MSc)"
          ]
         ],
         "hovertemplate": "<b>%{hovertext}</b><br><br>city=%{customdata[1]}<br>latitude=%{lat}<br>longitude=%{lon}<br>fees_list=%{customdata[0]}<br>courses_list=%{customdata[2]}<extra></extra>",
         "hovertext": [
          "University of Rennes 1"
         ],
         "lat": [
          48.1113387
         ],
         "legendgroup": "Rennes",
         "lon": [
          -1.6800198
         ],
         "marker": {
          "color": "#636efa"
         },
         "mode": "markers",
         "name": "Rennes",
         "showlegend": true,
         "subplot": "mapbox",
         "type": "scattermapbox"
        },
        {
         "customdata": [
          [
           "nan, nan, nan, nan, nan, nan, nan, nan",
           "Trento",
           "Fintech (MSc)<br>Data Science (MSc)<br>Cyber Security (MSc)<br>Master's course in Cognitive Science<br>Embedded Systems (MSc)<br>Cloud and Network Infrastructures (MSc)<br>Autonomous Systems (MSc)<br>Human Computer Interaction and Design (MSc)"
          ]
         ],
         "hovertemplate": "<b>%{hovertext}</b><br><br>city=%{customdata[1]}<br>latitude=%{lat}<br>longitude=%{lon}<br>fees_list=%{customdata[0]}<br>courses_list=%{customdata[2]}<extra></extra>",
         "hovertext": [
          "University of Trento"
         ],
         "lat": [
          43.52629055
         ],
         "legendgroup": "Trento",
         "lon": [
          -5.629118617297362
         ],
         "marker": {
          "color": "#EF553B"
         },
         "mode": "markers",
         "name": "Trento",
         "showlegend": true,
         "subplot": "mapbox",
         "type": "scattermapbox"
        },
        {
         "customdata": [
          [
           "12428.0, 12428.0, 12428.0, 12428.0, 12428.0, 12428.0, 12428.0, 12428.0, 12428.0, 12428.0, 12428.0, 12428.0, 12428.0, 12428.0, 12428.0",
           "Colchester",
           "MSc Criminology and Criminal Psychology<br>MSc Cyber Security<br>MSc Data Science<br>MSc Artificial Intelligence<br>MSc Psychology<br>MSc Organisational Psychology<br>MSc Nursing<br>MSc Project Management<br>MSc International Human Resource Management<br>MSc International Healthcare Management<br>MSc Infection Control<br>MSc Global Digital Marketing<br>MSc Business with Finance<br>MSc Business and Management (Business Analytics)<br>MSc Computer Science"
          ]
         ],
         "hovertemplate": "<b>%{hovertext}</b><br><br>city=%{customdata[1]}<br>latitude=%{lat}<br>longitude=%{lon}<br>fees_list=%{customdata[0]}<br>courses_list=%{customdata[2]}<extra></extra>",
         "hovertext": [
          "University of Essex Online"
         ],
         "lat": [
          51.8896903
         ],
         "legendgroup": "Colchester",
         "lon": [
          0.8994651
         ],
         "marker": {
          "color": "#00cc96"
         },
         "mode": "markers",
         "name": "Colchester",
         "showlegend": true,
         "subplot": "mapbox",
         "type": "scattermapbox"
        },
        {
         "customdata": [
          [
           "nan",
           "Kaiserslautern",
           "Financial Engineering"
          ]
         ],
         "hovertemplate": "<b>%{hovertext}</b><br><br>city=%{customdata[1]}<br>latitude=%{lat}<br>longitude=%{lon}<br>fees_list=%{customdata[0]}<br>courses_list=%{customdata[2]}<extra></extra>",
         "hovertext": [
          "Rheinland-Pfälzische Technische Universität of Kaiserslautern-Landau (RPTU)"
         ],
         "lat": [
          49.4432174
         ],
         "legendgroup": "Kaiserslautern",
         "lon": [
          7.7689951
         ],
         "marker": {
          "color": "#ab63fa"
         },
         "mode": "markers",
         "name": "Kaiserslautern",
         "showlegend": true,
         "subplot": "mapbox",
         "type": "scattermapbox"
        },
        {
         "customdata": [
          [
           "3800.0, 640.0, 560.0",
           "Florence",
           "International Master in European Project Planning and Management<br>International Seminar on European Project Management<br>International Seminar on European Project Planning"
          ]
         ],
         "hovertemplate": "<b>%{hovertext}</b><br><br>city=%{customdata[1]}<br>latitude=%{lat}<br>longitude=%{lon}<br>fees_list=%{customdata[0]}<br>courses_list=%{customdata[2]}<extra></extra>",
         "hovertext": [
          "Pixel"
         ],
         "lat": [
          51.8937476
         ],
         "legendgroup": "Florence",
         "lon": [
          8.2985108
         ],
         "marker": {
          "color": "#FFA15A"
         },
         "mode": "markers",
         "name": "Florence",
         "showlegend": true,
         "subplot": "mapbox",
         "type": "scattermapbox"
        },
        {
         "customdata": [
          [
           "22500.0",
           "Rouen",
           "International Master in Luxury Management - Double Degree POLIMI Graduate School of Management"
          ]
         ],
         "hovertemplate": "<b>%{hovertext}</b><br><br>city=%{customdata[1]}<br>latitude=%{lat}<br>longitude=%{lon}<br>fees_list=%{customdata[0]}<br>courses_list=%{customdata[2]}<extra></extra>",
         "hovertext": [
          "NEOMA Business School"
         ],
         "lat": [
          49.46215825
         ],
         "legendgroup": "Rouen",
         "lon": [
          1.0640455300966503
         ],
         "marker": {
          "color": "#19d3f3"
         },
         "mode": "markers",
         "name": "Rouen",
         "showlegend": true,
         "subplot": "mapbox",
         "type": "scattermapbox"
        },
        {
         "customdata": [
          [
           "nan, nan, nan, nan, nan, nan, nan",
           "Chichester",
           "International Business and Finance MSc<br>Dance Science MSc<br>Health Psychology MSc<br>Engineering Management MSc<br>Applied Sport and Exercise Nutrition MSc<br>Digital Marketing MSc<br>International Business MSc"
          ]
         ],
         "hovertemplate": "<b>%{hovertext}</b><br><br>city=%{customdata[1]}<br>latitude=%{lat}<br>longitude=%{lon}<br>fees_list=%{customdata[0]}<br>courses_list=%{customdata[2]}<extra></extra>",
         "hovertext": [
          "University of Chichester"
         ],
         "lat": [
          50.8449436
         ],
         "legendgroup": "Chichester",
         "lon": [
          -0.7740064130646287
         ],
         "marker": {
          "color": "#FF6692"
         },
         "mode": "markers",
         "name": "Chichester",
         "showlegend": true,
         "subplot": "mapbox",
         "type": "scattermapbox"
        },
        {
         "customdata": [
          [
           "nan, nan, 15000.0, 12400.0, nan, nan, nan, nan, nan",
           "Hong Kong",
           "Master of Science in Applied Accounting and Finance (MScAAF)<br>Master of Science in Applied Economics (MScAECON)<br>Master of Science in Entrepreneurship and Global Marketing (MScEGM)<br>Master of Science in Global Marketing Management (MScGMM)<br>Master of Science in Finance (FinTech and Financial Analytics)<br>Master of Science in Business Management (MScBM)<br>Master of Science in Strategic Human Resources Management (MScSHRM)<br>Master of Science in Data Analytics and Business Economics (MScDABE)<br>Master of Science in Corporate Governance and Compliance (MScCGC)"
          ],
          [
           "nan, nan, nan, nan, nan, nan, nan",
           "Hong Kong",
           "Master of Economics<br>Master of Science in Marketing<br>Master of Science in Business Analytics<br>Master of Finance in Financial Techology<br>Master of Global Management<br>Master of Accounting<br>Masters of Finance"
          ]
         ],
         "hovertemplate": "<b>%{hovertext}</b><br><br>city=%{customdata[1]}<br>latitude=%{lat}<br>longitude=%{lon}<br>fees_list=%{customdata[0]}<br>courses_list=%{customdata[2]}<extra></extra>",
         "hovertext": [
          "Hong Kong Baptist University",
          "University of Hong Kong"
         ],
         "lat": [
          22.33798795,
          22.28269745
         ],
         "legendgroup": "Hong Kong",
         "lon": [
          114.18262590878285,
          114.13845499995571
         ],
         "marker": {
          "color": "#B6E880"
         },
         "mode": "markers",
         "name": "Hong Kong",
         "showlegend": true,
         "subplot": "mapbox",
         "type": "scattermapbox"
        },
        {
         "customdata": [
          [
           "nan, nan, nan, nan, nan, nan, nan, nan, nan, nan, nan, nan, nan, nan, nan",
           "Clear Water Bay",
           "Master of Science in Aeronautical Engineering<br>Master of Science in Electronic Engineering<br>Master of Science in Engineering Enterprise Management<br>Master of Science in Big Data Technology<br>Master of Science in Mechanical Engineering<br>Master of Science in Biomolecular Engineering and Health Informatics<br>Master of Science in Telecommunications<br>Master of Science in Technology Leadership and Entrepreneurship<br>Master of Science in Financial Technology<br>Master of Science in Intelligent Building Technology and Management<br>Master of Science in Information Technology<br>Master of Science in IC Design Engineering<br>Master of Science in Chemical and Energy Engineering<br>Master of Science/Postgraduate Diploma in Environmental Engineering and Management<br>Master of Science/Postgraduate Diploma in Civil Infrastructural Engineering and Management"
          ]
         ],
         "hovertemplate": "<b>%{hovertext}</b><br><br>city=%{customdata[1]}<br>latitude=%{lat}<br>longitude=%{lon}<br>fees_list=%{customdata[0]}<br>courses_list=%{customdata[2]}<extra></extra>",
         "hovertext": [
          "The Hong Kong University of Science and Technology"
         ],
         "lat": [
          22.3358031
         ],
         "legendgroup": "Clear Water Bay",
         "lon": [
          114.2659087549023
         ],
         "marker": {
          "color": "#FF97FF"
         },
         "mode": "markers",
         "name": "Clear Water Bay",
         "showlegend": true,
         "subplot": "mapbox",
         "type": "scattermapbox"
        },
        {
         "customdata": [
          [
           "nan",
           "Bronx",
           "Master of Science in Applied Health Informatics"
          ]
         ],
         "hovertemplate": "<b>%{hovertext}</b><br><br>city=%{customdata[1]}<br>latitude=%{lat}<br>longitude=%{lon}<br>fees_list=%{customdata[0]}<br>courses_list=%{customdata[2]}<extra></extra>",
         "hovertext": [
          "Fordham University"
         ],
         "lat": [
          40.8722825
         ],
         "legendgroup": "Bronx",
         "lon": [
          -73.8948917141949
         ],
         "marker": {
          "color": "#FECB52"
         },
         "mode": "markers",
         "name": "Bronx",
         "showlegend": true,
         "subplot": "mapbox",
         "type": "scattermapbox"
        },
        {
         "customdata": [
          [
           "nan, nan, nan, nan, nan, nan, nan, nan, nan, nan, nan, nan, nan",
           "Inverness",
           "Aquaculture, Environment and Society MSc<br>Archaeological Practice MSc<br>Engineering (General) MSc<br>Leadership and Management MSc<br>Applied Data Analytics MSc<br>Interpretation: Management and Practice MSc<br>Advanced Nurse Practitioner/Professional Practice MSc<br>Infection Prevention and Control MSc<br>Electrical Engineering MSc<br>Human Resource Management MSc<br>Applied Social Sciences: Globalisation and Crime MSc<br>Algal Biotechnology and Bioeconomy MSc<br>Material Culture and Gàidhealtachd History MSc"
          ]
         ],
         "hovertemplate": "<b>%{hovertext}</b><br><br>city=%{customdata[1]}<br>latitude=%{lat}<br>longitude=%{lon}<br>fees_list=%{customdata[0]}<br>courses_list=%{customdata[2]}<extra></extra>",
         "hovertext": [
          "University of the Highlands and Islands"
         ],
         "lat": [
          57.4790124
         ],
         "legendgroup": "Inverness",
         "lon": [
          -4.225739
         ],
         "marker": {
          "color": "#636efa"
         },
         "mode": "markers",
         "name": "Inverness",
         "showlegend": true,
         "subplot": "mapbox",
         "type": "scattermapbox"
        },
        {
         "customdata": [
          [
           "nan, nan, nan, nan, nan, nan, nan, nan, nan, nan, nan, nan, nan, nan, nan, nan, nan, nan, nan, nan, nan",
           "Gloucester",
           "Data Science (MSc)<br>Engineering (MSc by Research / MRes)<br>Cyber Security (MSc)<br>Game Development (MSc)<br>Game Technologies (MSc by Research / MRes)<br>Geography (MSc by Research / MRes)<br>Applied Ecology (Postgraduate Certificate / Postgraduate Diploma / MSc)<br>Electrical & Electronics Engineering (MSc)<br>Health Psychology (MSc)<br>Advanced Professional Practice (MSc)<br>Engineering Management (MSc)<br>Cyber and Technical Computing (MSc by Research / MRes)<br>Advanced Clinical Practice (Postgraduate Certificate / Postgraduate Diploma / MSc)<br>Marketing (Postgraduate Certificate / Postgraduate Diploma / MSc)<br>Criminology (Postgraduate Certificate / Postgraduate Diploma / MSc)<br>Human Resource Management (Postgraduate Diploma / MSc)<br>International Business (MSc)<br>Financial Technology (MSc)<br>Allied Health Professions (MA or MSc by Research / MRes)<br>Human Resource Management (Masters Stage) (MSc)<br>Forensic Psychology (MSc)"
          ]
         ],
         "hovertemplate": "<b>%{hovertext}</b><br><br>city=%{customdata[1]}<br>latitude=%{lat}<br>longitude=%{lon}<br>fees_list=%{customdata[0]}<br>courses_list=%{customdata[2]}<extra></extra>",
         "hovertext": [
          "University of Gloucestershire"
         ],
         "lat": [
          52.067948799999996
         ],
         "legendgroup": "Gloucester",
         "lon": [
          -2.707140748035224
         ],
         "marker": {
          "color": "#EF553B"
         },
         "mode": "markers",
         "name": "Gloucester",
         "showlegend": true,
         "subplot": "mapbox",
         "type": "scattermapbox"
        },
        {
         "customdata": [
          [
           "nan, nan, nan",
           "Turku",
           "Data Science (MSc)<br>Cyber Security (MSc)<br>Embedded Systems (MSc)"
          ]
         ],
         "hovertemplate": "<b>%{hovertext}</b><br><br>city=%{customdata[1]}<br>latitude=%{lat}<br>longitude=%{lon}<br>fees_list=%{customdata[0]}<br>courses_list=%{customdata[2]}<extra></extra>",
         "hovertext": [
          "University of Turku"
         ],
         "lat": [
          60.456073149999995
         ],
         "legendgroup": "Turku",
         "lon": [
          22.28640967697722
         ],
         "marker": {
          "color": "#00cc96"
         },
         "mode": "markers",
         "name": "Turku",
         "showlegend": true,
         "subplot": "mapbox",
         "type": "scattermapbox"
        },
        {
         "customdata": [
          [
           "nan, nan, nan",
           "Madrid",
           "Data Science (MSc)<br>Fintech (FT)<br>Human Computer Interaction and Design (MSc)"
          ]
         ],
         "hovertemplate": "<b>%{hovertext}</b><br><br>city=%{customdata[1]}<br>latitude=%{lat}<br>longitude=%{lon}<br>fees_list=%{customdata[0]}<br>courses_list=%{customdata[2]}<extra></extra>",
         "hovertext": [
          "Universidad Politécnica de Madrid"
         ],
         "lat": [
          40.447861
         ],
         "legendgroup": "Madrid",
         "lon": [
          -3.7193652
         ],
         "marker": {
          "color": "#ab63fa"
         },
         "mode": "markers",
         "name": "Madrid",
         "showlegend": true,
         "subplot": "mapbox",
         "type": "scattermapbox"
        },
        {
         "customdata": [
          [
           "nan, nan, nan, nan, nan, nan, nan, nan, nan, nan",
           "Washington DC",
           "Data Analytics (MSc)<br>Cybersecurity in Computer Science (MSc)<br>Applied Computer Science (MSc)<br>MA in Art History<br>Computer Science (MSc)<br>Engineering Management (MSc)<br>Civil and Environmental Engineering (MSc)<br>Computer Engineering (MSc)<br>Biomedical Engineering (MSc)<br>Electrical Engineering (MSc)"
          ]
         ],
         "hovertemplate": "<b>%{hovertext}</b><br><br>city=%{customdata[1]}<br>latitude=%{lat}<br>longitude=%{lon}<br>fees_list=%{customdata[0]}<br>courses_list=%{customdata[2]}<extra></extra>",
         "hovertext": [
          "George Washington University"
         ],
         "lat": [
          38.899893750000004
         ],
         "legendgroup": "Washington DC",
         "lon": [
          -77.04744828062584
         ],
         "marker": {
          "color": "#FFA15A"
         },
         "mode": "markers",
         "name": "Washington DC",
         "showlegend": true,
         "subplot": "mapbox",
         "type": "scattermapbox"
        },
        {
         "customdata": [
          [
           "nan, nan, nan, nan, nan, nan, nan, nan, nan, nan, nan, nan, nan, nan, nan, nan, nan, nan",
           "Boulder",
           "Integrative Physiology - Master of Science (MS)<br>Computational Linguistics - Master of Science (MS)<br>Business Analytics - Master of Science (MS)<br>Computer Science - Master of Science (MS)<br>Chemical Engineering - Master of Science (MS)<br>Data Science - Master of Science (MS)<br>Architectural Engineering - Master of Science (MS)<br>Creative Technology and Design - Master of Science (MS)<br>Accounting - Master of Science (MS)<br>Environmental Engineering - Master of Science (MS)<br>Chemistry - Master of Science (MS)<br>Aerospace Engineering Sciences - Master of Science (MS)<br>Finance - Master of Science (MS)<br>Atmospheric and Oceanic Sciences - Master of Science (MS)<br>Geology - Master of Science (MS)<br>Electrical Engineering - Master of Science (MS)<br>Civil Engineering - Master of Science (MS)<br>Environmental Studies - Master of Science (MS)"
          ]
         ],
         "hovertemplate": "<b>%{hovertext}</b><br><br>city=%{customdata[1]}<br>latitude=%{lat}<br>longitude=%{lon}<br>fees_list=%{customdata[0]}<br>courses_list=%{customdata[2]}<extra></extra>",
         "hovertext": [
          "University of Colorado Boulder"
         ],
         "lat": [
          39.9964767
         ],
         "legendgroup": "Boulder",
         "lon": [
          -105.24878373149569
         ],
         "marker": {
          "color": "#19d3f3"
         },
         "mode": "markers",
         "name": "Boulder",
         "showlegend": true,
         "subplot": "mapbox",
         "type": "scattermapbox"
        },
        {
         "customdata": [
          [
           "nan",
           "Isafjorour",
           "Coastal and Marine Management"
          ]
         ],
         "hovertemplate": "<b>%{hovertext}</b><br><br>city=%{customdata[1]}<br>latitude=%{lat}<br>longitude=%{lon}<br>fees_list=%{customdata[0]}<br>courses_list=%{customdata[2]}<extra></extra>",
         "hovertext": [
          "University Centre of the West Fjords"
         ],
         "lat": [
          null
         ],
         "legendgroup": "Isafjorour",
         "lon": [
          null
         ],
         "marker": {
          "color": "#FF6692"
         },
         "mode": "markers",
         "name": "Isafjorour",
         "showlegend": true,
         "subplot": "mapbox",
         "type": "scattermapbox"
        },
        {
         "customdata": [
          [
           "nan, nan, nan, nan, nan, nan, nan, nan, nan, nan, nan",
           "Newport",
           "Data Science for Global Agriculture, Food and Environment<br>Advanced Veterinary Nursing (Anaesthesia)<br>Advanced Veterinary Nursing (Oncology)<br>Advanced Veterinary Nursing (Surgical)<br>Advanced Veterinary Nursing (Analgesia and Pain Management)<br>Entomology<br>International Agribusiness and Food Chain Management<br>Agroecology<br>Agricultural Sciences and Production Systems<br>Agricultural Economics<br>Integrated Pest, Weed and Disease Management"
          ]
         ],
         "hovertemplate": "<b>%{hovertext}</b><br><br>city=%{customdata[1]}<br>latitude=%{lat}<br>longitude=%{lon}<br>fees_list=%{customdata[0]}<br>courses_list=%{customdata[2]}<extra></extra>",
         "hovertext": [
          "Harper Adams University"
         ],
         "lat": [
          52.78025975
         ],
         "legendgroup": "Newport",
         "lon": [
          -2.4322511730575487
         ],
         "marker": {
          "color": "#B6E880"
         },
         "mode": "markers",
         "name": "Newport",
         "showlegend": true,
         "subplot": "mapbox",
         "type": "scattermapbox"
        },
        {
         "customdata": [
          [
           "9950.0, 8150.0, 7000.0, 6400.0, 8150.0, 7000.0, 8150.0, 6750.0, 7000.0, 9800.0",
           "Lisbon",
           "Masters in Finance<br>Masters in Data Analytics for Business<br>Masters in Economics<br>Masters in Applied Econometrics and Forecasting<br>Masters in Accounting<br>Masters in Actuarial Science<br>Management and Industrial Strategy<br>Masters in Mathematical Finance<br>Masters in Monetary and Financial Economics<br>Masters in Management (MiM)"
          ],
          [
           "nan, nan, nan, nan, nan, nan, nan, nan",
           "Lisbon",
           "Master's in Impact Entrepreneurship & Innovation<br>International Master's in Management<br>International Master's in Finance<br>Master’s in Economics<br>Master’s in Management<br>Master’s in Business Analytics<br>Master’s in Finance<br>Master's in International Development & Public Policy"
          ]
         ],
         "hovertemplate": "<b>%{hovertext}</b><br><br>city=%{customdata[1]}<br>latitude=%{lat}<br>longitude=%{lon}<br>fees_list=%{customdata[0]}<br>courses_list=%{customdata[2]}<extra></extra>",
         "hovertext": [
          "University of Lisbon",
          "Nova School of Business and Economics"
         ],
         "lat": [
          38.75109295,
          38.67820265
         ],
         "legendgroup": "Lisbon",
         "lon": [
          -9.156203506379315,
          -9.325944879263897
         ],
         "marker": {
          "color": "#FF97FF"
         },
         "mode": "markers",
         "name": "Lisbon",
         "showlegend": true,
         "subplot": "mapbox",
         "type": "scattermapbox"
        },
        {
         "customdata": [
          [
           "nan, nan",
           "Lausanne",
           "Masters in Hospitality Management<br>Masters in Global Hospitality"
          ]
         ],
         "hovertemplate": "<b>%{hovertext}</b><br><br>city=%{customdata[1]}<br>latitude=%{lat}<br>longitude=%{lon}<br>fees_list=%{customdata[0]}<br>courses_list=%{customdata[2]}<extra></extra>",
         "hovertext": [
          "Ecole hotelière de Lausanne"
         ],
         "lat": [
          46.56152945
         ],
         "legendgroup": "Lausanne",
         "lon": [
          6.683775523507663
         ],
         "marker": {
          "color": "#FECB52"
         },
         "mode": "markers",
         "name": "Lausanne",
         "showlegend": true,
         "subplot": "mapbox",
         "type": "scattermapbox"
        },
        {
         "customdata": [
          [
           "nan, nan, nan, nan, nan, nan, nan, nan",
           "Bergen",
           "Master's in Financial Economics<br>Master's in Energy, Natural Resources and the Environment<br>Master's in Business Analytics<br>Master's in Economics<br>Master's in Economic Analysis<br>Master's in Business Analysis and Performance Management<br>Master's in Marketing and Brand Management<br>Master's in Strategy and Management"
          ]
         ],
         "hovertemplate": "<b>%{hovertext}</b><br><br>city=%{customdata[1]}<br>latitude=%{lat}<br>longitude=%{lon}<br>fees_list=%{customdata[0]}<br>courses_list=%{customdata[2]}<extra></extra>",
         "hovertext": [
          "NHH Norwegian School of Economics"
         ],
         "lat": [
          60.3943055
         ],
         "legendgroup": "Bergen",
         "lon": [
          5.3259192
         ],
         "marker": {
          "color": "#636efa"
         },
         "mode": "markers",
         "name": "Bergen",
         "showlegend": true,
         "subplot": "mapbox",
         "type": "scattermapbox"
        },
        {
         "customdata": [
          [
           "nan, nan, nan, nan",
           "Lille",
           "Master's in Food Politics & Sustainable Development<br>Master's in Global and European Politics<br>Master's in International & Security Politics<br>Masters's in Digital Politics and Governance"
          ]
         ],
         "hovertemplate": "<b>%{hovertext}</b><br><br>city=%{customdata[1]}<br>latitude=%{lat}<br>longitude=%{lon}<br>fees_list=%{customdata[0]}<br>courses_list=%{customdata[2]}<extra></extra>",
         "hovertext": [
          "European School of Political and Social Sciences (ESPOL)"
         ],
         "lat": [
          50.6365654
         ],
         "legendgroup": "Lille",
         "lon": [
          3.0635282
         ],
         "marker": {
          "color": "#EF553B"
         },
         "mode": "markers",
         "name": "Lille",
         "showlegend": true,
         "subplot": "mapbox",
         "type": "scattermapbox"
        },
        {
         "customdata": [
          [
           "726.72, 726.72",
           "Linz",
           "Computer Science<br>Artificial Intelligence"
          ]
         ],
         "hovertemplate": "<b>%{hovertext}</b><br><br>city=%{customdata[1]}<br>latitude=%{lat}<br>longitude=%{lon}<br>fees_list=%{customdata[0]}<br>courses_list=%{customdata[2]}<extra></extra>",
         "hovertext": [
          "Johannes-Kepler University Linz"
         ],
         "lat": [
          48.336093250000005
         ],
         "legendgroup": "Linz",
         "lon": [
          14.320567380032873
         ],
         "marker": {
          "color": "#00cc96"
         },
         "mode": "markers",
         "name": "Linz",
         "showlegend": true,
         "subplot": "mapbox",
         "type": "scattermapbox"
        },
        {
         "customdata": [
          [
           "nan",
           "Regensburg",
           "Advanced Synthesis and Catalysis"
          ]
         ],
         "hovertemplate": "<b>%{hovertext}</b><br><br>city=%{customdata[1]}<br>latitude=%{lat}<br>longitude=%{lon}<br>fees_list=%{customdata[0]}<br>courses_list=%{customdata[2]}<extra></extra>",
         "hovertext": [
          "University of Regensburg"
         ],
         "lat": [
          49.00305545
         ],
         "legendgroup": "Regensburg",
         "lon": [
          12.09626442042545
         ],
         "marker": {
          "color": "#ab63fa"
         },
         "mode": "markers",
         "name": "Regensburg",
         "showlegend": true,
         "subplot": "mapbox",
         "type": "scattermapbox"
        },
        {
         "customdata": [
          [
           "nan",
           "Naestved",
           "European Master of Science in Occupational Therapy (post-graduation programme)"
          ]
         ],
         "hovertemplate": "<b>%{hovertext}</b><br><br>city=%{customdata[1]}<br>latitude=%{lat}<br>longitude=%{lon}<br>fees_list=%{customdata[0]}<br>courses_list=%{customdata[2]}<extra></extra>",
         "hovertext": [
          "University College Absalon"
         ],
         "lat": [
          55.2328252
         ],
         "legendgroup": "Naestved",
         "lon": [
          11.7674102
         ],
         "marker": {
          "color": "#FFA15A"
         },
         "mode": "markers",
         "name": "Naestved",
         "showlegend": true,
         "subplot": "mapbox",
         "type": "scattermapbox"
        },
        {
         "customdata": [
          [
           "nan",
           "Saarbrucken",
           "European Masters Program Language & Communication Technologies"
          ]
         ],
         "hovertemplate": "<b>%{hovertext}</b><br><br>city=%{customdata[1]}<br>latitude=%{lat}<br>longitude=%{lon}<br>fees_list=%{customdata[0]}<br>courses_list=%{customdata[2]}<extra></extra>",
         "hovertext": [
          "Saarland University, Germany"
         ],
         "lat": [
          49.25428530000001
         ],
         "legendgroup": "Saarbrucken",
         "lon": [
          7.04150707562534
         ],
         "marker": {
          "color": "#19d3f3"
         },
         "mode": "markers",
         "name": "Saarbrucken",
         "showlegend": true,
         "subplot": "mapbox",
         "type": "scattermapbox"
        },
        {
         "customdata": [
          [
           "nan",
           "Solna",
           "European Master of Science in Occupational Therapy (post-graduation programme)"
          ]
         ],
         "hovertemplate": "<b>%{hovertext}</b><br><br>city=%{customdata[1]}<br>latitude=%{lat}<br>longitude=%{lon}<br>fees_list=%{customdata[0]}<br>courses_list=%{customdata[2]}<extra></extra>",
         "hovertext": [
          "Karolinska Institutet"
         ],
         "lat": [
          59.3515453
         ],
         "legendgroup": "Solna",
         "lon": [
          18.0310658
         ],
         "marker": {
          "color": "#FF6692"
         },
         "mode": "markers",
         "name": "Solna",
         "showlegend": true,
         "subplot": "mapbox",
         "type": "scattermapbox"
        },
        {
         "customdata": [
          [
           "nan, nan, nan, nan, nan, nan, nan",
           "Thuwal",
           "Earth Science & Engineering (MSc)<br>Computer Science (MSc)<br>Electrical and Computer Engineering (MSc)<br>Applied Physics (MSc)<br>Marine Science (MSc)<br>Energy Resources & Petroleum Engineering (MSc)<br>Environmental Science and Engineering (MSc)"
          ]
         ],
         "hovertemplate": "<b>%{hovertext}</b><br><br>city=%{customdata[1]}<br>latitude=%{lat}<br>longitude=%{lon}<br>fees_list=%{customdata[0]}<br>courses_list=%{customdata[2]}<extra></extra>",
         "hovertext": [
          "KAUST"
         ],
         "lat": [
          22.32237535
         ],
         "legendgroup": "Thuwal",
         "lon": [
          39.11738351837985
         ],
         "marker": {
          "color": "#B6E880"
         },
         "mode": "markers",
         "name": "Thuwal",
         "showlegend": true,
         "subplot": "mapbox",
         "type": "scattermapbox"
        },
        {
         "customdata": [
          [
           "nan, nan, nan",
           "Beppu",
           "Dual Degree Program : International Material Flow Management (IMAT)<br>Master's in Asia Pacific Studies (APS)<br>Master's in International Cooperation Policy (ICP)"
          ]
         ],
         "hovertemplate": "<b>%{hovertext}</b><br><br>city=%{customdata[1]}<br>latitude=%{lat}<br>longitude=%{lon}<br>fees_list=%{customdata[0]}<br>courses_list=%{customdata[2]}<extra></extra>",
         "hovertext": [
          "Ritsumeikan Asia Pacific University"
         ],
         "lat": [
          33.2845752
         ],
         "legendgroup": "Beppu",
         "lon": [
          131.4913063
         ],
         "marker": {
          "color": "#FF97FF"
         },
         "mode": "markers",
         "name": "Beppu",
         "showlegend": true,
         "subplot": "mapbox",
         "type": "scattermapbox"
        },
        {
         "customdata": [
          [
           "nan, nan, nan, nan, nan, nan, nan, nan",
           "Toronto",
           "Master of Business Analytics<br>Master of Real Estate and Infrastructure<br>Master of Finance<br>Master of Accounting<br>Master of Supply Chain Management<br>Master of Management<br>Master of Management in Artificial Intelligence<br>Master of Marketing"
          ]
         ],
         "hovertemplate": "<b>%{hovertext}</b><br><br>city=%{customdata[1]}<br>latitude=%{lat}<br>longitude=%{lon}<br>fees_list=%{customdata[0]}<br>courses_list=%{customdata[2]}<extra></extra>",
         "hovertext": [
          "York University (Canada)"
         ],
         "lat": [
          43.77383185
         ],
         "legendgroup": "Toronto",
         "lon": [
          -79.49981056529253
         ],
         "marker": {
          "color": "#FECB52"
         },
         "mode": "markers",
         "name": "Toronto",
         "showlegend": true,
         "subplot": "mapbox",
         "type": "scattermapbox"
        },
        {
         "customdata": [
          [
           "nan, nan, nan, nan, nan, nan",
           "Gottingen",
           "M.Sc. Lightweight Engineering and Composites in Stade<br>M.Sc. Digitalization and Automation in Stade<br>M.Sc. Industrial Engineering in Stade<br>M.Sc. General Management<br>M.Sc. User Experience Management and Design<br>M.Sc. New Mobility - Micromobility in Stade"
          ]
         ],
         "hovertemplate": "<b>%{hovertext}</b><br><br>city=%{customdata[1]}<br>latitude=%{lat}<br>longitude=%{lon}<br>fees_list=%{customdata[0]}<br>courses_list=%{customdata[2]}<extra></extra>",
         "hovertext": [
          "PFH Gottingen"
         ],
         "lat": [
          51.5390446
         ],
         "legendgroup": "Gottingen",
         "lon": [
          9.9332318
         ],
         "marker": {
          "color": "#636efa"
         },
         "mode": "markers",
         "name": "Gottingen",
         "showlegend": true,
         "subplot": "mapbox",
         "type": "scattermapbox"
        },
        {
         "customdata": [
          [
           "87.0, 87.0, 87.0, 87.0, 87.0, 87.0",
           "Passau",
           "M.Sc. Information Systems<br>M.Sc. International Economics and Business (English-taught)<br>M.Sc. Computer Science (English-taught)<br>M.Sc. Business Administration<br>M.Sc. Artificial Intelligence Engineering (English-taught)<br>M.Sc. Computational Mathematics (English-taught)"
          ]
         ],
         "hovertemplate": "<b>%{hovertext}</b><br><br>city=%{customdata[1]}<br>latitude=%{lat}<br>longitude=%{lon}<br>fees_list=%{customdata[0]}<br>courses_list=%{customdata[2]}<extra></extra>",
         "hovertext": [
          "University of Passau"
         ],
         "lat": [
          48.567549549999995
         ],
         "legendgroup": "Passau",
         "lon": [
          13.452108035985926
         ],
         "marker": {
          "color": "#EF553B"
         },
         "mode": "markers",
         "name": "Passau",
         "showlegend": true,
         "subplot": "mapbox",
         "type": "scattermapbox"
        },
        {
         "customdata": [
          [
           "30000.0, 30.0, nan, 30000.0",
           "Aachen",
           "M.SC. MANAGEMENT AND ENGINEERING IN TECHNOLOGY, INNOVATION, MARKETING AND ENTREPRENEURSHIP (MME TIME)<br>M.SC. DATA ANALYTICS AND DECISION SCIENCE (DDS)<br>M.SC. SUSTAINABILITY MANAGEMENT<br>M.SC. MANAGEMENT AND ENGINEERING IN TECHNOLOGY, INNOVATION, MARKETING AND ENTREPRENEURSHIP (MME TIME) – part-time"
          ]
         ],
         "hovertemplate": "<b>%{hovertext}</b><br><br>city=%{customdata[1]}<br>latitude=%{lat}<br>longitude=%{lon}<br>fees_list=%{customdata[0]}<br>courses_list=%{customdata[2]}<extra></extra>",
         "hovertext": [
          "RWTH Aachen University"
         ],
         "lat": [
          50.7791645
         ],
         "legendgroup": "Aachen",
         "lon": [
          6.068920971222876
         ],
         "marker": {
          "color": "#00cc96"
         },
         "mode": "markers",
         "name": "Aachen",
         "showlegend": true,
         "subplot": "mapbox",
         "type": "scattermapbox"
        },
        {
         "customdata": [
          [
           "20145.0",
           "Geneva",
           "M.Sc. Human Rights and Diplomacy (with Stirling University)"
          ],
          [
           "nan",
           "Geneva",
           "Master of Science in Information Technology (MSIT)"
          ]
         ],
         "hovertemplate": "<b>%{hovertext}</b><br><br>city=%{customdata[1]}<br>latitude=%{lat}<br>longitude=%{lon}<br>fees_list=%{customdata[0]}<br>courses_list=%{customdata[2]}<extra></extra>",
         "hovertext": [
          "United Nations Institute for Training and Research",
          "UBIS"
         ],
         "lat": [
          46.2047169,
          42.8470814
         ],
         "legendgroup": "Geneva",
         "lon": [
          6.1423106290939335,
          -2.659709295297367
         ],
         "marker": {
          "color": "#ab63fa"
         },
         "mode": "markers",
         "name": "Geneva",
         "showlegend": true,
         "subplot": "mapbox",
         "type": "scattermapbox"
        },
        {
         "customdata": [
          [
           "nan, nan, nan, nan, nan, nan, nan",
           "Idstein",
           "Digital Business Management & Leadership MSc<br>Strategic International Management MSc<br>Luxury Management MSc<br>Bioanalytical Chemistry and Pharmaceutical Analysis MSc<br>Industrial Engineering and International Management MSc<br>International Health Economics and Pharmacoeconomics MSc<br>International Tourism and Event Management MSc"
          ]
         ],
         "hovertemplate": "<b>%{hovertext}</b><br><br>city=%{customdata[1]}<br>latitude=%{lat}<br>longitude=%{lon}<br>fees_list=%{customdata[0]}<br>courses_list=%{customdata[2]}<extra></extra>",
         "hovertext": [
          "Fresenius University of Applied Sciences"
         ],
         "lat": [
          50.2212764
         ],
         "legendgroup": "Idstein",
         "lon": [
          8.269554
         ],
         "marker": {
          "color": "#FFA15A"
         },
         "mode": "markers",
         "name": "Idstein",
         "showlegend": true,
         "subplot": "mapbox",
         "type": "scattermapbox"
        },
        {
         "customdata": [
          [
           "nan, nan",
           "Boston",
           "Library And Information Science (MS)<br>Behavior Analysis (MS)"
          ],
          [
           "nan, nan, nan",
           "Boston",
           "Master of Science<br>Master in Health Care Management<br>Doctor of Public Health"
          ],
          [
           "nan",
           "Boston",
           "Communication Disorders (MS)"
          ]
         ],
         "hovertemplate": "<b>%{hovertext}</b><br><br>city=%{customdata[1]}<br>latitude=%{lat}<br>longitude=%{lon}<br>fees_list=%{customdata[0]}<br>courses_list=%{customdata[2]}<extra></extra>",
         "hovertext": [
          "Simmons University",
          "Harvard University",
          "Emerson College"
         ],
         "lat": [
          42.338935449999994,
          42.36790855,
          51.09990155
         ],
         "legendgroup": "Boston",
         "lon": [
          -71.1004318389973,
          -71.12678237443698,
          0.051608027279563304
         ],
         "marker": {
          "color": "#19d3f3"
         },
         "mode": "markers",
         "name": "Boston",
         "showlegend": true,
         "subplot": "mapbox",
         "type": "scattermapbox"
        },
        {
         "customdata": [
          [
           "1500.0, 4000.0, 3500.0, 4000.0, 4000.0, 300.0, 4000.0, 4000.0, 4000.0, 4000.0, 22000.0",
           "Pavia",
           "Lifelong Well-Being and Healthy Ageing<br>Industrial Automation Engineering<br>Industrial Nanobiotechnologies for Pharmaceuticals<br>Civil Engineering for Mitigation of Risk from Natural Hazards<br>Agrifood Sustainability<br>Artificial Intelligence for Science & Technology (Joint Degree)<br>Electronic Engineering<br>Computer Engineering<br>Electrical Engineering<br>Enviromental Engineering - Curriculum in REACH: REsilience to climAte CHange effects<br>Human Centered Artificial Intelligence (Joint Degree)"
          ]
         ],
         "hovertemplate": "<b>%{hovertext}</b><br><br>city=%{customdata[1]}<br>latitude=%{lat}<br>longitude=%{lon}<br>fees_list=%{customdata[0]}<br>courses_list=%{customdata[2]}<extra></extra>",
         "hovertext": [
          "University of Pavia"
         ],
         "lat": [
          45.186926549999995
         ],
         "legendgroup": "Pavia",
         "lon": [
          9.156876823159685
         ],
         "marker": {
          "color": "#FF6692"
         },
         "mode": "markers",
         "name": "Pavia",
         "showlegend": true,
         "subplot": "mapbox",
         "type": "scattermapbox"
        },
        {
         "customdata": [
          [
           "nan, nan, nan",
           "Prague",
           "Landscape Planning<br>Environmental Geosciences<br>Environmental Modelling"
          ]
         ],
         "hovertemplate": "<b>%{hovertext}</b><br><br>city=%{customdata[1]}<br>latitude=%{lat}<br>longitude=%{lon}<br>fees_list=%{customdata[0]}<br>courses_list=%{customdata[2]}<extra></extra>",
         "hovertext": [
          "Czech University of Life Sciences Prague"
         ],
         "lat": [
          50.130175449999996
         ],
         "legendgroup": "Prague",
         "lon": [
          14.373716262123626
         ],
         "marker": {
          "color": "#B6E880"
         },
         "mode": "markers",
         "name": "Prague",
         "showlegend": true,
         "subplot": "mapbox",
         "type": "scattermapbox"
        },
        {
         "customdata": [
          [
           "nan, nan, nan, nan",
           "Boras",
           "Master Programme in Textile Value Chain Management<br>Master Programme in Fashion Marketing and Management<br>Master Programme (Two Year) in Textile Technology and Engineering<br>Master Programme (One Year) in Textile Management"
          ]
         ],
         "hovertemplate": "<b>%{hovertext}</b><br><br>city=%{customdata[1]}<br>latitude=%{lat}<br>longitude=%{lon}<br>fees_list=%{customdata[0]}<br>courses_list=%{customdata[2]}<extra></extra>",
         "hovertext": [
          "University of Boras"
         ],
         "lat": [
          57.7210839
         ],
         "legendgroup": "Boras",
         "lon": [
          12.9407407
         ],
         "marker": {
          "color": "#FF97FF"
         },
         "mode": "markers",
         "name": "Boras",
         "showlegend": true,
         "subplot": "mapbox",
         "type": "scattermapbox"
        },
        {
         "customdata": [
          [
           "nan, nan, nan, nan, nan",
           "Cambridge",
           "Master's in Business Analytics<br>Master's in International Marketing<br>Master's in Entrepreneurship & Innovation<br>Master's in International Business<br>Master's in Finance"
          ]
         ],
         "hovertemplate": "<b>%{hovertext}</b><br><br>city=%{customdata[1]}<br>latitude=%{lat}<br>longitude=%{lon}<br>fees_list=%{customdata[0]}<br>courses_list=%{customdata[2]}<extra></extra>",
         "hovertext": [
          "Hult International Business School"
         ],
         "lat": [
          51.5152219
         ],
         "legendgroup": "Cambridge",
         "lon": [
          -0.0676810282654535
         ],
         "marker": {
          "color": "#FECB52"
         },
         "mode": "markers",
         "name": "Cambridge",
         "showlegend": true,
         "subplot": "mapbox",
         "type": "scattermapbox"
        },
        {
         "customdata": [
          [
           "nan, nan, nan, nan",
           "Bremen",
           "International MBA - Focus International and Sustainable Management<br>International MBA - Focus International Finance & Investments<br>International MBA - Focus International Marketing<br>International MBA - Focus International Logistics & Supply Chain Management"
          ],
          [
           "nan, nan, nan",
           "Bremen",
           "Communication and Information Technology, M.Sc.<br>Control, Microsystems, Microelectronics, M.Sc.<br>Environmental Physics, M.Sc."
          ]
         ],
         "hovertemplate": "<b>%{hovertext}</b><br><br>city=%{customdata[1]}<br>latitude=%{lat}<br>longitude=%{lon}<br>fees_list=%{customdata[0]}<br>courses_list=%{customdata[2]}<extra></extra>",
         "hovertext": [
          "University of Applied Sciences, Bremen",
          "University of Bremen"
         ],
         "lat": [
          53.07237395,
          53.107964550000005
         ],
         "legendgroup": "Bremen",
         "lon": [
          8.793058350691691,
          8.855664592828369
         ],
         "marker": {
          "color": "#636efa"
         },
         "mode": "markers",
         "name": "Bremen",
         "showlegend": true,
         "subplot": "mapbox",
         "type": "scattermapbox"
        },
        {
         "customdata": [
          [
           "500.0, 500.0, 500.0",
           "Le Mans",
           "International Master's Degree in Wave Physics & Acoustics<br>Master in Acoustics - 2nd year<br>Master in Acoustics - 1st year"
          ]
         ],
         "hovertemplate": "<b>%{hovertext}</b><br><br>city=%{customdata[1]}<br>latitude=%{lat}<br>longitude=%{lon}<br>fees_list=%{customdata[0]}<br>courses_list=%{customdata[2]}<extra></extra>",
         "hovertext": [
          "Le Mans Université"
         ],
         "lat": [
          48.017927
         ],
         "legendgroup": "Le Mans",
         "lon": [
          0.1584525
         ],
         "marker": {
          "color": "#EF553B"
         },
         "mode": "markers",
         "name": "Le Mans",
         "showlegend": true,
         "subplot": "mapbox",
         "type": "scattermapbox"
        },
        {
         "customdata": [
          [
           "nan, nan, nan",
           "Brescia",
           "Green Economy and Sustainability (MSc)<br>Communication Technologies and Multimedia (MSc)<br>Civil and Environmental Engineering (MSc)"
          ]
         ],
         "hovertemplate": "<b>%{hovertext}</b><br><br>city=%{customdata[1]}<br>latitude=%{lat}<br>longitude=%{lon}<br>fees_list=%{customdata[0]}<br>courses_list=%{customdata[2]}<extra></extra>",
         "hovertext": [
          "University of Brescia"
         ],
         "lat": [
          -12.10179865
         ],
         "legendgroup": "Brescia",
         "lon": [
          -76.97232414858657
         ],
         "marker": {
          "color": "#00cc96"
         },
         "mode": "markers",
         "name": "Brescia",
         "showlegend": true,
         "subplot": "mapbox",
         "type": "scattermapbox"
        },
        {
         "customdata": [
          [
           "nan, nan",
           "Heidelberg",
           "Applied Computer Science (MSc)<br>Applied Data Science and Analytics (MSc)"
          ]
         ],
         "hovertemplate": "<b>%{hovertext}</b><br><br>city=%{customdata[1]}<br>latitude=%{lat}<br>longitude=%{lon}<br>fees_list=%{customdata[0]}<br>courses_list=%{customdata[2]}<extra></extra>",
         "hovertext": [
          "SRH University Heidelberg"
         ],
         "lat": [
          49.41287065
         ],
         "legendgroup": "Heidelberg",
         "lon": [
          8.653157486720856
         ],
         "marker": {
          "color": "#ab63fa"
         },
         "mode": "markers",
         "name": "Heidelberg",
         "showlegend": true,
         "subplot": "mapbox",
         "type": "scattermapbox"
        },
        {
         "customdata": [
          [
           "nan, nan",
           "Winnipeg",
           "Applied Computer Science and Society - MSc<br>Environmental and Social Change - MA/MSc/MEnv"
          ]
         ],
         "hovertemplate": "<b>%{hovertext}</b><br><br>city=%{customdata[1]}<br>latitude=%{lat}<br>longitude=%{lon}<br>fees_list=%{customdata[0]}<br>courses_list=%{customdata[2]}<extra></extra>",
         "hovertext": [
          "The University of Winnipeg"
         ],
         "lat": [
          49.8919189
         ],
         "legendgroup": "Winnipeg",
         "lon": [
          -97.153265
         ],
         "marker": {
          "color": "#FFA15A"
         },
         "mode": "markers",
         "name": "Winnipeg",
         "showlegend": true,
         "subplot": "mapbox",
         "type": "scattermapbox"
        },
        {
         "customdata": [
          [
           "nan, nan",
           "Hangzhou",
           "International Trade (Chinese Business)<br>Masters Of Finance (International Finance)"
          ]
         ],
         "hovertemplate": "<b>%{hovertext}</b><br><br>city=%{customdata[1]}<br>latitude=%{lat}<br>longitude=%{lon}<br>fees_list=%{customdata[0]}<br>courses_list=%{customdata[2]}<extra></extra>",
         "hovertext": [
          "Zhejiang Gongshan University"
         ],
         "lat": [
          30.2489634
         ],
         "legendgroup": "Hangzhou",
         "lon": [
          120.2052342
         ],
         "marker": {
          "color": "#19d3f3"
         },
         "mode": "markers",
         "name": "Hangzhou",
         "showlegend": true,
         "subplot": "mapbox",
         "type": "scattermapbox"
        },
        {
         "customdata": [
          [
           "nan, nan, nan, nan, nan",
           "Pittsburgh",
           "Advanced Infrastructure Systems (AIS)<br>Environmental Engineering, Sustainability, and Science (EESS)<br>Architecture-Engineering Construction Management (AECM)<br>Energy Science, Technology and Policy (ESTP)<br>Engineering & Technology Innovation Management (MS)"
          ]
         ],
         "hovertemplate": "<b>%{hovertext}</b><br><br>city=%{customdata[1]}<br>latitude=%{lat}<br>longitude=%{lon}<br>fees_list=%{customdata[0]}<br>courses_list=%{customdata[2]}<extra></extra>",
         "hovertext": [
          "Carnegie Mellon University"
         ],
         "lat": [
          40.444189699999995
         ],
         "legendgroup": "Pittsburgh",
         "lon": [
          -79.94271918393466
         ],
         "marker": {
          "color": "#FF6692"
         },
         "mode": "markers",
         "name": "Pittsburgh",
         "showlegend": true,
         "subplot": "mapbox",
         "type": "scattermapbox"
        },
        {
         "customdata": [
          [
           "nan, nan, nan, nan",
           "Webster Groves",
           "M.S. Finance<br>M.S. Data Analytics<br>M.S. Cybersecurity<br>M.H.A. Health Administration"
          ]
         ],
         "hovertemplate": "<b>%{hovertext}</b><br><br>city=%{customdata[1]}<br>latitude=%{lat}<br>longitude=%{lon}<br>fees_list=%{customdata[0]}<br>courses_list=%{customdata[2]}<extra></extra>",
         "hovertext": [
          "Webster University"
         ],
         "lat": [
          48.2141267
         ],
         "legendgroup": "Webster Groves",
         "lon": [
          16.3829469
         ],
         "marker": {
          "color": "#B6E880"
         },
         "mode": "markers",
         "name": "Webster Groves",
         "showlegend": true,
         "subplot": "mapbox",
         "type": "scattermapbox"
        },
        {
         "customdata": [
          [
           "nan, nan, nan, nan, nan, nan, nan, nan, nan, nan, nan, nan",
           "Mumbai",
           "Master of Hospital Administration (MHA) - Mumbai Campus<br>Master of Public Health (Health Policy, Economics and Finance) - Mumbai Campus<br>Master of Public Health (Health Administration) - Mumbai Campus<br>Master of Public Health (Social Epidemiology) - Mumbai Campus<br>Master of Arts / Master of Science (Disaster Management) - Mumbai Campus<br>Master of Arts / Master of Science (Environment, Climate Change and Sustainability Studies) - Mumbai Campus<br>Master of Arts / Master of Science (Urban Policy and Governance) - Mumbai Campus<br>Master of Arts / Master of Science (Sustainable Livelihoods and Natural Resources Governance) - Tuljapur Campus<br>Master of Arts/Master of Science (Analytics) (Self Financed) - Mumbai Campus<br>Master of Arts / Master of Science (Water Policy and Governance) - Mumbai Campus<br>Master of Arts / Master of Science (Regulatory Policy and Governance) - Mumbai Campus<br>Master of Arts / Master of Science (Development Policy, Planning and Practice) - Tuljapur Campus"
          ]
         ],
         "hovertemplate": "<b>%{hovertext}</b><br><br>city=%{customdata[1]}<br>latitude=%{lat}<br>longitude=%{lon}<br>fees_list=%{customdata[0]}<br>courses_list=%{customdata[2]}<extra></extra>",
         "hovertext": [
          "TATA Institute of Social Sciences"
         ],
         "lat": [
          19.044281249999997
         ],
         "legendgroup": "Mumbai",
         "lon": [
          72.91256070251694
         ],
         "marker": {
          "color": "#FF97FF"
         },
         "mode": "markers",
         "name": "Mumbai",
         "showlegend": true,
         "subplot": "mapbox",
         "type": "scattermapbox"
        },
        {
         "customdata": [
          [
           "18000.0",
           "Delft",
           "IMETE"
          ]
         ],
         "hovertemplate": "<b>%{hovertext}</b><br><br>city=%{customdata[1]}<br>latitude=%{lat}<br>longitude=%{lon}<br>fees_list=%{customdata[0]}<br>courses_list=%{customdata[2]}<extra></extra>",
         "hovertext": [
          "IHE Delft Institute for Water Education"
         ],
         "lat": [
          52.0089436
         ],
         "legendgroup": "Delft",
         "lon": [
          4.3567749
         ],
         "marker": {
          "color": "#FECB52"
         },
         "mode": "markers",
         "name": "Delft",
         "showlegend": true,
         "subplot": "mapbox",
         "type": "scattermapbox"
        },
        {
         "customdata": [
          [
           "nan, nan, nan, nan",
           "Kingston",
           "Master of Science in Engineering Management (Florida International University)<br>Master of Science in Technology Management<br>Master of Science in Tourism and Hospitality (University of Sunderland)<br>Master of Science in Health Informatics and Analytics"
          ]
         ],
         "hovertemplate": "<b>%{hovertext}</b><br><br>city=%{customdata[1]}<br>latitude=%{lat}<br>longitude=%{lon}<br>fees_list=%{customdata[0]}<br>courses_list=%{customdata[2]}<extra></extra>",
         "hovertext": [
          "The University of the Commonwealth Caribbean (UCC)"
         ],
         "lat": [
          17.9712148
         ],
         "legendgroup": "Kingston",
         "lon": [
          -76.7928128
         ],
         "marker": {
          "color": "#636efa"
         },
         "mode": "markers",
         "name": "Kingston",
         "showlegend": true,
         "subplot": "mapbox",
         "type": "scattermapbox"
        },
        {
         "customdata": [
          [
           "nan, nan, nan, nan, nan, nan, nan",
           "Istanbul",
           "Industrial Engineering Msc<br>Computer Science and Engineering MSc<br>Manufacturing Engineering MSc<br>Data Science MSc<br>Energy Technologies and Management MSc<br>Electronics Engineering Graduate Programs MSc<br>Cyber Security MSc"
          ]
         ],
         "hovertemplate": "<b>%{hovertext}</b><br><br>city=%{customdata[1]}<br>latitude=%{lat}<br>longitude=%{lon}<br>fees_list=%{customdata[0]}<br>courses_list=%{customdata[2]}<extra></extra>",
         "hovertext": [
          "Sabanci University"
         ],
         "lat": [
          40.8927159
         ],
         "legendgroup": "Istanbul",
         "lon": [
          29.378633226358197
         ],
         "marker": {
          "color": "#EF553B"
         },
         "mode": "markers",
         "name": "Istanbul",
         "showlegend": true,
         "subplot": "mapbox",
         "type": "scattermapbox"
        },
        {
         "customdata": [
          [
           "nan",
           "Vancouver",
           "Master of Business Administration"
          ]
         ],
         "hovertemplate": "<b>%{hovertext}</b><br><br>city=%{customdata[1]}<br>latitude=%{lat}<br>longitude=%{lon}<br>fees_list=%{customdata[0]}<br>courses_list=%{customdata[2]}<extra></extra>",
         "hovertext": [
          "University Canada West"
         ],
         "lat": [
          49.27491055
         ],
         "legendgroup": "Vancouver",
         "lon": [
          -123.13011626000483
         ],
         "marker": {
          "color": "#00cc96"
         },
         "mode": "markers",
         "name": "Vancouver",
         "showlegend": true,
         "subplot": "mapbox",
         "type": "scattermapbox"
        },
        {
         "customdata": [
          [
           "nan",
           "The Hague",
           "MA / MSc Archaeology"
          ],
          [
           "1000.0",
           "The Hague",
           "Master Financial Management and Control"
          ]
         ],
         "hovertemplate": "<b>%{hovertext}</b><br><br>city=%{customdata[1]}<br>latitude=%{lat}<br>longitude=%{lon}<br>fees_list=%{customdata[0]}<br>courses_list=%{customdata[2]}<extra></extra>",
         "hovertext": [
          "Leiden University",
          "The Hague University of Applied Sciences"
         ],
         "lat": [
          52.1572025,
          52.06714085
         ],
         "legendgroup": "The Hague",
         "lon": [
          4.485216803828298,
          4.324536302592277
         ],
         "marker": {
          "color": "#ab63fa"
         },
         "mode": "markers",
         "name": "The Hague",
         "showlegend": true,
         "subplot": "mapbox",
         "type": "scattermapbox"
        },
        {
         "customdata": [
          [
           "nan",
           "Cassino",
           "Master of Science in Telecommunications Engineering"
          ]
         ],
         "hovertemplate": "<b>%{hovertext}</b><br><br>city=%{customdata[1]}<br>latitude=%{lat}<br>longitude=%{lon}<br>fees_list=%{customdata[0]}<br>courses_list=%{customdata[2]}<extra></extra>",
         "hovertext": [
          "Università di Cassino e del Lazio Meridionale"
         ],
         "lat": [
          41.4925576
         ],
         "legendgroup": "Cassino",
         "lon": [
          13.8305297
         ],
         "marker": {
          "color": "#FFA15A"
         },
         "mode": "markers",
         "name": "Cassino",
         "showlegend": true,
         "subplot": "mapbox",
         "type": "scattermapbox"
        },
        {
         "customdata": [
          [
           "17.22, 15.348, 15.9",
           "Bilbao",
           "Master's Degree in International Business<br>Master’s in European and International Business Management<br>Master in Management"
          ]
         ],
         "hovertemplate": "<b>%{hovertext}</b><br><br>city=%{customdata[1]}<br>latitude=%{lat}<br>longitude=%{lon}<br>fees_list=%{customdata[0]}<br>courses_list=%{customdata[2]}<extra></extra>",
         "hovertext": [
          "University of Deusto"
         ],
         "lat": [
          43.3094825
         ],
         "legendgroup": "Bilbao",
         "lon": [
          -1.975686363584781
         ],
         "marker": {
          "color": "#19d3f3"
         },
         "mode": "markers",
         "name": "Bilbao",
         "showlegend": true,
         "subplot": "mapbox",
         "type": "scattermapbox"
        },
        {
         "customdata": [
          [
           "nan",
           "Egham",
           "Computer Science (MSc by Research)"
          ]
         ],
         "hovertemplate": "<b>%{hovertext}</b><br><br>city=%{customdata[1]}<br>latitude=%{lat}<br>longitude=%{lon}<br>fees_list=%{customdata[0]}<br>courses_list=%{customdata[2]}<extra></extra>",
         "hovertext": [
          "Royal Holloway, University of London"
         ],
         "lat": [
          51.4312585
         ],
         "legendgroup": "Egham",
         "lon": [
          -0.5473085
         ],
         "marker": {
          "color": "#FF6692"
         },
         "mode": "markers",
         "name": "Egham",
         "showlegend": true,
         "subplot": "mapbox",
         "type": "scattermapbox"
        },
        {
         "customdata": [
          [
           "nan",
           "L Aquila",
           "InterMaths Erasmus Mundus (EMJMD) Interdisciplinary Mathematics"
          ]
         ],
         "hovertemplate": "<b>%{hovertext}</b><br><br>city=%{customdata[1]}<br>latitude=%{lat}<br>longitude=%{lon}<br>fees_list=%{customdata[0]}<br>courses_list=%{customdata[2]}<extra></extra>",
         "hovertext": [
          "University of L’Aquila"
         ],
         "lat": [
          45.4736847
         ],
         "legendgroup": "L Aquila",
         "lon": [
          9.1856769
         ],
         "marker": {
          "color": "#B6E880"
         },
         "mode": "markers",
         "name": "L Aquila",
         "showlegend": true,
         "subplot": "mapbox",
         "type": "scattermapbox"
        },
        {
         "customdata": [
          [
           "nan",
           "Norwich",
           "Advanced Clinical Practitioner Masters Degree Apprenticeship"
          ]
         ],
         "hovertemplate": "<b>%{hovertext}</b><br><br>city=%{customdata[1]}<br>latitude=%{lat}<br>longitude=%{lon}<br>fees_list=%{customdata[0]}<br>courses_list=%{customdata[2]}<extra></extra>",
         "hovertext": [
          "University of East Anglia"
         ],
         "lat": [
          52.622251
         ],
         "legendgroup": "Norwich",
         "lon": [
          1.2411579
         ],
         "marker": {
          "color": "#FF97FF"
         },
         "mode": "markers",
         "name": "Norwich",
         "showlegend": true,
         "subplot": "mapbox",
         "type": "scattermapbox"
        },
        {
         "customdata": [
          [
           "nan, nan, nan",
           "Budapest",
           "Embedded Systems (ES)<br>Autonomous Systems (AUS)<br>Data Science (DSC)"
          ]
         ],
         "hovertemplate": "<b>%{hovertext}</b><br><br>city=%{customdata[1]}<br>latitude=%{lat}<br>longitude=%{lon}<br>fees_list=%{customdata[0]}<br>courses_list=%{customdata[2]}<extra></extra>",
         "hovertext": [
          "Budapest University of Technology and Economics"
         ],
         "lat": [
          47.47844135
         ],
         "legendgroup": "Budapest",
         "lon": [
          19.057715354417404
         ],
         "marker": {
          "color": "#FECB52"
         },
         "mode": "markers",
         "name": "Budapest",
         "showlegend": true,
         "subplot": "mapbox",
         "type": "scattermapbox"
        },
        {
         "customdata": [
          [
           "nan",
           "Tallinn",
           "Embedded Systems (MSc)"
          ]
         ],
         "hovertemplate": "<b>%{hovertext}</b><br><br>city=%{customdata[1]}<br>latitude=%{lat}<br>longitude=%{lon}<br>fees_list=%{customdata[0]}<br>courses_list=%{customdata[2]}<extra></extra>",
         "hovertext": [
          "TalTech - Tallinn University of Technology"
         ],
         "lat": [
          59.3949741
         ],
         "legendgroup": "Tallinn",
         "lon": [
          24.66761888709302
         ],
         "marker": {
          "color": "#636efa"
         },
         "mode": "markers",
         "name": "Tallinn",
         "showlegend": true,
         "subplot": "mapbox",
         "type": "scattermapbox"
        },
        {
         "customdata": [
          [
           "nan, nan",
           "Bologna",
           "Embedded Systems<br>Autonomous Systems"
          ]
         ],
         "hovertemplate": "<b>%{hovertext}</b><br><br>city=%{customdata[1]}<br>latitude=%{lat}<br>longitude=%{lon}<br>fees_list=%{customdata[0]}<br>courses_list=%{customdata[2]}<extra></extra>",
         "hovertext": [
          "University of Bologna"
         ],
         "lat": [
          44.4957603
         ],
         "legendgroup": "Bologna",
         "lon": [
          11.3490545
         ],
         "marker": {
          "color": "#EF553B"
         },
         "mode": "markers",
         "name": "Bologna",
         "showlegend": true,
         "subplot": "mapbox",
         "type": "scattermapbox"
        },
        {
         "customdata": [
          [
           "2500.0",
           "Thessaloniki",
           "European Master in Archaeological Materials Science (ARCHMAT)"
          ]
         ],
         "hovertemplate": "<b>%{hovertext}</b><br><br>city=%{customdata[1]}<br>latitude=%{lat}<br>longitude=%{lon}<br>fees_list=%{customdata[0]}<br>courses_list=%{customdata[2]}<extra></extra>",
         "hovertext": [
          "Aristotle University of Thessaloniki"
         ],
         "lat": [
          40.629729350000005
         ],
         "legendgroup": "Thessaloniki",
         "lon": [
          22.959099468356932
         ],
         "marker": {
          "color": "#00cc96"
         },
         "mode": "markers",
         "name": "Thessaloniki",
         "showlegend": true,
         "subplot": "mapbox",
         "type": "scattermapbox"
        },
        {
         "customdata": [
          [
           "nan",
           "St Catherines",
           "Master of Science in Management"
          ]
         ],
         "hovertemplate": "<b>%{hovertext}</b><br><br>city=%{customdata[1]}<br>latitude=%{lat}<br>longitude=%{lon}<br>fees_list=%{customdata[0]}<br>courses_list=%{customdata[2]}<extra></extra>",
         "hovertext": [
          "Brock University"
         ],
         "lat": [
          43.11773545
         ],
         "legendgroup": "St Catherines",
         "lon": [
          -79.24985683064051
         ],
         "marker": {
          "color": "#ab63fa"
         },
         "mode": "markers",
         "name": "St Catherines",
         "showlegend": true,
         "subplot": "mapbox",
         "type": "scattermapbox"
        },
        {
         "customdata": [
          [
           "nan",
           "Vienna",
           "Master of Science in Marketing"
          ]
         ],
         "hovertemplate": "<b>%{hovertext}</b><br><br>city=%{customdata[1]}<br>latitude=%{lat}<br>longitude=%{lon}<br>fees_list=%{customdata[0]}<br>courses_list=%{customdata[2]}<extra></extra>",
         "hovertext": [
          "Webster Vienna Private University"
         ],
         "lat": [
          48.2083537
         ],
         "legendgroup": "Vienna",
         "lon": [
          16.3725042
         ],
         "marker": {
          "color": "#FFA15A"
         },
         "mode": "markers",
         "name": "Vienna",
         "showlegend": true,
         "subplot": "mapbox",
         "type": "scattermapbox"
        },
        {
         "customdata": [
          [
           "nan, 10900.0, nan",
           "Buckingham",
           "MSc Strategic Marketing & Customer Experience Management<br>MSc Practitioner in Psychological Trauma<br>MScR Biomedical Science"
          ]
         ],
         "hovertemplate": "<b>%{hovertext}</b><br><br>city=%{customdata[1]}<br>latitude=%{lat}<br>longitude=%{lon}<br>fees_list=%{customdata[0]}<br>courses_list=%{customdata[2]}<extra></extra>",
         "hovertext": [
          "University of Buckingham"
         ],
         "lat": [
          51.995481850000004
         ],
         "legendgroup": "Buckingham",
         "lon": [
          -0.9912673194804595
         ],
         "marker": {
          "color": "#19d3f3"
         },
         "mode": "markers",
         "name": "Buckingham",
         "showlegend": true,
         "subplot": "mapbox",
         "type": "scattermapbox"
        },
        {
         "customdata": [
          [
           "nan",
           "Pforzheim",
           "Master of Science in Information Systems (M.Sc.)"
          ]
         ],
         "hovertemplate": "<b>%{hovertext}</b><br><br>city=%{customdata[1]}<br>latitude=%{lat}<br>longitude=%{lon}<br>fees_list=%{customdata[0]}<br>courses_list=%{customdata[2]}<extra></extra>",
         "hovertext": [
          "Pforzheim University"
         ],
         "lat": [
          48.8789607
         ],
         "legendgroup": "Pforzheim",
         "lon": [
          8.71669806165361
         ],
         "marker": {
          "color": "#FF6692"
         },
         "mode": "markers",
         "name": "Pforzheim",
         "showlegend": true,
         "subplot": "mapbox",
         "type": "scattermapbox"
        },
        {
         "customdata": [
          [
           "nan, nan",
           "Portland",
           "Master of Science in Human Nutrition and Functional Medicine<br>Master of Science in Sport and Performance Psychology"
          ]
         ],
         "hovertemplate": "<b>%{hovertext}</b><br><br>city=%{customdata[1]}<br>latitude=%{lat}<br>longitude=%{lon}<br>fees_list=%{customdata[0]}<br>courses_list=%{customdata[2]}<extra></extra>",
         "hovertext": [
          "University of Western States"
         ],
         "lat": [
          45.5364678
         ],
         "legendgroup": "Portland",
         "lon": [
          -122.58003010340065
         ],
         "marker": {
          "color": "#B6E880"
         },
         "mode": "markers",
         "name": "Portland",
         "showlegend": true,
         "subplot": "mapbox",
         "type": "scattermapbox"
        },
        {
         "customdata": [
          [
           "nan",
           "Cosenza",
           "Master Degree in Finance and Insurance (LM-16)"
          ]
         ],
         "hovertemplate": "<b>%{hovertext}</b><br><br>city=%{customdata[1]}<br>latitude=%{lat}<br>longitude=%{lon}<br>fees_list=%{customdata[0]}<br>courses_list=%{customdata[2]}<extra></extra>",
         "hovertext": [
          "University of Calabria"
         ],
         "lat": [
          32.865689
         ],
         "legendgroup": "Cosenza",
         "lon": [
          -117.20441
         ],
         "marker": {
          "color": "#FF97FF"
         },
         "mode": "markers",
         "name": "Cosenza",
         "showlegend": true,
         "subplot": "mapbox",
         "type": "scattermapbox"
        },
        {
         "customdata": [
          [
           "1025.0",
           "Rijeka",
           "Cognitive Sciences: Cognition and the Mind"
          ]
         ],
         "hovertemplate": "<b>%{hovertext}</b><br><br>city=%{customdata[1]}<br>latitude=%{lat}<br>longitude=%{lon}<br>fees_list=%{customdata[0]}<br>courses_list=%{customdata[2]}<extra></extra>",
         "hovertext": [
          "University of Rijeka"
         ],
         "lat": [
          53.5312715
         ],
         "legendgroup": "Rijeka",
         "lon": [
          -113.5222333
         ],
         "marker": {
          "color": "#FECB52"
         },
         "mode": "markers",
         "name": "Rijeka",
         "showlegend": true,
         "subplot": "mapbox",
         "type": "scattermapbox"
        },
        {
         "customdata": [
          [
           "nan",
           "Loughborough",
           "Finance and Global Trading"
          ]
         ],
         "hovertemplate": "<b>%{hovertext}</b><br><br>city=%{customdata[1]}<br>latitude=%{lat}<br>longitude=%{lon}<br>fees_list=%{customdata[0]}<br>courses_list=%{customdata[2]}<extra></extra>",
         "hovertext": [
          "Loughborough University"
         ],
         "lat": [
          52.7626882
         ],
         "legendgroup": "Loughborough",
         "lon": [
          -1.2396365359627026
         ],
         "marker": {
          "color": "#636efa"
         },
         "mode": "markers",
         "name": "Loughborough",
         "showlegend": true,
         "subplot": "mapbox",
         "type": "scattermapbox"
        },
        {
         "customdata": [
          [
           "nan",
           "Cluj Napoca",
           "Cyber Security (MSc)"
          ]
         ],
         "hovertemplate": "<b>%{hovertext}</b><br><br>city=%{customdata[1]}<br>latitude=%{lat}<br>longitude=%{lon}<br>fees_list=%{customdata[0]}<br>courses_list=%{customdata[2]}<extra></extra>",
         "hovertext": [
          "Babes-Bolyai University"
         ],
         "lat": [
          46.7677836
         ],
         "legendgroup": "Cluj Napoca",
         "lon": [
          23.591976552323946
         ],
         "marker": {
          "color": "#EF553B"
         },
         "mode": "markers",
         "name": "Cluj Napoca",
         "showlegend": true,
         "subplot": "mapbox",
         "type": "scattermapbox"
        },
        {
         "customdata": [
          [
           "nan, nan, nan, nan",
           "Hatvan",
           "Cyber Security (CSE)<br>Autonomous Systems (AUS)<br>Fintech (FT)<br>Data Science (DSC)"
          ]
         ],
         "hovertemplate": "<b>%{hovertext}</b><br><br>city=%{customdata[1]}<br>latitude=%{lat}<br>longitude=%{lon}<br>fees_list=%{customdata[0]}<br>courses_list=%{customdata[2]}<extra></extra>",
         "hovertext": [
          "Eotvos Lorand University"
         ],
         "lat": [
          47.4934799
         ],
         "legendgroup": "Hatvan",
         "lon": [
          19.061899330588723
         ],
         "marker": {
          "color": "#00cc96"
         },
         "mode": "markers",
         "name": "Hatvan",
         "showlegend": true,
         "subplot": "mapbox",
         "type": "scattermapbox"
        },
        {
         "customdata": [
          [
           "4100.0",
           "Limassol",
           "Master in Public Health (MPH)"
          ]
         ],
         "hovertemplate": "<b>%{hovertext}</b><br><br>city=%{customdata[1]}<br>latitude=%{lat}<br>longitude=%{lon}<br>fees_list=%{customdata[0]}<br>courses_list=%{customdata[2]}<extra></extra>",
         "hovertext": [
          "Cyprus University of Technology"
         ],
         "lat": [
          34.67640715
         ],
         "legendgroup": "Limassol",
         "lon": [
          33.0447843740061
         ],
         "marker": {
          "color": "#ab63fa"
         },
         "mode": "markers",
         "name": "Limassol",
         "showlegend": true,
         "subplot": "mapbox",
         "type": "scattermapbox"
        },
        {
         "customdata": [
          [
           "nan, nan, nan, nan",
           "Namur",
           "Master in Molecular Microbiology<br>Master in Economics<br>Master in Chemistry<br>Master in Biomedical Sciences"
          ]
         ],
         "hovertemplate": "<b>%{hovertext}</b><br><br>city=%{customdata[1]}<br>latitude=%{lat}<br>longitude=%{lon}<br>fees_list=%{customdata[0]}<br>courses_list=%{customdata[2]}<extra></extra>",
         "hovertext": [
          "University of Namur"
         ],
         "lat": [
          40.0367774
         ],
         "legendgroup": "Namur",
         "lon": [
          -75.34202332002798
         ],
         "marker": {
          "color": "#FFA15A"
         },
         "mode": "markers",
         "name": "Namur",
         "showlegend": true,
         "subplot": "mapbox",
         "type": "scattermapbox"
        },
        {
         "customdata": [
          [
           "nan",
           "Luxembourg",
           "Master in Management Program"
          ]
         ],
         "hovertemplate": "<b>%{hovertext}</b><br><br>city=%{customdata[1]}<br>latitude=%{lat}<br>longitude=%{lon}<br>fees_list=%{customdata[0]}<br>courses_list=%{customdata[2]}<extra></extra>",
         "hovertext": [
          "Luxembourg School of Business"
         ],
         "lat": [
          49.6112768
         ],
         "legendgroup": "Luxembourg",
         "lon": [
          6.129799
         ],
         "marker": {
          "color": "#19d3f3"
         },
         "mode": "markers",
         "name": "Luxembourg",
         "showlegend": true,
         "subplot": "mapbox",
         "type": "scattermapbox"
        },
        {
         "customdata": [
          [
           "300.0, 300.0",
           "Teramo",
           "Master of Science in Reproductive Biotechnologies<br>Food Science and Technology (double degree)"
          ]
         ],
         "hovertemplate": "<b>%{hovertext}</b><br><br>city=%{customdata[1]}<br>latitude=%{lat}<br>longitude=%{lon}<br>fees_list=%{customdata[0]}<br>courses_list=%{customdata[2]}<extra></extra>",
         "hovertext": [
          "University of Teramo"
         ],
         "lat": [
          45.44204
         ],
         "legendgroup": "Teramo",
         "lon": [
          9.162599554489331
         ],
         "marker": {
          "color": "#FF6692"
         },
         "mode": "markers",
         "name": "Teramo",
         "showlegend": true,
         "subplot": "mapbox",
         "type": "scattermapbox"
        },
        {
         "customdata": [
          [
           "nan",
           "Doha",
           "International Human Resource Management"
          ]
         ],
         "hovertemplate": "<b>%{hovertext}</b><br><br>city=%{customdata[1]}<br>latitude=%{lat}<br>longitude=%{lon}<br>fees_list=%{customdata[0]}<br>courses_list=%{customdata[2]}<extra></extra>",
         "hovertext": [
          "AFG College with the University of Aberdeen"
         ],
         "lat": [
          25.2856329
         ],
         "legendgroup": "Doha",
         "lon": [
          51.5264162
         ],
         "marker": {
          "color": "#B6E880"
         },
         "mode": "markers",
         "name": "Doha",
         "showlegend": true,
         "subplot": "mapbox",
         "type": "scattermapbox"
        },
        {
         "customdata": [
          [
           "nan",
           "Queenstown",
           "Master of Science in Computer Vision"
          ]
         ],
         "hovertemplate": "<b>%{hovertext}</b><br><br>city=%{customdata[1]}<br>latitude=%{lat}<br>longitude=%{lon}<br>fees_list=%{customdata[0]}<br>courses_list=%{customdata[2]}<extra></extra>",
         "hovertext": [
          "DigiPen Institute of Technology Singapore"
         ],
         "lat": [
          1.2946226
         ],
         "legendgroup": "Queenstown",
         "lon": [
          103.8060366
         ],
         "marker": {
          "color": "#FF97FF"
         },
         "mode": "markers",
         "name": "Queenstown",
         "showlegend": true,
         "subplot": "mapbox",
         "type": "scattermapbox"
        },
        {
         "customdata": [
          [
           "nan, nan",
           "Halifax",
           "Master of Science in Computing and Data Analytics<br>Master of Applied Health Services Research (MAHSR)"
          ]
         ],
         "hovertemplate": "<b>%{hovertext}</b><br><br>city=%{customdata[1]}<br>latitude=%{lat}<br>longitude=%{lon}<br>fees_list=%{customdata[0]}<br>courses_list=%{customdata[2]}<extra></extra>",
         "hovertext": [
          "Saint Mary’s University, Canada"
         ],
         "lat": [
          44.63114815
         ],
         "legendgroup": "Halifax",
         "lon": [
          -63.58014346185526
         ],
         "marker": {
          "color": "#FECB52"
         },
         "mode": "markers",
         "name": "Halifax",
         "showlegend": true,
         "subplot": "mapbox",
         "type": "scattermapbox"
        },
        {
         "customdata": [
          [
           "nan",
           "San Francisco",
           "MS in Computer Science"
          ]
         ],
         "hovertemplate": "<b>%{hovertext}</b><br><br>city=%{customdata[1]}<br>latitude=%{lat}<br>longitude=%{lon}<br>fees_list=%{customdata[0]}<br>courses_list=%{customdata[2]}<extra></extra>",
         "hovertext": [
          "University of San Francisco"
         ],
         "lat": [
          37.7793627
         ],
         "legendgroup": "San Francisco",
         "lon": [
          -122.45144734976836
         ],
         "marker": {
          "color": "#636efa"
         },
         "mode": "markers",
         "name": "San Francisco",
         "showlegend": true,
         "subplot": "mapbox",
         "type": "scattermapbox"
        },
        {
         "customdata": [
          [
           "nan",
           "Paphos",
           "LLM in International and European Business Law"
          ]
         ],
         "hovertemplate": "<b>%{hovertext}</b><br><br>city=%{customdata[1]}<br>latitude=%{lat}<br>longitude=%{lon}<br>fees_list=%{customdata[0]}<br>courses_list=%{customdata[2]}<extra></extra>",
         "hovertext": [
          "Neapolis University Pafos"
         ],
         "lat": [
          34.749421049999995
         ],
         "legendgroup": "Paphos",
         "lon": [
          32.42660454499132
         ],
         "marker": {
          "color": "#EF553B"
         },
         "mode": "markers",
         "name": "Paphos",
         "showlegend": true,
         "subplot": "mapbox",
         "type": "scattermapbox"
        },
        {
         "customdata": [
          [
           "4.1",
           "Zagreb",
           "Close to Nature Forestry"
          ]
         ],
         "hovertemplate": "<b>%{hovertext}</b><br><br>city=%{customdata[1]}<br>latitude=%{lat}<br>longitude=%{lon}<br>fees_list=%{customdata[0]}<br>courses_list=%{customdata[2]}<extra></extra>",
         "hovertext": [
          "University of Zagreb"
         ],
         "lat": [
          45.8273559
         ],
         "legendgroup": "Zagreb",
         "lon": [
          15.977774859871896
         ],
         "marker": {
          "color": "#00cc96"
         },
         "mode": "markers",
         "name": "Zagreb",
         "showlegend": true,
         "subplot": "mapbox",
         "type": "scattermapbox"
        },
        {
         "customdata": [
          [
           "727.0",
           "Kapfenberg",
           "Electronics and Computer Engineering"
          ]
         ],
         "hovertemplate": "<b>%{hovertext}</b><br><br>city=%{customdata[1]}<br>latitude=%{lat}<br>longitude=%{lon}<br>fees_list=%{customdata[0]}<br>courses_list=%{customdata[2]}<extra></extra>",
         "hovertext": [
          "FH JOANNEUM University of Applied Sciences"
         ],
         "lat": [
          47.4405481
         ],
         "legendgroup": "Kapfenberg",
         "lon": [
          15.2901669
         ],
         "marker": {
          "color": "#ab63fa"
         },
         "mode": "markers",
         "name": "Kapfenberg",
         "showlegend": true,
         "subplot": "mapbox",
         "type": "scattermapbox"
        },
        {
         "customdata": [
          [
           "185.0, 185.0",
           "Landau",
           "Environmental Pollution Management (Ecotoxicology)<br>Environmental Sciences"
          ]
         ],
         "hovertemplate": "<b>%{hovertext}</b><br><br>city=%{customdata[1]}<br>latitude=%{lat}<br>longitude=%{lon}<br>fees_list=%{customdata[0]}<br>courses_list=%{customdata[2]}<extra></extra>",
         "hovertext": [
          "Universität Koblenz-Landau"
         ],
         "lat": [
          49.20408035
         ],
         "legendgroup": "Landau",
         "lon": [
          8.107255574426057
         ],
         "marker": {
          "color": "#FFA15A"
         },
         "mode": "markers",
         "name": "Landau",
         "showlegend": true,
         "subplot": "mapbox",
         "type": "scattermapbox"
        },
        {
         "customdata": [
          [
           "29900.0, 29900.0, 29900.0, 29900.0, 29900.0",
           "Barcelona",
           "Master's of Cyber Security<br>Master's of Computer Science<br>Master's of Data Science<br>Master's of Financial Technology (Fintech)<br>Master's of Front-end Development"
          ]
         ],
         "hovertemplate": "<b>%{hovertext}</b><br><br>city=%{customdata[1]}<br>latitude=%{lat}<br>longitude=%{lon}<br>fees_list=%{customdata[0]}<br>courses_list=%{customdata[2]}<extra></extra>",
         "hovertext": [
          "Harbour.Space University"
         ],
         "lat": [
          50.79805775
         ],
         "legendgroup": "Barcelona",
         "lon": [
          -1.098349112346913
         ],
         "marker": {
          "color": "#19d3f3"
         },
         "mode": "markers",
         "name": "Barcelona",
         "showlegend": true,
         "subplot": "mapbox",
         "type": "scattermapbox"
        },
        {
         "customdata": [
          [
           "nan",
           "Milton Keynes",
           "MA/MSc Open"
          ]
         ],
         "hovertemplate": "<b>%{hovertext}</b><br><br>city=%{customdata[1]}<br>latitude=%{lat}<br>longitude=%{lon}<br>fees_list=%{customdata[0]}<br>courses_list=%{customdata[2]}<extra></extra>",
         "hovertext": [
          "Open University"
         ],
         "lat": [
          52.02453775
         ],
         "legendgroup": "Milton Keynes",
         "lon": [
          -0.7092748093945007
         ],
         "marker": {
          "color": "#FF6692"
         },
         "mode": "markers",
         "name": "Milton Keynes",
         "showlegend": true,
         "subplot": "mapbox",
         "type": "scattermapbox"
        },
        {
         "customdata": [
          [
           "nan, nan",
           "Corvallis",
           "Masters of Science in Business<br>Masters of Science in Business, Supply Chain Analytics"
          ]
         ],
         "hovertemplate": "<b>%{hovertext}</b><br><br>city=%{customdata[1]}<br>latitude=%{lat}<br>longitude=%{lon}<br>fees_list=%{customdata[0]}<br>courses_list=%{customdata[2]}<extra></extra>",
         "hovertext": [
          "Oregon State University"
         ],
         "lat": [
          44.56305595
         ],
         "legendgroup": "Corvallis",
         "lon": [
          -123.28392363395751
         ],
         "marker": {
          "color": "#B6E880"
         },
         "mode": "markers",
         "name": "Corvallis",
         "showlegend": true,
         "subplot": "mapbox",
         "type": "scattermapbox"
        }
       ],
       "layout": {
        "legend": {
         "title": {
          "text": "city"
         },
         "tracegroupgap": 0
        },
        "mapbox": {
         "center": {
          "lat": 47.366423072072074,
          "lon": -0.5943442178941047
         },
         "domain": {
          "x": [
           0,
           1
          ],
          "y": [
           0,
           1
          ]
         },
         "style": "carto-positron",
         "zoom": 3
        },
        "margin": {
         "t": 60
        },
        "showlegend": true,
        "template": {
         "data": {
          "bar": [
           {
            "error_x": {
             "color": "#2a3f5f"
            },
            "error_y": {
             "color": "#2a3f5f"
            },
            "marker": {
             "line": {
              "color": "#E5ECF6",
              "width": 0.5
             },
             "pattern": {
              "fillmode": "overlay",
              "size": 10,
              "solidity": 0.2
             }
            },
            "type": "bar"
           }
          ],
          "barpolar": [
           {
            "marker": {
             "line": {
              "color": "#E5ECF6",
              "width": 0.5
             },
             "pattern": {
              "fillmode": "overlay",
              "size": 10,
              "solidity": 0.2
             }
            },
            "type": "barpolar"
           }
          ],
          "carpet": [
           {
            "aaxis": {
             "endlinecolor": "#2a3f5f",
             "gridcolor": "white",
             "linecolor": "white",
             "minorgridcolor": "white",
             "startlinecolor": "#2a3f5f"
            },
            "baxis": {
             "endlinecolor": "#2a3f5f",
             "gridcolor": "white",
             "linecolor": "white",
             "minorgridcolor": "white",
             "startlinecolor": "#2a3f5f"
            },
            "type": "carpet"
           }
          ],
          "choropleth": [
           {
            "colorbar": {
             "outlinewidth": 0,
             "ticks": ""
            },
            "type": "choropleth"
           }
          ],
          "contour": [
           {
            "colorbar": {
             "outlinewidth": 0,
             "ticks": ""
            },
            "colorscale": [
             [
              0,
              "#0d0887"
             ],
             [
              0.1111111111111111,
              "#46039f"
             ],
             [
              0.2222222222222222,
              "#7201a8"
             ],
             [
              0.3333333333333333,
              "#9c179e"
             ],
             [
              0.4444444444444444,
              "#bd3786"
             ],
             [
              0.5555555555555556,
              "#d8576b"
             ],
             [
              0.6666666666666666,
              "#ed7953"
             ],
             [
              0.7777777777777778,
              "#fb9f3a"
             ],
             [
              0.8888888888888888,
              "#fdca26"
             ],
             [
              1,
              "#f0f921"
             ]
            ],
            "type": "contour"
           }
          ],
          "contourcarpet": [
           {
            "colorbar": {
             "outlinewidth": 0,
             "ticks": ""
            },
            "type": "contourcarpet"
           }
          ],
          "heatmap": [
           {
            "colorbar": {
             "outlinewidth": 0,
             "ticks": ""
            },
            "colorscale": [
             [
              0,
              "#0d0887"
             ],
             [
              0.1111111111111111,
              "#46039f"
             ],
             [
              0.2222222222222222,
              "#7201a8"
             ],
             [
              0.3333333333333333,
              "#9c179e"
             ],
             [
              0.4444444444444444,
              "#bd3786"
             ],
             [
              0.5555555555555556,
              "#d8576b"
             ],
             [
              0.6666666666666666,
              "#ed7953"
             ],
             [
              0.7777777777777778,
              "#fb9f3a"
             ],
             [
              0.8888888888888888,
              "#fdca26"
             ],
             [
              1,
              "#f0f921"
             ]
            ],
            "type": "heatmap"
           }
          ],
          "heatmapgl": [
           {
            "colorbar": {
             "outlinewidth": 0,
             "ticks": ""
            },
            "colorscale": [
             [
              0,
              "#0d0887"
             ],
             [
              0.1111111111111111,
              "#46039f"
             ],
             [
              0.2222222222222222,
              "#7201a8"
             ],
             [
              0.3333333333333333,
              "#9c179e"
             ],
             [
              0.4444444444444444,
              "#bd3786"
             ],
             [
              0.5555555555555556,
              "#d8576b"
             ],
             [
              0.6666666666666666,
              "#ed7953"
             ],
             [
              0.7777777777777778,
              "#fb9f3a"
             ],
             [
              0.8888888888888888,
              "#fdca26"
             ],
             [
              1,
              "#f0f921"
             ]
            ],
            "type": "heatmapgl"
           }
          ],
          "histogram": [
           {
            "marker": {
             "pattern": {
              "fillmode": "overlay",
              "size": 10,
              "solidity": 0.2
             }
            },
            "type": "histogram"
           }
          ],
          "histogram2d": [
           {
            "colorbar": {
             "outlinewidth": 0,
             "ticks": ""
            },
            "colorscale": [
             [
              0,
              "#0d0887"
             ],
             [
              0.1111111111111111,
              "#46039f"
             ],
             [
              0.2222222222222222,
              "#7201a8"
             ],
             [
              0.3333333333333333,
              "#9c179e"
             ],
             [
              0.4444444444444444,
              "#bd3786"
             ],
             [
              0.5555555555555556,
              "#d8576b"
             ],
             [
              0.6666666666666666,
              "#ed7953"
             ],
             [
              0.7777777777777778,
              "#fb9f3a"
             ],
             [
              0.8888888888888888,
              "#fdca26"
             ],
             [
              1,
              "#f0f921"
             ]
            ],
            "type": "histogram2d"
           }
          ],
          "histogram2dcontour": [
           {
            "colorbar": {
             "outlinewidth": 0,
             "ticks": ""
            },
            "colorscale": [
             [
              0,
              "#0d0887"
             ],
             [
              0.1111111111111111,
              "#46039f"
             ],
             [
              0.2222222222222222,
              "#7201a8"
             ],
             [
              0.3333333333333333,
              "#9c179e"
             ],
             [
              0.4444444444444444,
              "#bd3786"
             ],
             [
              0.5555555555555556,
              "#d8576b"
             ],
             [
              0.6666666666666666,
              "#ed7953"
             ],
             [
              0.7777777777777778,
              "#fb9f3a"
             ],
             [
              0.8888888888888888,
              "#fdca26"
             ],
             [
              1,
              "#f0f921"
             ]
            ],
            "type": "histogram2dcontour"
           }
          ],
          "mesh3d": [
           {
            "colorbar": {
             "outlinewidth": 0,
             "ticks": ""
            },
            "type": "mesh3d"
           }
          ],
          "parcoords": [
           {
            "line": {
             "colorbar": {
              "outlinewidth": 0,
              "ticks": ""
             }
            },
            "type": "parcoords"
           }
          ],
          "pie": [
           {
            "automargin": true,
            "type": "pie"
           }
          ],
          "scatter": [
           {
            "fillpattern": {
             "fillmode": "overlay",
             "size": 10,
             "solidity": 0.2
            },
            "type": "scatter"
           }
          ],
          "scatter3d": [
           {
            "line": {
             "colorbar": {
              "outlinewidth": 0,
              "ticks": ""
             }
            },
            "marker": {
             "colorbar": {
              "outlinewidth": 0,
              "ticks": ""
             }
            },
            "type": "scatter3d"
           }
          ],
          "scattercarpet": [
           {
            "marker": {
             "colorbar": {
              "outlinewidth": 0,
              "ticks": ""
             }
            },
            "type": "scattercarpet"
           }
          ],
          "scattergeo": [
           {
            "marker": {
             "colorbar": {
              "outlinewidth": 0,
              "ticks": ""
             }
            },
            "type": "scattergeo"
           }
          ],
          "scattergl": [
           {
            "marker": {
             "colorbar": {
              "outlinewidth": 0,
              "ticks": ""
             }
            },
            "type": "scattergl"
           }
          ],
          "scattermapbox": [
           {
            "marker": {
             "colorbar": {
              "outlinewidth": 0,
              "ticks": ""
             }
            },
            "type": "scattermapbox"
           }
          ],
          "scatterpolar": [
           {
            "marker": {
             "colorbar": {
              "outlinewidth": 0,
              "ticks": ""
             }
            },
            "type": "scatterpolar"
           }
          ],
          "scatterpolargl": [
           {
            "marker": {
             "colorbar": {
              "outlinewidth": 0,
              "ticks": ""
             }
            },
            "type": "scatterpolargl"
           }
          ],
          "scatterternary": [
           {
            "marker": {
             "colorbar": {
              "outlinewidth": 0,
              "ticks": ""
             }
            },
            "type": "scatterternary"
           }
          ],
          "surface": [
           {
            "colorbar": {
             "outlinewidth": 0,
             "ticks": ""
            },
            "colorscale": [
             [
              0,
              "#0d0887"
             ],
             [
              0.1111111111111111,
              "#46039f"
             ],
             [
              0.2222222222222222,
              "#7201a8"
             ],
             [
              0.3333333333333333,
              "#9c179e"
             ],
             [
              0.4444444444444444,
              "#bd3786"
             ],
             [
              0.5555555555555556,
              "#d8576b"
             ],
             [
              0.6666666666666666,
              "#ed7953"
             ],
             [
              0.7777777777777778,
              "#fb9f3a"
             ],
             [
              0.8888888888888888,
              "#fdca26"
             ],
             [
              1,
              "#f0f921"
             ]
            ],
            "type": "surface"
           }
          ],
          "table": [
           {
            "cells": {
             "fill": {
              "color": "#EBF0F8"
             },
             "line": {
              "color": "white"
             }
            },
            "header": {
             "fill": {
              "color": "#C8D4E3"
             },
             "line": {
              "color": "white"
             }
            },
            "type": "table"
           }
          ]
         },
         "layout": {
          "annotationdefaults": {
           "arrowcolor": "#2a3f5f",
           "arrowhead": 0,
           "arrowwidth": 1
          },
          "autotypenumbers": "strict",
          "coloraxis": {
           "colorbar": {
            "outlinewidth": 0,
            "ticks": ""
           }
          },
          "colorscale": {
           "diverging": [
            [
             0,
             "#8e0152"
            ],
            [
             0.1,
             "#c51b7d"
            ],
            [
             0.2,
             "#de77ae"
            ],
            [
             0.3,
             "#f1b6da"
            ],
            [
             0.4,
             "#fde0ef"
            ],
            [
             0.5,
             "#f7f7f7"
            ],
            [
             0.6,
             "#e6f5d0"
            ],
            [
             0.7,
             "#b8e186"
            ],
            [
             0.8,
             "#7fbc41"
            ],
            [
             0.9,
             "#4d9221"
            ],
            [
             1,
             "#276419"
            ]
           ],
           "sequential": [
            [
             0,
             "#0d0887"
            ],
            [
             0.1111111111111111,
             "#46039f"
            ],
            [
             0.2222222222222222,
             "#7201a8"
            ],
            [
             0.3333333333333333,
             "#9c179e"
            ],
            [
             0.4444444444444444,
             "#bd3786"
            ],
            [
             0.5555555555555556,
             "#d8576b"
            ],
            [
             0.6666666666666666,
             "#ed7953"
            ],
            [
             0.7777777777777778,
             "#fb9f3a"
            ],
            [
             0.8888888888888888,
             "#fdca26"
            ],
            [
             1,
             "#f0f921"
            ]
           ],
           "sequentialminus": [
            [
             0,
             "#0d0887"
            ],
            [
             0.1111111111111111,
             "#46039f"
            ],
            [
             0.2222222222222222,
             "#7201a8"
            ],
            [
             0.3333333333333333,
             "#9c179e"
            ],
            [
             0.4444444444444444,
             "#bd3786"
            ],
            [
             0.5555555555555556,
             "#d8576b"
            ],
            [
             0.6666666666666666,
             "#ed7953"
            ],
            [
             0.7777777777777778,
             "#fb9f3a"
            ],
            [
             0.8888888888888888,
             "#fdca26"
            ],
            [
             1,
             "#f0f921"
            ]
           ]
          },
          "colorway": [
           "#636efa",
           "#EF553B",
           "#00cc96",
           "#ab63fa",
           "#FFA15A",
           "#19d3f3",
           "#FF6692",
           "#B6E880",
           "#FF97FF",
           "#FECB52"
          ],
          "font": {
           "color": "#2a3f5f"
          },
          "geo": {
           "bgcolor": "white",
           "lakecolor": "white",
           "landcolor": "#E5ECF6",
           "showlakes": true,
           "showland": true,
           "subunitcolor": "white"
          },
          "hoverlabel": {
           "align": "left"
          },
          "hovermode": "closest",
          "mapbox": {
           "style": "light"
          },
          "paper_bgcolor": "white",
          "plot_bgcolor": "#E5ECF6",
          "polar": {
           "angularaxis": {
            "gridcolor": "white",
            "linecolor": "white",
            "ticks": ""
           },
           "bgcolor": "#E5ECF6",
           "radialaxis": {
            "gridcolor": "white",
            "linecolor": "white",
            "ticks": ""
           }
          },
          "scene": {
           "xaxis": {
            "backgroundcolor": "#E5ECF6",
            "gridcolor": "white",
            "gridwidth": 2,
            "linecolor": "white",
            "showbackground": true,
            "ticks": "",
            "zerolinecolor": "white"
           },
           "yaxis": {
            "backgroundcolor": "#E5ECF6",
            "gridcolor": "white",
            "gridwidth": 2,
            "linecolor": "white",
            "showbackground": true,
            "ticks": "",
            "zerolinecolor": "white"
           },
           "zaxis": {
            "backgroundcolor": "#E5ECF6",
            "gridcolor": "white",
            "gridwidth": 2,
            "linecolor": "white",
            "showbackground": true,
            "ticks": "",
            "zerolinecolor": "white"
           }
          },
          "shapedefaults": {
           "line": {
            "color": "#2a3f5f"
           }
          },
          "ternary": {
           "aaxis": {
            "gridcolor": "white",
            "linecolor": "white",
            "ticks": ""
           },
           "baxis": {
            "gridcolor": "white",
            "linecolor": "white",
            "ticks": ""
           },
           "bgcolor": "#E5ECF6",
           "caxis": {
            "gridcolor": "white",
            "linecolor": "white",
            "ticks": ""
           }
          },
          "title": {
           "x": 0.05
          },
          "xaxis": {
           "automargin": true,
           "gridcolor": "white",
           "linecolor": "white",
           "ticks": "",
           "title": {
            "standoff": 15
           },
           "zerolinecolor": "white",
           "zerolinewidth": 2
          },
          "yaxis": {
           "automargin": true,
           "gridcolor": "white",
           "linecolor": "white",
           "ticks": "",
           "title": {
            "standoff": 15
           },
           "zerolinecolor": "white",
           "zerolinewidth": 2
          }
         }
        }
       }
      }
     },
     "metadata": {},
     "output_type": "display_data"
    }
   ],
   "source": [
    "df_tmp = df[df[\"city\"].isna()==False]\n",
    "\n",
    "# Grouping by university and aggregating courses into a list\n",
    "df_tmp['courses_list'] = df_tmp.groupby(['universityName'])['courseName'].transform(lambda x: '<br>'.join(x))\n",
    "\n",
    "df_tmp['fees (euro)'] = df_tmp['fees (euro)'].astype(str)\n",
    "df_tmp['fees_list'] = df_tmp.groupby(['universityName'])['fees (euro)'].transform(lambda x: ', '.join(x))\n",
    "\n",
    "\n",
    "# Taking unique values for plotting\n",
    "df_plot = df_tmp[['universityName', 'latitude', 'longitude', 'city', 'fees_list', 'courses_list']].drop_duplicates()\n",
    "\n",
    "# Create map\n",
    "fig = px.scatter_mapbox(df_plot, lat=\"latitude\", lon=\"longitude\", hover_name=\"universityName\",\n",
    "                        hover_data=[\"fees_list\", \"city\", \"courses_list\"], zoom=3, color=\"city\")\n",
    "\n",
    "# Update layout for the map\n",
    "fig.update_layout(\n",
    "    mapbox=dict(\n",
    "        style=\"carto-positron\",\n",
    "        zoom=3,\n",
    "        center=dict(lat=df_plot['latitude'].mean(), lon=df_plot['longitude'].mean())\n",
    "    ),\n",
    "    showlegend=True\n",
    ")\n",
    "\n",
    "# Show the map\n",
    "fig.show()"
   ]
  },
  {
   "cell_type": "code",
   "execution_count": 11,
   "metadata": {},
   "outputs": [],
   "source": [
    "fig.write_html(\"map_of_masters.html\")"
   ]
  },
  {
   "cell_type": "markdown",
   "metadata": {},
   "source": [
    "## 6. Command Line Question"
   ]
  },
  {
   "cell_type": "markdown",
   "metadata": {},
   "source": [
    "### **1. Command Line Script Analysis**"
   ]
  },
  {
   "cell_type": "markdown",
   "metadata": {},
   "source": [
    "\n",
    "All scripts will be contained within `CommandLine.sh`, which is used for analyzing the scripts.\n",
    "\n",
    "Firstly, let's write a script to merge all our courses into a single `.tsv` file. We will write the contents of the first course into `merged_courses.tsv`. This action is performed outside the for loop with two considerations in mind:\n",
    "\n",
    "1. If a `merged_courses.tsv` file already exists, it will be overwritten with the new file containing only the contents of `course_1.tsv`.\n",
    "2. At the top of the file, we need the names of the columns. Since every file's first line contains these column names, we use the `tail` command within the for loop to extract the last two lines of each `courses_i.tsv` file. Extracting two lines is necessary because there is always a newline character at the end of each `courses_i.tsv` file, and we also need to include the line containing the content.\n"
   ]
  },
  {
   "cell_type": "code",
   "execution_count": null,
   "metadata": {
    "vscode": {
     "languageId": "shellscript"
    }
   },
   "outputs": [],
   "source": [
    "%%bash\n",
    "cat TSV/course_1.tsv > merged_courses.tsv\n",
    "for i in {2..6000}\n",
    "do\n",
    "   tail +2 TSV/course_${i}.tsv >> merged_courses.tsv\n",
    "done"
   ]
  },
  {
   "cell_type": "markdown",
   "metadata": {},
   "source": [
    "For the first part, we need to identify the country and city that offer the most Master's Degrees. The process is similar for both, differing only in the column used. \n",
    "\n",
    "Firstly, we use `echo` to display \"Country: \" or \"City: \", ensuring we do not echo a trailing newline. Then, `cut` is employed to extract the required column. We sort this column, and then use `uniq` with the `-c` option to count unique entries. Next, we sort these counts in reverse order (`sort -nr`), so the country or city with the highest number of Master's courses appears at the top. \n",
    "\n",
    "Since we're interested only in the first entry, which has the highest count, we use `head -1` to retrieve it. Finally, for better formatting and readability, `awk` is used to process and display the output.\n"
   ]
  },
  {
   "cell_type": "code",
   "execution_count": null,
   "metadata": {
    "vscode": {
     "languageId": "shellscript"
    }
   },
   "outputs": [
    {
     "name": "stdout",
     "output_type": "stream",
     "text": [
      "Country that offers most Master's Degrees: United Kingdom, number of occurrences: 4485\n",
      "City that offers most Master's Degrees: London, number of occurrences: 1085\n"
     ]
    }
   ],
   "source": [
    "%%bash  \n",
    "echo -n \"Country that offers most Master's Degrees: \"\n",
    "cut -f11 merged_courses.tsv | sort | uniq -c | sort -nr | head -1 | awk '{print substr($0, index($0,$2)) \", number of occurrences: \" $1}'\n",
    "echo -n \"City that offers most Master's Degrees: \"\n",
    "cut -f10 merged_courses.tsv | sort | uniq -c | sort -nr | head -1 | awk '{print substr($0, index($0,$2)) \", number of occurrences: \" $1}'"
   ]
  },
  {
   "cell_type": "markdown",
   "metadata": {},
   "source": [
    "Now, we need to identify all universities that offer part-time courses. To do this, we will use `awk` to search through all courses. We'll employ a regular expression to match entries with `part time` or `part-time`. Our focus is on the universities listed in column 2, so we'll extract these.\n",
    "\n",
    "Next, we sort these university names and then use `uniq` to filter out duplicates, thereby compiling a list that represents the number of unique courses offered. Finally, we count the number of universities in this list and store this figure in the `part_time` variable."
   ]
  },
  {
   "cell_type": "code",
   "execution_count": null,
   "metadata": {
    "vscode": {
     "languageId": "shellscript"
    }
   },
   "outputs": [
    {
     "name": "stdout",
     "output_type": "stream",
     "text": [
      "Number of universities that offer part-time courses: 153\n"
     ]
    }
   ],
   "source": [
    "%%bash\n",
    "part_time=$(awk -F'\\t' 'tolower($0) ~ /part[- ]time/ {print $2}' merged_courses.tsv | sort | uniq | wc -l)\n",
    "echo \"Number of universities that offer part-time courses: ${part_time}\""
   ]
  },
  {
   "cell_type": "markdown",
   "metadata": {},
   "source": [
    "For our final task, we will work with two variables. The first one, `total_courses`, calculates the total number of courses in the dataset. Importantly, it excludes the header row and any lines that have no values. The second variable, `engineering_courses`, counts all courses containing the term `engineer` in their course name.\n",
    "\n",
    "We then calculate the percentage of engineering courses, accurate to two decimal places. Finally, we echo the calculated percentage to display the result. Below the script is the screenshot of `CommandLine.sh` running in terminal."
   ]
  },
  {
   "cell_type": "code",
   "execution_count": null,
   "metadata": {
    "vscode": {
     "languageId": "shellscript"
    }
   },
   "outputs": [
    {
     "name": "stdout",
     "output_type": "stream",
     "text": [
      "Percentage of engineering courses: 10.32%\n"
     ]
    }
   ],
   "source": [
    "%%bash\n",
    "total_courses=$(awk -F'\\t' 'NR > 1 && $1 != \"\"' merged_courses.tsv | wc -l)\n",
    "engineering_courses=$(awk -F '\\t' 'tolower($1) ~ /engineer/' merged_courses.tsv | wc -l)\n",
    "percentage=$(echo \"scale=2; $engineering_courses * 100 / $total_courses\" | bc)\n",
    "echo \"Percentage of engineering courses: $percentage%\""
   ]
  },
  {
   "attachments": {
    "image.png": {
     "image/png": "[encoded data removed]"
    }
   },
   "cell_type": "markdown",
   "metadata": {},
   "source": [
    "![image.png](attachment:image.png)"
   ]
  },
  {
   "cell_type": "markdown",
   "metadata": {},
   "source": [
    "## 7. Algorithmic Question "
   ]
  },
  {
   "cell_type": "markdown",
   "metadata": {},
   "source": [
    "### 1. Implement a code to solve the above mentioned problem. "
   ]
  },
  {
   "cell_type": "markdown",
   "metadata": {},
   "source": [
    "Let's implement the function that will give us optimal hours for Leonardo. if there is no way to create a report return `None`. "
   ]
  },
  {
   "cell_type": "code",
   "execution_count": 22,
   "metadata": {},
   "outputs": [],
   "source": [
    "def optimal_hours(min_max_hours_array, sum_hours):\n",
    "    sum_min_hours, sum_max_hours = map(sum, zip(*min_max_hours_array))\n",
    "\n",
    "    # If the sum_hours is not in this range, then we can't create a report\n",
    "    if sum_min_hours <= sum_hours <= sum_max_hours:\n",
    "        # Each day we work at least min hours\n",
    "        optimal_hours_array = [x[0] for x in min_max_hours_array]\n",
    "\n",
    "        # Rest of the hours that we have to add\n",
    "        temp_sum_hours = sum_hours - sum_min_hours\n",
    "\n",
    "        for i in range(len(min_max_hours_array)):\n",
    "            available_hours = min_max_hours_array[i][1] - optimal_hours_array[i]\n",
    "            additional_hours = min(available_hours, temp_sum_hours)\n",
    "\n",
    "            optimal_hours_array[i] += additional_hours\n",
    "            temp_sum_hours -= additional_hours\n",
    "\n",
    "            # If we managed to reduce hours to 0, there are no hours left to be allocated anymore\n",
    "            if temp_sum_hours == 0:\n",
    "                break\n",
    "\n",
    "        # Checking if the optimal_hours_array report is correct\n",
    "        if sum(optimal_hours_array) == sum_hours:\n",
    "            return optimal_hours_array\n",
    "        else:\n",
    "            return None\n",
    "    else:\n",
    "        return None"
   ]
  },
  {
   "cell_type": "markdown",
   "metadata": {},
   "source": [
    "Testing the function:"
   ]
  },
  {
   "cell_type": "code",
   "execution_count": 23,
   "metadata": {},
   "outputs": [],
   "source": [
    "def test_optimal_hours(test_case):\n",
    "    min_max_hours_array = test_case[0]\n",
    "    sum_hours = test_case[1]\n",
    "\n",
    "    optimal_hours_array = optimal_hours(min_max_hours_array, sum_hours)\n",
    "    if optimal_hours_array:\n",
    "        print(\"YES\")\n",
    "        for hours in optimal_hours_array:\n",
    "            print(hours, end=\" \")\n",
    "    else:\n",
    "        print(\"NO\")"
   ]
  },
  {
   "cell_type": "code",
   "execution_count": 24,
   "metadata": {},
   "outputs": [],
   "source": [
    "test_case_1 = [[[0, 1], [3, 5]], 5]\n",
    "test_case_2 = [[[5, 6]], 1]"
   ]
  },
  {
   "cell_type": "code",
   "execution_count": 25,
   "metadata": {},
   "outputs": [
    {
     "name": "stdout",
     "output_type": "stream",
     "text": [
      "YES\n",
      "1 4 "
     ]
    }
   ],
   "source": [
    "test_optimal_hours(test_case_1)"
   ]
  },
  {
   "cell_type": "code",
   "execution_count": 26,
   "metadata": {},
   "outputs": [
    {
     "name": "stdout",
     "output_type": "stream",
     "text": [
      "NO\n"
     ]
    }
   ],
   "source": [
    "test_optimal_hours(test_case_2)"
   ]
  },
  {
   "cell_type": "markdown",
   "metadata": {},
   "source": [
    "Below is the code that takes the input from console that can be used for testing:"
   ]
  },
  {
   "cell_type": "code",
   "execution_count": 17,
   "metadata": {},
   "outputs": [
    {
     "name": "stdout",
     "output_type": "stream",
     "text": [
      "YES\n",
      "1 4 "
     ]
    }
   ],
   "source": [
    "d, sum_hours = map(int, input().split())\n",
    "\n",
    "min_max_hours_array = []\n",
    "\n",
    "for _ in range(d):\n",
    "    min_hours, max_hours = map(int, input().split())\n",
    "    min_max_hours_array.append([min_hours, max_hours])\n",
    "\n",
    "test_optimal_hours([min_max_hours_array, sum_hours])"
   ]
  },
  {
   "cell_type": "markdown",
   "metadata": {},
   "source": [
    "Looking at the results, we can see that the input matches the output. "
   ]
  },
  {
   "cell_type": "markdown",
   "metadata": {},
   "source": [
    "### 2. What is the __time complexity__ (the Big O notation) of your solution? Please provide a <ins>detailed explanation</ins> of how you calculated the time complexity."
   ]
  },
  {
   "cell_type": "markdown",
   "metadata": {},
   "source": [
    "Let's look at the function `optimal_hours(min_max_hours_array, sum_hours)` because it is used for giving us the solution, we will not take the input into consideration:"
   ]
  },
  {
   "cell_type": "code",
   "execution_count": 18,
   "metadata": {},
   "outputs": [],
   "source": [
    "# sum_min_hours, sum_max_hours = map(sum, zip(*min_max_hours_array))"
   ]
  },
  {
   "cell_type": "markdown",
   "metadata": {},
   "source": [
    "This part of the code is `O(n)`,beacuse we iterate all of the hours once to find the sum of the min and max hours that are needed to work."
   ]
  },
  {
   "cell_type": "code",
   "execution_count": 19,
   "metadata": {},
   "outputs": [],
   "source": [
    "# if sum_min_hours <= sum_hours <= sum_max_hours:\n",
    "#     optimal_hours_array = [x[0] for x in min_max_hours_array]\n",
    "#     temp_sum_hours = sum_hours - sum_min_hours\n",
    "\n",
    "# else:\n",
    "#     return None"
   ]
  },
  {
   "cell_type": "markdown",
   "metadata": {},
   "source": [
    "Above we have if statement which is `O(1)` and below that we have `O(n)`, because we go through the array once again. Subtraction between sum of hours worked and minimum required is `O(1)`. Else is same as if, `O(1)`."
   ]
  },
  {
   "cell_type": "code",
   "execution_count": 20,
   "metadata": {},
   "outputs": [],
   "source": [
    "# for i in range(len(min_max_hours_array)):\n",
    "#         available_hours = min_max_hours_array[i][1] - optimal_hours_array[i]\n",
    "#         additional_hours = min(available_hours, temp_sum_hours)\n",
    "\n",
    "#         optimal_hours_array[i] += additional_hours\n",
    "#         temp_sum_hours -= additional_hours\n",
    "\n",
    "#         if temp_sum_hours == 0:\n",
    "#             break"
   ]
  },
  {
   "cell_type": "markdown",
   "metadata": {},
   "source": [
    "Now, we have a for loop that goes through each element once; in the worst-case scenario, it is `O(n)` if the solution is not found by the end of the `min_max_hours_array`. All of the calculations inside are `O(1)`, so the final complexity of this for loop is `O(n)`."
   ]
  },
  {
   "cell_type": "code",
   "execution_count": 21,
   "metadata": {},
   "outputs": [],
   "source": [
    "# if sum(optimal_hours_array) == sum_hours:\n",
    "#     return optimal_hours_array\n",
    "# else:\n",
    "#     return None"
   ]
  },
  {
   "cell_type": "markdown",
   "metadata": {},
   "source": [
    "Finally, we look at the optimal hours, `optimal_hours_array` has size the same as `min_max_hours_array`, so finding the sum of all elements is `O(n)`,and if-else statement is `O(1)`."
   ]
  },
  {
   "cell_type": "markdown",
   "metadata": {},
   "source": [
    "After analyzing all of the code we get that the final Big-O notation complexity of the code is `O(n)`. "
   ]
  },
  {
   "cell_type": "markdown",
   "metadata": {},
   "source": [
    "### 3. Ask ChatGPT or any other LLM chatbot tool to check your code's time complexity (the Big O notation). "
   ]
  },
  {
   "cell_type": "markdown",
   "metadata": {},
   "source": [
    "The prompt used for asking about the code's time complexity is next:\n",
    "\n",
    "`can you check the time complexity big o notation of this code: (code of function optimal_hours)`"
   ]
  },
  {
   "cell_type": "markdown",
   "metadata": {},
   "source": [
    "This is the output:\n",
    "\n",
    "The provided Python function `optimal_hours` calculates an array of 'optimal hours' based on a given array of minimum and maximum hours for each day and a target sum of hours. Below is the time complexity analysis of the code:\n",
    "\n",
    "1. **Calculating the sums of minimum and maximum hours:**\n",
    "   - `sum_min_hours, sum_max_hours = map(sum, zip(*min_max_hours_array))`\n",
    "   This operation runs in `O(n)` time, where `n` is the length of `min_max_hours_array`, since the `sum` and `zip` functions both run in linear time.\n",
    "\n",
    "2. **Bounds checking for the target sum of hours:**\n",
    "   - `if sum_min_hours <= sum_hours <= sum_max_hours:`\n",
    "   This is a constant-time operation, `O(1)`.\n",
    "\n",
    "3. **Initialization of the optimal hours array:**\n",
    "   - `optimal_hours_array = [x[0] for x in min_max_hours_array]`\n",
    "   This list comprehension also runs in `O(n)` time.\n",
    "\n",
    "4. **Main loop for calculating optimal hours:**\n",
    "   - `for i in range(len(min_max_hours_array)):`\n",
    "   The loop itself has a worst-case scenario of `O(n)`.\n",
    "\n",
    "   Inside the loop, all operations (calculating `available_hours`, `additional_hours`, updating `optimal_hours_array[i]`, and decrementing `temp_sum_hours`) are constant-time operations, `O(1)`.\n",
    "\n",
    "5. **Final sum check:**\n",
    "   - `if sum(optimal_hours_array) == sum_hours:`\n",
    "   This is another `O(n)` operation.\n",
    "\n",
    "Considering all the above points, the overall time complexity of this function is the sum of the individual complexities. However, since all these operations are sequential and the loop is the most significant portion, the overall time complexity is dominated by the loop and simplifies to `O(n)`. Therefore, the final Big O notation for the function is `O(n)`."
   ]
  },
  {
   "cell_type": "markdown",
   "metadata": {},
   "source": [
    "As we can see, and checking with our result, we also got the `O(n)` time complexity for the function `optimal_hours`. We believe it is correct and both calculations are right."
   ]
  },
  {
   "cell_type": "markdown",
   "metadata": {},
   "source": [
    "### 4. What do you think of the __optimality__ of your code? Do you believe it is optimal? Can you improve?"
   ]
  },
  {
   "cell_type": "markdown",
   "metadata": {},
   "source": [
    "Given that the code has a time complexity of `O(n)`, it is quite optimal. However, it can be observed that there are a number of `O(n)` operations being executed, so improvements could be made by combining some for loops. Additionally, the code does not validate the data, which could lead to problems, especially if there are large arrays that are memory-intensive."
   ]
  }
 ],
 "metadata": {
  "kernelspec": {
   "display_name": "adm_hw3",
   "language": "python",
   "name": "python3"
  },
  "language_info": {
   "codemirror_mode": {
    "name": "ipython",
    "version": 3
   },
   "file_extension": ".py",
   "mimetype": "text/x-python",
   "name": "python",
   "nbconvert_exporter": "python",
   "pygments_lexer": "ipython3",
   "version": "3.11.5"
  }
 },
 "nbformat": 4,
 "nbformat_minor": 2
}
