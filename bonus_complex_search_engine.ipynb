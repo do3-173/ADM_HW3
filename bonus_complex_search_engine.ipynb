{
 "cells": [
  {
   "cell_type": "markdown",
   "metadata": {},
   "source": [
    "## 5. BONUS: More complex search engine \n",
    "\n",
    "__IMPORTANT:__ This is a bonus step, so it's <ins>not mandatory</ins>. You can get the maximum score also without doing this. We will take this into account, **only if** the rest of the homework has been completed.\n",
    "\n",
    "For the Bonus part, we want to ask you more sophisticated search engine. Here we want to let users issue more complex queries. The options of this new search engine are: \n",
    "1. Give the possibility to specify queries for the following features (the user should have the option to issue __none or all of them__): \n",
    "* `courseName`\n",
    "* `universityName`\n",
    "* `universityCity`\n",
    "2. Specify a range for the __fees__ to retrieve only MSc whose taxation is in that range.\n",
    "3. Specify a list of __countries__ which the search engine should only return the courses taking place in city within those countries.\n",
    "4. Filter based on the courses that have already started. \n",
    "5. Filter based on the presence of online modality. \n",
    "\n",
    "__Note 1__: You should be aware that you should give the user the possibility <ins>to select any</ins> of the abovementioned options. How should the user use the options? We will accept __any manual__ that you provide to the user. \n",
    "\n",
    "__Note 2__: As you may have realized from __1st option__, you need to build <ins>inverted indexes</ins> for those values and return all of the documents that have the similarity <ins>more than 0</ins> concerning the given queries. Choose a __logical__ way to aggregate the similarity coming from each of them and explain your idea in detail.\n",
    "\n",
    "__Note 3__: The options <ins>other than 1st</ins> one can be considered as __filtering criteria__ so the retrieved documents <ins>must respect all</ins> of those filters. \n",
    "\n",
    "The output must contain the following information about the places:\n",
    "\n",
    "* `courseName`\n",
    "* `universityName`\n",
    "* `url`\n"
   ]
  },
  {
   "cell_type": "code",
   "execution_count": null,
   "metadata": {},
   "outputs": [],
   "source": []
  }
 ],
 "metadata": {
  "language_info": {
   "name": "python"
  }
 },
 "nbformat": 4,
 "nbformat_minor": 2
}
