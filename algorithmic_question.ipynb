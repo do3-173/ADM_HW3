{
 "cells": [
  {
   "cell_type": "markdown",
   "metadata": {},
   "source": [
    "## 7. Algorithmic Question \n",
    "Leonardo is an intern at a company. He is paid based on the total number of hours he has worked. They agreed __d__ days ago that Leonardo could not work less than $minTime_i$ or more than $maxTime_i$ hours per <ins>i-th</ins> day. Furthermore, he was warned by HR that on his last day at the company, he should provide a detailed report on how many hours he worked <ins>each day</ins> for the previous d days.\n",
    "\n",
    "Today is the day Leonardo should report to HR, but the problem is that he <ins>didn't</ins> account for how many hours he put in for each day, so he only has the __total sum of the hours__ ($sumHours$) he put in total in these d days. He believes that if he creates a report in which each number $dayHours_i$ corresponds to the __total hours he worked on the i-th day__ while satisfying the HR limitations and the total sum of all $dayHours_i$ equals $sumHours$, he would be fine.\n",
    "\n",
    "He cannot create such a report independently and requests your assistance. He will give you the number of days $d$, total hours spent $sumHours$, and the HR limitations for each day $i$, and he wants you to assist him in determining whether it is possible to create such a fake report. If that is possible, make such a report. \n",
    "\n",
    "**Input**\n",
    "\n",
    "The first line of input contains two integers __d__, $sumHours$ - the number of days Leonardo worked there and the total number of hours he worked for the company. Each of the following __d__ lines contains two integer numbers $minTime_i$ and $maxTime_i$ - the minimum and maximum hours he can work on the $i_{th}$ day. \n",
    "\n",
    "**Output**\n",
    "\n",
    "If such a report cannot be generated, print 'NO' in one output line. If such a report is possible, print 'YES' in the output and d numbers - the number of hours Leonardo spent each day - in the second line. If more than one solution exists, print any of them. \n",
    "\n",
    "__Input 1__\n",
    "```\n",
    "2 5\n",
    "0 1\n",
    "3 5\n",
    "```\n",
    "__Output 1__\n",
    "```\n",
    "YES\n",
    "1 4 \n",
    "```\n",
    "---\n",
    "__Input 2__\n",
    "```\n",
    "1 1\n",
    "5 6\n",
    "```\n",
    "__Output 2__\n",
    "```\n",
    "NO\n",
    "```\n",
    "\n",
    "1. Implement a code to solve the above mentioned problem. \n",
    "\n",
    "2. What is the __time complexity__ (the Big O notation) of your solution? Please provide a <ins>detailed explanation</ins> of how you calculated the time complexity.\n",
    "\n",
    "3. Ask ChatGPT or any other LLM chatbot tool to check your code's time complexity (the Big O notation). Compare your answer to theirs. Do you believe this is correct? If the <ins>two differ</ins>, which one is right? (why?)\n",
    "   \n",
    "4. What do you think of the __optimality__ of your code? Do you believe it is optimal? Can you improve? Please <ins>elaborate</ins> on your response. "
   ]
  },
  {
   "cell_type": "markdown",
   "metadata": {},
   "source": [
    "### 1. Implement a code to solve the above mentioned problem. "
   ]
  },
  {
   "cell_type": "markdown",
   "metadata": {},
   "source": [
    "Let's implement the function that will give us optimal hours for Leonardo. if there is no way to create a report return `None`. "
   ]
  },
  {
   "cell_type": "code",
   "execution_count": 1,
   "metadata": {},
   "outputs": [],
   "source": [
    "def optimal_hours(min_max_hours_array, sum_hours):\n",
    "    sum_min_hours, sum_max_hours = map(sum, zip(*min_max_hours_array))\n",
    "\n",
    "    # If the sum_hours is not in this range, then we can't create a report\n",
    "    if sum_min_hours <= sum_hours <= sum_max_hours:\n",
    "        # Each day we work at least min hours\n",
    "        optimal_hours_array = [x[0] for x in min_max_hours_array]\n",
    "\n",
    "        # Rest of the hours that we have to add\n",
    "        temp_sum_hours = sum_hours - sum_min_hours\n",
    "\n",
    "        for i in range(len(min_max_hours_array)):\n",
    "            available_hours = min_max_hours_array[i][1] - optimal_hours_array[i]\n",
    "            additional_hours = min(available_hours, temp_sum_hours)\n",
    "\n",
    "            optimal_hours_array[i] += additional_hours\n",
    "            temp_sum_hours -= additional_hours\n",
    "\n",
    "            # If we managed to reduce hours to 0, there are no hours left to be allocated anymore\n",
    "            if temp_sum_hours == 0:\n",
    "                break\n",
    "\n",
    "        # Checking if the optimal_hours_array report is correct\n",
    "        if sum(optimal_hours_array) == sum_hours:\n",
    "            return optimal_hours_array\n",
    "        else:\n",
    "            return None\n",
    "    else:\n",
    "        return None"
   ]
  },
  {
   "cell_type": "markdown",
   "metadata": {},
   "source": [
    "Testing the function:"
   ]
  },
  {
   "cell_type": "code",
   "execution_count": 2,
   "metadata": {},
   "outputs": [],
   "source": [
    "def test_optimal_hours(test_case):\n",
    "    min_max_hours_array = test_case[0]\n",
    "    sum_hours = test_case[1]\n",
    "\n",
    "    optimal_hours_array = optimal_hours(min_max_hours_array, sum_hours)\n",
    "    if optimal_hours_array:\n",
    "        print(\"YES\")\n",
    "        for hours in optimal_hours_array:\n",
    "            print(hours, end=\" \")\n",
    "    else:\n",
    "        print(\"NO\")"
   ]
  },
  {
   "cell_type": "code",
   "execution_count": 3,
   "metadata": {},
   "outputs": [],
   "source": [
    "test_case_1 = [[[0, 1], [3, 5]], 5]\n",
    "test_case_2 = [[[5, 6]], 1]"
   ]
  },
  {
   "cell_type": "code",
   "execution_count": 4,
   "metadata": {},
   "outputs": [
    {
     "name": "stdout",
     "output_type": "stream",
     "text": [
      "YES\n",
      "1 4 "
     ]
    }
   ],
   "source": [
    "test_optimal_hours(test_case_1)"
   ]
  },
  {
   "cell_type": "code",
   "execution_count": 5,
   "metadata": {},
   "outputs": [
    {
     "name": "stdout",
     "output_type": "stream",
     "text": [
      "NO\n"
     ]
    }
   ],
   "source": [
    "test_optimal_hours(test_case_2)"
   ]
  },
  {
   "cell_type": "markdown",
   "metadata": {},
   "source": [
    "Below is the code that takes the input from console that can be used for testing:"
   ]
  },
  {
   "cell_type": "code",
   "execution_count": 11,
   "metadata": {},
   "outputs": [
    {
     "name": "stdout",
     "output_type": "stream",
     "text": [
      "YES\n",
      "1 4 "
     ]
    }
   ],
   "source": [
    "d, sum_hours = map(int, input().split())\n",
    "\n",
    "min_max_hours_array = []\n",
    "\n",
    "for _ in range(d):\n",
    "    min_hours, max_hours = map(int, input().split())\n",
    "    min_max_hours_array.append([min_hours, max_hours])\n",
    "\n",
    "test_optimal_hours([min_max_hours_array, sum_hours])"
   ]
  },
  {
   "cell_type": "markdown",
   "metadata": {},
   "source": [
    "Looking at the results, we can see that the input matches the output. "
   ]
  },
  {
   "cell_type": "markdown",
   "metadata": {},
   "source": [
    "### 2. What is the __time complexity__ (the Big O notation) of your solution? Please provide a <ins>detailed explanation</ins> of how you calculated the time complexity."
   ]
  },
  {
   "cell_type": "markdown",
   "metadata": {},
   "source": [
    "Let's look at the function `optimal_hours(min_max_hours_array, sum_hours)` because it is used for giving us the solution, we will not take the input into consideration:"
   ]
  },
  {
   "cell_type": "code",
   "execution_count": 12,
   "metadata": {},
   "outputs": [],
   "source": [
    "# sum_min_hours, sum_max_hours = map(sum, zip(*min_max_hours_array))"
   ]
  },
  {
   "cell_type": "markdown",
   "metadata": {},
   "source": [
    "This part of the code is `O(n)`,beacuse we iterate all of the hours once to find the sum of the min and max hours that are needed to work."
   ]
  },
  {
   "cell_type": "code",
   "execution_count": 13,
   "metadata": {},
   "outputs": [],
   "source": [
    "# if sum_min_hours <= sum_hours <= sum_max_hours:\n",
    "#     optimal_hours_array = [x[0] for x in min_max_hours_array]\n",
    "#     temp_sum_hours = sum_hours - sum_min_hours\n",
    "\n",
    "# else:\n",
    "#     return None"
   ]
  },
  {
   "cell_type": "markdown",
   "metadata": {},
   "source": [
    "Above we have if statement which is `O(1)` and below that we have `O(n)`,because we go through the array once again. Subtraction between sum of hours worked and minimum required is O(1). Else is same as if, O(1)."
   ]
  },
  {
   "cell_type": "code",
   "execution_count": null,
   "metadata": {},
   "outputs": [],
   "source": [
    "# for i in range(len(min_max_hours_array)):\n",
    "#         available_hours = min_max_hours_array[i][1] - optimal_hours_array[i]\n",
    "#         additional_hours = min(available_hours, temp_sum_hours)\n",
    "\n",
    "#         optimal_hours_array[i] += additional_hours\n",
    "#         temp_sum_hours -= additional_hours\n",
    "\n",
    "#         if temp_sum_hours == 0:\n",
    "#             break"
   ]
  },
  {
   "cell_type": "markdown",
   "metadata": {},
   "source": [
    "Now, we have a for loop that goes through each element once; in the worst-case scenario, it is `O(n)` if the solution is not found by the end of the `min_max_hours_array`. All of the calculations inside are `O(1)`, so the final complexity of this for loop is `O(n)`."
   ]
  },
  {
   "cell_type": "code",
   "execution_count": null,
   "metadata": {},
   "outputs": [],
   "source": [
    "# if sum(optimal_hours_array) == sum_hours:\n",
    "#     return optimal_hours_array\n",
    "# else:\n",
    "#     return None"
   ]
  },
  {
   "cell_type": "markdown",
   "metadata": {},
   "source": [
    "Finally, we look at the optimal hours, `optimal_hours_array` has size the same as `min_max_hours_array`, so finding the sum of all elements is `O(n)`,and if-else statement is `O(1)`."
   ]
  },
  {
   "cell_type": "markdown",
   "metadata": {},
   "source": [
    "After analyzing all of the code we get that the final Big-O notation complexity of the code is `O(n)`. "
   ]
  },
  {
   "cell_type": "markdown",
   "metadata": {},
   "source": [
    "### 3. Ask ChatGPT or any other LLM chatbot tool to check your code's time complexity (the Big O notation). "
   ]
  },
  {
   "cell_type": "markdown",
   "metadata": {},
   "source": [
    "The prompt used for asking about the code's time complexity is next:\n",
    "\n",
    "`can you check the time complexity big o notation of this code: (code of function optimal_hours)`"
   ]
  },
  {
   "cell_type": "markdown",
   "metadata": {},
   "source": [
    "This is the output:\n",
    "\n",
    "The provided Python function `optimal_hours` calculates an array of 'optimal hours' based on a given array of minimum and maximum hours for each day and a target sum of hours. Below is the time complexity analysis of the code:\n",
    "\n",
    "1. **Calculating the sums of minimum and maximum hours:**\n",
    "   - `sum_min_hours, sum_max_hours = map(sum, zip(*min_max_hours_array))`\n",
    "   This operation runs in `O(n)` time, where `n` is the length of `min_max_hours_array`, since the `sum` and `zip` functions both run in linear time.\n",
    "\n",
    "2. **Bounds checking for the target sum of hours:**\n",
    "   - `if sum_min_hours <= sum_hours <= sum_max_hours:`\n",
    "   This is a constant-time operation, `O(1)`.\n",
    "\n",
    "3. **Initialization of the optimal hours array:**\n",
    "   - `optimal_hours_array = [x[0] for x in min_max_hours_array]`\n",
    "   This list comprehension also runs in `O(n)` time.\n",
    "\n",
    "4. **Main loop for calculating optimal hours:**\n",
    "   - `for i in range(len(min_max_hours_array)):`\n",
    "   The loop itself has a worst-case scenario of `O(n)`.\n",
    "\n",
    "   Inside the loop, all operations (calculating `available_hours`, `additional_hours`, updating `optimal_hours_array[i]`, and decrementing `temp_sum_hours`) are constant-time operations, `O(1)`.\n",
    "\n",
    "5. **Final sum check:**\n",
    "   - `if sum(optimal_hours_array) == sum_hours:`\n",
    "   This is another `O(n)` operation.\n",
    "\n",
    "Considering all the above points, the overall time complexity of this function is the sum of the individual complexities. However, since all these operations are sequential and the loop is the most significant portion, the overall time complexity is dominated by the loop and simplifies to `O(n)`. Therefore, the final Big O notation for the function is `O(n)`."
   ]
  },
  {
   "cell_type": "markdown",
   "metadata": {},
   "source": [
    "As we can see, and checking with our result, we also got the `O(n)` time complexity for the function `optimal_hours`. We believe it is correct and both calculations are right."
   ]
  },
  {
   "cell_type": "markdown",
   "metadata": {},
   "source": [
    "### 4. What do you think of the __optimality__ of your code? Do you believe it is optimal? Can you improve?"
   ]
  },
  {
   "cell_type": "markdown",
   "metadata": {},
   "source": [
    "Given that the code has a time complexity of `O(n)`, it is quite optimal. However, it can be observed that there are a number of `O(n)` operations being executed, so improvements could be made by combining some for loops. Additionally, the code does not validate the data, which could lead to problems, especially if there are large arrays that are memory-intensive."
   ]
  }
 ],
 "metadata": {
  "kernelspec": {
   "display_name": "adm_hw3",
   "language": "python",
   "name": "python3"
  },
  "language_info": {
   "codemirror_mode": {
    "name": "ipython",
    "version": 3
   },
   "file_extension": ".py",
   "mimetype": "text/x-python",
   "name": "python",
   "nbconvert_exporter": "python",
   "pygments_lexer": "ipython3",
   "version": "3.11.5"
  }
 },
 "nbformat": 4,
 "nbformat_minor": 2
}
